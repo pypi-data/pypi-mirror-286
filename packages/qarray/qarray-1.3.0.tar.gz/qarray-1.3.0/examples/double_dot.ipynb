{
 "cells": [
  {
   "metadata": {},
   "cell_type": "markdown",
   "source": "",
   "id": "60ba35094b84a422"
  },
  {
   "cell_type": "code",
   "id": "initial_id",
   "metadata": {
    "collapsed": true,
    "ExecuteTime": {
     "end_time": "2024-07-19T20:22:21.015893Z",
     "start_time": "2024-07-19T20:22:20.292484Z"
    }
   },
   "source": [
    "import time\n",
    "import matplotlib.pyplot as plt\n",
    "import numpy as np\n",
    "\n",
    "from qarray import (DotArray, GateVoltageComposer, dot_occupation_changes)"
   ],
   "outputs": [],
   "execution_count": 1
  },
  {
   "metadata": {
    "ExecuteTime": {
     "end_time": "2024-07-19T20:22:21.019704Z",
     "start_time": "2024-07-19T20:22:21.016954Z"
    }
   },
   "cell_type": "code",
   "source": [
    "# setting up the constant capacitance model_threshold_1\n",
    "model = DotArray(\n",
    "    Cdd=np.array([\n",
    "        [0., 0.1],\n",
    "        [0.1, 0.]\n",
    "    ]),\n",
    "    Cgd=np.array([\n",
    "        [1., 0.1],\n",
    "        [0.1, 1]\n",
    "    ]),\n",
    "    algorithm='default',\n",
    "    implementation='rust', charge_carrier='h', T=0.,\n",
    ")\n",
    "\n",
    "# creating the dot voltage composer, which helps us to create the dot voltage array for sweeping in 1d and 2d\n",
    "voltage_composer = GateVoltageComposer(n_gate=model.n_gate)"
   ],
   "id": "433b3691c25e5baa",
   "outputs": [],
   "execution_count": 2
  },
  {
   "metadata": {
    "ExecuteTime": {
     "end_time": "2024-07-19T20:22:21.257810Z",
     "start_time": "2024-07-19T20:22:21.020433Z"
    }
   },
   "cell_type": "code",
   "source": [
    "# using the dot voltage composer to create the dot voltage array for the 2d sweep\n",
    "vg = voltage_composer._do2d(\n",
    "    x_gate=1, x_min = -10, x_max = 5, x_res = 400,\n",
    "    y_gate=2, y_min = -10, y_max = 5, y_res = 400\n",
    ")"
   ],
   "id": "6f75223d6cd3f24",
   "outputs": [
    {
     "ename": "AttributeError",
     "evalue": "'GateVoltageComposer' object has no attribute '_do2d'",
     "output_type": "error",
     "traceback": [
      "\u001B[0;31m---------------------------------------------------------------------------\u001B[0m",
      "\u001B[0;31mAttributeError\u001B[0m                            Traceback (most recent call last)",
      "Cell \u001B[0;32mIn[3], line 2\u001B[0m\n\u001B[1;32m      1\u001B[0m \u001B[38;5;66;03m# using the dot voltage composer to create the dot voltage array for the 2d sweep\u001B[39;00m\n\u001B[0;32m----> 2\u001B[0m vg \u001B[38;5;241m=\u001B[39m voltage_composer\u001B[38;5;241m.\u001B[39m_do2d(\n\u001B[1;32m      3\u001B[0m     x_gate\u001B[38;5;241m=\u001B[39m\u001B[38;5;241m1\u001B[39m, x_min \u001B[38;5;241m=\u001B[39m \u001B[38;5;241m-\u001B[39m\u001B[38;5;241m10\u001B[39m, x_max \u001B[38;5;241m=\u001B[39m \u001B[38;5;241m5\u001B[39m, x_res \u001B[38;5;241m=\u001B[39m \u001B[38;5;241m400\u001B[39m,\n\u001B[1;32m      4\u001B[0m     y_gate\u001B[38;5;241m=\u001B[39m\u001B[38;5;241m2\u001B[39m, y_min \u001B[38;5;241m=\u001B[39m \u001B[38;5;241m-\u001B[39m\u001B[38;5;241m10\u001B[39m, y_max \u001B[38;5;241m=\u001B[39m \u001B[38;5;241m5\u001B[39m, y_res \u001B[38;5;241m=\u001B[39m \u001B[38;5;241m400\u001B[39m\n\u001B[1;32m      5\u001B[0m )\n",
      "\u001B[0;31mAttributeError\u001B[0m: 'GateVoltageComposer' object has no attribute '_do2d'"
     ]
    }
   ],
   "execution_count": 3
  },
  {
   "metadata": {
    "ExecuteTime": {
     "end_time": "2024-07-19T20:22:21.258596Z",
     "start_time": "2024-07-19T20:22:21.258545Z"
    }
   },
   "cell_type": "code",
   "source": [
    "# calculating the dot occupation changes for the 2d sweep for an open double dot \n",
    "t0 = time.time()\n",
    "n = model.ground_state_open(vg)  # computing the ground state by calling the function\n",
    "t1 = time.time()\n",
    "print(f'Elapsed time: {t1 - t0:.2f} s or one pixel every { 1e6 * (t1 - t0) / (vg.size // 2):.2f} us')\n",
    "\n",
    "z = dot_occupation_changes(n)  # computing when the dot occupation changes\n",
    "\n",
    "plt.imshow(z, extent=(vg[..., 0].min(), vg[..., 0].max(), vg[..., 1].min(), vg[..., 1].max()), origin='lower', cmap='binary')\n",
    "plt.title('double dot array, open')\n",
    "plt.xlabel('Vg0 (V)')\n",
    "plt.ylabel('Vg1 (V)')"
   ],
   "id": "2218463f9e18a09a",
   "outputs": [],
   "execution_count": null
  },
  {
   "metadata": {
    "ExecuteTime": {
     "end_time": "2024-07-19T20:22:27.077023Z",
     "start_time": "2024-07-19T20:22:27.062959Z"
    }
   },
   "cell_type": "code",
   "source": [
    "# calculating the dot occupation changes for the 2d sweep for an closed double dot containing 2 holes \n",
    "t0 = time.time()\n",
    "n = model.ground_state_closed(vg, n_charges=2)  # computing the ground state by calling the function\n",
    "t1 = time.time()\n",
    "print(f'Elapsed time: {t1 - t0:.2f} s or one pixel every { 1e6 * (t1 - t0) / (vg.size // 2):.2f} us')\n",
    "\n",
    "z = dot_occupation_changes(n)  # computing when the dot occupation changes\n",
    "\n",
    "plt.imshow(z, extent=(vg[..., 0].min(), vg[..., 0].max(), vg[..., 1].min(), vg[..., 1].max()), origin='lower', cmap='binary')\n",
    "plt.title('Double dot array, closed 2 holes')\n",
    "plt.xlabel('Vg0 (V)')\n",
    "plt.ylabel('Vg1 (V)')"
   ],
   "id": "270ce317b1ed9212",
   "outputs": [
    {
     "ename": "NameError",
     "evalue": "name 'vg' is not defined",
     "output_type": "error",
     "traceback": [
      "\u001B[0;31m---------------------------------------------------------------------------\u001B[0m",
      "\u001B[0;31mNameError\u001B[0m                                 Traceback (most recent call last)",
      "Cell \u001B[0;32mIn[4], line 3\u001B[0m\n\u001B[1;32m      1\u001B[0m \u001B[38;5;66;03m# calculating the dot occupation changes for the 2d sweep for an closed double dot containing 2 holes \u001B[39;00m\n\u001B[1;32m      2\u001B[0m t0 \u001B[38;5;241m=\u001B[39m time\u001B[38;5;241m.\u001B[39mtime()\n\u001B[0;32m----> 3\u001B[0m n \u001B[38;5;241m=\u001B[39m model\u001B[38;5;241m.\u001B[39mground_state_closed(vg, n_charges\u001B[38;5;241m=\u001B[39m\u001B[38;5;241m2\u001B[39m)  \u001B[38;5;66;03m# computing the ground state by calling the function\u001B[39;00m\n\u001B[1;32m      4\u001B[0m t1 \u001B[38;5;241m=\u001B[39m time\u001B[38;5;241m.\u001B[39mtime()\n\u001B[1;32m      5\u001B[0m \u001B[38;5;28mprint\u001B[39m(\u001B[38;5;124mf\u001B[39m\u001B[38;5;124m'\u001B[39m\u001B[38;5;124mElapsed time: \u001B[39m\u001B[38;5;132;01m{\u001B[39;00mt1\u001B[38;5;250m \u001B[39m\u001B[38;5;241m-\u001B[39m\u001B[38;5;250m \u001B[39mt0\u001B[38;5;132;01m:\u001B[39;00m\u001B[38;5;124m.2f\u001B[39m\u001B[38;5;132;01m}\u001B[39;00m\u001B[38;5;124m s or one pixel every \u001B[39m\u001B[38;5;132;01m{\u001B[39;00m\u001B[38;5;250m \u001B[39m\u001B[38;5;241m1e6\u001B[39m\u001B[38;5;250m \u001B[39m\u001B[38;5;241m*\u001B[39m\u001B[38;5;250m \u001B[39m(t1\u001B[38;5;250m \u001B[39m\u001B[38;5;241m-\u001B[39m\u001B[38;5;250m \u001B[39mt0)\u001B[38;5;250m \u001B[39m\u001B[38;5;241m/\u001B[39m\u001B[38;5;250m \u001B[39m(vg\u001B[38;5;241m.\u001B[39msize\u001B[38;5;250m \u001B[39m\u001B[38;5;241m/\u001B[39m\u001B[38;5;241m/\u001B[39m\u001B[38;5;250m \u001B[39m\u001B[38;5;241m2\u001B[39m)\u001B[38;5;132;01m:\u001B[39;00m\u001B[38;5;124m.2f\u001B[39m\u001B[38;5;132;01m}\u001B[39;00m\u001B[38;5;124m us\u001B[39m\u001B[38;5;124m'\u001B[39m)\n",
      "\u001B[0;31mNameError\u001B[0m: name 'vg' is not defined"
     ]
    }
   ],
   "execution_count": 4
  },
  {
   "metadata": {},
   "cell_type": "code",
   "outputs": [],
   "execution_count": null,
   "source": "",
   "id": "c6c65273e481269a"
  }
 ],
 "metadata": {
  "kernelspec": {
   "display_name": "Python 3",
   "language": "python",
   "name": "python3"
  },
  "language_info": {
   "codemirror_mode": {
    "name": "ipython",
    "version": 2
   },
   "file_extension": ".py",
   "mimetype": "text/x-python",
   "name": "python",
   "nbconvert_exporter": "python",
   "pygments_lexer": "ipython2",
   "version": "2.7.6"
  }
 },
 "nbformat": 4,
 "nbformat_minor": 5
}
