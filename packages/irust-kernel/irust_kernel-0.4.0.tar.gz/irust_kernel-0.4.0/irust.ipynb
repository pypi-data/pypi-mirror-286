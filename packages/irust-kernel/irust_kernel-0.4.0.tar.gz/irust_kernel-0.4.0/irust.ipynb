{
 "cells": [
  {
   "cell_type": "code",
   "execution_count": 2,
   "id": "590f518b-4353-45e8-ae65-355db93810a2",
   "metadata": {},
   "outputs": [
    {
     "name": "stdout",
     "output_type": "stream",
     "text": [
      "9\n"
     ]
    }
   ],
   "source": [
    "5+4"
   ]
  },
  {
   "cell_type": "code",
   "execution_count": 3,
   "id": "926722e2-df56-4547-adf3-916ec5bc2c50",
   "metadata": {},
   "outputs": [],
   "source": [
    "let a = \"hello\";"
   ]
  },
  {
   "cell_type": "code",
   "execution_count": 5,
   "id": "dae7e4f4-1c40-448c-af79-bf9497e5294b",
   "metadata": {},
   "outputs": [
    {
     "name": "stdout",
     "output_type": "stream",
     "text": [
      "Chars(['h', 'e', 'l', 'l', 'o'])\n"
     ]
    }
   ],
   "source": [
    "a.chars()"
   ]
  },
  {
   "cell_type": "code",
   "execution_count": 6,
   "id": "b25222a2-c755-4d5a-b5c5-21dc4c65e7f8",
   "metadata": {},
   "outputs": [],
   "source": [
    ":add regex"
   ]
  },
  {
   "cell_type": "code",
   "execution_count": 11,
   "id": "c2c8b56a-e2d1-42a0-8572-3d0d1503c7ab",
   "metadata": {},
   "outputs": [
    {
     "name": "stdout",
     "output_type": "stream",
     "text": [
      "true\n"
     ]
    }
   ],
   "source": [
    "regex::Regex::new(\"lo\").unwrap().is_match(a)"
   ]
  },
  {
   "cell_type": "code",
   "execution_count": 13,
   "id": "c658b87b-7a97-44a6-ac6f-7eb47243bdd4",
   "metadata": {},
   "outputs": [
    {
     "name": "stdout",
     "output_type": "stream",
     "text": [
      "\u001b[0m\u001b[0m\u001b[1m\u001b[36m    Blocking\u001b[0m waiting for file lock on build directory\n",
      "\u001b[0m\u001b[0m\u001b[1m\u001b[32m   Compiling\u001b[0m irust_host_repl v0.1.0 (/tmp/irust_host_repl)\n",
      "\u001b[0m\u001b[1m\u001b[38;5;9merror[E0369]\u001b[0m\u001b[0m\u001b[1m: cannot add `{integer}` to `&str`\u001b[0m\n",
      "\u001b[0m \u001b[0m\u001b[0m\u001b[1m\u001b[38;5;12m--> \u001b[0m\u001b[0msrc/main.rs:3:19\u001b[0m\n",
      "\u001b[0m  \u001b[0m\u001b[0m\u001b[1m\u001b[38;5;12m|\u001b[0m\n",
      "\u001b[0m\u001b[1m\u001b[38;5;12m3\u001b[0m\u001b[0m \u001b[0m\u001b[0m\u001b[1m\u001b[38;5;12m| \u001b[0m\u001b[0mlet a = \"hello\";a + 1\u001b[0m\n",
      "\u001b[0m  \u001b[0m\u001b[0m\u001b[1m\u001b[38;5;12m| \u001b[0m\u001b[0m                \u001b[0m\u001b[0m\u001b[1m\u001b[38;5;12m-\u001b[0m\u001b[0m \u001b[0m\u001b[0m\u001b[1m\u001b[38;5;9m^\u001b[0m\u001b[0m \u001b[0m\u001b[0m\u001b[1m\u001b[38;5;12m-\u001b[0m\u001b[0m \u001b[0m\u001b[0m\u001b[1m\u001b[38;5;12m{integer}\u001b[0m\n",
      "\u001b[0m  \u001b[0m\u001b[0m\u001b[1m\u001b[38;5;12m| \u001b[0m\u001b[0m                \u001b[0m\u001b[0m\u001b[1m\u001b[38;5;12m|\u001b[0m\n",
      "\u001b[0m  \u001b[0m\u001b[0m\u001b[1m\u001b[38;5;12m| \u001b[0m\u001b[0m                \u001b[0m\u001b[0m\u001b[1m\u001b[38;5;12m&str\u001b[0m\n",
      "\n",
      "\u001b[0m\u001b[1m\u001b[38;5;9merror\u001b[0m\u001b[0m\u001b[1m: aborting due to previous error\u001b[0m\n",
      "\n",
      "\u001b[0m\u001b[1mFor more information about this error, try `rustc --explain E0369`.\u001b[0m\n",
      "\u001b[0m\u001b[0m\u001b[1m\u001b[31merror\u001b[0m\u001b[1m:\u001b[0m could not compile `irust_host_repl`\n",
      "\n",
      "To learn more, run the command again with --verbose.\n"
     ]
    }
   ],
   "source": [
    "a + 1"
   ]
  }
 ],
 "metadata": {
  "kernelspec": {
   "display_name": "IRustKernel",
   "language": "",
   "name": "irustkernel"
  },
  "language_info": {
   "file_extension": ".rs",
   "mimetype": "text/plain",
   "name": "IRust"
  }
 },
 "nbformat": 4,
 "nbformat_minor": 5
}
