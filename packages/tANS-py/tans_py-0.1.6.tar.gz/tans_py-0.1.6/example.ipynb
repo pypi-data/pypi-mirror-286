{
 "cells": [
  {
   "cell_type": "markdown",
   "metadata": {},
   "source": [
    "# Example Workflow\n",
    "This notebook shows an example workflow using `tANS_py`."
   ]
  },
  {
   "cell_type": "markdown",
   "metadata": {},
   "source": [
    "# Using the library"
   ]
  },
  {
   "cell_type": "markdown",
   "metadata": {},
   "source": [
    "### With Numpy\n",
    "By default, the library compresses numpy arrays. The following code shows how to compress and decompress a numpy array."
   ]
  },
  {
   "cell_type": "code",
   "execution_count": 6,
   "metadata": {},
   "outputs": [
    {
     "name": "stdout",
     "output_type": "stream",
     "text": [
      "The two messages are the same:  True\n",
      "Compression ratio:  1.2509803921568627\n"
     ]
    }
   ],
   "source": [
    "from tANS_py import tANS\n",
    "import numpy as np\n",
    "\n",
    "# Define a random numpy array\n",
    "msg = np.random.randint(0, 256, 1020, dtype=np.uint8)\n",
    "\n",
    "# Use the tANS module to encode and decode the message\n",
    "\n",
    "# L determines the table size, the larger the table, the more efficient the encoding (default is 1024)\n",
    "# fast determines whether to use the fast or slow version of the spread, slow is more efficient but slower (default is False)\n",
    "# dtype determines the type of the output, 'np' for numpy array, 'list' for python list, 'str' for string (default is 'np')\n",
    "bits, c = tANS.encode(msg, L = 1024, fast = False, dtype = 'np')\n",
    "\n",
    "# Note: the output of encode, c, must be passed to decode, as it contains the data necessary to decode the message   \n",
    "res = tANS.decode(bits, c, dtype = \"np\")\n",
    "\n",
    "print(\"The two messages are the same: \", np.array_equal(msg, res))\n",
    "print(\"Compression ratio: \", len(bits)/(len(msg)*8)) # (num encoded bits / num original bits)"
   ]
  },
  {
   "cell_type": "markdown",
   "metadata": {},
   "source": [
    "### With Lists/Strings\n",
    "The library can also compress lists and strings. To do this, specify `dtype = \"list\"` or `dtype = \"str\"` in function declerations."
   ]
  },
  {
   "cell_type": "code",
   "execution_count": 1,
   "metadata": {},
   "outputs": [
    {
     "name": "stdout",
     "output_type": "stream",
     "text": [
      "Hello World\n",
      "String Works: True\n",
      "['H', 'e', 'l', 'l', 'o', ' ', 'W', 'o', 'r', 'l', 'd']\n",
      "List Works: True\n"
     ]
    }
   ],
   "source": [
    "# Importing the tANS module and testing it with a simple message\n",
    "from tANS_py import tANS\n",
    "\n",
    "# takes a string, list of symbols or numpy array as input\n",
    "# In this example we will use a string and a list of characters\n",
    "msg = \"Hello World! This is a test message to see how well the tANS algorithm works. It should be able to compress this message quite well, as it has a lot of repeated characters. Let's see how well it does!\"\n",
    "msg_list = list(msg)\n",
    "\n",
    "# Using the tANS module to encode and decode the message as a string\n",
    "bits, c = tANS.encode(msg, L = 128, fast= False, dtype = \"str\")  \n",
    "\n",
    "# Note: the output of encode, c, must be passed to decode, as it contains the data necessary to decode the message   \n",
    "res = tANS.decode(bits, c, dtype = \"str\")              \n",
    "\n",
    "# returns a list of characters, so we need to join them into a string\n",
    "res = \"\".join(res) \n",
    "\n",
    "print(msg[:11])\n",
    "print(\"String Works:\",res == msg)\n",
    "\n",
    "# Using the tANS module to encode and decode the message as a list\n",
    "bits, c = tANS.encode(msg_list, dtype = \"list\")\n",
    "res = tANS.decode(bits, c, dtype = \"list\")\n",
    "\n",
    "print(msg_list[:11])\n",
    "print(\"List Works:\",res == msg_list)"
   ]
  },
  {
   "cell_type": "code",
   "execution_count": 2,
   "metadata": {},
   "outputs": [
    {
     "name": "stdout",
     "output_type": "stream",
     "text": [
      "Message 1\n",
      "\tBitstream 01011110010110001110010101110101101110011111110010101011111000001101010001111010010100111011101101000001000000110111110110110000000111100011111110001011100110000111110011101011100000000111100000011100110010110011000011010100110011010001001100101001001010001110110010110101111010010000011101010000011000000100100101110101100100001101000100010101100101110001011001100111111001000111100000010110011001010111010101011110110101000111111010110111110001100010001011001001101001000001100111011100010100101001000101000100110010010000111100101010011001011001010000111101100100010000000001100000111000100010101011110000000111110100001001111111101110001010100100000010011001111011001010101101100111000001100010011101110001011010011001111110010110000010000010111101001000010011001000111101011000001101010101000111010011000010000011000001011010001101011110\n",
      "\tWorking: True\n",
      "\tComp Ratio: 1.9002375296912113\n",
      "Message 2\n",
      "\tBitstream 10100111011100101000101001011110010011101001011000000100100011010000000000110101110001100101110000010001001100100001100010110110101111110100111000111111001000000010001110110111001100101010101001\n",
      "\tWorking: True\n",
      "\tComp Ratio: 1.8556701030927836\n"
     ]
    }
   ],
   "source": [
    "# Can also test the encode_decode function to test the compression ratio, good for evaluating the algorithm\n",
    "msg = \"Hello World! This is a test message to see how well the tANS algorithm works. It should be able to compress this message quite well, as it has a lot of repeated characters. Let's see how well it does!\"\n",
    "msg2 = \"Hello World! This message will compress worse\"\n",
    "\n",
    "res = tANS.encode_decode_test(msg, L = 1024, fast = False, dtype=\"str\")\n",
    "res2 = tANS.encode_decode_test(msg2, L = 1024, fast = False, dtype=\"str\")\n",
    "\n",
    "print(\"Message 1\")\n",
    "print(\"\\tBitstream\",\"\".join([str(i) for i in res[0]]))\n",
    "print(\"\\tWorking:\",res[1] == msg)\n",
    "print(\"\\tComp Ratio:\",res[2])\n",
    "\n",
    "print(\"Message 2\")\n",
    "print(\"\\tBitstream\",\"\".join([str(i) for i in res2[0]]))\n",
    "print(\"\\tWorking:\",res2[1] == msg2)\n",
    "print(\"\\tComp Ratio:\",res2[2])"
   ]
  },
  {
   "cell_type": "code",
   "execution_count": 3,
   "metadata": {},
   "outputs": [
    {
     "name": "stdout",
     "output_type": "stream",
     "text": [
      "Message: 12121212\n",
      "Working: True\n",
      "Comp Ratio: 2.2857142857142856\n",
      "Message: 111222333444555666777888999000\n",
      "Working: True\n",
      "Comp Ratio: 2.0168067226890756\n",
      "Message: AABBBCCCCDDDDDEEEEEFFFFFGGGGGHHHHHIIIIIJJJJJKKKKKL\n",
      "Working: True\n",
      "Comp Ratio: 1.6505823627287854\n",
      "Message: Adam walked to the park and saw a dog on a leash\n",
      "Working: True\n",
      "Comp Ratio: 1.9692307692307693\n",
      "Message: Once upon a time, in a quaint village nestled betw\n",
      "Working: True\n",
      "Comp Ratio: 1.8973567828859406\n"
     ]
    }
   ],
   "source": [
    "# Testing with different messages to see how well it compresses\n",
    "msg = [\"12121212\",\n",
    "       \"111222333444555666777888999000\",\n",
    "       \"AABBBCCCCDDDDDEEEEEFFFFFGGGGGHHHHHIIIIIJJJJJKKKKKLLLLLMMMMMNNNNNOOOOOPPPPPQQQQQRRRRRSSSSSTTTTTUUUUUVVVVVWWWWWXXXXXYYYYYZZZZZ\",\n",
    "       \"Adam walked to the park and saw a dog on a leash\",\n",
    "       \"Once upon a time, in a quaint village nestled between rolling hills and dense forests, there was a girl named Elara. Elara was curious and adventurous, with a love for exploring the unknown. One sunny afternoon, while wandering through the woods, she stumbled upon an old, overgrown path she had never seen before.Intrigued, she followed the path as it twisted and turned through the forest. The trees grew taller and denser, their leaves forming a thick canopy overhead. After what felt like hours, Elara emerged into a clearing. There, hidden from the rest of the world, was a beautiful, abandoned garden.The garden was unlike anything she had ever seen. Flowers of every color imaginable bloomed in wild profusion, their petals shimmering in the sunlight. Vines climbed over ancient stone walls, and a small, sparkling stream wound its way through the center of the garden. At the heart of the garden stood a magnificent tree with golden leaves.Elara felt a sense of peace and wonder as she explored the garden. She discovered a stone bench near the tree and sat down, taking in the beauty around her. As she rested, she noticed a small, intricately carved box nestled among the roots of the tree. She carefully opened the box to find a delicate, silver pendant shaped like a leaf.As soon as she touched the pendant, a warm, comforting glow surrounded her. The pendant began to pulse with a gentle light, and Elara felt a connection to the garden and its magic. She realized that the garden was a special place, hidden from the world, meant to be a sanctuary for those who found it.From that day on, Elara visited the hidden garden whenever she needed solace or inspiration. She tended to the plants, ensuring the garden remained a vibrant, magical refuge. The pendant became her cherished keepsake, a reminder of the secret garden and the peace it brought her.Elara grew older, and her adventures took her far and wide, but she always returned to the hidden garden. She shared its secret with only a few close friends, who helped her care for it and ensure its magic endured. The garden remained a hidden gem, a place of beauty and tranquility, cherished by those who knew its secret.And so, the hidden garden flourished, a timeless sanctuary of nature and magic, forever entwined with Elara’s heart.\"]\n",
    "   \n",
    "for m in msg:    \n",
    "    print(\"Message:\",m[:50])\n",
    "    res = tANS.encode_decode_test(m, dtype=\"str\")\n",
    "    print(\"Working:\",res[1] == m)\n",
    "    print(\"Comp Ratio:\",res[2])"
   ]
  },
  {
   "cell_type": "markdown",
   "metadata": {},
   "source": [
    "***Note*** \n",
    "\n",
    "the comp ratio depends on a number of factors, mainly the **entropy** of the message and the **alphabet size**. The larger the alphabet size, the better the compression ratio, as the original message will take up more space. The entropy of the message is also a factor, with lower entropy generally leading to better compression ratios."
   ]
  },
  {
   "cell_type": "markdown",
   "metadata": {},
   "source": [
    "# Backend\n",
    "The rest of this notebook shows the backend of the library, which is not necessary to understand to use the library."
   ]
  },
  {
   "cell_type": "markdown",
   "metadata": {},
   "source": [
    "## Using `Coder` Class\n",
    "This is a higher level object that simplifies encoding and decoding"
   ]
  },
  {
   "cell_type": "code",
   "execution_count": 4,
   "metadata": {},
   "outputs": [
    {
     "name": "stdout",
     "output_type": "stream",
     "text": [
      "Comp Ratio: 1.1245405272485713\n"
     ]
    }
   ],
   "source": [
    "# importing the Coder class as well as the Utils module, which helps with generating random data for testing\n",
    "import tANS_py.Coder, tANS_py.Utils\n",
    "import numpy as np\n",
    "\n",
    "# Set up the alphabet\n",
    "s = [\"A\", \"B\", \"C\", \"D\", \"E\", \"F\", \"G\", \"H\", \"I\", \"J\", \"K\", \"L\", \"M\", \"N\", \"O\", \"P\", \"Q\", \"R\", \"S\", \"T\", \"U\", \"V\", \"W\", \"X\", \"Y\", \"Z\"]\n",
    "nbits = 5 # 5 bits per symbol as there are 26 symbols in the alphabet\n",
    "\n",
    "# Run this multiple times to see how it performs on average\n",
    "comp_ratios = []\n",
    "for i in range(50):\n",
    "    # Set up random frequencies\n",
    "    # This specifically generates a list of len(s) numbers randomly chosen between 1 and 100\n",
    "    freq = tANS_py.Utils.generate_random_list_target(len(s), 100, 1024)\n",
    "\n",
    "    # Create the Coder object\n",
    "    c = tANS_py.Coder.Coder(sum(freq), s, freq, fast = False) # specifies fast = False to use slower, but more effecient spread function\n",
    "\n",
    "    # Create a message\n",
    "    # Specifically generates a random string using symbols from s with frequencies from freq\n",
    "    msg = tANS_py.Utils.generate_random_string(s, freq)\n",
    "\n",
    "    # Encode and decode the message and get the number of bits of the encoded message\n",
    "    # Note: you must pass in message as a list of symbols\n",
    "    out, bits = c.encode_decode(list(msg))\n",
    "\n",
    "    # Check if the decoding worked\n",
    "    if \"\".join(out) != msg:\n",
    "        # If the decoding failed, print a message\n",
    "        print(\"Coding failed\")\n",
    "    else:\n",
    "        # If the decoding worked, save the compression ratio\n",
    "        comp_ratios.append(len(msg) * nbits / bits)\n",
    "    \n",
    "print(\"Comp Ratio:\", np.mean(comp_ratios))"
   ]
  },
  {
   "cell_type": "code",
   "execution_count": 5,
   "metadata": {},
   "outputs": [
    {
     "name": "stdout",
     "output_type": "stream",
     "text": [
      "Original: HELLO\n",
      "Decoded: HELLO\n",
      "Equal: True\n",
      "Bitstream: [0, 0, 1, 1, 0, 1, 0, 0, 0, 0, 0, 1, 1, 0, 0, 0, 1, 1, 1, 1, 1, 0, 1, 0, 1, 1, 1, 1, 1, 1, 0, 1, 0, 0, 0, 0, 0, 0, 1, 1, 1, 0, 1, 0, 0, 0, 0, 1, 1]\n"
     ]
    }
   ],
   "source": [
    "# Also can use on a string \n",
    "\n",
    "msg = \"HELLO\"\n",
    "\n",
    "bits = c.encode_string(msg)\n",
    "out = c.decode_string(bits)\n",
    "\n",
    "print(\"Original:\", msg)\n",
    "print(\"Decoded:\", out)\n",
    "print(\"Equal:\", msg == out)\n",
    "print(\"Bitstream:\", bits)"
   ]
  },
  {
   "cell_type": "markdown",
   "metadata": {},
   "source": [
    "## Using `Encoder` and `Decoder` Classes\n",
    "These are the low level objects used to encode and decode data. "
   ]
  },
  {
   "cell_type": "code",
   "execution_count": 6,
   "metadata": {},
   "outputs": [
    {
     "name": "stdout",
     "output_type": "stream",
     "text": [
      "Coding worked: True\n"
     ]
    }
   ],
   "source": [
    "# Testing code \n",
    "import tANS_py.Decoder\n",
    "import tANS_py.Encoder\n",
    "\n",
    "# Define the alphabet and the frequency of each symbol\n",
    "s = [\"A\",\"B\",\"C\"]\n",
    "freq = [6, 2, 24]\n",
    "\n",
    "# Create the encoder and decoder\n",
    "t = tANS_py.Decoder.DecodeTable(32, s, freq, fast = False)\n",
    "g = tANS_py.Encoder.Encoder(32, s,freq,t.symbol_spread)\n",
    "\n",
    "# Create message\n",
    "msg = \"CAACACCCCCCCCBCCCACCCACCCACCCBCC\"\n",
    "msg_temp = list(msg)\n",
    "\n",
    "# Encode message\n",
    "bit = g.encode(msg_temp)\n",
    "\n",
    "# Decode message\n",
    "out = t.decode(bit)\n",
    "out.reverse()   # Reverse the list to get the correct order, as the decoder outputs the list in reverse order\n",
    "print(\"Coding worked:\", \"\".join(out) == msg)"
   ]
  },
  {
   "cell_type": "markdown",
   "metadata": {},
   "source": [
    "# `Utils` Module\n",
    "This module contains helper functions to convert between different data types and to visualize the encoded data."
   ]
  },
  {
   "cell_type": "code",
   "execution_count": 7,
   "metadata": {},
   "outputs": [],
   "source": [
    "from tANS_py import Utils"
   ]
  },
  {
   "cell_type": "code",
   "execution_count": 8,
   "metadata": {},
   "outputs": [
    {
     "name": "stdout",
     "output_type": "stream",
     "text": [
      "List is [1, 6, 10, 4, 9, 10, 8, 10, 2, 4] and sum is 64\n"
     ]
    }
   ],
   "source": [
    "# generates a list of length numbers that sum to a power of 2, with each number being randomly chosen between 1 and n\n",
    "l = Utils.generate_random_list_pow2(10, 10)\n",
    "print(\"List is\",l , \"and sum is\", sum(l))"
   ]
  },
  {
   "cell_type": "code",
   "execution_count": 9,
   "metadata": {},
   "outputs": [
    {
     "name": "stdout",
     "output_type": "stream",
     "text": [
      "List is [7, 7, 2, 7, 5, 7, 1, 3, 7, 4] and sum is 50\n"
     ]
    }
   ],
   "source": [
    "# generates a list of length numbers that sum to a target sum, with each number being randomly chosen between 1 and n\n",
    "l = Utils.generate_random_list_target(10, 10, 50)\n",
    "print(\"List is\",l,\"and sum is\", sum(l))"
   ]
  },
  {
   "cell_type": "code",
   "execution_count": 10,
   "metadata": {},
   "outputs": [
    {
     "name": "stdout",
     "output_type": "stream",
     "text": [
      "Original list: [1, 2, 3, 4, 5, 6, 7, 8, 9, 10] Original sum: 55\n",
      "Rescaled list: [2, 5, 7, 9, 12, 14, 16, 19, 21, 23] Rescaled sum: 128\n",
      "Rescaled list: [2, 5, 7, 9, 12, 14, 16, 19, 21, 23] Rescaled sum: 128\n"
     ]
    }
   ],
   "source": [
    "# rescales a list of numbers to sum to a power of 2 that is less than or equal to max sum\n",
    "input_list = [1,2,3,4,5,6,7,8,9,10]\n",
    "print(\"Original list:\", input_list, \"Original sum:\", sum(input_list))\n",
    "rescaled_list = Utils.rescale_list_to_power_of_2(input_list, 128)\n",
    "print(\"Rescaled list:\", rescaled_list, \"Rescaled sum:\", sum(rescaled_list))\n",
    "# trying to rescale to a sum that is not a power of two will rescale to the nearest power of two that is lower than the target sum\n",
    "rescaled_list = Utils.rescale_list_to_power_of_2(input_list, 100) # should rescale to 64\n",
    "print(\"Rescaled list:\", rescaled_list, \"Rescaled sum:\", sum(rescaled_list))"
   ]
  },
  {
   "cell_type": "code",
   "execution_count": 11,
   "metadata": {},
   "outputs": [
    {
     "name": "stdout",
     "output_type": "stream",
     "text": [
      "DDCBBACDCD\n"
     ]
    }
   ],
   "source": [
    "# generates a random string of length n using symbols from s with frequencies from freq\n",
    "s = [\"A\", \"B\", \"C\", \"D\"]\n",
    "freq = [1, 2, 3, 4]\n",
    "print(Utils.generate_random_string(s, freq))"
   ]
  }
 ],
 "metadata": {
  "kernelspec": {
   "display_name": "base",
   "language": "python",
   "name": "python3"
  },
  "language_info": {
   "codemirror_mode": {
    "name": "ipython",
    "version": 3
   },
   "file_extension": ".py",
   "mimetype": "text/x-python",
   "name": "python",
   "nbconvert_exporter": "python",
   "pygments_lexer": "ipython3",
   "version": "3.12.4"
  }
 },
 "nbformat": 4,
 "nbformat_minor": 2
}
