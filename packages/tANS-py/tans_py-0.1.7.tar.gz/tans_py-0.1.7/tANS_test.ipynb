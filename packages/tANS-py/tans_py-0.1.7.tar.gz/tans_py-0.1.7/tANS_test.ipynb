{
 "cells": [
  {
   "cell_type": "code",
   "execution_count": 1,
   "metadata": {},
   "outputs": [],
   "source": [
    "import tANS_py.tANS, tANS_py.Coder\n",
    "import numpy as np"
   ]
  },
  {
   "cell_type": "code",
   "execution_count": 2,
   "metadata": {},
   "outputs": [],
   "source": [
    "def normally_distributed_random_ints(mean, std_dev, size, low=None, high=None, dtype=int):\n",
    "    # Generate normally distributed random floats\n",
    "    normal_floats = np.random.normal(loc=mean, scale=std_dev, size=size)\n",
    "    \n",
    "    # Round floats to nearest integers\n",
    "    rounded_ints = np.round(normal_floats).astype(dtype)\n",
    "    \n",
    "    if low is not None and high is not None:\n",
    "        # Clip the values to be within the specified range\n",
    "        rounded_ints = np.clip(rounded_ints, low, high)\n",
    "    \n",
    "    return rounded_ints"
   ]
  },
  {
   "cell_type": "code",
   "execution_count": 3,
   "metadata": {},
   "outputs": [
    {
     "name": "stdout",
     "output_type": "stream",
     "text": [
      "NUMPYY\n",
      "1020\n"
     ]
    },
    {
     "data": {
      "text/plain": [
       "(1.0458856703409383, 1020, 975.25, True)"
      ]
     },
     "execution_count": 3,
     "metadata": {},
     "output_type": "execute_result"
    }
   ],
   "source": [
    "msg = [1,2,43,3,4,5,6,7,8,9,10,11,12,13,14,15,16,17,18]\n",
    "\n",
    "msg = np.random.randint(0, 256, 1020, dtype=np.uint8)\n",
    "\n",
    "msg = normally_distributed_random_ints(128, 64, 1020, 0, 255, dtype = np.uint8)\n",
    "\n",
    "# Test\n",
    "res = tANS_py.tANS.encode_decode_test(msg, dtype = 'np')\n",
    "res[2], msg.nbytes, len(res[0]) / 8, np.array_equal(msg, res[1])"
   ]
  },
  {
   "cell_type": "code",
   "execution_count": 4,
   "metadata": {},
   "outputs": [
    {
     "data": {
      "text/plain": [
       "1020"
      ]
     },
     "execution_count": 4,
     "metadata": {},
     "output_type": "execute_result"
    }
   ],
   "source": [
    "import tANS_py.Utils as Utils\n",
    "s = list(set(msg))\n",
    "sum(Utils.rescale_list_to_power_of_2([np.sum(msg == i) for i in s], 2**10))\n",
    "sum((np.sum(msg == i) for i in s))"
   ]
  },
  {
   "cell_type": "code",
   "execution_count": 5,
   "metadata": {},
   "outputs": [
    {
     "data": {
      "text/plain": [
       "32768"
      ]
     },
     "execution_count": 5,
     "metadata": {},
     "output_type": "execute_result"
    }
   ],
   "source": [
    "2**15"
   ]
  },
  {
   "cell_type": "code",
   "execution_count": 16,
   "metadata": {},
   "outputs": [],
   "source": [
    "import bisect\n",
    "\n",
    "class CompPoint:\n",
    "    def __init__(self, point, s_tab, dtype = \"u\"):\n",
    "        # Initialize CompPoint with given point and symbol table (s_tab)\n",
    "        self.dtype = dtype\n",
    "        self.s_tab = s_tab\n",
    "\n",
    "        self.point = point\n",
    "        self.symbol = self.get_symbol()\n",
    "        self.off = self.get_off()\n",
    "        self.OL = self.s_tab[\"OL\"][self.symbol]\n",
    "        \n",
    "    def __str__(self):\n",
    "        # String representation of CompPoint\n",
    "        return \"Point: %d, Symbol: %d, Offset: %d\" % (self.point, self.symbol, self.off)\n",
    "        \n",
    "    def get_symbol(self):\n",
    "        # Use binary search to find the symbol\n",
    "        vmin = self.s_tab[\"vmin\"]\n",
    "        if self.dtype == \"s\":\n",
    "            temp_point = self.point + 128\n",
    "            idx = bisect.bisect_right(vmin, temp_point) - 1\n",
    "        else:\n",
    "            idx = bisect.bisect_right(vmin, self.point) - 1\n",
    "        \n",
    "        # check if the point is in the range of the symbol\n",
    "        # if self.point == vmin[idx]:\n",
    "        #     idx += 1\n",
    "            \n",
    "        return idx#idx - 1 > 0 and idx - 1 or 0\n",
    "            \n",
    "    def get_off(self):\n",
    "        # Calculate the offset from the symbol\n",
    "        if self.dtype == \"s\":\n",
    "            return self.point - self.s_tab[\"vmin\"][self.symbol] + 128\n",
    "        else:\n",
    "            return self.point - self.s_tab[\"vmin\"][self.symbol]\n",
    "\n",
    "class CompTensor:\n",
    "    def __init__(self, tensor, s_tab):\n",
    "        # Initialize CompTensor with given tensor and symbol table (s_tab)\n",
    "        self.tensor = tensor\n",
    "        self.shape = tensor.shape\n",
    "        self.flat = tensor.flatten()\n",
    "        \n",
    "        # Get the symbols and offsets for each point (as a list of CompPoints)\n",
    "        self.points = [CompPoint(point, s_tab) for point in self.flat]\n",
    "\n",
    "    def update_tensor(self):\n",
    "        # Update tensor with new values from self.flatten\n",
    "        self.tensor = self.flatten.reshape(self.shape)\n",
    "        \n",
    "    def update_flatten(self):\n",
    "        # Update flatten with new values from self.tensor\n",
    "        self.flat = self.tensor.flatten()\n",
    "        \n",
    "    def to(self, type):\n",
    "        # Convert tensor to a specified type and update flatten\n",
    "        self.tensor = self.tensor.to(type)\n",
    "        self.update_flatten()\n",
    "        \n",
    "        return self\n",
    "\n",
    "def int_to_binary_list(value, nbits):\n",
    "        if value >= 2**nbits or value < 0:\n",
    "            raise ValueError(f\"Value {value} cannot be represented in {nbits} bits.\")\n",
    "        \n",
    "        binary_list = [int(bit) for bit in bin(value)[2:].zfill(nbits)]\n",
    "        return binary_list"
   ]
  },
  {
   "cell_type": "code",
   "execution_count": 44,
   "metadata": {},
   "outputs": [
    {
     "name": "stdout",
     "output_type": "stream",
     "text": [
      "(1728,)\n",
      "NUMPYY\n",
      "1728\n",
      "Comp Ratio: 1.304643261608154, Orig bytes: 1728, Comp bytes: 1324.5, Working: True\n"
     ]
    },
    {
     "data": {
      "text/plain": [
       "1.3016949152542374"
      ]
     },
     "execution_count": 44,
     "metadata": {},
     "output_type": "execute_result"
    }
   ],
   "source": [
    "import pandas as pd\n",
    "n = \"weight_13_flat\"\n",
    "msg = np.load(f\"/Users/adamtaback/Downloads/{n}.npy\")\n",
    "print(msg.shape)\n",
    "# test\n",
    "res = tANS_py.tANS.encode_decode_test(msg, L= 2**8)\n",
    "print(\"Comp Ratio: {}, Orig bytes: {}, Comp bytes: {}, Working: {}\".format(res[2], msg.nbytes, len(res[0]) / 8, np.array_equal(msg, res[1])))\n",
    "\n",
    "# Use symbol, offset\n",
    "s_tab = pd.read_csv(f\"/Users/adamtaback/Downloads/{n}.apack\", sep = \" \", header = None)\n",
    "s_tab.columns = [\"vmin\",\"OL\",\"abits\",\"obits\",\"vcnt\"]\n",
    "comp_tensor = [CompTensor(msg, s_tab)]\n",
    "\n",
    "freq = list(s_tab[\"vcnt\"])\n",
    "freq = Utils.rescale_list_to_power_of_2(freq, 2**8)\n",
    "offsets = []\n",
    "for i in range(len(comp_tensor[0].points)):\n",
    "    offsets.extend(int_to_binary_list(comp_tensor[0].points[i].off, comp_tensor[0].points[i].OL))\n",
    "    \n",
    "c = tANS_py.Coder.Coder(sum(freq), [i for i in range(len(freq))], freq)\n",
    "\n",
    "msg_temp = [p.symbol for p in comp_tensor[0].points]\n",
    "bits = c.encode(msg_temp)\n",
    "1/((len(bits) + len(offsets)) / 8 / msg.nbytes)"
   ]
  },
  {
   "cell_type": "code",
   "execution_count": 48,
   "metadata": {},
   "outputs": [
    {
     "data": {
      "text/plain": [
       "['A', 'L', 'S']"
      ]
     },
     "execution_count": 48,
     "metadata": {},
     "output_type": "execute_result"
    }
   ],
   "source": [
    "list(\"ALS\")"
   ]
  },
  {
   "cell_type": "code",
   "execution_count": 47,
   "metadata": {},
   "outputs": [
    {
     "data": {
      "text/plain": [
       "6912"
      ]
     },
     "execution_count": 47,
     "metadata": {},
     "output_type": "execute_result"
    }
   ],
   "source": [
    "len(offsets)"
   ]
  },
  {
   "cell_type": "code",
   "execution_count": 24,
   "metadata": {},
   "outputs": [
    {
     "data": {
      "text/plain": [
       "<__main__.CompTensor at 0x15c963860>"
      ]
     },
     "execution_count": 24,
     "metadata": {},
     "output_type": "execute_result"
    }
   ],
   "source": [
    "comp_tensor[0]"
   ]
  },
  {
   "cell_type": "code",
   "execution_count": 46,
   "metadata": {},
   "outputs": [
    {
     "data": {
      "text/plain": [
       "(2.164705882352941, 23, 10.625, True)"
      ]
     },
     "execution_count": 46,
     "metadata": {},
     "output_type": "execute_result"
    }
   ],
   "source": [
    "alpha = [str(i) for i in [1,2,3,4,5,6,7,8,9,10,11,12,13,14,15,16]]\n",
    "\n",
    "# create a message with all the characters in the alphabet, randomly shuffled\n",
    "import random\n",
    "\n",
    "msg2 = ''.join(random.sample(alpha, len(alpha)))\n",
    "\n",
    "# Test\n",
    "res = tANS_py.tANS.encode_decode_test(msg2, dtype = 'str')\n",
    "res[2], tANS_py.Coder.Coder.calculate_bits(msg2), len(res[0]) / 8, msg2 == res[1]"
   ]
  },
  {
   "cell_type": "code",
   "execution_count": 25,
   "metadata": {},
   "outputs": [
    {
     "data": {
      "text/plain": [
       "'ŭņïŁŞ²ĭƃü8¡ňÿĘƔzƇhƪtxĎƒÍŶĩē·Ŝ¸łƯĖċđ,ÐƆƝ®ŉ]èĄ{ƀƂ-4ƣƍâ¤ÅnÚ¿îÉŨŮôİĹ=ƠƓƉĈÛĐƶÑ3ĥŰÀL}ķǂØƹĻŴƈàŬNŐę)ŪµÔƵ?½ĒĪðfưSÞ¼PÆš©ƊFŔůœ`ğŤ×ŒƗsĀ¶őźĸã¾ĲƸc;ƨĿ@ùƦ§È÷¨\\'#ŵ.ÝßÇm±ĆƷ¯ġĮ1kGožſ\"ĤĦÕĠÄA«ŕ5Ō*JÏ[7/2ª(+uƟǀÂ$>ĜYĶ%ĕ~Ə<ĝCŏųŝ\\xadýļƁěŲƻƫélŗÖƙ»!ơúƼŋĉĞŃǃKřĢıĴńŹŷŎƞľīČşŠ¢BÎŻűƐåƬŽbûƽĺƧ¹ũƑĂTÊĽ¥WƺƾƄ£ĚƮŅæ°ģ0wÁøōþÃM|ƤRƜ&ƕƛƋŘçƎƅįIËrÓOaćĳƱõĔíVyZEÜƘdǁ9³ťƲgƴŊūƭŦ:ĵƳòƿáÙ_pƢêìöUjºśDÒŇƚQiĨƌŚëŀĊ´Ÿč¦ŢÌäeăñāţĬ¬ƥ6qóďƖŖŧėħXƩą^żvH'"
      ]
     },
     "execution_count": 25,
     "metadata": {},
     "output_type": "execute_result"
    }
   ],
   "source": [
    "msg2"
   ]
  },
  {
   "cell_type": "code",
   "execution_count": 35,
   "metadata": {},
   "outputs": [
    {
     "data": {
      "text/plain": [
       "'[1, 2, 3]'"
      ]
     },
     "execution_count": 35,
     "metadata": {},
     "output_type": "execute_result"
    }
   ],
   "source": [
    "str([1,2,3])"
   ]
  },
  {
   "cell_type": "code",
   "execution_count": 13,
   "metadata": {},
   "outputs": [
    {
     "data": {
      "text/plain": [
       "3543"
      ]
     },
     "execution_count": 13,
     "metadata": {},
     "output_type": "execute_result"
    }
   ],
   "source": [
    "import os\n",
    "def get_file_size(file_path):\n",
    "    \"\"\"Return the size of the file in bytes.\"\"\"\n",
    "    try:\n",
    "        file_size = os.path.getsize(file_path)\n",
    "        return file_size\n",
    "    except OSError as e:\n",
    "        print(f\"Error: {e}\")\n",
    "        return None\n",
    "    \n",
    "get_file_size(\"test.txt\")"
   ]
  },
  {
   "cell_type": "code",
   "execution_count": 18,
   "metadata": {},
   "outputs": [
    {
     "data": {
      "text/plain": [
       "'2047258103315531217891631729096774725222424911718710316813876212081521141661245922619579414544115812391925625231987100471409578248172816714012520512027017611516218185761531933210237134207612113620431156119735251145372215254228205164271541313014510313969207420620310911220108188711087324318819313274153696666194238178152691249123250216871722418616820672221167832114115047894614717680155225820074392452471402391821861563814121559915325319122068425713824563223124626925466243217162237116809014012224518022599794652321762231621289166420814524310457238169221601921746522966222861071681881952311119739125185215194114223198567511591341531312493121831788120970106167139179197130184144211100119125354820832012020696223120222245243195952921513711911862247531689622420810519071112152109531971031862201065124412921321063155157957301018316959476217436148133381726922616353200245202167242248222180152179731793712721723923518835160291391281201661681091052431781692108671743623920893632031371881233126501180123245381271581411841752101001879812511426712112323246130171200718222024425548119207135333028128920711013104911671502112161211672451942072132434513391236792001391992491652018914685291119917677133123217158203412459881272501732551025016820719055331114114238222240100210185121171951896836682347518919188371421782382337710176109112121143552152385921024216415197251993248120581826313266241328530214184281848113313642144694829227115123385166572481516023222071911392321611642451748106262451821081222557514263201111944115202233187286111289133109234245881552332222431088695117230187229187603021523021529237223240230168156681651112482411841931676180198917624142233947817821922920515022050901331272280119125351612131837628247115725912551771482072311280101224237186244826801342192042152232010222531381351790011213200105133194621323225471244223173167191100828961121107185518422612311314522017223836116810820287772461291962271204240139742213713116433198122781508582032290171557228531232213020481179211952411892042232311695713247361221246131256017918420261612451691741511325924021719601346816119216319716015023019219825215011717262356922841196132531602960158195194306180243203130177111512818979121383319355237855269255915011915813676215155204183219691632442387011986912110411761167220944341512187016117788199143232130192126011935782817914015119758402471751261615615732207991866422317917096157180183174109164148561271534718592252429067971826012720623413490471961492662251148223154193194191341852398310621380761657812357156322139287511915783677129230764310814623217712516464168828653819323014'"
      ]
     },
     "execution_count": 18,
     "metadata": {},
     "output_type": "execute_result"
    }
   ],
   "source": [
    "\"\".join([str(i) for i in list(msg)])"
   ]
  },
  {
   "cell_type": "code",
   "execution_count": 19,
   "metadata": {},
   "outputs": [
    {
     "name": "stdout",
     "output_type": "stream",
     "text": [
      "The raw size of the string data is 2566 bytes\n"
     ]
    }
   ],
   "source": [
    "import sys\n",
    "\n",
    "# Your string\n",
    "my_string = \"\".join([str(i) for i in list(msg)])\n",
    "\n",
    "# Encode the string to bytes\n",
    "encoded_string = my_string.encode('utf-8')\n",
    "\n",
    "# Get the size of the encoded string in bytes\n",
    "string_data_size = len(encoded_string)\n",
    "\n",
    "print(f\"The raw size of the string data is {string_data_size} bytes\")"
   ]
  },
  {
   "cell_type": "code",
   "execution_count": 34,
   "metadata": {},
   "outputs": [
    {
     "ename": "AttributeError",
     "evalue": "'str' object has no attribute 'bit_length'",
     "output_type": "error",
     "traceback": [
      "\u001b[0;31m---------------------------------------------------------------------------\u001b[0m",
      "\u001b[0;31mAttributeError\u001b[0m                            Traceback (most recent call last)",
      "Cell \u001b[0;32mIn[34], line 1\u001b[0m\n\u001b[0;32m----> 1\u001b[0m \u001b[38;5;124;43m\"\u001b[39;49m\u001b[38;5;124;43mHello, world!\u001b[39;49m\u001b[38;5;124;43m\"\u001b[39;49m\u001b[38;5;241;43m.\u001b[39;49m\u001b[43mbit_length\u001b[49m()\n",
      "\u001b[0;31mAttributeError\u001b[0m: 'str' object has no attribute 'bit_length'"
     ]
    }
   ],
   "source": [
    "\"Hello, world!\".bit_length()"
   ]
  },
  {
   "cell_type": "code",
   "execution_count": null,
   "metadata": {},
   "outputs": [],
   "source": []
  }
 ],
 "metadata": {
  "kernelspec": {
   "display_name": "pytorch_env",
   "language": "python",
   "name": "python3"
  },
  "language_info": {
   "codemirror_mode": {
    "name": "ipython",
    "version": 3
   },
   "file_extension": ".py",
   "mimetype": "text/x-python",
   "name": "python",
   "nbconvert_exporter": "python",
   "pygments_lexer": "ipython3",
   "version": "3.12.4"
  }
 },
 "nbformat": 4,
 "nbformat_minor": 2
}
