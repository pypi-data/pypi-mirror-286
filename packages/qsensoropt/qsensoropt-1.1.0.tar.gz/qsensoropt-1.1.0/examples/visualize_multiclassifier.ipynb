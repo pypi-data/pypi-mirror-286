{
 "cells": [
  {
   "cell_type": "markdown",
   "metadata": {},
   "source": [
    "## Visualize the result of the Linear Multiclassifier\n",
    "\n",
    "We compare the optimized beam splitter network with the performances of the pretty good measurements (PGM)."
   ]
  },
  {
   "cell_type": "code",
   "execution_count": 63,
   "metadata": {},
   "outputs": [],
   "source": [
    "import numpy as np\n",
    "import pandas as pd\n",
    "import qsensoropt.plot_utils as pu\n",
    "from dolinar import helstrom_bound\n",
    "import matplotlib.pyplot as plt\n",
    "from math import pi\n",
    "from os.path import join\n",
    "from os import makedirs\n",
    "from numpy import loadtxt, zeros, ones, linspace, squeeze"
   ]
  },
  {
   "cell_type": "code",
   "execution_count": 168,
   "metadata": {},
   "outputs": [],
   "source": [
    "######################\n",
    "batchsize = 2048\n",
    "num_steps = 12\n",
    "num_hypothesis = 9\n",
    "log_loss = False\n",
    "cumulative_loss = True\n",
    "######################"
   ]
  },
  {
   "cell_type": "code",
   "execution_count": 169,
   "metadata": {},
   "outputs": [],
   "source": [
    "def generate_name(\n",
    "    batchsize: int, num_steps: int, num_hypothesis: int,\n",
    "    log_loss: bool, cumulative_loss: bool, random: bool = False,\n",
    "):\n",
    "    name = f\"multiclassifier_{num_hypothesis}\"\n",
    "    name += \"_random\" if random else \"\"\n",
    "    name += f\"_batchsize_{batchsize}_num_steps_\"+\\\n",
    "        f\"{num_steps}_max_resources_{num_steps:.2f}_\"+\\\n",
    "        f\"ll_{log_loss}_cl_{cumulative_loss}\"\n",
    "    return name"
   ]
  },
  {
   "cell_type": "code",
   "execution_count": 170,
   "metadata": {},
   "outputs": [],
   "source": [
    "name = generate_name(\n",
    "    batchsize, num_steps, num_hypothesis,\n",
    "    log_loss, cumulative_loss, \n",
    ")\n",
    "name_rnd = generate_name(\n",
    "    batchsize, num_steps, num_hypothesis,\n",
    "    log_loss, cumulative_loss, random=True,\n",
    ")"
   ]
  },
  {
   "cell_type": "code",
   "execution_count": 171,
   "metadata": {},
   "outputs": [],
   "source": [
    "prec_df = pd.read_csv(\n",
    "    f'./linear_multiclassifier/data/{name}_eval.csv',\n",
    ")\n",
    "prec_rnd_df = pd.read_csv(\n",
    "    f'./linear_multiclassifier/data/{name_rnd}_eval.csv',\n",
    ")"
   ]
  },
  {
   "cell_type": "code",
   "execution_count": 172,
   "metadata": {},
   "outputs": [],
   "source": [
    "if num_hypothesis==3:\n",
    "        new_line = pd.DataFrame(\n",
    "            {'Resources': [0.0000e+00], 'ProbError': [6.6666e-01]},\n",
    "        )\n",
    "elif num_hypothesis==5:\n",
    "    new_line = pd.DataFrame(\n",
    "        {'Resources': [0.0000e+00], 'ProbError': [8.0000e-01]},\n",
    "    )\n",
    "elif num_hypothesis==7:\n",
    "    new_line = pd.DataFrame(\n",
    "        {'Resources': [0.0000e+00], 'ProbError': [8.5714e-01]},\n",
    "    )\n",
    "else:\n",
    "    new_line = pd.DataFrame(\n",
    "        {'Resources': [0.0000e+00], 'ProbError': [8.8888e-01]},\n",
    "    )\n",
    "if prec_df.iloc[0].values[0]!=0.0:\n",
    "    # Trained BS network overwrite of the file\n",
    "    prec_df = pd.concat(\n",
    "        [new_line, prec_df], ignore_index=True,\n",
    "    )\n",
    "    prec_df.to_csv(\n",
    "        f'./linear_multiclassifier/data/{name}_eval.csv',\n",
    "        index=False,\n",
    "    )\n",
    "if prec_rnd_df.iloc[0].values[0]!=0.0:\n",
    "    # Random BS netwok\n",
    "    prec_rnd_df = pd.concat(\n",
    "        [new_line, prec_rnd_df], ignore_index=True,\n",
    "    )\n",
    "    prec_rnd_df.to_csv(\n",
    "        f'./linear_multiclassifier/data/{name_rnd}_eval.csv',\n",
    "        index=False,\n",
    "    )"
   ]
  },
  {
   "cell_type": "code",
   "execution_count": 173,
   "metadata": {},
   "outputs": [],
   "source": [
    "prec_rnd_df[\"NumLayers\"] = prec_rnd_df[\"Resources\"]\n",
    "prec_df[\"NumLayers\"] = prec_df[\"Resources\"]"
   ]
  },
  {
   "cell_type": "code",
   "execution_count": 174,
   "metadata": {},
   "outputs": [],
   "source": [
    "img_dir = f'./linear_multiclassifier/images/{name}'\n",
    "makedirs(img_dir, exist_ok=True)"
   ]
  },
  {
   "cell_type": "code",
   "execution_count": 175,
   "metadata": {},
   "outputs": [],
   "source": [
    "pgm_3, pgm_5, pgm_7, pgm_9 = 0.0286*np.ones((num_steps+1, )), \\\n",
    "    0.1868*np.ones((num_steps+1, )), 0.3751*np.ones((num_steps+1, )), \\\n",
    "    0.5086*np.ones((num_steps+1, ))"
   ]
  },
  {
   "cell_type": "code",
   "execution_count": 176,
   "metadata": {},
   "outputs": [],
   "source": [
    "res = np.linspace(0, num_steps, num_steps+1)"
   ]
  },
  {
   "cell_type": "code",
   "execution_count": 177,
   "metadata": {},
   "outputs": [],
   "source": [
    "pgm_df_3, pgm_df_5, pgm_df_7, pgm_df_9 = \\\n",
    "    pd.DataFrame({\"NumLayers\": res, \"ProbError\": pgm_3}), \\\n",
    "    pd.DataFrame({\"NumLayers\": res, \"ProbError\": pgm_5}), \\\n",
    "    pd.DataFrame({\"NumLayers\": res, \"ProbError\": pgm_7}), \\\n",
    "    pd.DataFrame({\"NumLayers\": res, \"ProbError\": pgm_9})"
   ]
  },
  {
   "cell_type": "code",
   "execution_count": 178,
   "metadata": {},
   "outputs": [],
   "source": [
    "lower_bound_df = pd.read_csv(\n",
    "    f'./linear_multiclassifier/data/pgm_{num_hypothesis}.csv',\n",
    ")\n",
    "lower_bound_df[\"NumLayers\"] = lower_bound_df[\"Resources\"]"
   ]
  },
  {
   "cell_type": "code",
   "execution_count": 179,
   "metadata": {},
   "outputs": [],
   "source": [
    "list_pgm = [pgm_df_3, pgm_df_5, pgm_df_7, pgm_df_9]\n",
    "if num_hypothesis==3:\n",
    "    index = 0\n",
    "elif num_hypothesis==5:\n",
    "    index = 1\n",
    "elif num_hypothesis==7:\n",
    "    index = 2\n",
    "elif num_hypothesis==9:\n",
    "    index = 3\n",
    "else:\n",
    "    print(\"Error!\")"
   ]
  },
  {
   "cell_type": "code",
   "execution_count": 182,
   "metadata": {},
   "outputs": [
    {
     "data": {
      "image/png": "[encoded data removed]",
      "text/plain": [
       "<Figure size 600x400 with 1 Axes>"
      ]
     },
     "metadata": {},
     "output_type": "display_data"
    }
   ],
   "source": [
    "pu.plot_multiples(\n",
    "    [list_pgm[index], prec_df, prec_rnd_df,],\n",
    "    \"NumLayers\", \"ProbError\", \n",
    "    [\"PGM\", \"BS Network\", \"Random\"],\n",
    "    figsize=(3, 2), dpi=200,\n",
    "    legend_location=\"lower left\",\n",
    "    #title=\"Precision\",\n",
    "    path=img_dir,\n",
    "    log_scale_x=False,\n",
    "    list_line_syles = ['dashed', 'solid', 'solid'],\n",
    "    lower_bound_df=lower_bound_df,\n",
    ")"
   ]
  },
  {
   "cell_type": "code",
   "execution_count": null,
   "metadata": {},
   "outputs": [],
   "source": []
  },
  {
   "cell_type": "code",
   "execution_count": null,
   "metadata": {},
   "outputs": [],
   "source": []
  },
  {
   "cell_type": "code",
   "execution_count": null,
   "metadata": {},
   "outputs": [],
   "source": []
  },
  {
   "cell_type": "code",
   "execution_count": null,
   "metadata": {},
   "outputs": [],
   "source": []
  },
  {
   "cell_type": "code",
   "execution_count": null,
   "metadata": {},
   "outputs": [],
   "source": []
  }
 ],
 "metadata": {
  "kernelspec": {
   "display_name": "bayesml",
   "language": "python",
   "name": "bayesml"
  },
  "language_info": {
   "codemirror_mode": {
    "name": "ipython",
    "version": 3
   },
   "file_extension": ".py",
   "mimetype": "text/x-python",
   "name": "python",
   "nbconvert_exporter": "python",
   "pygments_lexer": "ipython3",
   "version": "3.10.8"
  }
 },
 "nbformat": 4,
 "nbformat_minor": 4
}
