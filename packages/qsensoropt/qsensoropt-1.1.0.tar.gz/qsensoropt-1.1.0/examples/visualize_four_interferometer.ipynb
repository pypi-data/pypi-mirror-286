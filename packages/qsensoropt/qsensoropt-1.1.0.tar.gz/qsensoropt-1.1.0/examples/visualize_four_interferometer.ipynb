{
 "cells": [
  {
   "cell_type": "markdown",
   "metadata": {},
   "source": [
    "## Visualization four arms interferometer\n",
    "\n",
    "This notebook refers to the visualization of the results of the ``four_interferometer.py`` script, which reproduces the model of https://arxiv.org/abs/2209.00671. We plot the mean and the median erros for a random strategy only."
   ]
  },
  {
   "cell_type": "code",
   "execution_count": 1,
   "metadata": {},
   "outputs": [
    {
     "name": "stderr",
     "output_type": "stream",
     "text": [
      "2023-08-17 14:35:22.845607: I tensorflow/core/platform/cpu_feature_guard.cc:193] This TensorFlow binary is optimized with oneAPI Deep Neural Network Library (oneDNN) to use the following CPU instructions in performance-critical operations:  AVX2 FMA\n",
      "To enable them in other operations, rebuild TensorFlow with the appropriate compiler flags.\n",
      "2023-08-17 14:35:23.008958: W tensorflow/compiler/xla/stream_executor/platform/default/dso_loader.cc:64] Could not load dynamic library 'libcudart.so.11.0'; dlerror: libcudart.so.11.0: cannot open shared object file: No such file or directory\n",
      "2023-08-17 14:35:23.008980: I tensorflow/compiler/xla/stream_executor/cuda/cudart_stub.cc:29] Ignore above cudart dlerror if you do not have a GPU set up on your machine.\n",
      "2023-08-17 14:35:23.998713: W tensorflow/compiler/xla/stream_executor/platform/default/dso_loader.cc:64] Could not load dynamic library 'libnvinfer.so.7'; dlerror: libnvinfer.so.7: cannot open shared object file: No such file or directory\n",
      "2023-08-17 14:35:23.998805: W tensorflow/compiler/xla/stream_executor/platform/default/dso_loader.cc:64] Could not load dynamic library 'libnvinfer_plugin.so.7'; dlerror: libnvinfer_plugin.so.7: cannot open shared object file: No such file or directory\n",
      "2023-08-17 14:35:23.998817: W tensorflow/compiler/tf2tensorrt/utils/py_utils.cc:38] TF-TRT Warning: Cannot dlopen some TensorRT libraries. If you would like to use Nvidia GPU with TensorRT, please make sure the missing libraries mentioned above are installed properly.\n",
      "2023-08-17 14:35:25.096954: E tensorflow/compiler/xla/stream_executor/cuda/cuda_driver.cc:267] failed call to cuInit: CUDA_ERROR_UNKNOWN: unknown error\n",
      "2023-08-17 14:35:25.097006: I tensorflow/compiler/xla/stream_executor/cuda/cuda_diagnostics.cc:169] retrieving CUDA diagnostic information for host: knoblauch\n",
      "2023-08-17 14:35:25.097018: I tensorflow/compiler/xla/stream_executor/cuda/cuda_diagnostics.cc:176] hostname: knoblauch\n",
      "2023-08-17 14:35:25.097165: I tensorflow/compiler/xla/stream_executor/cuda/cuda_diagnostics.cc:200] libcuda reported version is: 390.157.0\n",
      "2023-08-17 14:35:25.097203: I tensorflow/compiler/xla/stream_executor/cuda/cuda_diagnostics.cc:204] kernel reported version is: 390.157.0\n",
      "2023-08-17 14:35:25.097212: I tensorflow/compiler/xla/stream_executor/cuda/cuda_diagnostics.cc:310] kernel version seems to match DSO: 390.157.0\n",
      "2023-08-17 14:35:25.097896: I tensorflow/core/platform/cpu_feature_guard.cc:193] This TensorFlow binary is optimized with oneAPI Deep Neural Network Library (oneDNN) to use the following CPU instructions in performance-critical operations:  AVX2 FMA\n",
      "To enable them in other operations, rebuild TensorFlow with the appropriate compiler flags.\n"
     ]
    }
   ],
   "source": [
    "import numpy as np\n",
    "import pandas as pd\n",
    "import qsensoropt.plot_utils as pu\n",
    "import matplotlib.pyplot as plt\n",
    "from math import pi\n",
    "from os.path import join\n",
    "from os import makedirs"
   ]
  },
  {
   "cell_type": "code",
   "execution_count": null,
   "metadata": {},
   "outputs": [],
   "source": [
    "########################\n",
    "batchsize = 32\n",
    "num_steps = 100\n",
    "num_particles = 24000\n",
    "static = False\n",
    "########################"
   ]
  },
  {
   "cell_type": "code",
   "execution_count": null,
   "metadata": {},
   "outputs": [],
   "source": [
    "def generate_sim_name(\n",
    "    batchsize, num_steps, num_particles,\n",
    "    median: bool = False, mean: bool = False,\n",
    "    random: bool = False, static: bool = False,\n",
    "):\n",
    "    name = f'four_interferometer_num_part_{num_particles}'\n",
    "    name += '_static' if static else ''\n",
    "    name += '_random' if random else ''\n",
    "    name += '_median' if median else ''\n",
    "    name += '_mean' if mean else ''\n",
    "    name += f'_batchsize_{batchsize}_num_steps_{num_steps}_max_resources_{num_steps:.2f}'\n",
    "    name += f'_ll_False_cl_True'\n",
    "    return name"
   ]
  },
  {
   "cell_type": "code",
   "execution_count": null,
   "metadata": {},
   "outputs": [],
   "source": [
    "name = generate_sim_name(\n",
    "    batchsize, num_steps, num_particles,\n",
    ")\n",
    "name_median_rnd = generate_sim_name(\n",
    "    batchsize, num_steps, num_particles,\n",
    "    random=True, median=True,\n",
    ")\n",
    "name_mean_rnd = generate_sim_name(\n",
    "    batchsize, num_steps, num_particles,\n",
    "    random=True, mean=True,\n",
    ")\n",
    "if static:\n",
    "    name_median_static = generate_sim_name(\n",
    "        batchsize, num_steps, num_particles,\n",
    "        random=False, median=True, static=True,\n",
    "    )\n",
    "    name_mean_static = generate_sim_name(\n",
    "        batchsize, num_steps, num_particles,\n",
    "        random=False, mean=True, static=True,\n",
    "    )"
   ]
  },
  {
   "cell_type": "code",
   "execution_count": null,
   "metadata": {},
   "outputs": [],
   "source": [
    "prec_median_rnd_df = pd.read_csv(\n",
    "    f'./four_interferometer/data/{name_median_rnd}_eval.csv',\n",
    ")\n",
    "prec_mean_rnd_df = pd.read_csv(\n",
    "    f'./four_interferometer/data/{name_mean_rnd}_eval.csv',\n",
    ")\n",
    "if static:\n",
    "    prec_median_static_df = pd.read_csv(\n",
    "    f'./four_interferometer/data/{name_median_static}_eval.csv',\n",
    "    )\n",
    "    prec_mean_static_df = pd.read_csv(\n",
    "        f'./four_interferometer/data/{name_mean_static}_eval.csv',\n",
    "    )"
   ]
  },
  {
   "cell_type": "code",
   "execution_count": null,
   "metadata": {},
   "outputs": [],
   "source": [
    "prec_median_rnd_df[\"NumShot\"] = prec_median_rnd_df[\"Resources\"]\n",
    "prec_mean_rnd_df[\"NumShot\"] = prec_mean_rnd_df[\"Resources\"]\n",
    "if static:\n",
    "    prec_median_static_df[\"NumShot\"] = prec_median_static_df[\"Resources\"]\n",
    "    prec_mean_static_df[\"NumShot\"] = prec_mean_static_df[\"Resources\"]"
   ]
  },
  {
   "cell_type": "code",
   "execution_count": null,
   "metadata": {},
   "outputs": [],
   "source": [
    "prec_median_rnd_df[\"Error\"] = prec_median_rnd_df[\"MedianSE\"]\n",
    "prec_mean_rnd_df[\"Error\"] = prec_mean_rnd_df[\"MSE\"]\n",
    "if static:\n",
    "    prec_median_static_df[\"Error\"] = prec_median_static_df[\"MedianSE\"]\n",
    "    prec_mean_static_df[\"Error\"] = prec_mean_static_df[\"MSE\"]"
   ]
  },
  {
   "cell_type": "code",
   "execution_count": null,
   "metadata": {},
   "outputs": [],
   "source": [
    "xaxis = np.linspace(1, num_steps, num_steps)"
   ]
  },
  {
   "cell_type": "code",
   "execution_count": null,
   "metadata": {},
   "outputs": [],
   "source": [
    "prec_cr_df = pd.DataFrame({\"NumShot\": xaxis, \"Error\": 2.5/xaxis})"
   ]
  },
  {
   "cell_type": "code",
   "execution_count": null,
   "metadata": {},
   "outputs": [],
   "source": [
    "img_dir = f'./four_interferometer/images/{name}'\n",
    "makedirs(img_dir, exist_ok=True)"
   ]
  },
  {
   "cell_type": "code",
   "execution_count": null,
   "metadata": {},
   "outputs": [],
   "source": [
    "if static:\n",
    "    pu.plot_multiples(\n",
    "            [prec_mean_rnd_df, prec_median_rnd_df,\n",
    "             prec_mean_static_df, prec_median_static_df, prec_cr_df], \n",
    "            \"NumShot\", \"Error\", \n",
    "            [\"Mean Rnd\", \"Median Rnd\",\n",
    "             \"Mean Static\", \"Median Static\", \"CRbound\"],\n",
    "            figsize=(3, 2), dpi=200,\n",
    "            #title=\"Precision\",\n",
    "            path=img_dir,\n",
    "        )\n",
    "else:\n",
    "    pu.plot_multiples(\n",
    "        [prec_mean_rnd_df, prec_median_rnd_df, prec_cr_df], \n",
    "        \"NumShot\", \"Error\", \n",
    "        [\"Mean\", \"Median\", \"CRbound\"],\n",
    "        figsize=(3, 2), dpi=200,\n",
    "        #title=\"Precision\",\n",
    "        path=img_dir,\n",
    "    )"
   ]
  },
  {
   "cell_type": "markdown",
   "metadata": {},
   "source": [
    "### Joint plot"
   ]
  },
  {
   "cell_type": "code",
   "execution_count": null,
   "metadata": {},
   "outputs": [],
   "source": [
    "img_dir_all = f'./four_interferometer/images/'\n",
    "makedirs(img_dir, exist_ok=True)"
   ]
  },
  {
   "cell_type": "code",
   "execution_count": null,
   "metadata": {},
   "outputs": [],
   "source": [
    "list_num_particles = [8192, 16384, 32768]"
   ]
  },
  {
   "cell_type": "code",
   "execution_count": null,
   "metadata": {},
   "outputs": [],
   "source": [
    "list_median_rnd_name = [\n",
    "    generate_sim_name(\n",
    "    batchsize, num_steps, np,\n",
    "    random=True, median=True,)\n",
    "    for np in list_num_particles\n",
    "]\n",
    "list_mean_rnd_name = [\n",
    "    generate_sim_name(\n",
    "    batchsize, num_steps, np,\n",
    "    random=True, mean=True,)\n",
    "    for np in list_num_particles\n",
    "]"
   ]
  },
  {
   "cell_type": "code",
   "execution_count": null,
   "metadata": {},
   "outputs": [],
   "source": [
    "list_median_rnd_prec = [\n",
    "    pd.read_csv(\n",
    "        f'./four_interferometer/data/{name}_eval.csv',\n",
    "    ) for name in list_median_rnd_name\n",
    "]\n",
    "list_mean_rnd_prec = [\n",
    "    pd.read_csv(\n",
    "        f'./four_interferometer/data/{name}_eval.csv',\n",
    "    ) for name in list_mean_rnd_name\n",
    "]"
   ]
  },
  {
   "cell_type": "code",
   "execution_count": null,
   "metadata": {},
   "outputs": [],
   "source": [
    "for prec in list_median_rnd_prec:\n",
    "    prec[\"NumShot\"] = prec[\"Resources\"]\n",
    "for prec in list_mean_rnd_prec:\n",
    "    prec[\"NumShot\"] = prec[\"Resources\"]\n",
    "for prec in list_median_rnd_prec:\n",
    "    prec[\"Error\"] = prec[\"MedianSE\"]\n",
    "for prec in list_mean_rnd_prec:\n",
    "    prec[\"Error\"] = prec[\"MSE\"]"
   ]
  },
  {
   "cell_type": "code",
   "execution_count": null,
   "metadata": {},
   "outputs": [],
   "source": [
    "# List of names for the legend\n",
    "list_legend_median = [\n",
    "    f\"Median NumPart={np}\" for np in list_num_particles\n",
    "]\n",
    "list_legend_mean = [\n",
    "    f\"Mean NumPart={np}\" for np in list_num_particles\n",
    "]"
   ]
  },
  {
   "cell_type": "code",
   "execution_count": null,
   "metadata": {},
   "outputs": [],
   "source": [
    "pu.plot_multiples(\n",
    "        list_median_rnd_prec+list_mean_rnd_prec, \n",
    "        \"NumShot\", \"Error\", \n",
    "        list_legend_median+list_legend_mean,\n",
    "        figsize=(3, 2), dpi=200,\n",
    "        #title=\"Precision\",\n",
    "        path=img_dir_all,\n",
    "    )"
   ]
  },
  {
   "cell_type": "code",
   "execution_count": null,
   "metadata": {},
   "outputs": [],
   "source": []
  },
  {
   "cell_type": "code",
   "execution_count": null,
   "metadata": {},
   "outputs": [],
   "source": []
  }
 ],
 "metadata": {
  "kernelspec": {
   "display_name": "bayesml",
   "language": "python",
   "name": "bayesml"
  },
  "language_info": {
   "codemirror_mode": {
    "name": "ipython",
    "version": 3
   },
   "file_extension": ".py",
   "mimetype": "text/x-python",
   "name": "python",
   "nbconvert_exporter": "python",
   "pygments_lexer": "ipython3",
   "version": "3.10.8"
  }
 },
 "nbformat": 4,
 "nbformat_minor": 4
}
