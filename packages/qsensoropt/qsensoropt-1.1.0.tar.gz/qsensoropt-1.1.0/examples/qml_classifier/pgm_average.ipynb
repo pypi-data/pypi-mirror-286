{
 "cells": [
  {
   "cell_type": "markdown",
   "metadata": {},
   "source": [
    "## PGM average"
   ]
  },
  {
   "cell_type": "code",
   "execution_count": 1,
   "metadata": {},
   "outputs": [],
   "source": [
    "from pandas import DataFrame, Series\n",
    "from pandas import read_csv\n",
    "from numpy import floor as npfloor\n",
    "from os.path import join"
   ]
  },
  {
   "cell_type": "markdown",
   "metadata": {},
   "source": [
    "### 0.75 alpha_average"
   ]
  },
  {
   "cell_type": "code",
   "execution_count": 2,
   "metadata": {},
   "outputs": [],
   "source": [
    "res_prob = read_csv('/scratch/fbelliardo/pgm_results_0.75.csv')\n",
    "res_prob['Resources'] = 8.33/4.33*res_prob['Resources'] \n",
    "delta_resources = 1.00\n",
    "bin_index_floor = npfloor(\n",
    "    res_prob['Resources'].values/delta_resources,\n",
    ")\n",
    "res_prob = res_prob.groupby(bin_index_floor).mean()\n",
    "res_prob.to_csv(\n",
    "    join('pgm_average_0.75.csv'),\n",
    "    index=False,\n",
    "    float_format='%.4e',\n",
    ")"
   ]
  },
  {
   "cell_type": "markdown",
   "metadata": {},
   "source": [
    "### 1.00 alpha_average"
   ]
  },
  {
   "cell_type": "code",
   "execution_count": 4,
   "metadata": {},
   "outputs": [],
   "source": [
    "res_prob = read_csv('/scratch/fbelliardo/pgm_results_1.00.csv')\n",
    "res_prob['Resources'] = 8.33/4.33*res_prob['Resources'] \n",
    "delta_resources = 1.00\n",
    "\n",
    "bin_index_floor = npfloor(\n",
    "    res_prob['Resources'].values/delta_resources,\n",
    ")\n",
    "res_prob = res_prob.groupby(bin_index_floor).mean()\n",
    "\n",
    "res_prob.to_csv(\n",
    "    join('pgm_average_1.00.csv'),\n",
    "    index=False,\n",
    "    float_format='%.4e',\n",
    ")"
   ]
  },
  {
   "cell_type": "markdown",
   "metadata": {},
   "source": [
    "### 1.73 alpha_average"
   ]
  },
  {
   "cell_type": "code",
   "execution_count": 5,
   "metadata": {},
   "outputs": [],
   "source": [
    "res_prob = read_csv('/scratch/fbelliardo/pgm_results_1.73.csv')\n",
    "res_prob['Resources'] = 8.33/4.33*res_prob['Resources'] \n",
    "delta_resources = 1.00\n",
    "bin_index_floor = npfloor(\n",
    "    res_prob['Resources'].values/delta_resources,\n",
    ")\n",
    "res_prob = res_prob.groupby(bin_index_floor).mean()\n",
    "res_prob.to_csv(\n",
    "    join('pgm_average_1.73.csv'),\n",
    "    index=False,\n",
    "    float_format='%.4e',\n",
    ")"
   ]
  },
  {
   "cell_type": "code",
   "execution_count": null,
   "metadata": {},
   "outputs": [],
   "source": []
  }
 ],
 "metadata": {
  "kernelspec": {
   "display_name": "bayesml",
   "language": "python",
   "name": "bayesml"
  },
  "language_info": {
   "codemirror_mode": {
    "name": "ipython",
    "version": 3
   },
   "file_extension": ".py",
   "mimetype": "text/x-python",
   "name": "python",
   "nbconvert_exporter": "python",
   "pygments_lexer": "ipython3",
   "version": "3.10.8"
  }
 },
 "nbformat": 4,
 "nbformat_minor": 4
}
