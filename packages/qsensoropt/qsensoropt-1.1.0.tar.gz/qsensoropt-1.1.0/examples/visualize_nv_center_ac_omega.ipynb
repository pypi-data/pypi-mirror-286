{
 "cells": [
  {
   "cell_type": "markdown",
   "metadata": {},
   "source": [
    "## Visualization of the estimation performances in AC magnetometry, with unknown frequency"
   ]
  },
  {
   "cell_type": "code",
   "execution_count": null,
   "metadata": {},
   "outputs": [],
   "source": [
    "import numpy as np\n",
    "import pandas as pd\n",
    "import qsensoropt.plot_utils as pu\n",
    "import matplotlib.pyplot as plt\n",
    "from math import pi\n",
    "from os.path import join\n",
    "from os import makedirs\n",
    "\n",
    "from qsensoropt.utils import normalize"
   ]
  },
  {
   "cell_type": "markdown",
   "metadata": {},
   "source": [
    "The following parameters are the one passed to the function\n",
    "`complete_Bfield_estimation` of the `nv_center_ac_omega` file."
   ]
  },
  {
   "cell_type": "code",
   "execution_count": null,
   "metadata": {},
   "outputs": [],
   "source": [
    "#####################\n",
    "batch_size = 192\n",
    "max_resources = 24\n",
    "learning_rate = 1e-4\n",
    "res = \"meas\"\n",
    "log_loss = True\n",
    "cumulative_loss = True\n",
    "invT2 = 0.0\n",
    "#####################"
   ]
  },
  {
   "cell_type": "code",
   "execution_count": null,
   "metadata": {},
   "outputs": [],
   "source": [
    "def generate_sim_name(\n",
    "    batch_size, max_resources,\n",
    "    learning_rate: float = 1e-2,\n",
    "    cumulative_loss: bool = False,\n",
    "    log_loss: bool = False,\n",
    "    res: str = \"meas\", invT2: float = None,\n",
    "    two_parameters: bool = False,\n",
    "    pgh=False, sigma=False,\n",
    "    sigmah=False, static=False,\n",
    ") -> str:\n",
    "    \"\"\"Composes the controls in the\n",
    "    above cells and produces\n",
    "    the name of the simulation.\n",
    "    \"\"\"\n",
    "    name = \"nv_center_ac_omega_\" + res\n",
    "    name += f\"_invT2_{invT2:.2f}\"\n",
    "    name += f\"_lr_{learning_rate}\"\n",
    "    if pgh:\n",
    "        name += '_PGH'\n",
    "    elif sigma:\n",
    "        name += '_Sigma'\n",
    "    elif sigmah:\n",
    "        name += '_SigmaH'\n",
    "    elif static:\n",
    "        name += '_static'\n",
    "        \n",
    "    name += f'_batchsize_{batch_size}_num_steps_'+\\\n",
    "        f'{max_resources}_max_resources_{max_resources:.2f}'\n",
    "    name += f'_ll_{log_loss}_cl_{cumulative_loss}'\n",
    "    return name"
   ]
  },
  {
   "cell_type": "code",
   "execution_count": null,
   "metadata": {},
   "outputs": [],
   "source": [
    "name = generate_sim_name(\n",
    "    batch_size, max_resources=max_resources,\n",
    "    learning_rate=learning_rate,\n",
    "    cumulative_loss=cumulative_loss,\n",
    "    log_loss=log_loss,\n",
    "    res=res, invT2=invT2,\n",
    ")\n",
    "name_pgh = generate_sim_name(\n",
    "    batch_size, max_resources=max_resources,\n",
    "    learning_rate=learning_rate,\n",
    "    cumulative_loss=cumulative_loss,\n",
    "    log_loss=log_loss,\n",
    "    res=res, invT2=invT2,\n",
    "    pgh=True,\n",
    ")\n",
    "name_sigma = generate_sim_name(\n",
    "    batch_size, max_resources=max_resources,\n",
    "    learning_rate=learning_rate,\n",
    "    cumulative_loss=cumulative_loss,\n",
    "    log_loss=log_loss,\n",
    "    res=res, invT2=invT2,\n",
    "    sigma=True,\n",
    ")\n",
    "name_sigmah = generate_sim_name(\n",
    "    batch_size, max_resources=max_resources,\n",
    "    learning_rate=learning_rate,\n",
    "    cumulative_loss=cumulative_loss,\n",
    "    log_loss=log_loss,\n",
    "    res=res, invT2=invT2,\n",
    "    sigmah=True,\n",
    ")\n",
    "name_static = generate_sim_name(\n",
    "    batch_size, max_resources=max_resources,\n",
    "    learning_rate=learning_rate,\n",
    "    cumulative_loss=cumulative_loss,\n",
    "    log_loss=log_loss,\n",
    "    res=res, invT2=invT2,\n",
    "    static=True,\n",
    ")"
   ]
  },
  {
   "cell_type": "markdown",
   "metadata": {},
   "source": [
    "### Precision vs. Resources"
   ]
  },
  {
   "cell_type": "code",
   "execution_count": null,
   "metadata": {},
   "outputs": [],
   "source": [
    "prec_df = pd.read_csv(\n",
    "    f'./nv_center_ac_omega/data/{name}_eval.csv',\n",
    ")\n",
    "prec_pgh_df = pd.read_csv(\n",
    "    f'./nv_center_ac_omega/data/{name_pgh}_eval.csv',\n",
    ")\n",
    "prec_sigma_df = pd.read_csv(\n",
    "    f'./nv_center_ac_omega/data/{name_sigma}_eval.csv',\n",
    ")\n",
    "prec_sigmah_df = pd.read_csv(\n",
    "    f'./nv_center_ac_omega/data/{name_sigmah}_eval.csv',\n",
    ")\n",
    "prec_static_df = pd.read_csv(\n",
    "    f'./nv_center_ac_omega/data/{name_static}_eval.csv',\n",
    ")\n",
    "if res==\"meas\":\n",
    "    prec_df[\"MeasStep\"] = prec_df[\"Resources\"]\n",
    "    prec_pgh_df[\"MeasStep\"] = prec_pgh_df[\"Resources\"]\n",
    "    prec_sigma_df[\"MeasStep\"] = prec_sigma_df[\"Resources\"]\n",
    "    prec_sigmah_df[\"MeasStep\"] = prec_sigmah_df[\"Resources\"]\n",
    "    prec_static_df[\"MeasStep\"] = prec_static_df[\"Resources\"]\n",
    "    xlabel = \"MeasStep\"\n",
    "else:\n",
    "    prec_df[\"Time\"] = prec_df[\"Resources\"]\n",
    "    prec_pgh_df[\"Time\"] = prec_pgh_df[\"Resources\"]\n",
    "    prec_sigma_df[\"Time\"] = prec_sigma_df[\"Resources\"]\n",
    "    prec_sigmah_df[\"Time\"] = prec_sigmah_df[\"Resources\"]\n",
    "    prec_static_df[\"Time\"] = prec_static_df[\"Resources\"]\n",
    "    xlabel = \"Time\""
   ]
  },
  {
   "cell_type": "code",
   "execution_count": null,
   "metadata": {},
   "outputs": [],
   "source": [
    "img_dir = f'./nv_center_ac_omega/images/{name}'\n",
    "makedirs(img_dir, exist_ok=True)"
   ]
  },
  {
   "cell_type": "code",
   "execution_count": null,
   "metadata": {},
   "outputs": [],
   "source": [
    "pu.plot_multiples(\n",
    "        [prec_df, prec_static_df, prec_sigmah_df,\n",
    "         prec_sigma_df, prec_pgh_df], \n",
    "        xlabel, \"MSE\", \n",
    "        [\"Neural Network\", \"Static\", r\"$\\sigma^{-1}$\",\n",
    "         r\"$\\sigma^{-1}$ & $T^{-1}$\", \"PGH\"],\n",
    "        figsize=(3, 2), dpi=200,\n",
    "        #title=\"Precision\",\n",
    "        path=img_dir,\n",
    "    )"
   ]
  },
  {
   "cell_type": "markdown",
   "metadata": {},
   "source": [
    "### Trajectories"
   ]
  },
  {
   "cell_type": "code",
   "execution_count": null,
   "metadata": {},
   "outputs": [],
   "source": [
    "##################\n",
    "traj_num = 5\n",
    "static = False\n",
    "##################"
   ]
  },
  {
   "cell_type": "code",
   "execution_count": null,
   "metadata": {},
   "outputs": [],
   "source": [
    "if static:\n",
    "    traj_num = 1"
   ]
  },
  {
   "cell_type": "code",
   "execution_count": null,
   "metadata": {},
   "outputs": [],
   "source": [
    "name_traj = name_static if static else name\n",
    "data_df = pd.read_csv(\n",
    "    f'./nv_center_ac_omega/data/{name_traj}_ext.csv',\n",
    ")\n",
    "data_df['ResOverMaxRes'] = (data_df['ResOverMaxRes']+1)/2\n",
    "data_df['Resources'] = max_resources*data_df['ResOverMaxRes']\n",
    "if res==\"meas\":\n",
    "    data_df[\"MeasStep\"] = data_df['Resources']\n",
    "    xlabel = \"MeasStep\"\n",
    "else:\n",
    "    data_df[\"Time\"] = data_df['Resources']\n",
    "    xlabel = \"Time\"\n",
    "data_df[\"Tau\"] = data_df['EvolutionTime']\n",
    "data_df['Bcolor'] = (normalize(data_df['B'], (1.0, 2.0))+1)/2"
   ]
  },
  {
   "cell_type": "code",
   "execution_count": null,
   "metadata": {},
   "outputs": [],
   "source": [
    "trajectory_list = [\n",
    "    data_df[data_df['Estimation']==i]\n",
    "    for i in range(traj_num)\n",
    "]"
   ]
  },
  {
   "cell_type": "code",
   "execution_count": null,
   "metadata": {},
   "outputs": [],
   "source": [
    "omega_list = [\n",
    "    f\"{trajectory_list[i]['omega'].values[0]:.2f}\"\n",
    "    for i in range(traj_num)\n",
    "]"
   ]
  },
  {
   "cell_type": "code",
   "execution_count": null,
   "metadata": {},
   "outputs": [],
   "source": [
    "pu.plot_multiples(\n",
    "    trajectory_list, xlabel, \"Tau\",\n",
    "    omega_list, log_scale=False,\n",
    "    title=\"Control strategy\",\n",
    "    figsize=(3, 2.2), dpi=200,\n",
    "    legend_location=\"lower right\",\n",
    "    path=img_dir,\n",
    ")"
   ]
  },
  {
   "cell_type": "markdown",
   "metadata": {},
   "source": [
    "### Small plots"
   ]
  },
  {
   "cell_type": "code",
   "execution_count": null,
   "metadata": {},
   "outputs": [],
   "source": [
    "pu.plot_3_values(\n",
    "    data_df, \n",
    "    \"Mean_omega\", \"Tau\", color=\"ResOverMaxRes\",\n",
    "    figsize=(2, 2), dpi=200, \n",
    "    path=img_dir,\n",
    ")"
   ]
  },
  {
   "cell_type": "code",
   "execution_count": null,
   "metadata": {},
   "outputs": [],
   "source": [
    "pu.plot_3_values(\n",
    "    data_df, \n",
    "    \"LogDev_omega\", \"Tau\", color=\"ResOverMaxRes\", \n",
    "    figsize=(2, 2), dpi=200,\n",
    "    path=img_dir, \n",
    ")"
   ]
  },
  {
   "cell_type": "code",
   "execution_count": null,
   "metadata": {},
   "outputs": [],
   "source": [
    "pu.plot_3_values(\n",
    "    data_df, \n",
    "    \"LogDev_omega\", \"Tau\", color=\"Bcolor\", \n",
    "    figsize=(2, 2), dpi=200,\n",
    "    path=img_dir,\n",
    ")"
   ]
  },
  {
   "cell_type": "code",
   "execution_count": null,
   "metadata": {},
   "outputs": [],
   "source": [
    "pu.plot_3_values(\n",
    "    data_df, \n",
    "    \"Mean_B\", \"Tau\", color=\"ResOverMaxRes\", \n",
    "    figsize=(2, 2), dpi=200,\n",
    "    path=img_dir,\n",
    ")\n",
    "pu.plot_3_values(\n",
    "    data_df, \n",
    "    \"Corr_omega_B\", \"Tau\", color=\"ResOverMaxRes\",\n",
    "    figsize=(2, 2), dpi=200, \n",
    "    path=img_dir,\n",
    ")\n",
    "pu.plot_3_values(\n",
    "    data_df, \n",
    "    \"LogDev_B\", \"Tau\", color=\"ResOverMaxRes\", \n",
    "    figsize=(2, 2), dpi=200,\n",
    "    path=img_dir\n",
    ")"
   ]
  },
  {
   "cell_type": "code",
   "execution_count": null,
   "metadata": {},
   "outputs": [],
   "source": []
  },
  {
   "cell_type": "code",
   "execution_count": null,
   "metadata": {},
   "outputs": [],
   "source": []
  }
 ],
 "metadata": {
  "kernelspec": {
   "display_name": "bayesml",
   "language": "python",
   "name": "bayesml"
  },
  "language_info": {
   "codemirror_mode": {
    "name": "ipython",
    "version": 3
   },
   "file_extension": ".py",
   "mimetype": "text/x-python",
   "name": "python",
   "nbconvert_exporter": "python",
   "pygments_lexer": "ipython3",
   "version": "3.10.8"
  }
 },
 "nbformat": 4,
 "nbformat_minor": 4
}
