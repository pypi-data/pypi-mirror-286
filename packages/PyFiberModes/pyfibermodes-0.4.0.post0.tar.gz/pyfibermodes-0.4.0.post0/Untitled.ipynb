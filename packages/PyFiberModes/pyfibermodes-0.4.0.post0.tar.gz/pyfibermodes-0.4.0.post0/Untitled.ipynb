{
 "cells": [
  {
   "cell_type": "code",
   "execution_count": 1,
   "id": "7cd12c8d-3486-47f3-8918-3db1d74d29bf",
   "metadata": {},
   "outputs": [],
   "source": [
    "from itertools import product"
   ]
  },
  {
   "cell_type": "code",
   "execution_count": 2,
   "id": "455bc22c-42ab-4938-957e-2e16b15ad095",
   "metadata": {},
   "outputs": [],
   "source": [
    "class layer:\n",
    "    pass\n",
    "\n"
   ]
  },
  {
   "cell_type": "code",
   "execution_count": 6,
   "id": "73c24d61-29e7-40c3-8522-6905d753f111",
   "metadata": {},
   "outputs": [],
   "source": [
    "core = layer()\n",
    "core.name = ['core']\n",
    "core.radius = [10, 20]\n",
    "core.index = [1,2, 3, 4]\n",
    "\n",
    "clad = layer()\n",
    "clad.name = 'clad'\n",
    "clad.radius = [60]\n",
    "clad.index = [1]"
   ]
  },
  {
   "cell_type": "code",
   "execution_count": 7,
   "id": "fa8398d6-64da-4614-a29c-fd6c1e6a1690",
   "metadata": {},
   "outputs": [
    {
     "data": {
      "text/plain": [
       "[('core', 10, 1),\n",
       " ('core', 10, 2),\n",
       " ('core', 10, 3),\n",
       " ('core', 10, 4),\n",
       " ('core', 20, 1),\n",
       " ('core', 20, 2),\n",
       " ('core', 20, 3),\n",
       " ('core', 20, 4)]"
      ]
     },
     "execution_count": 7,
     "metadata": {},
     "output_type": "execute_result"
    }
   ],
   "source": [
    "prod = product(core.name, core.radius, core.index)\n",
    "\n",
    "list(prod)"
   ]
  },
  {
   "cell_type": "code",
   "execution_count": 11,
   "id": "fec91969-51e6-4e3f-a3a7-3c10ddf782fa",
   "metadata": {},
   "outputs": [
    {
     "ename": "SyntaxError",
     "evalue": "non-default argument follows default argument (1052384099.py, line 13)",
     "output_type": "error",
     "traceback": [
      "\u001b[0;36m  Cell \u001b[0;32mIn [11], line 13\u001b[0;36m\u001b[0m\n\u001b[0;31m    index) -> None:\u001b[0m\n\u001b[0m    ^\u001b[0m\n\u001b[0;31mSyntaxError\u001b[0m\u001b[0;31m:\u001b[0m non-default argument follows default argument\n"
     ]
    }
   ],
   "source": [
    "class FiberFactory():\n",
    "    def __init__(self):\n",
    "        self.layers_list = []\n",
    "        self.neff_solver = None\n",
    "        self.cutoff_solver = None\n",
    "\n",
    "    def add_layer(self,\n",
    "            index: float,\n",
    "            name: str = \"\",\n",
    "            radius: float = 0,\n",
    "            material: str = \"Fixed\",\n",
    "            geometry: str = \"StepIndex\") -> None:\n",
    "\n",
    "        layer = {\n",
    "            \"name\": name,\n",
    "            \"type\": geometry,\n",
    "            \"tparams\": [radius],\n",
    "            \"material\": material,\n",
    "            \"material_parameters\": [index],\n",
    "        }\n",
    "\n",
    "        self.layers_list.append(layer)"
   ]
  },
  {
   "cell_type": "code",
   "execution_count": 11,
   "id": "7a28401f-4898-4129-b615-fbb21d5f8891",
   "metadata": {},
   "outputs": [
    {
     "name": "stdout",
     "output_type": "stream",
     "text": [
      "[('C', 'g', 'k'), ('C', 'g', 'e'), ('C', 'g', 'r'), ('C', 'g', 'n'), ('C', 'g', 'e'), ('C', 'g', 'l'), ('C', 'a', 'k'), ('C', 'a', 'e'), ('C', 'a', 'r'), ('C', 'a', 'n'), ('C', 'a', 'e'), ('C', 'a', 'l'), ('C', 'm', 'k'), ('C', 'm', 'e'), ('C', 'm', 'r'), ('C', 'm', 'n'), ('C', 'm', 'e'), ('C', 'm', 'l'), ('C', 'm', 'k'), ('C', 'm', 'e'), ('C', 'm', 'r'), ('C', 'm', 'n'), ('C', 'm', 'e'), ('C', 'm', 'l'), ('C', 'a', 'k'), ('C', 'a', 'e'), ('C', 'a', 'r'), ('C', 'a', 'n'), ('C', 'a', 'e'), ('C', 'a', 'l')]\n"
     ]
    }
   ],
   "source": [
    "params = {\n",
    "    \"C\": [.001, .01, .1],\n",
    "    \"gamma\": [.01, 1, 10],\n",
    "    \"kernel\": [\"linear\", \"rbf\"]\n",
    "}\n",
    "z = list(product(*params))\n",
    "\n",
    "print(z)"
   ]
  },
  {
   "cell_type": "code",
   "execution_count": null,
   "id": "b1d61025-db2e-4424-8ab6-c423f1c3c94e",
   "metadata": {},
   "outputs": [],
   "source": []
  },
  {
   "cell_type": "code",
   "execution_count": 18,
   "id": "4a26dcfb-2260-4901-9dff-964b9b610d6b",
   "metadata": {},
   "outputs": [
    {
     "name": "stdout",
     "output_type": "stream",
     "text": [
      "(('a', [1, 2, 3]), ('a', [3]))\n",
      "(('a', [1, 2, 3]), ('b', [1]))\n",
      "(('b', [1]), ('a', [3]))\n",
      "(('b', [1]), ('b', [1]))\n"
     ]
    }
   ],
   "source": [
    "dic_0 = dict(\n",
    "    a=[1,2,3],\n",
    "    b=[1]\n",
    ")\n",
    "\n",
    "dic_1 = dict(\n",
    "    a=[3],\n",
    "    b=[1]\n",
    ")\n",
    "\n",
    "\n",
    "\n",
    "res = list(product(dic_0.items(), dic_1.items()))\n",
    "\n",
    "for element in res:\n",
    "    print(element)"
   ]
  },
  {
   "cell_type": "code",
   "execution_count": null,
   "id": "ac6195d8-879e-4da3-9a2f-205970fda9ed",
   "metadata": {},
   "outputs": [],
   "source": []
  }
 ],
 "metadata": {
  "kernelspec": {
   "display_name": "IPython3.10",
   "language": "python",
   "name": "python3"
  },
  "language_info": {
   "codemirror_mode": {
    "name": "ipython",
    "version": 3
   },
   "file_extension": ".py",
   "mimetype": "text/x-python",
   "name": "python",
   "nbconvert_exporter": "python",
   "pygments_lexer": "ipython3",
   "version": "3.10.9"
  }
 },
 "nbformat": 4,
 "nbformat_minor": 5
}
