{
  "cells": [
    {
      "cell_type": "markdown",
      "metadata": {},
      "source": [
        "\n# Modal dispersion VS core index\n"
      ]
    },
    {
      "cell_type": "markdown",
      "metadata": {},
      "source": [
        "## Imports\n\n"
      ]
    },
    {
      "cell_type": "code",
      "execution_count": null,
      "metadata": {
        "collapsed": false
      },
      "outputs": [],
      "source": [
        "import numpy\nfrom PyFiberModes import HE11, HE22, LP01, LP11, LP02, LP21, LP12, TE01, LP22\nfrom PyFiberModes.fiber import load_fiber\nfrom MPSPlots.render2D import SceneList"
      ]
    },
    {
      "cell_type": "markdown",
      "metadata": {},
      "source": [
        "## Generating the fiber structures\nHere we create the different fiber design that we want to explore\n\n"
      ]
    },
    {
      "cell_type": "code",
      "execution_count": null,
      "metadata": {
        "collapsed": false
      },
      "outputs": [],
      "source": [
        "wavelength_list = numpy.linspace(500e-9, 3000e-9, 100)\ndata = []\nfor wavelegnth in wavelength_list:\n    smf28 = load_fiber(fiber_name='SMF28', wavelength=wavelegnth)\n    dispersion = smf28.get_effective_index(mode=LP01)\n    data.append(dispersion)\n\n\nfigure = SceneList()\n\nax = figure.append_ax(\n    x_label=r'Wavelength [$\\mu m$]',\n    y_label='Group index',\n    x_scale_factor=1e6\n)\n\nax.add_line(x=wavelength_list, y=data)\n\n_ = figure.show()\n# -"
      ]
    }
  ],
  "metadata": {
    "kernelspec": {
      "display_name": "Python 3",
      "language": "python",
      "name": "python3"
    },
    "language_info": {
      "codemirror_mode": {
        "name": "ipython",
        "version": 3
      },
      "file_extension": ".py",
      "mimetype": "text/x-python",
      "name": "python",
      "nbconvert_exporter": "python",
      "pygments_lexer": "ipython3",
      "version": "3.11.0"
    }
  },
  "nbformat": 4,
  "nbformat_minor": 0
}