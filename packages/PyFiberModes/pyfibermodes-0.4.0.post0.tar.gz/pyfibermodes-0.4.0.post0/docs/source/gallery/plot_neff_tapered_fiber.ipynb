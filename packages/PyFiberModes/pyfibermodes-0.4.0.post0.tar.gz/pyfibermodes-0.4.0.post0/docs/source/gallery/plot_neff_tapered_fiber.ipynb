{
  "cells": [
    {
      "cell_type": "markdown",
      "metadata": {},
      "source": [
        "\n# Effective index for tapered multi-mode fiber\n"
      ]
    },
    {
      "cell_type": "markdown",
      "metadata": {},
      "source": [
        "## Imports\n\n"
      ]
    },
    {
      "cell_type": "code",
      "execution_count": null,
      "metadata": {
        "collapsed": false
      },
      "outputs": [],
      "source": [
        "import numpy\nfrom MPSPlots.render2D import SceneList\nfrom PyFiberModes.fiber import Fiber\nfrom PyFiberModes import LP01, LP11, LP21, LP02"
      ]
    },
    {
      "cell_type": "markdown",
      "metadata": {},
      "source": [
        "Computing the analytical values using FiberModes solver.\n\n"
      ]
    },
    {
      "cell_type": "code",
      "execution_count": null,
      "metadata": {
        "collapsed": false
      },
      "outputs": [],
      "source": [
        "def get_mode_beta(fiber, mode_list: list, itr_list: list) -> dict:\n    data_dict = {}\n    for mode in mode_list:\n        data_list = []\n        for j, itr in enumerate(itr_list):\n            _fiber = fiber.scale(factor=itr)\n            data = _fiber.get_effective_index(mode=mode)\n            data_list.append(data)\n\n        data_dict[mode.__repr__()] = numpy.asarray(data_list)\n\n    return data_dict"
      ]
    },
    {
      "cell_type": "markdown",
      "metadata": {},
      "source": [
        "Constructing fiber\n\n"
      ]
    },
    {
      "cell_type": "code",
      "execution_count": null,
      "metadata": {
        "collapsed": false
      },
      "outputs": [],
      "source": [
        "fiber = Fiber(wavelength=1550e-9)\nfiber.add_layer(name='core', radius=20e-6, index=1.4494)\nfiber.add_layer(name='clad', radius=62.5e-6, index=1.4444)\nfiber.initialize_layers()\n\nitr_list = numpy.linspace(1, 0.1, 50)\n\ndata_dict = get_mode_beta(\n    fiber=fiber,\n    mode_list=[LP01, LP11, LP21, LP02],\n    itr_list=itr_list\n)"
      ]
    },
    {
      "cell_type": "markdown",
      "metadata": {},
      "source": [
        "Preparing the figure\n\n"
      ]
    },
    {
      "cell_type": "code",
      "execution_count": null,
      "metadata": {
        "collapsed": false
      },
      "outputs": [],
      "source": [
        "figure = SceneList(unit_size=(12, 4))\n\nax = figure.append_ax(\n    x_label='Inverse taper ratio',\n    y_label='Effective index',\n    show_legend=True,\n    font_size=18,\n    tick_size=15,\n    legend_font_size=18\n)\n\n\nfor mode, data in data_dict.items():\n    ax.add_line(\n        x=itr_list,\n        y=data,\n        label=mode,\n        line_style='-',\n        line_width=2,\n        layer_position=1\n    )\n\n\n_ = figure.show()\n\n# -"
      ]
    }
  ],
  "metadata": {
    "kernelspec": {
      "display_name": "Python 3",
      "language": "python",
      "name": "python3"
    },
    "language_info": {
      "codemirror_mode": {
        "name": "ipython",
        "version": 3
      },
      "file_extension": ".py",
      "mimetype": "text/x-python",
      "name": "python",
      "nbconvert_exporter": "python",
      "pygments_lexer": "ipython3",
      "version": "3.11.0"
    }
  },
  "nbformat": 4,
  "nbformat_minor": 0
}