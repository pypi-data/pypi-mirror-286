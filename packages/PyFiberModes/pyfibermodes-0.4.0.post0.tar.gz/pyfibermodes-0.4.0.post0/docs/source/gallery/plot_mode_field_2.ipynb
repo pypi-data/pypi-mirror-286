{
  "cells": [
    {
      "cell_type": "markdown",
      "metadata": {},
      "source": [
        "\n# Mode fields\n"
      ]
    },
    {
      "cell_type": "markdown",
      "metadata": {},
      "source": [
        "## Imports\n\n"
      ]
    },
    {
      "cell_type": "code",
      "execution_count": null,
      "metadata": {
        "collapsed": false
      },
      "outputs": [],
      "source": [
        "import numpy\n\nfrom PyFiberModes import LP01, LP02, LP03\nfrom PyFiberModes.fiber import load_fiber\nfrom MPSPlots.render2D import SceneList"
      ]
    },
    {
      "cell_type": "markdown",
      "metadata": {},
      "source": [
        "## Generating the fiber structures\nHere we create the different fiber design that we want to explore\n\n"
      ]
    },
    {
      "cell_type": "code",
      "execution_count": null,
      "metadata": {
        "collapsed": false
      },
      "outputs": [],
      "source": [
        "fiber = load_fiber(fiber_name='SMF28', wavelength=1550e-9)\nfiber = fiber.scale(3.5)"
      ]
    },
    {
      "cell_type": "markdown",
      "metadata": {},
      "source": [
        "Preparing the figure\n\n"
      ]
    },
    {
      "cell_type": "code",
      "execution_count": null,
      "metadata": {
        "collapsed": false
      },
      "outputs": [],
      "source": [
        "radius_list = numpy.linspace(0, 2 * fiber.radius, 200)\n\n\nfigure = SceneList()\n\nax = figure.append_ax(show_legend=True, line_width=2)\n\nfor mode in [LP01, LP02, LP03]:\n    amplitudes = []\n    for radius in radius_list:\n        e_field, _ = fiber.get_radial_field(mode=mode, radius=radius)\n        amplitudes.append(e_field.rho)\n\n    amplitudes = numpy.asarray(amplitudes)\n    amplitudes /= numpy.sign(amplitudes[0])\n    ax.add_line(x=radius_list, y=amplitudes, label=str(mode))\n\n\nfigure.show()\n\n# -"
      ]
    }
  ],
  "metadata": {
    "kernelspec": {
      "display_name": "Python 3",
      "language": "python",
      "name": "python3"
    },
    "language_info": {
      "codemirror_mode": {
        "name": "ipython",
        "version": 3
      },
      "file_extension": ".py",
      "mimetype": "text/x-python",
      "name": "python",
      "nbconvert_exporter": "python",
      "pygments_lexer": "ipython3",
      "version": "3.11.0"
    }
  },
  "nbformat": 4,
  "nbformat_minor": 0
}