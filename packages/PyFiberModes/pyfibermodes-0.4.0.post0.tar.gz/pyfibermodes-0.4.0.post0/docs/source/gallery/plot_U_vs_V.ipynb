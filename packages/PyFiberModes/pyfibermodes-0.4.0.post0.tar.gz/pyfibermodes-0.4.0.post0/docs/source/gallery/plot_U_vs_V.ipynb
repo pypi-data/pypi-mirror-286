{
  "cells": [
    {
      "cell_type": "markdown",
      "metadata": {},
      "source": [
        "\n# Figure 3.13 of Jacques Bures\n"
      ]
    },
    {
      "cell_type": "markdown",
      "metadata": {},
      "source": [
        "## Imports\n\n"
      ]
    },
    {
      "cell_type": "code",
      "execution_count": null,
      "metadata": {
        "collapsed": false
      },
      "outputs": [],
      "source": [
        "import numpy\n\nfrom PyFiberModes.fiber import get_fiber_from_delta_and_V0\nfrom PyFiberModes import HE11, TE01, TM01, HE21, EH11, HE31, HE12, HE22, HE32\nfrom PyFiberModes.fundamentals import get_U_parameter\nfrom MPSPlots.render2D import SceneList\n\n\nfigure = SceneList(unit_size=(7, 5))\nax = figure.append_ax(\n    x_label='V number',\n    y_label='U number',\n    show_legend=True\n)\n\n\nV0_list = numpy.linspace(0.5, 12, 150)\n\nfor mode in [HE11, TE01, TM01, HE21, EH11, HE31, HE12, HE22, HE32]:\n    data_list = []\n    for V0 in V0_list:\n        fiber = get_fiber_from_delta_and_V0(\n            delta=0.3,\n            V0=V0,\n            wavelength=1310e-9\n        )\n\n        data = get_U_parameter(\n            fiber=fiber,\n            mode=mode,\n            wavelength=fiber.wavelength\n        )\n\n        data_list.append(data)\n\n    _ = ax.add_line(x=V0_list, y=data_list, label=str(mode), line_width=1.5)\n\n_ = ax.add_line(x=V0_list, y=V0_list, line_width=2, label='U = V')\n\n_ = figure.show()"
      ]
    }
  ],
  "metadata": {
    "kernelspec": {
      "display_name": "Python 3",
      "language": "python",
      "name": "python3"
    },
    "language_info": {
      "codemirror_mode": {
        "name": "ipython",
        "version": 3
      },
      "file_extension": ".py",
      "mimetype": "text/x-python",
      "name": "python",
      "nbconvert_exporter": "python",
      "pygments_lexer": "ipython3",
      "version": "3.11.0"
    }
  },
  "nbformat": 4,
  "nbformat_minor": 0
}