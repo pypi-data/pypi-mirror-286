{
  "cells": [
    {
      "cell_type": "markdown",
      "metadata": {},
      "source": [
        "\n# Modal dispersion VS core index\n"
      ]
    },
    {
      "cell_type": "markdown",
      "metadata": {},
      "source": [
        "## Imports\n\n"
      ]
    },
    {
      "cell_type": "code",
      "execution_count": null,
      "metadata": {
        "collapsed": false
      },
      "outputs": [],
      "source": [
        "from PyFiberModes import HE11, HE22, LP01, LP11, LP02, LP21, LP12, TE01, LP31, LP22, LP41\nfrom PyFiberModes.fiber import load_fiber"
      ]
    },
    {
      "cell_type": "markdown",
      "metadata": {},
      "source": [
        "## Generating the fiber structures\nHere we create the different fiber design that we want to explore\n\n"
      ]
    },
    {
      "cell_type": "code",
      "execution_count": null,
      "metadata": {
        "collapsed": false
      },
      "outputs": [],
      "source": [
        "smf28 = load_fiber(fiber_name='SMF28', wavelength=1310e-9)\n\n\nsmf28.print_data(\n    data_type_list=['mode_cutoff_wavelength', 'effective_index', 'dispersion'], \n    mode_list=[HE11, LP01, TE01, LP11, LP02, LP21, LP12, HE22, LP31, LP22, LP41]\n)\n\n\n# -"
      ]
    }
  ],
  "metadata": {
    "kernelspec": {
      "display_name": "Python 3",
      "language": "python",
      "name": "python3"
    },
    "language_info": {
      "codemirror_mode": {
        "name": "ipython",
        "version": 3
      },
      "file_extension": ".py",
      "mimetype": "text/x-python",
      "name": "python",
      "nbconvert_exporter": "python",
      "pygments_lexer": "ipython3",
      "version": "3.11.0"
    }
  },
  "nbformat": 4,
  "nbformat_minor": 0
}