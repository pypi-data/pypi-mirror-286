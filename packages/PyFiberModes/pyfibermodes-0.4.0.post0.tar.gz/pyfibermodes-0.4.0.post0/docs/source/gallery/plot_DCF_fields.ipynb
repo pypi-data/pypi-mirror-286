{
  "cells": [
    {
      "cell_type": "markdown",
      "metadata": {},
      "source": [
        "\n# Mode fields\n"
      ]
    },
    {
      "cell_type": "markdown",
      "metadata": {},
      "source": [
        "## Imports\n\n"
      ]
    },
    {
      "cell_type": "code",
      "execution_count": null,
      "metadata": {
        "collapsed": false
      },
      "outputs": [],
      "source": [
        "from PyFiberModes import HE11\nfrom PyFiberModes.fiber import load_fiber\nfrom PyFiberModes.field import Field\nfrom MPSPlots.render2D import SceneList"
      ]
    },
    {
      "cell_type": "markdown",
      "metadata": {},
      "source": [
        "## Loading the double clad fiber [DCF]\nHere we load a fiber from MPSTools library and define the wavelength\n\n"
      ]
    },
    {
      "cell_type": "code",
      "execution_count": null,
      "metadata": {
        "collapsed": false
      },
      "outputs": [],
      "source": [
        "fiber = load_fiber(fiber_name='DCF1300S_20', wavelength=1310e-9)"
      ]
    },
    {
      "cell_type": "markdown",
      "metadata": {},
      "source": [
        "Preparing the figure\n\n"
      ]
    },
    {
      "cell_type": "code",
      "execution_count": null,
      "metadata": {
        "collapsed": false
      },
      "outputs": [],
      "source": [
        "figure = SceneList(\n    title='Mode fields for vectorial mode if x-direction',\n    unit_size=(4, 4),\n    ax_orientation='horizontal'\n)\n\nfield = Field(\n    fiber=fiber,\n    mode=HE11,\n    limit=10e-6,\n    n_point=50\n)\n\n\nfigure = field.plot(plot_type=['Ex', 'Ey', 'Ez', 'Er', 'Ephi'])\n\nfigure.show()\n\n# -"
      ]
    }
  ],
  "metadata": {
    "kernelspec": {
      "display_name": "Python 3",
      "language": "python",
      "name": "python3"
    },
    "language_info": {
      "codemirror_mode": {
        "name": "ipython",
        "version": 3
      },
      "file_extension": ".py",
      "mimetype": "text/x-python",
      "name": "python",
      "nbconvert_exporter": "python",
      "pygments_lexer": "ipython3",
      "version": "3.11.0"
    }
  },
  "nbformat": 4,
  "nbformat_minor": 0
}