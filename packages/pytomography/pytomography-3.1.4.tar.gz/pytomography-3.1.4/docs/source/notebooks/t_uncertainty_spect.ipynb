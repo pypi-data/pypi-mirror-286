{
 "cells": [
  {
   "cell_type": "markdown",
   "id": "66912687",
   "metadata": {
    "papermill": {
     "duration": 0.005103,
     "end_time": "2024-06-24T19:08:02.683551",
     "exception": false,
     "start_time": "2024-06-24T19:08:02.678448",
     "status": "completed"
    },
    "tags": []
   },
   "source": [
    "# Uncertainty Estimation"
   ]
  },
  {
   "cell_type": "markdown",
   "id": "ed4cd800",
   "metadata": {
    "papermill": {
     "duration": 0.005032,
     "end_time": "2024-06-24T19:08:02.693061",
     "exception": false,
     "start_time": "2024-06-24T19:08:02.688029",
     "status": "completed"
    },
    "tags": []
   },
   "source": [
    "**Special thanks to Dr. Peyman Sheikhzadeh at the Tehran University Of Medical Science for providing this anonymized data**"
   ]
  },
  {
   "cell_type": "code",
   "execution_count": 1,
   "id": "7f9a8ba9",
   "metadata": {
    "execution": {
     "iopub.execute_input": "2024-06-24T19:08:02.703103Z",
     "iopub.status.busy": "2024-06-24T19:08:02.702527Z",
     "iopub.status.idle": "2024-06-24T19:08:05.374659Z",
     "shell.execute_reply": "2024-06-24T19:08:05.373999Z"
    },
    "papermill": {
     "duration": 2.678785,
     "end_time": "2024-06-24T19:08:05.376155",
     "exception": false,
     "start_time": "2024-06-24T19:08:02.697370",
     "status": "completed"
    },
    "tags": []
   },
   "outputs": [
    {
     "name": "stdout",
     "output_type": "stream",
     "text": [
      "\n",
      "          -  -  -  -  -  -  -  -   -  -  -  -\n",
      "          P  A  R  A  L  L  E  L | P  R  O  J\n",
      "          -  -  -  -  -  -  -  -   -  -  -  -\n",
      "\n",
      "    =================================================\n",
      "\n",
      "         Please consider citing our publication\n",
      "      ---------------------------------------------\n",
      "      Georg Schramm and Kris Thielemans:\n",
      "      \"PARALLELPROJ—an open-source framework for\n",
      "       fast calculation of projections in\n",
      "       tomography\"\n",
      "      Front. Nucl. Med., 08 January 2024\n",
      "      Sec. PET and SPECT, Vol 3\n",
      "      https://doi.org/10.3389/fnume.2023.1324562\n",
      "\n",
      "    =================================================\n",
      " \n",
      "    parallelproj C    lib: /data/anaconda/envs/pytomo_install_test/lib/libparallelproj_c.so.1.8.0\n",
      "    parallelproj CUDA lib: /data/anaconda/envs/pytomo_install_test/lib/libparallelproj_cuda.so.1.8.0\n",
      "    \n"
     ]
    }
   ],
   "source": [
    "import os\n",
    "import numpy as np\n",
    "from pytomography.io.SPECT import dicom\n",
    "from pytomography.transforms.SPECT import SPECTAttenuationTransform, SPECTPSFTransform\n",
    "from pytomography.algorithms import OSEM, PGAAMultiBedSPECT\n",
    "from pytomography.projectors.SPECT import SPECTSystemMatrix\n",
    "from pytomography.likelihoods import PoissonLogLikelihood\n",
    "from pytomography.utils import print_collimator_parameters\n",
    "import matplotlib.pyplot as plt\n",
    "import torch\n",
    "from rt_utils import RTStructBuilder\n",
    "from pytomography.callbacks import DataStorageCallback"
   ]
  },
  {
   "cell_type": "code",
   "execution_count": 2,
   "id": "8a2f4f0c",
   "metadata": {
    "execution": {
     "iopub.execute_input": "2024-06-24T19:08:05.386585Z",
     "iopub.status.busy": "2024-06-24T19:08:05.386075Z",
     "iopub.status.idle": "2024-06-24T19:08:05.389547Z",
     "shell.execute_reply": "2024-06-24T19:08:05.388932Z"
    },
    "papermill": {
     "duration": 0.010072,
     "end_time": "2024-06-24T19:08:05.390847",
     "exception": false,
     "start_time": "2024-06-24T19:08:05.380775",
     "status": "completed"
    },
    "tags": []
   },
   "outputs": [],
   "source": [
    "save_path = '/disk1/pytomography_tutorial_data'"
   ]
  },
  {
   "cell_type": "markdown",
   "id": "95aeb947",
   "metadata": {
    "papermill": {
     "duration": 0.004018,
     "end_time": "2024-06-24T19:08:05.398985",
     "exception": false,
     "start_time": "2024-06-24T19:08:05.394967",
     "status": "completed"
    },
    "tags": []
   },
   "source": [
    "The following code cell loads projection data and a corresponding CT file and creates a reconstruction algorithm; if you are unfamiliar with the code below or require more explanation, see that \"DICOM Data Introduction\" tutorial.\n",
    "* **The only difference is that we now get a variance estimate for the scatter in line 7 of the cell below, and then input that to the likelihood in line 22**\n",
    "* The collimator corresponding to this data is General Electric\n",
    "s medium energy general purpose collimator."
   ]
  },
  {
   "cell_type": "code",
   "execution_count": 3,
   "id": "78485fd2",
   "metadata": {
    "execution": {
     "iopub.execute_input": "2024-06-24T19:08:05.408416Z",
     "iopub.status.busy": "2024-06-24T19:08:05.408025Z",
     "iopub.status.idle": "2024-06-24T19:08:18.851419Z",
     "shell.execute_reply": "2024-06-24T19:08:18.850637Z"
    },
    "papermill": {
     "duration": 13.450042,
     "end_time": "2024-06-24T19:08:18.853184",
     "exception": false,
     "start_time": "2024-06-24T19:08:05.403142",
     "status": "completed"
    },
    "tags": []
   },
   "outputs": [
    {
     "name": "stdout",
     "output_type": "stream",
     "text": [
      "Given photopeak energy 208.0 keV and CT energy 120 keV from the CT DICOM header, the HU->mu conversion from the following configuration is used: 208.0 keV SPECT energy, 120 keV CT energy, and scanner model optimact540\n"
     ]
    }
   ],
   "source": [
    "file_NM = os.path.join(save_path, 'dicom_multibed_tutorial', 'bed2_projections.dcm')\n",
    "path_CT = os.path.join(save_path, 'dicom_multibed_tutorial', 'CT')\n",
    "files_CT = [os.path.join(path_CT, file) for file in os.listdir(path_CT)]\n",
    "object_meta, proj_meta = dicom.get_metadata(file_NM, index_peak=1)\n",
    "projections = dicom.get_projections(file_NM)\n",
    "photopeak = projections[1]\n",
    "scatter, scatter_variance_estimate = dicom.get_energy_window_scatter_estimate(file_NM, index_peak=1, index_lower=3, index_upper=2, return_scatter_variance_estimate=True)\n",
    "# Build system matrix\n",
    "attenuation_map = dicom.get_attenuation_map_from_CT_slices(files_CT, file_NM, index_peak=1)\n",
    "psf_meta = dicom.get_psfmeta_from_scanner_params('GI-MEGP', energy_keV=208)\n",
    "att_transform = SPECTAttenuationTransform(attenuation_map)\n",
    "psf_transform = SPECTPSFTransform(psf_meta)\n",
    "system_matrix = SPECTSystemMatrix(\n",
    "    obj2obj_transforms = [att_transform,psf_transform],\n",
    "    proj2proj_transforms = [],\n",
    "    object_meta = object_meta,\n",
    "    proj_meta = proj_meta)\n",
    "# Likelihood\n",
    "likelihood = PoissonLogLikelihood(system_matrix, photopeak, additive_term=scatter, additive_term_variance_estimate=scatter_variance_estimate)\n",
    "# Reconstruction algorithm\n",
    "recon_algorithm = OSEM(likelihood)"
   ]
  },
  {
   "cell_type": "markdown",
   "id": "bba6abcf",
   "metadata": {
    "papermill": {
     "duration": 0.004145,
     "end_time": "2024-06-24T19:08:18.862154",
     "exception": false,
     "start_time": "2024-06-24T19:08:18.858009",
     "status": "completed"
    },
    "tags": []
   },
   "source": [
    "Up to this point, we've created the reconstruction algorithm but we haven't performed reconstruction yet. If we plan on computing uncertainty in various VOIs, we are required to use the `DataStorageCallback` callback in the image reconstruction algorithm. This callback stores a copy of the reconstructed image at each iteration and subiteration: all this data is required when computing uncertainties later. It can be created as follows:"
   ]
  },
  {
   "cell_type": "code",
   "execution_count": 4,
   "id": "52b1fbba",
   "metadata": {
    "execution": {
     "iopub.execute_input": "2024-06-24T19:08:18.871779Z",
     "iopub.status.busy": "2024-06-24T19:08:18.871316Z",
     "iopub.status.idle": "2024-06-24T19:08:18.874961Z",
     "shell.execute_reply": "2024-06-24T19:08:18.874350Z"
    },
    "papermill": {
     "duration": 0.009878,
     "end_time": "2024-06-24T19:08:18.876269",
     "exception": false,
     "start_time": "2024-06-24T19:08:18.866391",
     "status": "completed"
    },
    "tags": []
   },
   "outputs": [],
   "source": [
    "data_storage_callback = DataStorageCallback(likelihood, torch.clone(recon_algorithm.object_prediction))"
   ]
  },
  {
   "cell_type": "markdown",
   "id": "c909c950",
   "metadata": {
    "papermill": {
     "duration": 0.004592,
     "end_time": "2024-06-24T19:08:18.885016",
     "exception": false,
     "start_time": "2024-06-24T19:08:18.880424",
     "status": "completed"
    },
    "tags": []
   },
   "source": [
    "Then we reconstruct using this callback:"
   ]
  },
  {
   "cell_type": "code",
   "execution_count": 5,
   "id": "f1d8655a",
   "metadata": {
    "execution": {
     "iopub.execute_input": "2024-06-24T19:08:18.894408Z",
     "iopub.status.busy": "2024-06-24T19:08:18.893924Z",
     "iopub.status.idle": "2024-06-24T19:08:23.321289Z",
     "shell.execute_reply": "2024-06-24T19:08:23.320573Z"
    },
    "papermill": {
     "duration": 4.433967,
     "end_time": "2024-06-24T19:08:23.323046",
     "exception": false,
     "start_time": "2024-06-24T19:08:18.889079",
     "status": "completed"
    },
    "tags": []
   },
   "outputs": [],
   "source": [
    "recon_OSEM = recon_algorithm(n_iters = 4, n_subsets = 8, callback=data_storage_callback)"
   ]
  },
  {
   "cell_type": "markdown",
   "id": "cf807646",
   "metadata": {
    "papermill": {
     "duration": 0.004105,
     "end_time": "2024-06-24T19:08:23.331938",
     "exception": false,
     "start_time": "2024-06-24T19:08:23.327833",
     "status": "completed"
    },
    "tags": []
   },
   "source": [
    "Here's a coronal maximum intensity projection of the reconstruction"
   ]
  },
  {
   "cell_type": "code",
   "execution_count": 6,
   "id": "c755d491",
   "metadata": {
    "execution": {
     "iopub.execute_input": "2024-06-24T19:08:23.341407Z",
     "iopub.status.busy": "2024-06-24T19:08:23.341010Z",
     "iopub.status.idle": "2024-06-24T19:08:23.347967Z",
     "shell.execute_reply": "2024-06-24T19:08:23.347394Z"
    },
    "papermill": {
     "duration": 0.013168,
     "end_time": "2024-06-24T19:08:23.349232",
     "exception": false,
     "start_time": "2024-06-24T19:08:23.336064",
     "status": "completed"
    },
    "tags": []
   },
   "outputs": [],
   "source": [
    "maximum_intensity_projection = recon_OSEM.max(axis=1)[0].cpu()"
   ]
  },
  {
   "cell_type": "code",
   "execution_count": 7,
   "id": "c1aea5dd",
   "metadata": {
    "execution": {
     "iopub.execute_input": "2024-06-24T19:08:23.358764Z",
     "iopub.status.busy": "2024-06-24T19:08:23.358394Z",
     "iopub.status.idle": "2024-06-24T19:08:23.409242Z",
     "shell.execute_reply": "2024-06-24T19:08:23.408609Z"
    },
    "papermill": {
     "duration": 0.057064,
     "end_time": "2024-06-24T19:08:23.410644",
     "exception": false,
     "start_time": "2024-06-24T19:08:23.353580",
     "status": "completed"
    },
    "tags": []
   },
   "outputs": [
    {
     "data": {
      "image/png": "[encoded data removed]",
      "text/plain": [
       "<Figure size 400x400 with 1 Axes>"
      ]
     },
     "metadata": {},
     "output_type": "display_data"
    }
   ],
   "source": [
    "plt.figure(figsize=(4,4))\n",
    "plt.pcolormesh(maximum_intensity_projection.T, cmap='Greys', vmax=4)\n",
    "plt.axis('off')\n",
    "plt.show()"
   ]
  },
  {
   "cell_type": "markdown",
   "id": "2172e650",
   "metadata": {
    "papermill": {
     "duration": 0.004555,
     "end_time": "2024-06-24T19:08:23.419992",
     "exception": false,
     "start_time": "2024-06-24T19:08:23.415437",
     "status": "completed"
    },
    "tags": []
   },
   "source": [
    "Suppose we want to estimate the uncertainty in activity in one of the kidneys. Let's obtain it from an RTStruct file containing segmentations of all the organs. (The cell below is not required for this, but it will allow us to determine the mask names contained in the RTStruct file):"
   ]
  },
  {
   "cell_type": "code",
   "execution_count": 8,
   "id": "110fa625",
   "metadata": {
    "execution": {
     "iopub.execute_input": "2024-06-24T19:08:23.429976Z",
     "iopub.status.busy": "2024-06-24T19:08:23.429575Z",
     "iopub.status.idle": "2024-06-24T19:08:24.687914Z",
     "shell.execute_reply": "2024-06-24T19:08:24.687256Z"
    },
    "papermill": {
     "duration": 1.264872,
     "end_time": "2024-06-24T19:08:24.689369",
     "exception": false,
     "start_time": "2024-06-24T19:08:23.424497",
     "status": "completed"
    },
    "tags": []
   },
   "outputs": [
    {
     "name": "stdout",
     "output_type": "stream",
     "text": [
      "['spleen', 'kidney_right', 'kidney_left', 'gallbladder', 'liver', 'stomach', 'pancreas', 'adrenal_gland_right', 'adrenal_gland_left', 'lung_upper_lobe_left', 'lung_lower_lobe_left', 'lung_upper_lobe_right', 'lung_middle_lobe_right', 'lung_lower_lobe_right', 'esophagus', 'trachea', 'thyroid_gland', 'small_bowel', 'duodenum', 'colon', 'urinary_bladder', 'sacrum', 'vertebrae_S1', 'vertebrae_L5', 'vertebrae_L4', 'vertebrae_L3', 'vertebrae_L2', 'vertebrae_L1', 'vertebrae_T12', 'vertebrae_T11', 'vertebrae_T10', 'vertebrae_T9', 'vertebrae_T8', 'vertebrae_T7', 'vertebrae_T6', 'vertebrae_T5', 'vertebrae_T4', 'vertebrae_T3', 'vertebrae_T2', 'vertebrae_T1', 'vertebrae_C7', 'vertebrae_C6', 'vertebrae_C5', 'vertebrae_C4', 'vertebrae_C3', 'vertebrae_C2', 'vertebrae_C1', 'heart', 'aorta', 'pulmonary_vein', 'brachiocephalic_trunk', 'subclavian_artery_right', 'subclavian_artery_left', 'common_carotid_artery_right', 'common_carotid_artery_left', 'brachiocephalic_vein_left', 'brachiocephalic_vein_right', 'atrial_appendage_left', 'superior_vena_cava', 'inferior_vena_cava', 'portal_vein_and_splenic_vein', 'iliac_artery_left', 'iliac_artery_right', 'iliac_vena_left', 'iliac_vena_right', 'humerus_left', 'humerus_right', 'scapula_left', 'scapula_right', 'clavicula_left', 'clavicula_right', 'femur_right', 'hip_left', 'hip_right', 'spinal_cord', 'gluteus_maximus_left', 'gluteus_maximus_right', 'gluteus_medius_left', 'gluteus_medius_right', 'gluteus_minimus_left', 'gluteus_minimus_right', 'autochthon_left', 'autochthon_right', 'iliopsoas_left', 'iliopsoas_right', 'brain', 'skull', 'rib_right_4', 'rib_right_3', 'rib_left_1', 'rib_left_2', 'rib_left_3', 'rib_left_4', 'rib_left_5', 'rib_left_6', 'rib_left_7', 'rib_left_8', 'rib_left_9', 'rib_left_10', 'rib_left_11', 'rib_left_12', 'rib_right_1', 'rib_right_2', 'rib_right_5', 'rib_right_6', 'rib_right_7', 'rib_right_8', 'rib_right_9', 'rib_right_10', 'rib_right_11', 'rib_right_12', 'sternum', 'costal_cartilages']\n"
     ]
    }
   ],
   "source": [
    "file_RT = os.path.join(save_path, 'dicom_multibed_tutorial', 'segmentations.dcm')\n",
    "rtstruct = RTStructBuilder.create_from(\n",
    "        dicom_series_path=path_CT, \n",
    "        rt_struct_path=file_RT\n",
    "    )\n",
    "print(rtstruct.get_roi_names())"
   ]
  },
  {
   "cell_type": "markdown",
   "id": "d24b1f29",
   "metadata": {
    "papermill": {
     "duration": 0.004446,
     "end_time": "2024-06-24T19:08:24.699017",
     "exception": false,
     "start_time": "2024-06-24T19:08:24.694571",
     "status": "completed"
    },
    "tags": []
   },
   "source": [
    "We can see the `'kidney_right'` is listed as one of the available masks. We can obtain this mask as follows:\n",
    "* `file_RT` is the path to the RTStruct file\n",
    "* `file_NM` is the path the the SPECT projection data; this is required for aligning the mask\n",
    "* `dicom_series_path` is the reference DICOM path of the RTStruct\n",
    "* `rt_struct_name` is the name of the RTStruct we wish to open"
   ]
  },
  {
   "cell_type": "code",
   "execution_count": 9,
   "id": "c37bc5b6",
   "metadata": {
    "execution": {
     "iopub.execute_input": "2024-06-24T19:08:24.709181Z",
     "iopub.status.busy": "2024-06-24T19:08:24.708794Z",
     "iopub.status.idle": "2024-06-24T19:08:24.713163Z",
     "shell.execute_reply": "2024-06-24T19:08:24.712616Z"
    },
    "papermill": {
     "duration": 0.010867,
     "end_time": "2024-06-24T19:08:24.714404",
     "exception": false,
     "start_time": "2024-06-24T19:08:24.703537",
     "status": "completed"
    },
    "tags": []
   },
   "outputs": [
    {
     "data": {
      "text/plain": [
       "'/disk1/pytomography_tutorial_data/dicom_multibed_tutorial/bed2_projections.dcm'"
      ]
     },
     "execution_count": 9,
     "metadata": {},
     "output_type": "execute_result"
    }
   ],
   "source": [
    "file_NM"
   ]
  },
  {
   "cell_type": "code",
   "execution_count": 10,
   "id": "57027624",
   "metadata": {
    "execution": {
     "iopub.execute_input": "2024-06-24T19:08:24.727611Z",
     "iopub.status.busy": "2024-06-24T19:08:24.727115Z",
     "iopub.status.idle": "2024-06-24T19:08:27.857939Z",
     "shell.execute_reply": "2024-06-24T19:08:27.857204Z"
    },
    "papermill": {
     "duration": 3.137824,
     "end_time": "2024-06-24T19:08:27.859697",
     "exception": false,
     "start_time": "2024-06-24T19:08:24.721873",
     "status": "completed"
    },
    "tags": []
   },
   "outputs": [],
   "source": [
    "mask_name = 'kidney_left'\n",
    "kidney_mask = dicom.get_aligned_rtstruct(\n",
    "    file_RT = file_RT,\n",
    "    file_NM = file_NM,\n",
    "    dicom_series_path = path_CT,\n",
    "    rt_struct_name = mask_name\n",
    ")"
   ]
  },
  {
   "cell_type": "markdown",
   "id": "24bf9411",
   "metadata": {
    "papermill": {
     "duration": 0.004768,
     "end_time": "2024-06-24T19:08:27.869791",
     "exception": false,
     "start_time": "2024-06-24T19:08:27.865023",
     "status": "completed"
    },
    "tags": []
   },
   "source": [
    "We can compute the relative and absolute uncertainty corresponding to counts in this region using the `compute_uncertainty` function of the reconstruction algorithm. We also need to pass in the `DataStorageCallback` which contains every iterative update to the objects."
   ]
  },
  {
   "cell_type": "code",
   "execution_count": 11,
   "id": "7b6a3bf1",
   "metadata": {
    "execution": {
     "iopub.execute_input": "2024-06-24T19:08:27.881263Z",
     "iopub.status.busy": "2024-06-24T19:08:27.880851Z",
     "iopub.status.idle": "2024-06-24T19:08:33.695908Z",
     "shell.execute_reply": "2024-06-24T19:08:33.695284Z"
    },
    "papermill": {
     "duration": 5.821852,
     "end_time": "2024-06-24T19:08:33.697218",
     "exception": false,
     "start_time": "2024-06-24T19:08:27.875366",
     "status": "completed"
    },
    "tags": []
   },
   "outputs": [
    {
     "name": "stdout",
     "output_type": "stream",
     "text": [
      "Estimated uncertainty in kidney_left: 0.94%\n"
     ]
    }
   ],
   "source": [
    "uncertainty_abs, uncertainty_pct = recon_algorithm.compute_uncertainty(\n",
    "    mask = kidney_mask,\n",
    "    data_storage_callback = data_storage_callback,\n",
    "    return_pct = True,\n",
    "    include_additive_term=True # must have additive_term_variance_estimate in likelihood\n",
    ")\n",
    "print(f'Estimated uncertainty in {mask_name}: {uncertainty_pct:.2f}%')"
   ]
  },
  {
   "cell_type": "markdown",
   "id": "599e77ba",
   "metadata": {
    "papermill": {
     "duration": 0.004968,
     "end_time": "2024-06-24T19:08:33.707558",
     "exception": false,
     "start_time": "2024-06-24T19:08:33.702590",
     "status": "completed"
    },
    "tags": []
   },
   "source": [
    "This can be repeated for any of the masks above! In addition, you can play around the with iterations, subsets (or even try different reconstruction algorithms) and see how it effects the estimated uncertainty."
   ]
  },
  {
   "cell_type": "markdown",
   "id": "5ee0ac2c",
   "metadata": {
    "papermill": {
     "duration": 0.004766,
     "end_time": "2024-06-24T19:08:33.716951",
     "exception": false,
     "start_time": "2024-06-24T19:08:33.712185",
     "status": "completed"
    },
    "tags": []
   },
   "source": [
    "## Multiple Bed Positions"
   ]
  },
  {
   "cell_type": "markdown",
   "id": "3905d686",
   "metadata": {
    "papermill": {
     "duration": 0.00485,
     "end_time": "2024-06-24T19:08:33.726444",
     "exception": false,
     "start_time": "2024-06-24T19:08:33.721594",
     "status": "completed"
    },
    "tags": []
   },
   "source": [
    "PyTomography is also capable of uncertainty estimation in masks that are contained in two seperate bed positions. This uncertainty estimation takes into account the stitching weights between two different bed positions (if the mask is near the edge) when computing the organ variance in each seperate region.\n",
    "\n",
    "* The code below is a summary of the multibed position tutorial, except that we now include a DataStorageCallback for each bed position"
   ]
  },
  {
   "cell_type": "code",
   "execution_count": 12,
   "id": "1295937e",
   "metadata": {
    "execution": {
     "iopub.execute_input": "2024-06-24T19:08:33.737188Z",
     "iopub.status.busy": "2024-06-24T19:08:33.736770Z",
     "iopub.status.idle": "2024-06-24T19:08:33.824615Z",
     "shell.execute_reply": "2024-06-24T19:08:33.823931Z"
    },
    "papermill": {
     "duration": 0.095204,
     "end_time": "2024-06-24T19:08:33.826364",
     "exception": false,
     "start_time": "2024-06-24T19:08:33.731160",
     "status": "completed"
    },
    "tags": []
   },
   "outputs": [],
   "source": [
    "files_NM = [\n",
    "    os.path.join(save_path, 'dicom_multibed_tutorial', 'bed1_projections.dcm'),\n",
    "    os.path.join(save_path, 'dicom_multibed_tutorial', 'bed2_projections.dcm'),\n",
    "]\n",
    "path_CT = os.path.join(save_path, 'dicom_multibed_tutorial', 'CT')\n",
    "files_CT = [os.path.join(path_CT, file) for file in os.listdir(path_CT)]\n",
    "\n",
    "projectionss = dicom.load_multibed_projections(files_NM)\n",
    "\n",
    "\n",
    "def initialize_reconstruction_algorithm_singlebed(i):\n",
    "    # Change these depending on your file:\n",
    "    index_peak = 1\n",
    "    index_lower = 3\n",
    "    index_upper = 2\n",
    "    projections = projectionss[i]\n",
    "    file_NM = files_NM[i]\n",
    "    object_meta, proj_meta = dicom.get_metadata(file_NM, index_peak=index_peak)\n",
    "    photopeak = projections[index_peak]\n",
    "    scatter = dicom.get_energy_window_scatter_estimate_projections(file_NM, projections, index_peak, index_lower, index_upper)\n",
    "    # Build system matrix\n",
    "    attenuation_map = dicom.get_attenuation_map_from_CT_slices(files_CT, file_NM, index_peak=index_peak)\n",
    "    psf_meta = dicom.get_psfmeta_from_scanner_params('GI-MEGP', energy_keV=208)\n",
    "    att_transform = SPECTAttenuationTransform(attenuation_map)\n",
    "    psf_transform = SPECTPSFTransform(psf_meta)\n",
    "    # Create system matrix\n",
    "    system_matrix = SPECTSystemMatrix(\n",
    "        obj2obj_transforms = [att_transform,psf_transform],\n",
    "        proj2proj_transforms= [],\n",
    "        object_meta = object_meta,\n",
    "        proj_meta = proj_meta)\n",
    "    likelihood = PoissonLogLikelihood(system_matrix, photopeak, additive_term=scatter)\n",
    "    reconstruction_algorithm = OSEM(likelihood)\n",
    "    # Return only the reconstruction algorithm initialization (not calling it for any iterations/subsets yet)\n",
    "    return reconstruction_algorithm"
   ]
  },
  {
   "cell_type": "markdown",
   "id": "df6e1284",
   "metadata": {
    "papermill": {
     "duration": 0.005053,
     "end_time": "2024-06-24T19:08:33.836780",
     "exception": false,
     "start_time": "2024-06-24T19:08:33.831727",
     "status": "completed"
    },
    "tags": []
   },
   "source": [
    "In order to compute uncertainty, we need to use the `PGAAMultiBedWrapper` reconstruction algorithm, which takes in multiple initialized reconstruction algorithms for each bed position (this class can also be used to reconstruct multiple bed positions without uncertainty as well)"
   ]
  },
  {
   "cell_type": "code",
   "execution_count": 13,
   "id": "eb4626f9",
   "metadata": {
    "execution": {
     "iopub.execute_input": "2024-06-24T19:08:33.847564Z",
     "iopub.status.busy": "2024-06-24T19:08:33.847130Z",
     "iopub.status.idle": "2024-06-24T19:09:06.783950Z",
     "shell.execute_reply": "2024-06-24T19:09:06.783282Z"
    },
    "papermill": {
     "duration": 32.944214,
     "end_time": "2024-06-24T19:09:06.785691",
     "exception": false,
     "start_time": "2024-06-24T19:08:33.841477",
     "status": "completed"
    },
    "tags": []
   },
   "outputs": [
    {
     "name": "stdout",
     "output_type": "stream",
     "text": [
      "Given photopeak energy 208.0 keV and CT energy 120 keV from the CT DICOM header, the HU->mu conversion from the following configuration is used: 208.0 keV SPECT energy, 120 keV CT energy, and scanner model optimact540\n"
     ]
    },
    {
     "name": "stdout",
     "output_type": "stream",
     "text": [
      "Given photopeak energy 208.0 keV and CT energy 120 keV from the CT DICOM header, the HU->mu conversion from the following configuration is used: 208.0 keV SPECT energy, 120 keV CT energy, and scanner model optimact540\n"
     ]
    }
   ],
   "source": [
    "recon_algo_upper = initialize_reconstruction_algorithm_singlebed(0)\n",
    "recon_algo_lower  = initialize_reconstruction_algorithm_singlebed(1)\n",
    "recon_algo = PGAAMultiBedSPECT(files_NM, [recon_algo_upper, recon_algo_lower])\n",
    "# Initialize callback for each bed position\n",
    "callbacks = [DataStorageCallback(r.likelihood, r.object_prediction) for r in recon_algo.reconstruction_algorithms]\n",
    "reconstructed_image_multibed = recon_algo(4, 8, callback=callbacks)"
   ]
  },
  {
   "cell_type": "markdown",
   "id": "62f60190",
   "metadata": {
    "papermill": {
     "duration": 0.004735,
     "end_time": "2024-06-24T19:09:06.796025",
     "exception": false,
     "start_time": "2024-06-24T19:09:06.791290",
     "status": "completed"
    },
    "tags": []
   },
   "source": [
    "Lets plot the reconstruction (note how the liver overlaps two different bed positions, since it spans the center of the image)"
   ]
  },
  {
   "cell_type": "code",
   "execution_count": 14,
   "id": "95fbefff",
   "metadata": {
    "execution": {
     "iopub.execute_input": "2024-06-24T19:09:06.807197Z",
     "iopub.status.busy": "2024-06-24T19:09:06.806811Z",
     "iopub.status.idle": "2024-06-24T19:09:06.851718Z",
     "shell.execute_reply": "2024-06-24T19:09:06.851127Z"
    },
    "papermill": {
     "duration": 0.052148,
     "end_time": "2024-06-24T19:09:06.853072",
     "exception": false,
     "start_time": "2024-06-24T19:09:06.800924",
     "status": "completed"
    },
    "tags": []
   },
   "outputs": [
    {
     "data": {
      "image/png": "[encoded data removed]",
      "text/plain": [
       "<Figure size 300x500 with 1 Axes>"
      ]
     },
     "metadata": {},
     "output_type": "display_data"
    }
   ],
   "source": [
    "maximum_intensity_projection = reconstructed_image_multibed.max(axis=1)[0].cpu()\n",
    "plt.figure(figsize=(3,5))\n",
    "plt.pcolormesh(maximum_intensity_projection.T, cmap='Greys', vmax=5)\n",
    "plt.axis('off')\n",
    "plt.show()"
   ]
  },
  {
   "cell_type": "markdown",
   "id": "b5f8ee25",
   "metadata": {
    "papermill": {
     "duration": 0.005504,
     "end_time": "2024-06-24T19:09:06.864222",
     "exception": false,
     "start_time": "2024-06-24T19:09:06.858718",
     "status": "completed"
    },
    "tags": []
   },
   "source": [
    "When we obtain the organ mask, we need to \n",
    "1. Specify the shape as the shape of the reconstructed image (not the batch dimension, so we use `[1:]`)\n",
    "2. Specify the `file_NM` in the most superior bed position"
   ]
  },
  {
   "cell_type": "code",
   "execution_count": 15,
   "id": "e11f80b8",
   "metadata": {
    "execution": {
     "iopub.execute_input": "2024-06-24T19:09:06.876413Z",
     "iopub.status.busy": "2024-06-24T19:09:06.876007Z",
     "iopub.status.idle": "2024-06-24T19:09:10.159828Z",
     "shell.execute_reply": "2024-06-24T19:09:10.159121Z"
    },
    "papermill": {
     "duration": 3.291742,
     "end_time": "2024-06-24T19:09:10.161535",
     "exception": false,
     "start_time": "2024-06-24T19:09:06.869793",
     "status": "completed"
    },
    "tags": []
   },
   "outputs": [],
   "source": [
    "mask_name = 'liver'\n",
    "liver_mask = dicom.get_aligned_rtstruct(\n",
    "    file_RT = file_RT,\n",
    "    file_NM = files_NM[0],\n",
    "    dicom_series_path = path_CT,\n",
    "    rt_struct_name = mask_name,\n",
    "    shape=reconstructed_image_multibed.shape\n",
    ")"
   ]
  },
  {
   "cell_type": "markdown",
   "id": "6df93d50",
   "metadata": {
    "papermill": {
     "duration": 0.005575,
     "end_time": "2024-06-24T19:09:10.173310",
     "exception": false,
     "start_time": "2024-06-24T19:09:10.167735",
     "status": "completed"
    },
    "tags": []
   },
   "source": [
    "Now we can compute the uncertainty in the liver, which spans both bed positions"
   ]
  },
  {
   "cell_type": "code",
   "execution_count": 16,
   "id": "1f5732f4",
   "metadata": {
    "execution": {
     "iopub.execute_input": "2024-06-24T19:09:10.185569Z",
     "iopub.status.busy": "2024-06-24T19:09:10.184999Z",
     "iopub.status.idle": "2024-06-24T19:09:14.707209Z",
     "shell.execute_reply": "2024-06-24T19:09:14.706529Z"
    },
    "papermill": {
     "duration": 4.530854,
     "end_time": "2024-06-24T19:09:14.709591",
     "exception": false,
     "start_time": "2024-06-24T19:09:10.178737",
     "status": "completed"
    },
    "tags": []
   },
   "outputs": [],
   "source": [
    "uncertainty_abs, uncertainty_pct = recon_algo.compute_uncertainty(liver_mask, callbacks, return_pct=True)"
   ]
  },
  {
   "cell_type": "code",
   "execution_count": 17,
   "id": "1b8b9ae0",
   "metadata": {
    "execution": {
     "iopub.execute_input": "2024-06-24T19:09:14.722554Z",
     "iopub.status.busy": "2024-06-24T19:09:14.722023Z",
     "iopub.status.idle": "2024-06-24T19:09:14.725618Z",
     "shell.execute_reply": "2024-06-24T19:09:14.725027Z"
    },
    "papermill": {
     "duration": 0.011002,
     "end_time": "2024-06-24T19:09:14.726837",
     "exception": false,
     "start_time": "2024-06-24T19:09:14.715835",
     "status": "completed"
    },
    "tags": []
   },
   "outputs": [
    {
     "name": "stdout",
     "output_type": "stream",
     "text": [
      "Estimated uncertainty in liver: 1.56%\n"
     ]
    }
   ],
   "source": [
    "print(f'Estimated uncertainty in {mask_name}: {uncertainty_pct:.2f}%')"
   ]
  }
 ],
 "metadata": {
  "kernelspec": {
   "display_name": "pytomo_install_test",
   "language": "python",
   "name": "python3"
  },
  "language_info": {
   "codemirror_mode": {
    "name": "ipython",
    "version": 3
   },
   "file_extension": ".py",
   "mimetype": "text/x-python",
   "name": "python",
   "nbconvert_exporter": "python",
   "pygments_lexer": "ipython3",
   "version": "3.11.6"
  },
  "papermill": {
   "default_parameters": {},
   "duration": 74.204502,
   "end_time": "2024-06-24T19:09:15.952301",
   "environment_variables": {},
   "exception": null,
   "input_path": "t_uncertainty_spect.ipynb",
   "output_path": "t_uncertainty_spect.ipynb",
   "parameters": {},
   "start_time": "2024-06-24T19:08:01.747799",
   "version": "2.6.0"
  }
 },
 "nbformat": 4,
 "nbformat_minor": 5
}