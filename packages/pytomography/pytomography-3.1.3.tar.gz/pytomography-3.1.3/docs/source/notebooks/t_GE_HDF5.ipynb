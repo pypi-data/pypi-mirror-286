{
 "cells": [
  {
   "cell_type": "markdown",
   "id": "71990519",
   "metadata": {
    "papermill": {
     "duration": 0.003405,
     "end_time": "2024-06-24T22:36:13.020572",
     "exception": false,
     "start_time": "2024-06-24T22:36:13.017167",
     "status": "completed"
    },
    "tags": []
   },
   "source": [
    "# GE Discovery MI (Listmode Reconstruction; With Time of Flight)"
   ]
  },
  {
   "cell_type": "markdown",
   "id": "7c513fdf",
   "metadata": {
    "papermill": {
     "duration": 0.002433,
     "end_time": "2024-06-24T22:36:13.025815",
     "exception": false,
     "start_time": "2024-06-24T22:36:13.023382",
     "status": "completed"
    },
    "tags": []
   },
   "source": [
    "This tutorial demonstrates how to reconstruct data listmode data in HDF5 data obtain from GE scanners. In this tutorial, we'll reconstruct using time-of-flight listmode. The data can be obtained from https://zenodo.org/records/8404015"
   ]
  },
  {
   "cell_type": "code",
   "execution_count": 1,
   "id": "ea48e0e5",
   "metadata": {
    "execution": {
     "iopub.execute_input": "2024-06-24T22:36:13.033443Z",
     "iopub.status.busy": "2024-06-24T22:36:13.032942Z",
     "iopub.status.idle": "2024-06-24T22:36:16.045514Z",
     "shell.execute_reply": "2024-06-24T22:36:16.044846Z"
    },
    "papermill": {
     "duration": 3.019058,
     "end_time": "2024-06-24T22:36:16.047281",
     "exception": false,
     "start_time": "2024-06-24T22:36:13.028223",
     "status": "completed"
    },
    "tags": []
   },
   "outputs": [
    {
     "name": "stdout",
     "output_type": "stream",
     "text": [
      "\n",
      "          -  -  -  -  -  -  -  -   -  -  -  -\n",
      "          P  A  R  A  L  L  E  L | P  R  O  J\n",
      "          -  -  -  -  -  -  -  -   -  -  -  -\n",
      "\n",
      "    =================================================\n",
      "\n",
      "         Please consider citing our publication\n",
      "      ---------------------------------------------\n",
      "      Georg Schramm and Kris Thielemans:\n",
      "      \"PARALLELPROJ—an open-source framework for\n",
      "       fast calculation of projections in\n",
      "       tomography\"\n",
      "      Front. Nucl. Med., 08 January 2024\n",
      "      Sec. PET and SPECT, Vol 3\n",
      "      https://doi.org/10.3389/fnume.2023.1324562\n",
      "\n",
      "    =================================================\n",
      " \n",
      "    parallelproj C    lib: /data/anaconda/envs/pytomo_install_test/lib/libparallelproj_c.so.1.8.0\n",
      "    parallelproj CUDA lib: /data/anaconda/envs/pytomo_install_test/lib/libparallelproj_cuda.so.1.8.0\n",
      "    \n"
     ]
    }
   ],
   "source": [
    "from pytomography.metadata import ObjectMeta\n",
    "from pytomography.metadata.PET import PETLMProjMeta\n",
    "from pytomography.projectors.PET import PETLMSystemMatrix\n",
    "from pytomography.algorithms import OSEM, BSREM\n",
    "from pytomography.priors import RelativeDifferencePrior\n",
    "from pytomography.likelihoods import PoissonLogLikelihood\n",
    "from pytomography.transforms.shared import GaussianFilter\n",
    "import matplotlib.pyplot as plt\n",
    "from pytomography.io.PET import clinical"
   ]
  },
  {
   "cell_type": "markdown",
   "id": "fc81208e",
   "metadata": {
    "papermill": {
     "duration": 0.002615,
     "end_time": "2024-06-24T22:36:16.052967",
     "exception": false,
     "start_time": "2024-06-24T22:36:16.050352",
     "status": "completed"
    },
    "tags": []
   },
   "source": [
    "We first need to get the required PET geometry information dictionary from the scanner name. Currently, we only support `discovery_MI`, but feel free to make a commit to support other scanners (add to the `src/data/pet_scanner_info.txt` file)"
   ]
  },
  {
   "cell_type": "code",
   "execution_count": 2,
   "id": "b9b22ab3",
   "metadata": {
    "execution": {
     "iopub.execute_input": "2024-06-24T22:36:16.059579Z",
     "iopub.status.busy": "2024-06-24T22:36:16.059032Z",
     "iopub.status.idle": "2024-06-24T22:36:16.076641Z",
     "shell.execute_reply": "2024-06-24T22:36:16.076067Z"
    },
    "papermill": {
     "duration": 0.022433,
     "end_time": "2024-06-24T22:36:16.077970",
     "exception": false,
     "start_time": "2024-06-24T22:36:16.055537",
     "status": "completed"
    },
    "tags": []
   },
   "outputs": [],
   "source": [
    "scanner_name = 'discovery_MI'\n",
    "info = clinical.get_detector_info(scanner_name)"
   ]
  },
  {
   "cell_type": "markdown",
   "id": "fc6ba139",
   "metadata": {
    "papermill": {
     "duration": 0.002626,
     "end_time": "2024-06-24T22:36:16.083166",
     "exception": false,
     "start_time": "2024-06-24T22:36:16.080540",
     "status": "completed"
    },
    "tags": []
   },
   "source": [
    "Now we obtain the required data from the listmode files."
   ]
  },
  {
   "cell_type": "code",
   "execution_count": 3,
   "id": "2d2bd0c3",
   "metadata": {
    "execution": {
     "iopub.execute_input": "2024-06-24T22:36:16.089580Z",
     "iopub.status.busy": "2024-06-24T22:36:16.089091Z",
     "iopub.status.idle": "2024-06-24T22:36:49.231843Z",
     "shell.execute_reply": "2024-06-24T22:36:49.231158Z"
    },
    "papermill": {
     "duration": 33.147869,
     "end_time": "2024-06-24T22:36:49.233579",
     "exception": false,
     "start_time": "2024-06-24T22:36:16.085710",
     "status": "completed"
    },
    "tags": []
   },
   "outputs": [],
   "source": [
    "# Get listmode events\n",
    "detector_ids = clinical.get_detector_ids_hdf5('/disk1/ge_discovery_tof_mi_pet/dmi_nema_lm/LIST0000.BLF', scanner_name)\n",
    "# Get scatter/random correction term at each event\n",
    "additive_term = clinical.get_additive_term_hdf5('/disk1/ge_discovery_tof_mi_pet/dmi_nema_lm/corrections.h5')\n",
    "# Get multiplicative weights (attenuation/normalization) at each event\n",
    "weights = clinical.get_weights_hdf5('/disk1/ge_discovery_tof_mi_pet/dmi_nema_lm/corrections.h5')\n",
    "# Get ALL valid detector-pairs and corresponding multiplicative weights\n",
    "detector_ids_sensitivity, weights_sensitivity = clinical.get_sensitivity_ids_and_weights_hdf5('/disk1/ge_discovery_tof_mi_pet/dmi_nema_lm/corrections.h5', scanner_name)"
   ]
  },
  {
   "cell_type": "code",
   "execution_count": 4,
   "id": "436c4ed0",
   "metadata": {
    "execution": {
     "iopub.execute_input": "2024-06-24T22:36:49.240834Z",
     "iopub.status.busy": "2024-06-24T22:36:49.240440Z",
     "iopub.status.idle": "2024-06-24T22:36:49.250805Z",
     "shell.execute_reply": "2024-06-24T22:36:49.250244Z"
    },
    "papermill": {
     "duration": 0.015284,
     "end_time": "2024-06-24T22:36:49.252045",
     "exception": false,
     "start_time": "2024-06-24T22:36:49.236761",
     "status": "completed"
    },
    "tags": []
   },
   "outputs": [
    {
     "data": {
      "text/plain": [
       "tensor([0.0125, 0.0170, 0.0246,  ..., 0.0379, 0.0363, 0.0026])"
      ]
     },
     "execution_count": 4,
     "metadata": {},
     "output_type": "execute_result"
    }
   ],
   "source": [
    "additive_term"
   ]
  },
  {
   "cell_type": "code",
   "execution_count": 5,
   "id": "1a4013d9",
   "metadata": {
    "execution": {
     "iopub.execute_input": "2024-06-24T22:36:49.258905Z",
     "iopub.status.busy": "2024-06-24T22:36:49.258518Z",
     "iopub.status.idle": "2024-06-24T22:36:49.268299Z",
     "shell.execute_reply": "2024-06-24T22:36:49.267675Z"
    },
    "papermill": {
     "duration": 0.014561,
     "end_time": "2024-06-24T22:36:49.269613",
     "exception": false,
     "start_time": "2024-06-24T22:36:49.255052",
     "status": "completed"
    },
    "tags": []
   },
   "outputs": [],
   "source": [
    "from pytomography.io.PET import shared\n",
    "scanner_LUT = shared.get_scanner_LUT(info)"
   ]
  },
  {
   "cell_type": "markdown",
   "id": "f025ba63",
   "metadata": {
    "papermill": {
     "duration": 0.002831,
     "end_time": "2024-06-24T22:36:49.275242",
     "exception": false,
     "start_time": "2024-06-24T22:36:49.272411",
     "status": "completed"
    },
    "tags": []
   },
   "source": [
    "First we'll get the required object space and projection space metadata.\n",
    "\n",
    "* The `object_meta` specifies the size of each voxel, and the number of voxels in each direction\n",
    "* The `proj_meta` specifies the list of all measured listmode events (`detector_ids`), the time-of-flight metadata, and the detector IDs / weights used for computing the sensitivity image."
   ]
  },
  {
   "cell_type": "code",
   "execution_count": 6,
   "id": "0bc888ff",
   "metadata": {
    "execution": {
     "iopub.execute_input": "2024-06-24T22:36:49.282041Z",
     "iopub.status.busy": "2024-06-24T22:36:49.281641Z",
     "iopub.status.idle": "2024-06-24T22:36:49.292988Z",
     "shell.execute_reply": "2024-06-24T22:36:49.292048Z"
    },
    "papermill": {
     "duration": 0.016238,
     "end_time": "2024-06-24T22:36:49.294396",
     "exception": false,
     "start_time": "2024-06-24T22:36:49.278158",
     "status": "completed"
    },
    "tags": []
   },
   "outputs": [],
   "source": [
    "# Define object space reconstruction matrix\n",
    "object_meta = ObjectMeta(\n",
    "    dr=(2.78,2.78,2.78), #mm\n",
    "    shape=(192,192,71) #voxels\n",
    ")\n",
    "# Get time-of-flight metadata and define projection space metadata\n",
    "tof_meta = clinical.get_tof_meta(scanner_name)\n",
    "proj_meta = PETLMProjMeta(\n",
    "    detector_ids,\n",
    "    info,\n",
    "    tof_meta=tof_meta,\n",
    "    detector_ids_sensitivity=detector_ids_sensitivity,\n",
    "    weights_sensitivity=weights_sensitivity\n",
    "    )"
   ]
  },
  {
   "cell_type": "markdown",
   "id": "344fe1e5",
   "metadata": {
    "papermill": {
     "duration": 0.00277,
     "end_time": "2024-06-24T22:36:49.299995",
     "exception": false,
     "start_time": "2024-06-24T22:36:49.297225",
     "status": "completed"
    },
    "tags": []
   },
   "source": [
    "Now we'll define the system matrix for the PET system. In this case we'll use 4.5mm PSF modeling."
   ]
  },
  {
   "cell_type": "code",
   "execution_count": 7,
   "id": "9daf97ba",
   "metadata": {
    "execution": {
     "iopub.execute_input": "2024-06-24T22:36:49.307888Z",
     "iopub.status.busy": "2024-06-24T22:36:49.307520Z",
     "iopub.status.idle": "2024-06-24T22:36:53.599134Z",
     "shell.execute_reply": "2024-06-24T22:36:53.598434Z"
    },
    "papermill": {
     "duration": 4.298,
     "end_time": "2024-06-24T22:36:53.600846",
     "exception": false,
     "start_time": "2024-06-24T22:36:49.302846",
     "status": "completed"
    },
    "tags": []
   },
   "outputs": [],
   "source": [
    "psf_transform = GaussianFilter(4.5) # 2mm gaussian blurring\n",
    "system_matrix = PETLMSystemMatrix(\n",
    "    object_meta,\n",
    "    proj_meta,\n",
    "    obj2obj_transforms = [psf_transform],\n",
    "    N_splits=8,\n",
    ")"
   ]
  },
  {
   "cell_type": "markdown",
   "id": "561328db",
   "metadata": {
    "papermill": {
     "duration": 0.003317,
     "end_time": "2024-06-24T22:36:53.607790",
     "exception": false,
     "start_time": "2024-06-24T22:36:53.604473",
     "status": "completed"
    },
    "tags": []
   },
   "source": [
    "Now we'll define the likelihood function (`PoissonLogLikelihood` for PET systems). The additive term contains scatters/randoms and needs to be normalized by the `weights`."
   ]
  },
  {
   "cell_type": "code",
   "execution_count": 8,
   "id": "e7ff8d16",
   "metadata": {
    "execution": {
     "iopub.execute_input": "2024-06-24T22:36:53.615197Z",
     "iopub.status.busy": "2024-06-24T22:36:53.614751Z",
     "iopub.status.idle": "2024-06-24T22:36:53.669612Z",
     "shell.execute_reply": "2024-06-24T22:36:53.668955Z"
    },
    "papermill": {
     "duration": 0.060441,
     "end_time": "2024-06-24T22:36:53.671338",
     "exception": false,
     "start_time": "2024-06-24T22:36:53.610897",
     "status": "completed"
    },
    "tags": []
   },
   "outputs": [],
   "source": [
    "likelihood = PoissonLogLikelihood(\n",
    "    system_matrix,\n",
    "    additive_term=additive_term/weights,\n",
    ")"
   ]
  },
  {
   "cell_type": "markdown",
   "id": "bb8c61cc",
   "metadata": {
    "papermill": {
     "duration": 0.002865,
     "end_time": "2024-06-24T22:36:53.677452",
     "exception": false,
     "start_time": "2024-06-24T22:36:53.674587",
     "status": "completed"
    },
    "tags": []
   },
   "source": [
    "We can now reconstruct using a variety of reconstruction algorithms:"
   ]
  },
  {
   "cell_type": "code",
   "execution_count": 9,
   "id": "b83a54d6",
   "metadata": {
    "execution": {
     "iopub.execute_input": "2024-06-24T22:36:53.684533Z",
     "iopub.status.busy": "2024-06-24T22:36:53.684115Z",
     "iopub.status.idle": "2024-06-24T22:37:21.147649Z",
     "shell.execute_reply": "2024-06-24T22:37:21.146975Z"
    },
    "papermill": {
     "duration": 27.468918,
     "end_time": "2024-06-24T22:37:21.149406",
     "exception": false,
     "start_time": "2024-06-24T22:36:53.680488",
     "status": "completed"
    },
    "tags": []
   },
   "outputs": [],
   "source": [
    "recon_algorithm = OSEM(likelihood)\n",
    "recon_OSEM = recon_algorithm(n_iters=6, n_subsets=34)"
   ]
  },
  {
   "cell_type": "code",
   "execution_count": 10,
   "id": "85c06fa9",
   "metadata": {
    "execution": {
     "iopub.execute_input": "2024-06-24T22:37:21.157011Z",
     "iopub.status.busy": "2024-06-24T22:37:21.156572Z",
     "iopub.status.idle": "2024-06-24T22:39:10.384477Z",
     "shell.execute_reply": "2024-06-24T22:39:10.383770Z"
    },
    "papermill": {
     "duration": 109.233952,
     "end_time": "2024-06-24T22:39:10.386898",
     "exception": false,
     "start_time": "2024-06-24T22:37:21.152946",
     "status": "completed"
    },
    "tags": []
   },
   "outputs": [],
   "source": [
    "# This is probably very similar to \"Q.Clear\" is ;)\n",
    "prior = RelativeDifferencePrior(beta=25, gamma=2)\n",
    "recon_algorithm = BSREM(likelihood, prior=prior)\n",
    "recon_BSREM = recon_algorithm(n_iters=20, n_subsets=34)"
   ]
  },
  {
   "cell_type": "markdown",
   "id": "94c2c796",
   "metadata": {
    "papermill": {
     "duration": 0.002957,
     "end_time": "2024-06-24T22:39:10.393277",
     "exception": false,
     "start_time": "2024-06-24T22:39:10.390320",
     "status": "completed"
    },
    "tags": []
   },
   "source": [
    "Plot axial slice of reconstruction:"
   ]
  },
  {
   "cell_type": "code",
   "execution_count": 11,
   "id": "da80f06d",
   "metadata": {
    "execution": {
     "iopub.execute_input": "2024-06-24T22:39:10.400282Z",
     "iopub.status.busy": "2024-06-24T22:39:10.399897Z",
     "iopub.status.idle": "2024-06-24T22:39:10.948378Z",
     "shell.execute_reply": "2024-06-24T22:39:10.947779Z"
    },
    "papermill": {
     "duration": 0.553482,
     "end_time": "2024-06-24T22:39:10.949663",
     "exception": false,
     "start_time": "2024-06-24T22:39:10.396181",
     "status": "completed"
    },
    "tags": []
   },
   "outputs": [
    {
     "data": {
      "image/png": "[encoded data removed]",
      "text/plain": [
       "<Figure size 550x300 with 2 Axes>"
      ]
     },
     "metadata": {},
     "output_type": "display_data"
    }
   ],
   "source": [
    "fig, ax = plt.subplots(1,2,figsize=(5.5,3))\n",
    "plt.subplot(121)\n",
    "plt.pcolormesh(recon_OSEM[:,:,20].T.cpu(), cmap='magma', shading='gouraud', vmax=0.5)\n",
    "plt.axis('off')\n",
    "plt.title('OSEM')\n",
    "plt.subplot(122)\n",
    "plt.pcolormesh(recon_BSREM[:,:,20].T.cpu(), cmap='magma', shading='gouraud', vmax=0.5)\n",
    "plt.axis('off')\n",
    "plt.title('BSREM+RDP')\n",
    "fig.tight_layout()\n",
    "plt.show()"
   ]
  }
 ],
 "metadata": {
  "kernelspec": {
   "display_name": "pytomo_install_test",
   "language": "python",
   "name": "python3"
  },
  "language_info": {
   "codemirror_mode": {
    "name": "ipython",
    "version": 3
   },
   "file_extension": ".py",
   "mimetype": "text/x-python",
   "name": "python",
   "nbconvert_exporter": "python",
   "pygments_lexer": "ipython3",
   "version": "3.11.6"
  },
  "papermill": {
   "default_parameters": {},
   "duration": 180.123505,
   "end_time": "2024-06-24T22:39:11.972409",
   "environment_variables": {},
   "exception": null,
   "input_path": "t_GE_HDF5.ipynb",
   "output_path": "t_GE_HDF5.ipynb",
   "parameters": {},
   "start_time": "2024-06-24T22:36:11.848904",
   "version": "2.6.0"
  }
 },
 "nbformat": 4,
 "nbformat_minor": 5
}