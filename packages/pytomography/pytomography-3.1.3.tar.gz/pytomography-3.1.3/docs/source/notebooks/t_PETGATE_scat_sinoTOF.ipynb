{
 "cells": [
  {
   "cell_type": "markdown",
   "id": "206a4f1f",
   "metadata": {
    "tags": [
     "papermill-error-cell-tag"
    ]
   },
   "source": [
    "<span style=\"color:red; font-family:Helvetica Neue, Helvetica, Arial, sans-serif; font-size:2em;\">An Exception was encountered at '<a href=\"#papermill-error-cell\">In [5]</a>'.</span>"
   ]
  },
  {
   "cell_type": "markdown",
   "id": "6ccef38f",
   "metadata": {
    "papermill": {
     "duration": 0.005241,
     "end_time": "2024-06-24T19:57:34.446818",
     "exception": false,
     "start_time": "2024-06-24T19:57:34.441577",
     "status": "completed"
    },
    "tags": []
   },
   "source": [
    "# GATE (Sinogram Reconstruction; With Time of Flight)"
   ]
  },
  {
   "cell_type": "code",
   "execution_count": 1,
   "id": "174ad2b8",
   "metadata": {
    "execution": {
     "iopub.execute_input": "2024-06-24T19:57:34.457904Z",
     "iopub.status.busy": "2024-06-24T19:57:34.457384Z",
     "iopub.status.idle": "2024-06-24T19:57:37.422649Z",
     "shell.execute_reply": "2024-06-24T19:57:37.421942Z"
    },
    "papermill": {
     "duration": 2.972873,
     "end_time": "2024-06-24T19:57:37.424478",
     "exception": false,
     "start_time": "2024-06-24T19:57:34.451605",
     "status": "completed"
    },
    "tags": []
   },
   "outputs": [
    {
     "name": "stdout",
     "output_type": "stream",
     "text": [
      "\n",
      "          -  -  -  -  -  -  -  -   -  -  -  -\n",
      "          P  A  R  A  L  L  E  L | P  R  O  J\n",
      "          -  -  -  -  -  -  -  -   -  -  -  -\n",
      "\n",
      "    =================================================\n",
      "\n",
      "         Please consider citing our publication\n",
      "      ---------------------------------------------\n",
      "      Georg Schramm and Kris Thielemans:\n",
      "      \"PARALLELPROJ—an open-source framework for\n",
      "       fast calculation of projections in\n",
      "       tomography\"\n",
      "      Front. Nucl. Med., 08 January 2024\n",
      "      Sec. PET and SPECT, Vol 3\n",
      "      https://doi.org/10.3389/fnume.2023.1324562\n",
      "\n",
      "    =================================================\n",
      " \n",
      "    parallelproj C    lib: /data/anaconda/envs/pytomo_install_test/lib/libparallelproj_c.so.1.8.0\n",
      "    parallelproj CUDA lib: /data/anaconda/envs/pytomo_install_test/lib/libparallelproj_cuda.so.1.8.0\n",
      "    \n"
     ]
    }
   ],
   "source": [
    "from __future__ import annotations\n",
    "import torch\n",
    "import pytomography\n",
    "from pytomography.metadata import ObjectMeta\n",
    "from pytomography.metadata.PET import PETTOFMeta, PETSinogramPolygonProjMeta\n",
    "from pytomography.projectors.PET import PETSinogramSystemMatrix\n",
    "from pytomography.algorithms import OSEM\n",
    "from pytomography.io.PET import gate\n",
    "from pytomography.likelihoods import PoissonLogLikelihood\n",
    "import os\n",
    "from pytomography.transforms.shared import GaussianFilter\n",
    "import matplotlib.pyplot as plt\n",
    "from pytomography.utils import sss\n",
    "import gc"
   ]
  },
  {
   "cell_type": "markdown",
   "id": "d795d0e2",
   "metadata": {
    "papermill": {
     "duration": 0.004706,
     "end_time": "2024-06-24T19:57:37.434690",
     "exception": false,
     "start_time": "2024-06-24T19:57:37.429984",
     "status": "completed"
    },
    "tags": []
   },
   "source": [
    "During this script, some ROOT files generated from gate are saved as .pt tensors throughout the process. Since reading the ROOT files takes considerable time, it is recommended to just open the generated .pt files in subsequent runs of this script:"
   ]
  },
  {
   "cell_type": "code",
   "execution_count": 2,
   "id": "d16cc5f6",
   "metadata": {
    "execution": {
     "iopub.execute_input": "2024-06-24T19:57:37.445907Z",
     "iopub.status.busy": "2024-06-24T19:57:37.445034Z",
     "iopub.status.idle": "2024-06-24T19:57:37.448679Z",
     "shell.execute_reply": "2024-06-24T19:57:37.448076Z"
    },
    "papermill": {
     "duration": 0.010564,
     "end_time": "2024-06-24T19:57:37.449936",
     "exception": false,
     "start_time": "2024-06-24T19:57:37.439372",
     "status": "completed"
    },
    "tags": []
   },
   "outputs": [],
   "source": [
    "LOAD_FROM_ROOT = False # Set to true if .pt files not generated"
   ]
  },
  {
   "cell_type": "markdown",
   "id": "355d9c2e",
   "metadata": {
    "papermill": {
     "duration": 0.005634,
     "end_time": "2024-06-24T19:57:37.460313",
     "exception": false,
     "start_time": "2024-06-24T19:57:37.454679",
     "status": "completed"
    },
    "tags": []
   },
   "source": [
    "Required data:"
   ]
  },
  {
   "cell_type": "code",
   "execution_count": 3,
   "id": "d4c4d4c3",
   "metadata": {
    "execution": {
     "iopub.execute_input": "2024-06-24T19:57:37.471092Z",
     "iopub.status.busy": "2024-06-24T19:57:37.470597Z",
     "iopub.status.idle": "2024-06-24T19:57:37.481897Z",
     "shell.execute_reply": "2024-06-24T19:57:37.481273Z"
    },
    "papermill": {
     "duration": 0.018056,
     "end_time": "2024-06-24T19:57:37.483240",
     "exception": false,
     "start_time": "2024-06-24T19:57:37.465184",
     "status": "completed"
    },
    "tags": []
   },
   "outputs": [],
   "source": [
    "path = '/disk1/pet_mri_scan/'\n",
    "# Macro path where PET scanner geometry file is defined\n",
    "macro_path = os.path.join(path, 'mMR_Geometry.mac')\n",
    "# Get information dictionary about the scanner\n",
    "info = gate.get_detector_info(path = macro_path,\n",
    "    mean_interaction_depth=9, min_rsector_difference=0)\n",
    "# Paths to all ROOT files containing data\n",
    "paths = [os.path.join(path, f'gate_simulation/all_physics/mMR_voxBrain_{i}.root') for i in range(1, 55)]; del(paths[23]) #path 23 corrupted"
   ]
  },
  {
   "cell_type": "markdown",
   "id": "ac7a4637",
   "metadata": {
    "papermill": {
     "duration": 0.004891,
     "end_time": "2024-06-24T19:57:37.492847",
     "exception": false,
     "start_time": "2024-06-24T19:57:37.487956",
     "status": "completed"
    },
    "tags": []
   },
   "source": [
    "Set up time of flight metadata:\n",
    "* Since GATE tracks the times, the time of flight bins can be set up however one wishes. The only thing that is dependent on the GATE simulation is `fwhm_tof_resolution`, which in our case is 550ps"
   ]
  },
  {
   "cell_type": "code",
   "execution_count": 4,
   "id": "bfe708d2",
   "metadata": {
    "execution": {
     "iopub.execute_input": "2024-06-24T19:57:37.504405Z",
     "iopub.status.busy": "2024-06-24T19:57:37.503861Z",
     "iopub.status.idle": "2024-06-24T19:57:37.508294Z",
     "shell.execute_reply": "2024-06-24T19:57:37.507708Z"
    },
    "papermill": {
     "duration": 0.011356,
     "end_time": "2024-06-24T19:57:37.509716",
     "exception": false,
     "start_time": "2024-06-24T19:57:37.498360",
     "status": "completed"
    },
    "tags": []
   },
   "outputs": [],
   "source": [
    "speed_of_light = 0.3 #mm/ps\n",
    "fwhm_tof_resolution = 550 * speed_of_light / 2 #ps to position along LOR\n",
    "TOF_range = 1000 * speed_of_light #ps to position along LOR (full range)\n",
    "num_tof_bins = 5\n",
    "tof_meta = PETTOFMeta(num_tof_bins, TOF_range, fwhm_tof_resolution, n_sigmas=3)"
   ]
  },
  {
   "cell_type": "markdown",
   "id": "2d3edd86",
   "metadata": {
    "papermill": {
     "duration": 0.004827,
     "end_time": "2024-06-24T19:57:37.519674",
     "exception": false,
     "start_time": "2024-06-24T19:57:37.514847",
     "status": "completed"
    },
    "tags": []
   },
   "source": [
    "## Normalization Correction\n",
    "\n",
    "In PET imaging, each detector crystal used in the scanner will have a different response to a uniform source due to its positioning (e.g. crystals at the end of edge of modules are different than those in the center). Adequate PET reconstruction takes this into account by first performing a calibration scan for a scanner and obtaining a normalization correction factor for each crystal pair LOR"
   ]
  },
  {
   "cell_type": "markdown",
   "id": "e98b91b5",
   "metadata": {
    "papermill": {
     "duration": 0.00483,
     "end_time": "2024-06-24T19:57:37.529680",
     "exception": false,
     "start_time": "2024-06-24T19:57:37.524850",
     "status": "completed"
    },
    "tags": []
   },
   "source": [
    "**The cell below only needs to be ran once**, and may take a long time, as it requires opening and parsing through all the ROOT files corresponding to the normalization scan. Once it is ran, the normalization weights corresponding to each pair of detector IDs will be obtained (due to geometry/crystal orientation).\n",
    "\n",
    " This particular calibration scan was done using a thin cylindrical shell. We can compute $\\eta$ using a particular function in the gate functionality of PyTomography. Then we save it as a `torch.Tensor` file for easy access in the next part. For this we need\n",
    "\n",
    "* `cylinder_radius`: The radius of the thin cylindrical shell used for calibration"
   ]
  },
  {
   "cell_type": "markdown",
   "id": "914151f5",
   "metadata": {
    "tags": [
     "papermill-error-cell-tag"
    ]
   },
   "source": [
    "<span id=\"papermill-error-cell\" style=\"color:red; font-family:Helvetica Neue, Helvetica, Arial, sans-serif; font-size:2em;\">Execution using papermill encountered an exception here and stopped:</span>"
   ]
  },
  {
   "cell_type": "code",
   "execution_count": 5,
   "id": "be7c6d05",
   "metadata": {
    "execution": {
     "iopub.execute_input": "2024-06-24T19:57:37.540934Z",
     "iopub.status.busy": "2024-06-24T19:57:37.540461Z",
     "iopub.status.idle": "2024-06-24T19:57:37.545484Z",
     "shell.execute_reply": "2024-06-24T19:57:37.544727Z"
    },
    "papermill": {
     "duration": 0.011733,
     "end_time": "2024-06-24T19:57:37.546594",
     "exception": true,
     "start_time": "2024-06-24T19:57:37.534861",
     "status": "failed"
    },
    "tags": []
   },
   "outputs": [
    {
     "ename": "SyntaxError",
     "evalue": "invalid syntax. Perhaps you forgot a comma? (3013225189.py, line 8)",
     "output_type": "error",
     "traceback": [
      "\u001b[0;36m  Cell \u001b[0;32mIn[5], line 8\u001b[0;36m\u001b[0m\n\u001b[0;31m    cylinder_radius = 318 # mm (radius of calibration cylindrical shell,\u001b[0m\n\u001b[0m                      ^\u001b[0m\n\u001b[0;31mSyntaxError\u001b[0m\u001b[0;31m:\u001b[0m invalid syntax. Perhaps you forgot a comma?\n"
     ]
    }
   ],
   "source": [
    "if LOAD_FROM_ROOT:\n",
    "    normalization_paths = [os.path.join(path, f'normalization_scan/mMR_Norm_{i}.root') for i in range(1,37)]\n",
    "\n",
    "    # Get eta in listmode format\n",
    "    normalization_weights = gate.get_normalization_weights_cylinder_calibration(\n",
    "        normalization_paths,\n",
    "        info,\n",
    "        cylinder_radius = 318, # mm (radius of calibration cylindrical shell,\n",
    "        include_randoms=False \n",
    "    )\n",
    "\n",
    "    normalization_sinogram = gate.get_norm_sinogram_from_listmode_data(normalization_weights, macro_path)\n",
    "    torch.save(normalization_sinogram, os.path.join(path, 'normalization_sinogram.pt'))\n",
    "normalization_sinogram = torch.load(os.path.join(path, 'normalization_sinogram.pt'))"
   ]
  },
  {
   "cell_type": "markdown",
   "id": "95cd0ae8",
   "metadata": {
    "papermill": {
     "duration": null,
     "end_time": null,
     "exception": null,
     "start_time": null,
     "status": "pending"
    },
    "tags": []
   },
   "source": [
    "## Primary-Only Reconstruction\n",
    "\n",
    "Before we delve into scatter/random modeling, lets get a baseline reconstruction that uses only primary events from the simulated GATE data. We can use PyTomography functionality to select for such events when we open the ROOT data. Obviously this is not doable for clinical data (where we don't know which events are randoms/scatters)."
   ]
  },
  {
   "cell_type": "code",
   "execution_count": null,
   "id": "baca9547",
   "metadata": {
    "papermill": {
     "duration": null,
     "end_time": null,
     "exception": null,
     "start_time": null,
     "status": "pending"
    },
    "tags": []
   },
   "outputs": [],
   "source": [
    "if LOAD_FROM_ROOT:\n",
    "    detector_ids = gate.get_detector_ids_from_root(\n",
    "        paths,\n",
    "        info,\n",
    "        tof_meta = tof_meta,\n",
    "        include_randoms=False,\n",
    "        include_scatters=False)\n",
    "    detector_ids = detector_ids[detector_ids[:,2]>-1] # For TOF, only take events within the TOF bins\n",
    "    torch.save(detector_ids, os.path.join(path, 'detector_ids_tof_primary_only.pt'))\n",
    "detector_ids = torch.load(os.path.join(path, 'detector_ids_tof_primary_only.pt'))"
   ]
  },
  {
   "cell_type": "markdown",
   "id": "cfef4269",
   "metadata": {
    "papermill": {
     "duration": null,
     "end_time": null,
     "exception": null,
     "start_time": null,
     "status": "pending"
    },
    "tags": []
   },
   "source": [
    "Lets also get the true scatters and randoms from this data so we can compare our estimation:"
   ]
  },
  {
   "cell_type": "code",
   "execution_count": null,
   "id": "61800d56",
   "metadata": {
    "papermill": {
     "duration": null,
     "end_time": null,
     "exception": null,
     "start_time": null,
     "status": "pending"
    },
    "tags": []
   },
   "outputs": [],
   "source": [
    "if LOAD_FROM_ROOT:\n",
    "    detector_ids_randoms_true = gate.get_detector_ids_from_root(\n",
    "        paths,\n",
    "        info,\n",
    "        tof_meta = tof_meta,\n",
    "        randoms_only=True)\n",
    "    detector_ids_scatters_true = gate.get_detector_ids_from_root(\n",
    "        paths,\n",
    "        info,\n",
    "        tof_meta = tof_meta,\n",
    "        scatters_only=True)\n",
    "    detector_ids_randoms_true = detector_ids_randoms_true[detector_ids_randoms_true[:,2]>-1] # For TOF, only take events within the TOF bins\n",
    "    detector_ids_scatters_true = detector_ids_scatters_true[detector_ids_scatters_true[:,2]>-1] # For TOF, only take events within the TOF bins\n",
    "    torch.save(detector_ids_randoms_true, os.path.join(path, 'detector_ids_randoms_true.pt'))\n",
    "    torch.save(detector_ids_scatters_true, os.path.join(path, 'detector_ids_scatters_true.pt'))\n",
    "detector_ids_randoms_true = torch.load(os.path.join(path, 'detector_ids_randoms_true.pt'))\n",
    "detector_ids_scatters_true = torch.load(os.path.join(path, 'detector_ids_scatters_true.pt'))"
   ]
  },
  {
   "cell_type": "markdown",
   "id": "2ec9f035",
   "metadata": {
    "papermill": {
     "duration": null,
     "end_time": null,
     "exception": null,
     "start_time": null,
     "status": "pending"
    },
    "tags": []
   },
   "source": [
    "We can convert the loaded listmode events into sinogram format using the following:\n",
    "* Note: PyTomography currently only has basic sinogram binning functionality with no mashing / data reduction"
   ]
  },
  {
   "cell_type": "code",
   "execution_count": null,
   "id": "f6031512",
   "metadata": {
    "papermill": {
     "duration": null,
     "end_time": null,
     "exception": null,
     "start_time": null,
     "status": "pending"
    },
    "tags": []
   },
   "outputs": [],
   "source": [
    "sinogram = gate.listmode_to_sinogram(detector_ids, info, tof_meta=tof_meta)"
   ]
  },
  {
   "cell_type": "markdown",
   "id": "be1388ad",
   "metadata": {
    "papermill": {
     "duration": null,
     "end_time": null,
     "exception": null,
     "start_time": null,
     "status": "pending"
    },
    "tags": []
   },
   "source": [
    "We reconstruct TOF data as follows (the only difference between non-TOF is specifing the `tof_meta` in the `proj_meta`):\n",
    "* Note: in this case, our sensitivity sinogram `sinogram_sensitivity ` only has contribution from the normalization factor $\\eta$ (and not attenuation $\\mu$), so we need to include the attenuation map in the system matrix to get the true sensitivity weights"
   ]
  },
  {
   "cell_type": "code",
   "execution_count": null,
   "id": "a31680e6",
   "metadata": {
    "papermill": {
     "duration": null,
     "end_time": null,
     "exception": null,
     "start_time": null,
     "status": "pending"
    },
    "tags": []
   },
   "outputs": [],
   "source": [
    "# Specify object space for reconstruction\n",
    "object_meta = ObjectMeta(\n",
    "    dr=(2,2,2), #mm\n",
    "    shape=(128,128,96) #voxels\n",
    ")\n",
    "# Get projection space metadata from PET geometry information dictionary and TOF metadata\n",
    "proj_meta = PETSinogramPolygonProjMeta(info, tof_meta=tof_meta)\n",
    "# Get attenuation map and PSF transform from the associated phantom\n",
    "atten_map = gate.get_attenuation_map_nifti('/disk1/pet_mri_scan/fdg_pet_phantom_umap.nii.gz', object_meta).to(pytomography.device)\n",
    "psf_transform = GaussianFilter(4) # 2mm gaussian blurring\n",
    "# Create system matrix.\n",
    "system_matrix = PETSinogramSystemMatrix(\n",
    "       object_meta,\n",
    "       proj_meta,\n",
    "       obj2obj_transforms = [psf_transform],\n",
    "       sinogram_sensitivity = normalization_sinogram,\n",
    "       N_splits=10,\n",
    "       attenuation_map=atten_map,\n",
    "       device='cpu' # projections output on cpu, computation is still on GPU\n",
    ")\n",
    "# Create likelihood\n",
    "likelihood = PoissonLogLikelihood(\n",
    "    system_matrix,\n",
    "    sinogram,\n",
    ")\n",
    "# Reconstruct\n",
    "recon_algorithm = OSEM(likelihood)\n",
    "recon_primaryonly = recon_algorithm(n_iters=2, n_subsets=24)\n",
    "# delete to save memory\n",
    "del(sinogram) \n",
    "del(system_matrix) \n",
    "del(likelihood)\n",
    "del(recon_algorithm) \n",
    "gc.collect()"
   ]
  },
  {
   "cell_type": "markdown",
   "id": "1d5ef0c1",
   "metadata": {
    "papermill": {
     "duration": null,
     "end_time": null,
     "exception": null,
     "start_time": null,
     "status": "pending"
    },
    "tags": []
   },
   "source": [
    "And plot:"
   ]
  },
  {
   "cell_type": "code",
   "execution_count": null,
   "id": "de75c09e",
   "metadata": {
    "papermill": {
     "duration": null,
     "end_time": null,
     "exception": null,
     "start_time": null,
     "status": "pending"
    },
    "tags": []
   },
   "outputs": [],
   "source": [
    "vmax = 0.15\n",
    "fig, ax = plt.subplots(1,3,figsize=(12,4))\n",
    "plt.subplot(131)\n",
    "plt.pcolormesh(recon_primaryonly[48,16:-16].cpu().T, cmap='magma', shading='gouraud', vmax=vmax)\n",
    "plt.axis('off')\n",
    "plt.subplot(132)\n",
    "plt.pcolormesh(recon_primaryonly[16:-16,64].cpu().T, cmap='magma', shading='gouraud', vmax=vmax)\n",
    "plt.axis('off')\n",
    "plt.subplot(133)\n",
    "plt.pcolormesh(recon_primaryonly[:,:,48].cpu().T, cmap='magma', shading='gouraud', vmax=vmax)\n",
    "plt.axis('off')\n",
    "fig.tight_layout()\n",
    "plt.show()"
   ]
  },
  {
   "cell_type": "markdown",
   "id": "4d778a97",
   "metadata": {
    "papermill": {
     "duration": null,
     "end_time": null,
     "exception": null,
     "start_time": null,
     "status": "pending"
    },
    "tags": []
   },
   "source": [
    "Note that this is not possible in clinical practice, since we don't know which events are scatters/randoms. The reconstruction above is going to be used as an \"ideal\" comparison for our reconstruction of all events."
   ]
  },
  {
   "cell_type": "markdown",
   "id": "7830b6d5",
   "metadata": {
    "papermill": {
     "duration": null,
     "end_time": null,
     "exception": null,
     "start_time": null,
     "status": "pending"
    },
    "tags": []
   },
   "source": [
    "## Reconstruction Correcting For Randoms + Scatters"
   ]
  },
  {
   "cell_type": "markdown",
   "id": "50acfc7c",
   "metadata": {
    "papermill": {
     "duration": null,
     "end_time": null,
     "exception": null,
     "start_time": null,
     "status": "pending"
    },
    "tags": []
   },
   "source": [
    "When time-of-flight information is used, estimation of randoms and scatters slightly changes. Lets first set up the system matrix for reconstruction"
   ]
  },
  {
   "cell_type": "code",
   "execution_count": null,
   "id": "7fd7aa8c",
   "metadata": {
    "papermill": {
     "duration": null,
     "end_time": null,
     "exception": null,
     "start_time": null,
     "status": "pending"
    },
    "tags": []
   },
   "outputs": [],
   "source": [
    "if LOAD_FROM_ROOT:\n",
    "    detector_ids = gate.get_detector_ids_from_root(\n",
    "        paths,\n",
    "        info,\n",
    "        tof_meta=tof_meta\n",
    "        )\n",
    "    detector_ids = detector_ids[detector_ids[:,2]>-1] # For TOF, only take events within the TOF bins\n",
    "    torch.save(detector_ids, os.path.join(path, 'detector_ids_tof_all_events.pt'))\n",
    "detector_ids = torch.load(os.path.join(path, 'detector_ids_tof_all_events.pt'))"
   ]
  },
  {
   "cell_type": "markdown",
   "id": "fc1b920e",
   "metadata": {
    "papermill": {
     "duration": null,
     "end_time": null,
     "exception": null,
     "start_time": null,
     "status": "pending"
    },
    "tags": []
   },
   "source": [
    "Create sinogram:"
   ]
  },
  {
   "cell_type": "code",
   "execution_count": null,
   "id": "3f0af149",
   "metadata": {
    "papermill": {
     "duration": null,
     "end_time": null,
     "exception": null,
     "start_time": null,
     "status": "pending"
    },
    "tags": []
   },
   "outputs": [],
   "source": [
    "sinogram = gate.listmode_to_sinogram(detector_ids, info, tof_meta=tof_meta)"
   ]
  },
  {
   "cell_type": "markdown",
   "id": "08096608",
   "metadata": {
    "papermill": {
     "duration": null,
     "end_time": null,
     "exception": null,
     "start_time": null,
     "status": "pending"
    },
    "tags": []
   },
   "source": [
    "### Randoms"
   ]
  },
  {
   "cell_type": "markdown",
   "id": "3a7d7924",
   "metadata": {
    "papermill": {
     "duration": null,
     "end_time": null,
     "exception": null,
     "start_time": null,
     "status": "pending"
    },
    "tags": []
   },
   "source": [
    "In addition to the first two steps of the non-TOF procedure (obtaining a random sinogram and smoothing), we now also need to account for the fact that the number of randoms in each TOF bin is proportional to the length of the TOF bin divided by the total coincidence timing width. We can do this using the `randoms_sinogram_to_sinogramTOF` function. We need to provide the `tof_meta`"
   ]
  },
  {
   "cell_type": "code",
   "execution_count": null,
   "id": "ba88893a",
   "metadata": {
    "papermill": {
     "duration": null,
     "end_time": null,
     "exception": null,
     "start_time": null,
     "status": "pending"
    },
    "tags": []
   },
   "outputs": [],
   "source": [
    "if LOAD_FROM_ROOT:\n",
    "    detector_ids_delays = gate.get_detector_ids_from_root(\n",
    "        paths,\n",
    "        info,\n",
    "        substr = 'delay')\n",
    "    torch.save(detector_ids_delays, os.path.join(path, 'detector_ids_delays.pt'))\n",
    "detector_ids_delays= torch.load(os.path.join(path, 'detector_ids_delays.pt'))"
   ]
  },
  {
   "cell_type": "markdown",
   "id": "7a1f450a",
   "metadata": {
    "papermill": {
     "duration": null,
     "end_time": null,
     "exception": null,
     "start_time": null,
     "status": "pending"
    },
    "tags": []
   },
   "source": [
    "Apply all techniques to get randoms sinogram estimate:"
   ]
  },
  {
   "cell_type": "code",
   "execution_count": null,
   "id": "d301a6af",
   "metadata": {
    "papermill": {
     "duration": null,
     "end_time": null,
     "exception": null,
     "start_time": null,
     "status": "pending"
    },
    "tags": []
   },
   "outputs": [],
   "source": [
    "# Load random events accross all TOF bins\n",
    "sinogram_randoms_estimate = gate.listmode_to_sinogram(detector_ids_delays, info)\n",
    "sinogram_randoms_estimate = gate.smooth_randoms_sinogram(sinogram_randoms_estimate, info, sigma_r=4, sigma_theta=4, sigma_z=4)\n",
    "sinogram_randoms_estimate = gate.randoms_sinogram_to_sinogramTOF(sinogram_randoms_estimate, tof_meta, coincidence_timing_width = 4300) # coinicidence timing window for this GATE simulation was set to 4300ps"
   ]
  },
  {
   "cell_type": "markdown",
   "id": "450f6fd0",
   "metadata": {
    "papermill": {
     "duration": null,
     "end_time": null,
     "exception": null,
     "start_time": null,
     "status": "pending"
    },
    "tags": []
   },
   "source": [
    "### Scatters"
   ]
  },
  {
   "cell_type": "markdown",
   "id": "625207e7",
   "metadata": {
    "papermill": {
     "duration": null,
     "end_time": null,
     "exception": null,
     "start_time": null,
     "status": "pending"
    },
    "tags": []
   },
   "source": [
    "Like before (non-TOF sinogram tutorial), lets first get an initial reconstruction without scatter."
   ]
  },
  {
   "cell_type": "code",
   "execution_count": null,
   "id": "25b8d7d0",
   "metadata": {
    "papermill": {
     "duration": null,
     "end_time": null,
     "exception": null,
     "start_time": null,
     "status": "pending"
    },
    "tags": []
   },
   "outputs": [],
   "source": [
    "atten_map = gate.get_attenuation_map_nifti('/disk1/pet_mri_scan/fdg_pet_phantom_umap.nii.gz', object_meta)\n",
    "normalization_sinogram = torch.load(os.path.join(path, 'normalization_sinogram.pt')) # assumes this has been saved from the intro tutorial\n",
    "proj_meta = PETSinogramPolygonProjMeta(info, tof_meta)\n",
    "psf_transform = GaussianFilter(4)\n",
    "system_matrix = PETSinogramSystemMatrix(\n",
    "       object_meta,\n",
    "       proj_meta,\n",
    "       obj2obj_transforms = [psf_transform],\n",
    "       norm_sinogram = normalization_sinogram,\n",
    "       N_splits=10,\n",
    "       attenuation_map=atten_map,\n",
    "       device='cpu' # projections output on cpu, rest is GPU\n",
    ")\n",
    "additive_term = sinogram_randoms_estimate / system_matrix._compute_sensitivity_sinogram().cpu()\n",
    "likelihood = PoissonLogLikelihood(\n",
    "        system_matrix,\n",
    "        sinogram,\n",
    "        additive_term = additive_term\n",
    "    )\n",
    "recon_algorithm = OSEM(likelihood)\n",
    "recon_without_scatter_estimation = recon_algorithm(2,24)"
   ]
  },
  {
   "cell_type": "markdown",
   "id": "70f23eb3",
   "metadata": {
    "papermill": {
     "duration": null,
     "end_time": null,
     "exception": null,
     "start_time": null,
     "status": "pending"
    },
    "tags": []
   },
   "source": [
    "There are two additional parameters we need to provide to the function for TOF:\n",
    "\n",
    "1. `tof_meta`: Provides all the required TOF metadata\n",
    "2. `num_dense_tof_bins`: The emission integrals in Watson [CITE] are split into multiple regions: this specifies the number of regions. This is independent and seperate from any of the information in `tof_meta`.\n",
    "\n",
    "**Note: this takes ~10 minutes to run**"
   ]
  },
  {
   "cell_type": "code",
   "execution_count": null,
   "id": "e86f5f8a",
   "metadata": {
    "papermill": {
     "duration": null,
     "end_time": null,
     "exception": null,
     "start_time": null,
     "status": "pending"
    },
    "tags": []
   },
   "outputs": [],
   "source": [
    "sinogram_scatter_estimate = sss.get_sss_scatter_estimate(\n",
    "    object_meta = object_meta,\n",
    "    proj_meta = proj_meta,\n",
    "    pet_image = recon_without_scatter_estimation,\n",
    "    attenuation_image = atten_map,\n",
    "    system_matrix = system_matrix,\n",
    "    proj_data = sinogram,\n",
    "    image_stepsize = 4,\n",
    "    attenuation_cutoff = 0.004,\n",
    "    sinogram_interring_stepsize = 4,\n",
    "    sinogram_intraring_stepsize = 4,\n",
    "    sinogram_random = sinogram_randoms_estimate,\n",
    "    tof_meta = tof_meta,\n",
    "    num_dense_tof_bins = 25\n",
    "    )"
   ]
  },
  {
   "cell_type": "markdown",
   "id": "814f37ce",
   "metadata": {
    "papermill": {
     "duration": null,
     "end_time": null,
     "exception": null,
     "start_time": null,
     "status": "pending"
    },
    "tags": []
   },
   "source": [
    "This TOF sinogram can be compared to the true scatter in each TOF bin. We'll look at summed profiles like we did above."
   ]
  },
  {
   "cell_type": "code",
   "execution_count": null,
   "id": "88f92456",
   "metadata": {
    "papermill": {
     "duration": null,
     "end_time": null,
     "exception": null,
     "start_time": null,
     "status": "pending"
    },
    "tags": []
   },
   "outputs": [],
   "source": [
    "sinogram_scatters_true = gate.listmode_to_sinogram(detector_ids_scatters_true, info, tof_meta=tof_meta)\n",
    "\n",
    "fig, ax = plt.subplots(1,5,figsize=(20,4))\n",
    "# loop TOF bins\n",
    "for i in range(5):\n",
    "    ax[i].plot(sinogram_scatters_true[:,:,:64,i].sum(dim=(0,2)), label='True Scatter')\n",
    "    ax[i].plot(sinogram_scatter_estimate[:,:,:64,i].sum(dim=(0,2)), ls='--', label='SSS Scatter Estimation')\n",
    "    ax[i].set_title(f'TOF Bin {i}')\n",
    "    ax[i].set_ylim(top=1600)\n",
    "ax[0].legend()\n",
    "ax[2].set_xlabel('Axial Position')\n",
    "ax[0].set_ylabel('Summed Events Along Transaxial')\n",
    "plt.show()"
   ]
  },
  {
   "cell_type": "markdown",
   "id": "5a2ddf62",
   "metadata": {
    "papermill": {
     "duration": null,
     "end_time": null,
     "exception": null,
     "start_time": null,
     "status": "pending"
    },
    "tags": []
   },
   "source": [
    "From the estimated scatter sinogram we can then reconstruct by constructing an additive term like before (non-TOF sinogram tutorial)"
   ]
  },
  {
   "cell_type": "code",
   "execution_count": null,
   "id": "b61e11ff",
   "metadata": {
    "papermill": {
     "duration": null,
     "end_time": null,
     "exception": null,
     "start_time": null,
     "status": "pending"
    },
    "tags": []
   },
   "outputs": [],
   "source": [
    "additive_term = (sinogram_randoms_estimate + sinogram_scatter_estimate) / system_matrix._compute_sensitivity_sinogram().cpu()\n",
    "likelihood = PoissonLogLikelihood(\n",
    "        system_matrix,\n",
    "        sinogram,\n",
    "        additive_term = additive_term\n",
    "    )\n",
    "recon_algorithm = OSEM(likelihood)\n",
    "recon_sinogram_TOF = recon_algorithm(2,24)"
   ]
  },
  {
   "cell_type": "code",
   "execution_count": null,
   "id": "f3dc5374",
   "metadata": {
    "papermill": {
     "duration": null,
     "end_time": null,
     "exception": null,
     "start_time": null,
     "status": "pending"
    },
    "tags": []
   },
   "outputs": [],
   "source": [
    "vmax = 0.15\n",
    "fig, ax = plt.subplots(2,3,figsize=(12,9))\n",
    "plt.subplot(231)\n",
    "plt.pcolormesh(recon_primaryonly[48,16:-16].cpu().T, cmap='magma', vmax=vmax)\n",
    "plt.axis('off')\n",
    "plt.subplot(232)\n",
    "plt.pcolormesh(recon_primaryonly[16:-16,64].cpu().T, cmap='magma', vmax=vmax)\n",
    "plt.title('Primary Only Recon', fontsize=30)\n",
    "plt.axis('off')\n",
    "plt.subplot(233)\n",
    "plt.pcolormesh(recon_primaryonly[:,:,48].cpu().T, cmap='magma', vmax=vmax)\n",
    "plt.axis('off')\n",
    "plt.subplot(234)\n",
    "plt.pcolormesh(recon_sinogram_TOF[48,16:-16].cpu().T, cmap='magma', vmax=vmax)\n",
    "plt.axis('off')\n",
    "plt.subplot(235)\n",
    "plt.pcolormesh(recon_sinogram_TOF[16:-16,64].cpu().T, cmap='magma', vmax=vmax)\n",
    "plt.axis('off')\n",
    "plt.title('All Event Recon (Random+Scatter Corrected)', fontsize=30)\n",
    "plt.subplot(236)\n",
    "plt.pcolormesh(recon_sinogram_TOF[:,:,48].cpu().T, cmap='magma', vmax=vmax)\n",
    "plt.axis('off')\n",
    "fig.tight_layout()\n",
    "plt.show()"
   ]
  }
 ],
 "metadata": {
  "kernelspec": {
   "display_name": "pytomo_install_test",
   "language": "python",
   "name": "python3"
  },
  "language_info": {
   "codemirror_mode": {
    "name": "ipython",
    "version": 3
   },
   "file_extension": ".py",
   "mimetype": "text/x-python",
   "name": "python",
   "nbconvert_exporter": "python",
   "pygments_lexer": "ipython3",
   "version": "3.11.6"
  },
  "papermill": {
   "default_parameters": {},
   "duration": 4.776421,
   "end_time": "2024-06-24T19:57:38.470552",
   "environment_variables": {},
   "exception": true,
   "input_path": "t_PETGATE_scat_sinoTOF.ipynb",
   "output_path": "t_PETGATE_scat_sinoTOF.ipynb",
   "parameters": {},
   "start_time": "2024-06-24T19:57:33.694131",
   "version": "2.6.0"
  }
 },
 "nbformat": 4,
 "nbformat_minor": 5
}
