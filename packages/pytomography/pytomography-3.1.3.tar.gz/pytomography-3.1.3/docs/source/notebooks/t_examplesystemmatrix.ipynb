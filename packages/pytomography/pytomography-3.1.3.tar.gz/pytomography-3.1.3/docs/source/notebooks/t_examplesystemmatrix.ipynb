{
 "cells": [
  {
   "cell_type": "markdown",
   "id": "9fba7144",
   "metadata": {
    "papermill": {
     "duration": 0.009746,
     "end_time": "2024-06-24T22:48:12.273935",
     "exception": false,
     "start_time": "2024-06-24T22:48:12.264189",
     "status": "completed"
    },
    "tags": []
   },
   "source": [
    "# Implementing New System Matrices"
   ]
  },
  {
   "cell_type": "code",
   "execution_count": 1,
   "id": "664a5b9e",
   "metadata": {
    "execution": {
     "iopub.execute_input": "2024-06-24T22:48:12.293659Z",
     "iopub.status.busy": "2024-06-24T22:48:12.292903Z",
     "iopub.status.idle": "2024-06-24T22:48:15.166882Z",
     "shell.execute_reply": "2024-06-24T22:48:15.166183Z"
    },
    "papermill": {
     "duration": 2.885636,
     "end_time": "2024-06-24T22:48:15.168695",
     "exception": false,
     "start_time": "2024-06-24T22:48:12.283059",
     "status": "completed"
    },
    "tags": []
   },
   "outputs": [],
   "source": [
    "import pytomography\n",
    "from pytomography.algorithms import OSEM, MLEM\n",
    "from pytomography.metadata import ObjectMeta, ProjMeta\n",
    "from pytomography.projectors import SystemMatrix\n",
    "from pytomography.likelihoods import NegativeMSELikelihood\n",
    "import matplotlib.pyplot as plt\n",
    "import torch"
   ]
  },
  {
   "cell_type": "markdown",
   "id": "608c20bb",
   "metadata": {
    "papermill": {
     "duration": 0.008866,
     "end_time": "2024-06-24T22:48:15.187323",
     "exception": false,
     "start_time": "2024-06-24T22:48:15.178457",
     "status": "completed"
    },
    "tags": []
   },
   "source": [
    "For now, we'll set `pytomography.device='cpu'` since all the objects we'll be creating/testing on will be on CPU, but this can be changed (provided all created objects are placed on GPU)."
   ]
  },
  {
   "cell_type": "code",
   "execution_count": 2,
   "id": "a5e573b5",
   "metadata": {
    "execution": {
     "iopub.execute_input": "2024-06-24T22:48:15.206450Z",
     "iopub.status.busy": "2024-06-24T22:48:15.205894Z",
     "iopub.status.idle": "2024-06-24T22:48:15.209323Z",
     "shell.execute_reply": "2024-06-24T22:48:15.208753Z"
    },
    "papermill": {
     "duration": 0.014336,
     "end_time": "2024-06-24T22:48:15.210588",
     "exception": false,
     "start_time": "2024-06-24T22:48:15.196252",
     "status": "completed"
    },
    "tags": []
   },
   "outputs": [],
   "source": [
    "pytomography.device = 'cpu'"
   ]
  },
  {
   "cell_type": "markdown",
   "id": "c8b3a6ea",
   "metadata": {
    "papermill": {
     "duration": 0.009057,
     "end_time": "2024-06-24T22:48:15.228613",
     "exception": false,
     "start_time": "2024-06-24T22:48:15.219556",
     "status": "completed"
    },
    "tags": []
   },
   "source": [
    "This tutorial demonstrates how to implement new system matrices in PyTomography that interface with all the available likelihoods/reconstruction algorithms. We will consider a very simple scenario of an imaging system where \n",
    "\n",
    "* data is acquired at two angles (0 and 90 degrees)\n",
    "* detector consists of an MxM grid that perfectly aligns with an object of shape $M \\times M \\times M$\n",
    "* each detector pixel has a different sensitivity $s_j$\n",
    "\n",
    "The value of each pixel is thus\n",
    "\n",
    "$$ p_j = s_j \\sum_{i \\in \\text{line}_j} x_i$$\n",
    "\n",
    "<img src=\"../images/example_scanner_sm.png\"  width=\"500\">\n",
    "\n",
    "\n",
    "\n",
    " We'll call this system the **Example Scanner**, (or *EXS* for short) "
   ]
  },
  {
   "cell_type": "code",
   "execution_count": 3,
   "id": "9d74de56",
   "metadata": {
    "execution": {
     "iopub.execute_input": "2024-06-24T22:48:15.247602Z",
     "iopub.status.busy": "2024-06-24T22:48:15.247220Z",
     "iopub.status.idle": "2024-06-24T22:48:15.250462Z",
     "shell.execute_reply": "2024-06-24T22:48:15.249863Z"
    },
    "papermill": {
     "duration": 0.014068,
     "end_time": "2024-06-24T22:48:15.251768",
     "exception": false,
     "start_time": "2024-06-24T22:48:15.237700",
     "status": "completed"
    },
    "tags": []
   },
   "outputs": [],
   "source": [
    "M = 3\n",
    "object_meta = ObjectMeta(dr=(1.5,1.5,1.5), shape=(M,M,M))"
   ]
  },
  {
   "cell_type": "markdown",
   "id": "622a1606",
   "metadata": {
    "papermill": {
     "duration": 0.009222,
     "end_time": "2024-06-24T22:48:15.269936",
     "exception": false,
     "start_time": "2024-06-24T22:48:15.260714",
     "status": "completed"
    },
    "tags": []
   },
   "source": [
    "The objects we consider thus have dimensions of $3 \\times 3 \\times 3$ with voxel dimensions of $1.5 \\times 1.5 \\times 1.5$. The units of the voxel dimensions can be whatever (mm/cm): their units are defined by the system matrix."
   ]
  },
  {
   "cell_type": "markdown",
   "id": "9fd14578",
   "metadata": {
    "papermill": {
     "duration": 0.030468,
     "end_time": "2024-06-24T22:48:15.309254",
     "exception": false,
     "start_time": "2024-06-24T22:48:15.278786",
     "status": "completed"
    },
    "tags": []
   },
   "source": [
    "# Example 1: Non-ListMode"
   ]
  },
  {
   "cell_type": "markdown",
   "id": "4180e797",
   "metadata": {
    "papermill": {
     "duration": 0.008811,
     "end_time": "2024-06-24T22:48:15.327020",
     "exception": false,
     "start_time": "2024-06-24T22:48:15.318209",
     "status": "completed"
    },
    "tags": []
   },
   "source": [
    "## Metadata"
   ]
  },
  {
   "cell_type": "markdown",
   "id": "4364c1e4",
   "metadata": {
    "papermill": {
     "duration": 0.008801,
     "end_time": "2024-06-24T22:48:15.344900",
     "exception": false,
     "start_time": "2024-06-24T22:48:15.336099",
     "status": "completed"
    },
    "tags": []
   },
   "source": [
    "We'll start by creating a projection metadata class which will interface with the system matrix\n",
    "* It should be a subclass of the `ProjMeta` class of PyTomography"
   ]
  },
  {
   "cell_type": "code",
   "execution_count": 4,
   "id": "1a5f16fb",
   "metadata": {
    "execution": {
     "iopub.execute_input": "2024-06-24T22:48:15.364616Z",
     "iopub.status.busy": "2024-06-24T22:48:15.364063Z",
     "iopub.status.idle": "2024-06-24T22:48:15.368403Z",
     "shell.execute_reply": "2024-06-24T22:48:15.367831Z"
    },
    "papermill": {
     "duration": 0.015476,
     "end_time": "2024-06-24T22:48:15.369626",
     "exception": false,
     "start_time": "2024-06-24T22:48:15.354150",
     "status": "completed"
    },
    "tags": []
   },
   "outputs": [],
   "source": [
    "class EXSProjMeta(ProjMeta):\n",
    "    def __init__(self, M, sensitivity_factor):\n",
    "        self.M = M\n",
    "        self.sensitivity_factor = sensitivity_factor\n",
    "        if (sensitivity_factor.shape[0]!=M)*(sensitivity_factor.shape[1]!=M):\n",
    "            raise ValueError(\"sensitivity_factor should have side dimensions M\")"
   ]
  },
  {
   "cell_type": "code",
   "execution_count": 5,
   "id": "66d71c60",
   "metadata": {
    "execution": {
     "iopub.execute_input": "2024-06-24T22:48:15.389508Z",
     "iopub.status.busy": "2024-06-24T22:48:15.389024Z",
     "iopub.status.idle": "2024-06-24T22:48:15.393884Z",
     "shell.execute_reply": "2024-06-24T22:48:15.392531Z"
    },
    "papermill": {
     "duration": 0.016136,
     "end_time": "2024-06-24T22:48:15.395257",
     "exception": false,
     "start_time": "2024-06-24T22:48:15.379121",
     "status": "completed"
    },
    "tags": []
   },
   "outputs": [],
   "source": [
    "M = object_meta.shape[0]\n",
    "# Note: the sensitivty factor is the same for each projection angle, a single detector is \"rotating\" between angle 0 and 90\n",
    "sensitivity_factor = torch.ones((M,M))+0.3*torch.rand((M,M))\n",
    "proj_meta = EXSProjMeta(M, sensitivity_factor)"
   ]
  },
  {
   "cell_type": "markdown",
   "id": "c35a1fb7",
   "metadata": {
    "papermill": {
     "duration": 0.00922,
     "end_time": "2024-06-24T22:48:15.413757",
     "exception": false,
     "start_time": "2024-06-24T22:48:15.404537",
     "status": "completed"
    },
    "tags": []
   },
   "source": [
    "## System Matrix\n",
    "\n",
    "### Part 1: Understanding the Forward/Backward PRojections"
   ]
  },
  {
   "cell_type": "markdown",
   "id": "af64ab91",
   "metadata": {
    "papermill": {
     "duration": 0.009211,
     "end_time": "2024-06-24T22:48:15.432037",
     "exception": false,
     "start_time": "2024-06-24T22:48:15.422826",
     "status": "completed"
    },
    "tags": []
   },
   "source": [
    "Before we begin to build the system matrix, lets understand the operations required to implement this system matrix. \n",
    "\n",
    "* Forward projection requires summing the object along its $x$-axis and $y$-axis respectively, and then concatenating together.\n",
    "* In PyTomography, our object is 3D, so it's shape is `[Lx,Ly,Lz]`; our projections have shape `[2,M,M]`"
   ]
  },
  {
   "cell_type": "code",
   "execution_count": 6,
   "id": "590d28dc",
   "metadata": {
    "execution": {
     "iopub.execute_input": "2024-06-24T22:48:15.450903Z",
     "iopub.status.busy": "2024-06-24T22:48:15.450408Z",
     "iopub.status.idle": "2024-06-24T22:48:15.460659Z",
     "shell.execute_reply": "2024-06-24T22:48:15.460099Z"
    },
    "papermill": {
     "duration": 0.021041,
     "end_time": "2024-06-24T22:48:15.461906",
     "exception": false,
     "start_time": "2024-06-24T22:48:15.440865",
     "status": "completed"
    },
    "tags": []
   },
   "outputs": [
    {
     "data": {
      "text/plain": [
       "torch.Size([2, 3, 3])"
      ]
     },
     "execution_count": 6,
     "metadata": {},
     "output_type": "execute_result"
    }
   ],
   "source": [
    "sample_object = torch.rand(object_meta.shape) \n",
    "# Sum object along x to get projection at 0 degrees\n",
    "sample_projection_0degrees = sample_object.sum(dim=0) * proj_meta.sensitivity_factor\n",
    "# Sum object along y to get projection at 90 degrees\n",
    "sample_projection_90degrees = sample_object.sum(dim=1) * proj_meta.sensitivity_factor\n",
    "# Concatenate to get the full set of projections\n",
    "sample_projections = torch.stack([sample_projection_0degrees, sample_projection_90degrees], dim=0)\n",
    "sample_projections.shape"
   ]
  },
  {
   "cell_type": "markdown",
   "id": "e1f378ca",
   "metadata": {
    "papermill": {
     "duration": 0.008944,
     "end_time": "2024-06-24T22:48:15.479809",
     "exception": false,
     "start_time": "2024-06-24T22:48:15.470865",
     "status": "completed"
    },
    "tags": []
   },
   "source": [
    "Let's plot the projections at each angle"
   ]
  },
  {
   "cell_type": "code",
   "execution_count": 7,
   "id": "bb35936b",
   "metadata": {
    "execution": {
     "iopub.execute_input": "2024-06-24T22:48:15.499465Z",
     "iopub.status.busy": "2024-06-24T22:48:15.498981Z",
     "iopub.status.idle": "2024-06-24T22:48:15.693984Z",
     "shell.execute_reply": "2024-06-24T22:48:15.693360Z"
    },
    "papermill": {
     "duration": 0.206439,
     "end_time": "2024-06-24T22:48:15.695393",
     "exception": false,
     "start_time": "2024-06-24T22:48:15.488954",
     "status": "completed"
    },
    "tags": []
   },
   "outputs": [
    {
     "data": {
      "image/png": "[encoded data removed]",
      "text/plain": [
       "<Figure size 400x150 with 4 Axes>"
      ]
     },
     "metadata": {},
     "output_type": "display_data"
    }
   ],
   "source": [
    "plt.figure(figsize=(4,1.5))\n",
    "plt.subplot(121)\n",
    "plt.pcolormesh(sample_projections[0].cpu().T, vmin=0, vmax=2)\n",
    "plt.colorbar()\n",
    "plt.axis('off')\n",
    "plt.title('Angle 0')\n",
    "plt.subplot(122)\n",
    "plt.pcolormesh(sample_projections[1].cpu().T, vmin=0, vmax=2)\n",
    "plt.colorbar()\n",
    "plt.axis('off')\n",
    "plt.title('Angle 90')\n",
    "plt.show()"
   ]
  },
  {
   "cell_type": "markdown",
   "id": "298ad3af",
   "metadata": {
    "papermill": {
     "duration": 0.009584,
     "end_time": "2024-06-24T22:48:15.714809",
     "exception": false,
     "start_time": "2024-06-24T22:48:15.705225",
     "status": "completed"
    },
    "tags": []
   },
   "source": [
    "* Back projection: The transpose of summing along X and Y is duplication along X and Y"
   ]
  },
  {
   "cell_type": "code",
   "execution_count": 8,
   "id": "539cdaa5",
   "metadata": {
    "execution": {
     "iopub.execute_input": "2024-06-24T22:48:15.735310Z",
     "iopub.status.busy": "2024-06-24T22:48:15.734882Z",
     "iopub.status.idle": "2024-06-24T22:48:15.739594Z",
     "shell.execute_reply": "2024-06-24T22:48:15.739014Z"
    },
    "papermill": {
     "duration": 0.016894,
     "end_time": "2024-06-24T22:48:15.740810",
     "exception": false,
     "start_time": "2024-06-24T22:48:15.723916",
     "status": "completed"
    },
    "tags": []
   },
   "outputs": [],
   "source": [
    "# First adjust projections by sensitivity factor\n",
    "sample_projections_angle_0_sensitivity_adjusted = sample_projections[0]*proj_meta.sensitivity_factor\n",
    "# Back project at angle 0 by duplication\n",
    "sample_object_BP_angle0 = sample_projections_angle_0_sensitivity_adjusted.unsqueeze(0).repeat(object_meta.shape[0],1,1)\n",
    "# Back project at angle 90 by duplication\n",
    "sample_projections_angle_90_sensitivity_adjusted = sample_projections[1]*proj_meta.sensitivity_factor\n",
    "sample_object_BP_angle90 = sample_projections_angle_90_sensitivity_adjusted.unsqueeze(1).repeat(1,object_meta.shape[0],1)\n",
    "# Back projected object is sum of each\n",
    "sample_object_BP = sample_object_BP_angle0 + sample_object_BP_angle90"
   ]
  },
  {
   "cell_type": "code",
   "execution_count": 9,
   "id": "189754b7",
   "metadata": {
    "execution": {
     "iopub.execute_input": "2024-06-24T22:48:15.760587Z",
     "iopub.status.busy": "2024-06-24T22:48:15.760125Z",
     "iopub.status.idle": "2024-06-24T22:48:15.807304Z",
     "shell.execute_reply": "2024-06-24T22:48:15.806749Z"
    },
    "papermill": {
     "duration": 0.058391,
     "end_time": "2024-06-24T22:48:15.808604",
     "exception": false,
     "start_time": "2024-06-24T22:48:15.750213",
     "status": "completed"
    },
    "tags": []
   },
   "outputs": [
    {
     "data": {
      "image/png": "[encoded data removed]",
      "text/plain": [
       "<Figure size 200x200 with 1 Axes>"
      ]
     },
     "metadata": {},
     "output_type": "display_data"
    }
   ],
   "source": [
    "plt.figure(figsize=(2,2))\n",
    "plt.title('Top Z-Slice BP')\n",
    "plt.pcolormesh(sample_object_BP[:,:,-1].T)\n",
    "plt.axis('off')\n",
    "plt.show()"
   ]
  },
  {
   "cell_type": "markdown",
   "id": "48019e0f",
   "metadata": {
    "papermill": {
     "duration": 0.009294,
     "end_time": "2024-06-24T22:48:15.827570",
     "exception": false,
     "start_time": "2024-06-24T22:48:15.818276",
     "status": "completed"
    },
    "tags": []
   },
   "source": [
    "### Part 2: Implementing The Forward/Backward Projections in the System Matrix Class"
   ]
  },
  {
   "cell_type": "markdown",
   "id": "3be6e522",
   "metadata": {
    "papermill": {
     "duration": 0.00931,
     "end_time": "2024-06-24T22:48:15.846216",
     "exception": false,
     "start_time": "2024-06-24T22:48:15.836906",
     "status": "completed"
    },
    "tags": []
   },
   "source": [
    "We can now create a system matrix class that implements forward and back projection\n",
    "\n",
    "* We inherit from the `SystemMatrix` class of PyTomography\n",
    "* The method for forward projection should be called `forward`, while the method for back projection should be called `backward`"
   ]
  },
  {
   "cell_type": "code",
   "execution_count": 10,
   "id": "65933c32",
   "metadata": {
    "execution": {
     "iopub.execute_input": "2024-06-24T22:48:15.866350Z",
     "iopub.status.busy": "2024-06-24T22:48:15.865801Z",
     "iopub.status.idle": "2024-06-24T22:48:15.870880Z",
     "shell.execute_reply": "2024-06-24T22:48:15.870261Z"
    },
    "papermill": {
     "duration": 0.016669,
     "end_time": "2024-06-24T22:48:15.872257",
     "exception": false,
     "start_time": "2024-06-24T22:48:15.855588",
     "status": "completed"
    },
    "tags": []
   },
   "outputs": [],
   "source": [
    "class EXSSystemMatrix(SystemMatrix):\n",
    "    def forward(self, object, subset_idx = None):\n",
    "        projection_0degrees = object.sum(dim=0)\n",
    "        projection_90degrees = object.sum(dim=1)\n",
    "        projections = torch.stack([projection_0degrees, projection_90degrees], dim=0)\n",
    "        projections *= self.proj_meta.sensitivity_factor\n",
    "        return projections\n",
    "    def backward(self, projections, subset_idx = None):\n",
    "        object_BP_angle0 = (projections[0]*self.proj_meta.sensitivity_factor).unsqueeze(0).repeat(self.proj_meta.M,1,1)\n",
    "        object_BP_angle90 = (projections[1]*self.proj_meta.sensitivity_factor).unsqueeze(1).repeat(1,self.proj_meta.M,1)\n",
    "        object_BP = object_BP_angle0 + object_BP_angle90\n",
    "        return object_BP"
   ]
  },
  {
   "cell_type": "markdown",
   "id": "2da28fc9",
   "metadata": {
    "papermill": {
     "duration": 0.009399,
     "end_time": "2024-06-24T22:48:15.891143",
     "exception": false,
     "start_time": "2024-06-24T22:48:15.881744",
     "status": "completed"
    },
    "tags": []
   },
   "source": [
    "This system matrix can now be used for forward/backward projection"
   ]
  },
  {
   "cell_type": "code",
   "execution_count": 11,
   "id": "6902f897",
   "metadata": {
    "execution": {
     "iopub.execute_input": "2024-06-24T22:48:15.910946Z",
     "iopub.status.busy": "2024-06-24T22:48:15.910533Z",
     "iopub.status.idle": "2024-06-24T22:48:15.914190Z",
     "shell.execute_reply": "2024-06-24T22:48:15.913594Z"
    },
    "papermill": {
     "duration": 0.014865,
     "end_time": "2024-06-24T22:48:15.915427",
     "exception": false,
     "start_time": "2024-06-24T22:48:15.900562",
     "status": "completed"
    },
    "tags": []
   },
   "outputs": [],
   "source": [
    "system_matrix = EXSSystemMatrix(object_meta=object_meta, proj_meta=proj_meta)\n",
    "FP = system_matrix.forward(sample_object)\n",
    "BP = system_matrix.forward(sample_object)"
   ]
  },
  {
   "cell_type": "markdown",
   "id": "003cc694",
   "metadata": {
    "papermill": {
     "duration": 0.009456,
     "end_time": "2024-06-24T22:48:15.934635",
     "exception": false,
     "start_time": "2024-06-24T22:48:15.925179",
     "status": "completed"
    },
    "tags": []
   },
   "source": [
    "In order to use the system matrix in reconstruction algorithms, one of the requirements is the computation of a normalization factor $H^T 1$. For this, we need to define the `compute_normalization_factor` method:"
   ]
  },
  {
   "cell_type": "code",
   "execution_count": 12,
   "id": "b60c3988",
   "metadata": {
    "execution": {
     "iopub.execute_input": "2024-06-24T22:48:15.955414Z",
     "iopub.status.busy": "2024-06-24T22:48:15.955026Z",
     "iopub.status.idle": "2024-06-24T22:48:15.960367Z",
     "shell.execute_reply": "2024-06-24T22:48:15.959816Z"
    },
    "papermill": {
     "duration": 0.017479,
     "end_time": "2024-06-24T22:48:15.961543",
     "exception": false,
     "start_time": "2024-06-24T22:48:15.944064",
     "status": "completed"
    },
    "tags": []
   },
   "outputs": [],
   "source": [
    "class EXSSystemMatrix(SystemMatrix):\n",
    "    def compute_normalization_factor(self):\n",
    "        # A clever implementation of this function will only compute the normalization factor once, and then store it for future use (e.g. using a boolean flag)\n",
    "        norm_projections = torch.ones((2,self.proj_meta.M, self.proj_meta.M))\n",
    "        return self.backward(norm_projections)\n",
    "    def forward(self, object, subset_idx = None):\n",
    "        projection_0degrees = object.sum(dim=0)\n",
    "        projection_90degrees = object.sum(dim=1)\n",
    "        projections = torch.stack([projection_0degrees, projection_90degrees], dim=0)\n",
    "        projections *= self.proj_meta.sensitivity_factor\n",
    "        return projections\n",
    "    def backward(self, projections, subset_idx = None):\n",
    "        object_BP_angle0 = (projections[0]*self.proj_meta.sensitivity_factor).unsqueeze(0).repeat(self.proj_meta.M,1,1)\n",
    "        object_BP_angle90 = (projections[1]*self.proj_meta.sensitivity_factor).unsqueeze(1).repeat(1,self.proj_meta.M,1)\n",
    "        object_BP = object_BP_angle0 + object_BP_angle90\n",
    "        return object_BP"
   ]
  },
  {
   "cell_type": "markdown",
   "id": "43a98f9c",
   "metadata": {
    "papermill": {
     "duration": 0.009656,
     "end_time": "2024-06-24T22:48:15.980775",
     "exception": false,
     "start_time": "2024-06-24T22:48:15.971119",
     "status": "completed"
    },
    "tags": []
   },
   "source": [
    "Then we can compute the normalization factor as follows:"
   ]
  },
  {
   "cell_type": "code",
   "execution_count": 13,
   "id": "0d12725e",
   "metadata": {
    "execution": {
     "iopub.execute_input": "2024-06-24T22:48:16.002496Z",
     "iopub.status.busy": "2024-06-24T22:48:16.002010Z",
     "iopub.status.idle": "2024-06-24T22:48:16.005432Z",
     "shell.execute_reply": "2024-06-24T22:48:16.004857Z"
    },
    "papermill": {
     "duration": 0.016415,
     "end_time": "2024-06-24T22:48:16.006771",
     "exception": false,
     "start_time": "2024-06-24T22:48:15.990356",
     "status": "completed"
    },
    "tags": []
   },
   "outputs": [],
   "source": [
    "system_matrix = EXSSystemMatrix(object_meta=object_meta, proj_meta=proj_meta)\n",
    "norm_factor = system_matrix.compute_normalization_factor()"
   ]
  },
  {
   "cell_type": "code",
   "execution_count": 14,
   "id": "75a1f5ec",
   "metadata": {
    "execution": {
     "iopub.execute_input": "2024-06-24T22:48:16.027012Z",
     "iopub.status.busy": "2024-06-24T22:48:16.026362Z",
     "iopub.status.idle": "2024-06-24T22:48:16.128114Z",
     "shell.execute_reply": "2024-06-24T22:48:16.127480Z"
    },
    "papermill": {
     "duration": 0.113299,
     "end_time": "2024-06-24T22:48:16.129502",
     "exception": false,
     "start_time": "2024-06-24T22:48:16.016203",
     "status": "completed"
    },
    "tags": []
   },
   "outputs": [
    {
     "data": {
      "image/png": "[encoded data removed]",
      "text/plain": [
       "<Figure size 200x200 with 2 Axes>"
      ]
     },
     "metadata": {},
     "output_type": "display_data"
    }
   ],
   "source": [
    "plt.figure(figsize=(2,2))\n",
    "plt.title('Top Z-Slice Norm')\n",
    "plt.pcolormesh(norm_factor[:,:,-1].T)\n",
    "plt.colorbar()\n",
    "plt.axis('off')\n",
    "plt.show()"
   ]
  },
  {
   "cell_type": "markdown",
   "id": "f464c7b7",
   "metadata": {
    "papermill": {
     "duration": 0.009618,
     "end_time": "2024-06-24T22:48:16.149530",
     "exception": false,
     "start_time": "2024-06-24T22:48:16.139912",
     "status": "completed"
    },
    "tags": []
   },
   "source": [
    "Now that the system matrix has been defined, we can reconstruct using the available reconstruction algorithms (up to this point, we haven't defined any subset functionality, so we can only use non-subset based algorithms) "
   ]
  },
  {
   "cell_type": "code",
   "execution_count": 15,
   "id": "345794a5",
   "metadata": {
    "execution": {
     "iopub.execute_input": "2024-06-24T22:48:16.170672Z",
     "iopub.status.busy": "2024-06-24T22:48:16.170059Z",
     "iopub.status.idle": "2024-06-24T22:48:16.173634Z",
     "shell.execute_reply": "2024-06-24T22:48:16.173042Z"
    },
    "papermill": {
     "duration": 0.015828,
     "end_time": "2024-06-24T22:48:16.175047",
     "exception": false,
     "start_time": "2024-06-24T22:48:16.159219",
     "status": "completed"
    },
    "tags": []
   },
   "outputs": [],
   "source": [
    "sample_object = torch.rand(object_meta.shape) # object has batch dimension\n",
    "sample_projections = system_matrix.forward(sample_object)"
   ]
  },
  {
   "cell_type": "code",
   "execution_count": 16,
   "id": "dc1136c9",
   "metadata": {
    "execution": {
     "iopub.execute_input": "2024-06-24T22:48:16.195688Z",
     "iopub.status.busy": "2024-06-24T22:48:16.195298Z",
     "iopub.status.idle": "2024-06-24T22:48:16.199238Z",
     "shell.execute_reply": "2024-06-24T22:48:16.198601Z"
    },
    "papermill": {
     "duration": 0.015745,
     "end_time": "2024-06-24T22:48:16.200632",
     "exception": false,
     "start_time": "2024-06-24T22:48:16.184887",
     "status": "completed"
    },
    "tags": []
   },
   "outputs": [],
   "source": [
    "# Define system matrix\n",
    "system_matrix = EXSSystemMatrix(object_meta=object_meta, proj_meta=proj_meta)\n",
    "# Define likelihood that characterizes measured data (for SPECT/PET, this is PoissonLog, but here we'll use NegativeMSE)\n",
    "likelihood = NegativeMSELikelihood(system_matrix, projections=sample_projections, scaling_constant=0.01)\n",
    "# Define \n",
    "reconstruction_algorithm = MLEM(likelihood)"
   ]
  },
  {
   "cell_type": "code",
   "execution_count": 17,
   "id": "2385a26b",
   "metadata": {
    "execution": {
     "iopub.execute_input": "2024-06-24T22:48:16.221809Z",
     "iopub.status.busy": "2024-06-24T22:48:16.221300Z",
     "iopub.status.idle": "2024-06-24T22:48:16.238135Z",
     "shell.execute_reply": "2024-06-24T22:48:16.237485Z"
    },
    "papermill": {
     "duration": 0.02939,
     "end_time": "2024-06-24T22:48:16.240037",
     "exception": false,
     "start_time": "2024-06-24T22:48:16.210647",
     "status": "completed"
    },
    "tags": []
   },
   "outputs": [],
   "source": [
    "recon = reconstruction_algorithm(n_iters=40)"
   ]
  },
  {
   "cell_type": "markdown",
   "id": "bb5e6b72",
   "metadata": {
    "papermill": {
     "duration": 0.010289,
     "end_time": "2024-06-24T22:48:16.260599",
     "exception": false,
     "start_time": "2024-06-24T22:48:16.250310",
     "status": "completed"
    },
    "tags": []
   },
   "source": [
    "In this case our system matrix is underdetermined so we have no way of ensuring we get the right solution"
   ]
  },
  {
   "cell_type": "code",
   "execution_count": 18,
   "id": "30ff4c3c",
   "metadata": {
    "execution": {
     "iopub.execute_input": "2024-06-24T22:48:16.284260Z",
     "iopub.status.busy": "2024-06-24T22:48:16.283722Z",
     "iopub.status.idle": "2024-06-24T22:48:16.456316Z",
     "shell.execute_reply": "2024-06-24T22:48:16.455722Z"
    },
    "papermill": {
     "duration": 0.186922,
     "end_time": "2024-06-24T22:48:16.457798",
     "exception": false,
     "start_time": "2024-06-24T22:48:16.270876",
     "status": "completed"
    },
    "tags": []
   },
   "outputs": [
    {
     "data": {
      "text/plain": [
       "<matplotlib.colorbar.Colorbar at 0x7fc4dc0bce10>"
      ]
     },
     "execution_count": 18,
     "metadata": {},
     "output_type": "execute_result"
    },
    {
     "data": {
      "image/png": "[encoded data removed]",
      "text/plain": [
       "<Figure size 400x200 with 4 Axes>"
      ]
     },
     "metadata": {},
     "output_type": "display_data"
    }
   ],
   "source": [
    "plt.figure(figsize=(4,2))\n",
    "plt.subplot(121)\n",
    "plt.pcolormesh(sample_object[:,:,0], vmin=0, vmax=1)\n",
    "plt.axis('off')\n",
    "plt.colorbar()\n",
    "plt.subplot(122)\n",
    "plt.pcolormesh(recon[:,:,0])\n",
    "plt.axis('off')\n",
    "plt.colorbar()"
   ]
  },
  {
   "cell_type": "markdown",
   "id": "1b6d7e80",
   "metadata": {
    "papermill": {
     "duration": 0.009998,
     "end_time": "2024-06-24T22:48:16.478868",
     "exception": false,
     "start_time": "2024-06-24T22:48:16.468870",
     "status": "completed"
    },
    "tags": []
   },
   "source": [
    "### Part 3: Incorporating Subsets"
   ]
  },
  {
   "cell_type": "markdown",
   "id": "f8d501ea",
   "metadata": {
    "papermill": {
     "duration": 0.010104,
     "end_time": "2024-06-24T22:48:16.499060",
     "exception": false,
     "start_time": "2024-06-24T22:48:16.488956",
     "status": "completed"
    },
    "tags": []
   },
   "source": [
    "Up until now, we've ignored the `subset_idx` which specifies how projection data can be split into subsets in ordered subset based reconstruction algorithms. In such algorithms, the projection data is split up into disjoint subsets: in SPECT/PET, one typically partitions using the projection angle. We will do the same thing here, giving the option of `subset_idx=0` for the first projection angle and `subset_idx=1` for the second:"
   ]
  },
  {
   "cell_type": "code",
   "execution_count": 19,
   "id": "880773c9",
   "metadata": {
    "execution": {
     "iopub.execute_input": "2024-06-24T22:48:16.521889Z",
     "iopub.status.busy": "2024-06-24T22:48:16.521456Z",
     "iopub.status.idle": "2024-06-24T22:48:16.527537Z",
     "shell.execute_reply": "2024-06-24T22:48:16.526980Z"
    },
    "papermill": {
     "duration": 0.018212,
     "end_time": "2024-06-24T22:48:16.528762",
     "exception": false,
     "start_time": "2024-06-24T22:48:16.510550",
     "status": "completed"
    },
    "tags": []
   },
   "outputs": [],
   "source": [
    "class EXSSystemMatrix(SystemMatrix):\n",
    "    def compute_normalization_factor(self):\n",
    "        norm_projections = torch.ones((2,self.proj_meta.M, self.proj_meta.M))\n",
    "        return self.backward(norm_projections)\n",
    "    def forward(self, object, subset_idx = None):\n",
    "        projection_0degrees = object.sum(dim=0)\n",
    "        projection_90degrees = object.sum(dim=0)\n",
    "        if subset_idx==0:\n",
    "            projections = projection_0degrees\n",
    "        elif subset_idx==1:\n",
    "            projections = projection_90degrees\n",
    "        else:\n",
    "            projections = torch.stack([projection_0degrees, projection_90degrees], dim=0)\n",
    "        projections *= self.proj_meta.sensitivity_factor\n",
    "        return projections\n",
    "    def backward(self, proj, subset_idx = None):\n",
    "        # Back projection expects projections in their subset\n",
    "        if subset_idx is not None:\n",
    "            object_BP = (proj[0]*self.proj_meta.sensitivity_factor).unsqueeze(subset_idx).repeat_interleave(self.proj_meta.M, subset_idx)\n",
    "        else:\n",
    "            object_BP_angle0 = (proj[0]*self.proj_meta.sensitivity_factor).unsqueeze(0).repeat(self.proj_meta.M,1,1)\n",
    "            object_BP_angle90 = (proj[1]*self.proj_meta.sensitivity_factor).unsqueeze(1).repeat(1,self.proj_meta.M,1)\n",
    "            object_BP = object_BP_angle0 + object_BP_angle90\n",
    "        return object_BP"
   ]
  },
  {
   "cell_type": "code",
   "execution_count": 20,
   "id": "0e7d5b2f",
   "metadata": {
    "execution": {
     "iopub.execute_input": "2024-06-24T22:48:16.550265Z",
     "iopub.status.busy": "2024-06-24T22:48:16.549764Z",
     "iopub.status.idle": "2024-06-24T22:48:16.553972Z",
     "shell.execute_reply": "2024-06-24T22:48:16.553404Z"
    },
    "papermill": {
     "duration": 0.016133,
     "end_time": "2024-06-24T22:48:16.555231",
     "exception": false,
     "start_time": "2024-06-24T22:48:16.539098",
     "status": "completed"
    },
    "tags": []
   },
   "outputs": [],
   "source": [
    "system_matrix = EXSSystemMatrix(object_meta=object_meta, proj_meta=proj_meta)\n",
    "FP_subset0 = system_matrix.forward(sample_object, subset_idx=0)\n",
    "FP_subset1 = system_matrix.forward(sample_object, subset_idx=1)\n",
    "BP_subset0 = system_matrix.backward(FP_subset0, subset_idx=0)\n",
    "BP_subset1 = system_matrix.backward(FP_subset0, subset_idx=1)"
   ]
  },
  {
   "cell_type": "code",
   "execution_count": 21,
   "id": "847a197b",
   "metadata": {
    "execution": {
     "iopub.execute_input": "2024-06-24T22:48:16.577356Z",
     "iopub.status.busy": "2024-06-24T22:48:16.576825Z",
     "iopub.status.idle": "2024-06-24T22:48:16.660727Z",
     "shell.execute_reply": "2024-06-24T22:48:16.660059Z"
    },
    "papermill": {
     "duration": 0.096591,
     "end_time": "2024-06-24T22:48:16.662175",
     "exception": false,
     "start_time": "2024-06-24T22:48:16.565584",
     "status": "completed"
    },
    "tags": []
   },
   "outputs": [
    {
     "data": {
      "image/png": "[encoded data removed]",
      "text/plain": [
       "<Figure size 400x200 with 2 Axes>"
      ]
     },
     "metadata": {},
     "output_type": "display_data"
    }
   ],
   "source": [
    "plt.figure(figsize=(4,2))\n",
    "plt.subplot(121)\n",
    "plt.title('Top Z-Slice BP Sub0')\n",
    "plt.pcolormesh(BP_subset0[:,:,-1].T)\n",
    "plt.axis('off')\n",
    "plt.subplot(122)\n",
    "plt.title('Top Z-Slice BP Sub1')\n",
    "plt.pcolormesh(BP_subset1[:,:,-1].T)\n",
    "plt.axis('off')\n",
    "plt.show()"
   ]
  },
  {
   "cell_type": "markdown",
   "id": "341ec6bb",
   "metadata": {
    "papermill": {
     "duration": 0.010345,
     "end_time": "2024-06-24T22:48:16.683771",
     "exception": false,
     "start_time": "2024-06-24T22:48:16.673426",
     "status": "completed"
    },
    "tags": []
   },
   "source": [
    "There are a couple other methods we need to implement for subset based image reconstruction algorithms:\n",
    "* `set_n_subsets`: Sets the number of \"subsets\" used in an iterative reconstruction algorithm. This requires partitioning the projection data into N distinct subsets. In general, the way in which this is done depends on the particular imaging modality (in SPECT/PET, one typically partitions using the projection angle).In our case, we have only set up our forward/back projectors to consider 2 subsets (we only have two possible angles). More advanced system matrices will need to consider implementation of arbitrary numbers of subsets \n",
    "* `get_projection_subset`: Returns the projection data corresponding to the ith subset \n",
    "* `get_weighting_subset`: This is used for scaling prior functions used in Bayesian reconstruction algorithms. It should be equal to the fraction of data elements in the particular subset. (For $N$ even subsets, this factor is $1/N$ for each subset, but sometimes the subsets aren't even)\n",
    "* We need to modify `compute_normalization_factor` so it can get the normalization factor of the $m$ th subset"
   ]
  },
  {
   "cell_type": "code",
   "execution_count": 22,
   "id": "c697007d",
   "metadata": {
    "execution": {
     "iopub.execute_input": "2024-06-24T22:48:16.706322Z",
     "iopub.status.busy": "2024-06-24T22:48:16.706021Z",
     "iopub.status.idle": "2024-06-24T22:48:16.713339Z",
     "shell.execute_reply": "2024-06-24T22:48:16.712768Z"
    },
    "papermill": {
     "duration": 0.020159,
     "end_time": "2024-06-24T22:48:16.714649",
     "exception": false,
     "start_time": "2024-06-24T22:48:16.694490",
     "status": "completed"
    },
    "tags": []
   },
   "outputs": [],
   "source": [
    "class EXSSystemMatrix(SystemMatrix):\n",
    "    # ----\n",
    "    # NEW METHODS\n",
    "    # ----\n",
    "    def set_n_subsets(self, n_subsets):\n",
    "        self.n_subsets = n_subsets\n",
    "    def get_projection_subset(self, projections, subset_idx):\n",
    "        # Called when n_subsets>1 in internal pytomography code, in this case, assumes 2 subsets since thats the only possible number of subsets we have. In general, this should split data evenly (see SPECTSystemMatrix source code)\n",
    "        return projections[subset_idx].unsqueeze(0)\n",
    "    def compute_normalization_factor(self, subset_idx = None):\n",
    "        # This function generally looks the same for all system matrices\n",
    "        norm_projections = torch.ones((2,self.proj_meta.M, self.proj_meta.M))\n",
    "        if subset_idx is not None:\n",
    "            norm_projections = self.get_projection_subset(norm_projections, subset_idx)\n",
    "        return self.backward(norm_projections, subset_idx)\n",
    "    def get_weighting_subset(self, subset_idx):\n",
    "        if subset_idx is None:\n",
    "            return 1\n",
    "        elif self.n_subsets==2:\n",
    "            return 0.5 # equal weighting in this case, in general need to be careful with this\n",
    "    # ----\n",
    "    # SAME AS PREVIOUS\n",
    "    # ----\n",
    "    def forward(self, object, subset_idx = None):\n",
    "        projection_0degrees = object.sum(dim=0)\n",
    "        projection_90degrees = object.sum(dim=0)\n",
    "        if subset_idx==0:\n",
    "            projections = projection_0degrees\n",
    "        elif subset_idx==1:\n",
    "            projections = projection_90degrees\n",
    "        else:\n",
    "            projections = torch.stack([projection_0degrees, projection_90degrees], dim=0)\n",
    "        projections *= self.proj_meta.sensitivity_factor\n",
    "        return projections\n",
    "    def backward(self, proj, subset_idx = None):\n",
    "        # Back projection expects projections in their subset\n",
    "        if subset_idx is not None:\n",
    "            object_BP = (proj[0]*self.proj_meta.sensitivity_factor).unsqueeze(subset_idx).repeat_interleave(self.proj_meta.M, subset_idx)\n",
    "        else:\n",
    "            object_BP_angle0 = (proj[0]*self.proj_meta.sensitivity_factor).unsqueeze(0).repeat(self.proj_meta.M,1,1)\n",
    "            object_BP_angle90 = (proj[1]*self.proj_meta.sensitivity_factor).unsqueeze(1).repeat(1,self.proj_meta.M,1)\n",
    "            object_BP = object_BP_angle0 + object_BP_angle90\n",
    "        return object_BP"
   ]
  },
  {
   "cell_type": "code",
   "execution_count": 23,
   "id": "96b4bc58",
   "metadata": {
    "execution": {
     "iopub.execute_input": "2024-06-24T22:48:16.736765Z",
     "iopub.status.busy": "2024-06-24T22:48:16.736234Z",
     "iopub.status.idle": "2024-06-24T22:48:16.739462Z",
     "shell.execute_reply": "2024-06-24T22:48:16.738827Z"
    },
    "papermill": {
     "duration": 0.015675,
     "end_time": "2024-06-24T22:48:16.740759",
     "exception": false,
     "start_time": "2024-06-24T22:48:16.725084",
     "status": "completed"
    },
    "tags": []
   },
   "outputs": [],
   "source": [
    "system_matrix = EXSSystemMatrix(object_meta=object_meta, proj_meta=proj_meta)"
   ]
  },
  {
   "cell_type": "markdown",
   "id": "55228d8e",
   "metadata": {
    "papermill": {
     "duration": 0.01038,
     "end_time": "2024-06-24T22:48:16.761669",
     "exception": false,
     "start_time": "2024-06-24T22:48:16.751289",
     "status": "completed"
    },
    "tags": []
   },
   "source": [
    "Our system matrix can now be used in reconstruction algorithms. Let's reconstruct our simulated data. Like the tutorials online, we now create a likelihood function and then a reconstruction algorithm:"
   ]
  },
  {
   "cell_type": "code",
   "execution_count": 24,
   "id": "47d21aef",
   "metadata": {
    "execution": {
     "iopub.execute_input": "2024-06-24T22:48:16.783223Z",
     "iopub.status.busy": "2024-06-24T22:48:16.782871Z",
     "iopub.status.idle": "2024-06-24T22:48:16.786173Z",
     "shell.execute_reply": "2024-06-24T22:48:16.785559Z"
    },
    "papermill": {
     "duration": 0.015616,
     "end_time": "2024-06-24T22:48:16.787550",
     "exception": false,
     "start_time": "2024-06-24T22:48:16.771934",
     "status": "completed"
    },
    "tags": []
   },
   "outputs": [],
   "source": [
    "sample_object = torch.rand(object_meta.shape) # object has batch dimension\n",
    "sample_projections = system_matrix.forward(sample_object)"
   ]
  },
  {
   "cell_type": "code",
   "execution_count": 25,
   "id": "9d4bfbea",
   "metadata": {
    "execution": {
     "iopub.execute_input": "2024-06-24T22:48:16.809251Z",
     "iopub.status.busy": "2024-06-24T22:48:16.808876Z",
     "iopub.status.idle": "2024-06-24T22:48:16.812264Z",
     "shell.execute_reply": "2024-06-24T22:48:16.811718Z"
    },
    "papermill": {
     "duration": 0.015623,
     "end_time": "2024-06-24T22:48:16.813575",
     "exception": false,
     "start_time": "2024-06-24T22:48:16.797952",
     "status": "completed"
    },
    "tags": []
   },
   "outputs": [],
   "source": [
    "system_matrix = EXSSystemMatrix(object_meta=object_meta, proj_meta=proj_meta)\n",
    "likelihood = NegativeMSELikelihood(system_matrix, projections=sample_projections, scaling_constant=0.01)\n",
    "reconstruction_algorithm = OSEM(likelihood)"
   ]
  },
  {
   "cell_type": "code",
   "execution_count": 26,
   "id": "fc7c44b2",
   "metadata": {
    "execution": {
     "iopub.execute_input": "2024-06-24T22:48:16.835515Z",
     "iopub.status.busy": "2024-06-24T22:48:16.835138Z",
     "iopub.status.idle": "2024-06-24T22:48:16.852322Z",
     "shell.execute_reply": "2024-06-24T22:48:16.851742Z"
    },
    "papermill": {
     "duration": 0.029772,
     "end_time": "2024-06-24T22:48:16.853714",
     "exception": false,
     "start_time": "2024-06-24T22:48:16.823942",
     "status": "completed"
    },
    "tags": []
   },
   "outputs": [],
   "source": [
    "recon = reconstruction_algorithm(n_iters=40, n_subsets=2)"
   ]
  },
  {
   "cell_type": "code",
   "execution_count": 27,
   "id": "a2b79907",
   "metadata": {
    "execution": {
     "iopub.execute_input": "2024-06-24T22:48:16.875893Z",
     "iopub.status.busy": "2024-06-24T22:48:16.875441Z",
     "iopub.status.idle": "2024-06-24T22:48:17.056795Z",
     "shell.execute_reply": "2024-06-24T22:48:17.056125Z"
    },
    "papermill": {
     "duration": 0.194114,
     "end_time": "2024-06-24T22:48:17.058240",
     "exception": false,
     "start_time": "2024-06-24T22:48:16.864126",
     "status": "completed"
    },
    "tags": []
   },
   "outputs": [
    {
     "data": {
      "text/plain": [
       "<matplotlib.collections.QuadMesh at 0x7fc4dbfd4b90>"
      ]
     },
     "execution_count": 27,
     "metadata": {},
     "output_type": "execute_result"
    },
    {
     "data": {
      "image/png": "[encoded data removed]",
      "text/plain": [
       "<Figure size 400x200 with 2 Axes>"
      ]
     },
     "metadata": {},
     "output_type": "display_data"
    }
   ],
   "source": [
    "plt.figure(figsize=(4,2))\n",
    "plt.subplot(121)\n",
    "plt.pcolormesh(sample_object[:,:,-1])\n",
    "plt.subplot(122)\n",
    "plt.pcolormesh(recon[:,:,-1])"
   ]
  },
  {
   "cell_type": "markdown",
   "id": "33e97a20",
   "metadata": {
    "papermill": {
     "duration": 0.010749,
     "end_time": "2024-06-24T22:48:17.080448",
     "exception": false,
     "start_time": "2024-06-24T22:48:17.069699",
     "status": "completed"
    },
    "tags": []
   },
   "source": [
    "# Example 2: List Mode System Matrices"
   ]
  },
  {
   "cell_type": "markdown",
   "id": "bb66c947",
   "metadata": {
    "papermill": {
     "duration": 0.010603,
     "end_time": "2024-06-24T22:48:17.101915",
     "exception": false,
     "start_time": "2024-06-24T22:48:17.091312",
     "status": "completed"
    },
    "tags": []
   },
   "source": [
    "Modalities containing listmode data can also be implemented in PyTomography; their implementation may look slightly different than above, however. Regardless, if implemented properly, they are still usable with all available reconstruction algorithms\n",
    "\n",
    "For our simple imaging system, listmode data might be stored via a list of integers where each integer specifies a given pixel in projection space. Since we have 2 projections, each with $M \\times M$ pixels, the total number of detector elements is $2M^2$.\n",
    "\n",
    "We can simulate 100 random events as follows (in reality, a more sophisticated program, such as GATE, would be required to give a proper distribution according to a specific phantom/source distribution)"
   ]
  },
  {
   "cell_type": "code",
   "execution_count": 28,
   "id": "49218215",
   "metadata": {
    "execution": {
     "iopub.execute_input": "2024-06-24T22:48:17.124679Z",
     "iopub.status.busy": "2024-06-24T22:48:17.124215Z",
     "iopub.status.idle": "2024-06-24T22:48:17.130829Z",
     "shell.execute_reply": "2024-06-24T22:48:17.130282Z"
    },
    "papermill": {
     "duration": 0.01946,
     "end_time": "2024-06-24T22:48:17.132049",
     "exception": false,
     "start_time": "2024-06-24T22:48:17.112589",
     "status": "completed"
    },
    "tags": []
   },
   "outputs": [
    {
     "data": {
      "text/plain": [
       "tensor([16,  2, 12, 13,  4,  5,  2, 11, 14,  0,  3,  1,  6,  8,  1,  4,  4, 17,\n",
       "        13, 16,  2,  1,  4, 17, 16,  2, 15,  8,  4,  5,  5,  1,  4,  7,  4,  4,\n",
       "         5,  4, 11,  6,  2, 13,  4,  8,  3,  0,  3,  1,  9, 13,  3,  8,  7,  6,\n",
       "         9, 11, 11,  9,  7,  6,  1,  4,  0, 13,  6,  5, 14, 14,  3, 16, 14,  5,\n",
       "         3,  7,  4, 14, 12, 11, 15,  9, 12,  2,  5,  3,  5, 17, 12, 16, 14, 12,\n",
       "         4,  0,  4,  0,  3,  8,  1,  5, 12,  9,  5, 10,  2,  2, 11,  5, 11,  6,\n",
       "        15,  6, 11,  3,  2,  6,  8,  4,  9, 11,  8,  8,  4,  3,  9,  6,  0,  4,\n",
       "         5, 11,  5, 13,  0, 11, 11,  4, 13,  7,  4,  8, 17,  3, 16, 13,  2, 16,\n",
       "         8,  4,  4, 14,  0,  3,  6, 14, 16,  3,  6, 13,  6, 17,  9,  8,  2,  3,\n",
       "         4,  5,  1, 12,  3,  2,  6,  9,  1,  4,  2,  0,  6,  3, 11,  8,  5, 11,\n",
       "         0, 17,  6, 15,  7, 11, 11,  1, 14,  4,  7,  6,  9, 10, 13,  6, 13,  5,\n",
       "        15,  1,  5, 11, 12,  4, 11, 16, 10, 10, 14, 15, 12, 17,  2,  0,  4,  7,\n",
       "        11,  2, 15,  5, 10,  5, 12,  6,  4,  6,  1,  9,  6, 15,  5, 16, 15,  8,\n",
       "        16,  9,  4, 14, 16,  8,  5,  9,  7, 15, 11,  0,  7,  1,  1,  0,  4,  2,\n",
       "         0, 10,  2, 16,  2,  7,  8,  2,  0,  2, 11,  2, 10,  4, 10, 13, 12, 12,\n",
       "        15, 17, 10,  5,  7,  0, 10, 13, 16,  1,  5, 15, 14, 15,  2, 14, 11,  9,\n",
       "         7, 14,  8,  5, 11,  5, 10,  7,  7,  5,  5,  8,  4, 14,  4, 13, 17,  3,\n",
       "        14,  7,  3, 12, 10, 10,  5, 15, 15, 15,  6,  0, 16,  2, 16, 14,  5,  9,\n",
       "         7,  8, 10,  9,  2, 15, 12, 15,  6,  2,  5,  9,  3,  2,  5,  4,  2, 16,\n",
       "         0, 15,  6,  2, 13,  1,  6,  0,  4,  3, 11, 10,  8,  1,  9, 16,  2,  6,\n",
       "         3,  5, 12, 12, 13, 14,  2,  8,  8, 12,  2,  5, 16,  9,  3, 17,  5,  3,\n",
       "        12,  9,  0,  7,  8,  5, 15, 13,  6, 10,  0,  7,  9,  4, 10, 15,  1, 14,\n",
       "        16,  9,  6,  7])"
      ]
     },
     "execution_count": 28,
     "metadata": {},
     "output_type": "execute_result"
    }
   ],
   "source": [
    "detector_ids = torch.randint(low=0, high=2*M**2, size=(400,))\n",
    "detector_ids"
   ]
  },
  {
   "cell_type": "markdown",
   "id": "73f224b9",
   "metadata": {
    "papermill": {
     "duration": 0.010815,
     "end_time": "2024-06-24T22:48:17.153675",
     "exception": false,
     "start_time": "2024-06-24T22:48:17.142860",
     "status": "completed"
    },
    "tags": []
   },
   "source": [
    "## MetaData"
   ]
  },
  {
   "cell_type": "markdown",
   "id": "e4d87c3f",
   "metadata": {
    "papermill": {
     "duration": 0.010682,
     "end_time": "2024-06-24T22:48:17.175062",
     "exception": false,
     "start_time": "2024-06-24T22:48:17.164380",
     "status": "completed"
    },
    "tags": []
   },
   "source": [
    "Each integer corresponds to a given detector element where a count has been measured.First, we may want to generate a lookup table for these integer values and corresponding detector coordinates:"
   ]
  },
  {
   "cell_type": "code",
   "execution_count": 29,
   "id": "bd4f61ce",
   "metadata": {
    "execution": {
     "iopub.execute_input": "2024-06-24T22:48:17.197837Z",
     "iopub.status.busy": "2024-06-24T22:48:17.197406Z",
     "iopub.status.idle": "2024-06-24T22:48:17.202863Z",
     "shell.execute_reply": "2024-06-24T22:48:17.202317Z"
    },
    "papermill": {
     "duration": 0.018185,
     "end_time": "2024-06-24T22:48:17.204113",
     "exception": false,
     "start_time": "2024-06-24T22:48:17.185928",
     "status": "completed"
    },
    "tags": []
   },
   "outputs": [
    {
     "data": {
      "text/plain": [
       "tensor([[0, 0, 0],\n",
       "        [0, 0, 1],\n",
       "        [0, 0, 2],\n",
       "        [0, 1, 0],\n",
       "        [0, 1, 1],\n",
       "        [0, 1, 2],\n",
       "        [0, 2, 0],\n",
       "        [0, 2, 1],\n",
       "        [0, 2, 2],\n",
       "        [1, 0, 0],\n",
       "        [1, 0, 1],\n",
       "        [1, 0, 2],\n",
       "        [1, 1, 0],\n",
       "        [1, 1, 1],\n",
       "        [1, 1, 2],\n",
       "        [1, 2, 0],\n",
       "        [1, 2, 1],\n",
       "        [1, 2, 2]])"
      ]
     },
     "execution_count": 29,
     "metadata": {},
     "output_type": "execute_result"
    }
   ],
   "source": [
    "scanner_LUT = torch.cartesian_prod(\n",
    "    torch.tensor([0,1]), # Angle\n",
    "    torch.arange(M), # row\n",
    "    torch.arange(M), # column\n",
    ")\n",
    "scanner_LUT"
   ]
  },
  {
   "cell_type": "markdown",
   "id": "fbc876df",
   "metadata": {
    "papermill": {
     "duration": 0.010837,
     "end_time": "2024-06-24T22:48:17.225927",
     "exception": false,
     "start_time": "2024-06-24T22:48:17.215090",
     "status": "completed"
    },
    "tags": []
   },
   "source": [
    "This lookup table gives the angle index, row index, and column index in projection space for each detector ID. For example, if we want the location corresponding to detector ID 11:"
   ]
  },
  {
   "cell_type": "code",
   "execution_count": 30,
   "id": "6ae5406e",
   "metadata": {
    "execution": {
     "iopub.execute_input": "2024-06-24T22:48:17.249141Z",
     "iopub.status.busy": "2024-06-24T22:48:17.248621Z",
     "iopub.status.idle": "2024-06-24T22:48:17.252784Z",
     "shell.execute_reply": "2024-06-24T22:48:17.252243Z"
    },
    "papermill": {
     "duration": 0.017195,
     "end_time": "2024-06-24T22:48:17.254049",
     "exception": false,
     "start_time": "2024-06-24T22:48:17.236854",
     "status": "completed"
    },
    "tags": []
   },
   "outputs": [
    {
     "data": {
      "text/plain": [
       "tensor([0, 1, 2])"
      ]
     },
     "execution_count": 30,
     "metadata": {},
     "output_type": "execute_result"
    }
   ],
   "source": [
    "scanner_LUT[5]"
   ]
  },
  {
   "cell_type": "markdown",
   "id": "09dcf616",
   "metadata": {
    "papermill": {
     "duration": 0.010899,
     "end_time": "2024-06-24T22:48:17.275913",
     "exception": false,
     "start_time": "2024-06-24T22:48:17.265014",
     "status": "completed"
    },
    "tags": []
   },
   "source": [
    "Similarily, if we wanted the location corresponding to the first 5 measured events:"
   ]
  },
  {
   "cell_type": "code",
   "execution_count": 31,
   "id": "5e4d9228",
   "metadata": {
    "execution": {
     "iopub.execute_input": "2024-06-24T22:48:17.299199Z",
     "iopub.status.busy": "2024-06-24T22:48:17.298685Z",
     "iopub.status.idle": "2024-06-24T22:48:17.303089Z",
     "shell.execute_reply": "2024-06-24T22:48:17.302553Z"
    },
    "papermill": {
     "duration": 0.017275,
     "end_time": "2024-06-24T22:48:17.304308",
     "exception": false,
     "start_time": "2024-06-24T22:48:17.287033",
     "status": "completed"
    },
    "tags": []
   },
   "outputs": [
    {
     "data": {
      "text/plain": [
       "tensor([[1, 2, 1],\n",
       "        [0, 0, 2],\n",
       "        [1, 1, 0],\n",
       "        [1, 1, 1],\n",
       "        [0, 1, 1]])"
      ]
     },
     "execution_count": 31,
     "metadata": {},
     "output_type": "execute_result"
    }
   ],
   "source": [
    "scanner_LUT[detector_ids[0:5]]"
   ]
  },
  {
   "cell_type": "markdown",
   "id": "240aa164",
   "metadata": {
    "papermill": {
     "duration": 0.0111,
     "end_time": "2024-06-24T22:48:17.326521",
     "exception": false,
     "start_time": "2024-06-24T22:48:17.315421",
     "status": "completed"
    },
    "tags": []
   },
   "source": [
    "We can also get the sensitivity factor for each listmode event:"
   ]
  },
  {
   "cell_type": "code",
   "execution_count": 32,
   "id": "dd743f9e",
   "metadata": {
    "execution": {
     "iopub.execute_input": "2024-06-24T22:48:17.349603Z",
     "iopub.status.busy": "2024-06-24T22:48:17.349223Z",
     "iopub.status.idle": "2024-06-24T22:48:17.356170Z",
     "shell.execute_reply": "2024-06-24T22:48:17.355629Z"
    },
    "papermill": {
     "duration": 0.020128,
     "end_time": "2024-06-24T22:48:17.357581",
     "exception": false,
     "start_time": "2024-06-24T22:48:17.337453",
     "status": "completed"
    },
    "tags": []
   },
   "outputs": [
    {
     "data": {
      "text/plain": [
       "tensor([1.1046, 1.0943, 1.1929, 1.1929, 1.2952, 1.2952, 1.0943, 1.0631, 1.1929,\n",
       "        1.0943, 1.2952, 1.0943, 1.1475, 1.1475, 1.0943, 1.2952, 1.2952, 1.1046,\n",
       "        1.1929, 1.1046, 1.0943, 1.0943, 1.2952, 1.1046, 1.1046, 1.0943, 1.1046,\n",
       "        1.1475, 1.2952, 1.2952, 1.2952, 1.0943, 1.2952, 1.1475, 1.2952, 1.2952,\n",
       "        1.2952, 1.2952, 1.0631, 1.1475, 1.0943, 1.1929, 1.2952, 1.1475, 1.2952,\n",
       "        1.0943, 1.2952, 1.0943, 1.0631, 1.1929, 1.2952, 1.1475, 1.1475, 1.1475,\n",
       "        1.0631, 1.0631, 1.0631, 1.0631, 1.1475, 1.1475, 1.0943, 1.2952, 1.0943,\n",
       "        1.1929, 1.1475, 1.2952, 1.1929, 1.1929, 1.2952, 1.1046, 1.1929, 1.2952,\n",
       "        1.2952, 1.1475, 1.2952, 1.1929, 1.1929, 1.0631, 1.1046, 1.0631, 1.1929,\n",
       "        1.0943, 1.2952, 1.2952, 1.2952, 1.1046, 1.1929, 1.1046, 1.1929, 1.1929,\n",
       "        1.2952, 1.0943, 1.2952, 1.0943, 1.2952, 1.1475, 1.0943, 1.2952, 1.1929,\n",
       "        1.0631, 1.2952, 1.0631, 1.0943, 1.0943, 1.0631, 1.2952, 1.0631, 1.1475,\n",
       "        1.1046, 1.1475, 1.0631, 1.2952, 1.0943, 1.1475, 1.1475, 1.2952, 1.0631,\n",
       "        1.0631, 1.1475, 1.1475, 1.2952, 1.2952, 1.0631, 1.1475, 1.0943, 1.2952,\n",
       "        1.2952, 1.0631, 1.2952, 1.1929, 1.0943, 1.0631, 1.0631, 1.2952, 1.1929,\n",
       "        1.1475, 1.2952, 1.1475, 1.1046, 1.2952, 1.1046, 1.1929, 1.0943, 1.1046,\n",
       "        1.1475, 1.2952, 1.2952, 1.1929, 1.0943, 1.2952, 1.1475, 1.1929, 1.1046,\n",
       "        1.2952, 1.1475, 1.1929, 1.1475, 1.1046, 1.0631, 1.1475, 1.0943, 1.2952,\n",
       "        1.2952, 1.2952, 1.0943, 1.1929, 1.2952, 1.0943, 1.1475, 1.0631, 1.0943,\n",
       "        1.2952, 1.0943, 1.0943, 1.1475, 1.2952, 1.0631, 1.1475, 1.2952, 1.0631,\n",
       "        1.0943, 1.1046, 1.1475, 1.1046, 1.1475, 1.0631, 1.0631, 1.0943, 1.1929,\n",
       "        1.2952, 1.1475, 1.1475, 1.0631, 1.0631, 1.1929, 1.1475, 1.1929, 1.2952,\n",
       "        1.1046, 1.0943, 1.2952, 1.0631, 1.1929, 1.2952, 1.0631, 1.1046, 1.0631,\n",
       "        1.0631, 1.1929, 1.1046, 1.1929, 1.1046, 1.0943, 1.0943, 1.2952, 1.1475,\n",
       "        1.0631, 1.0943, 1.1046, 1.2952, 1.0631, 1.2952, 1.1929, 1.1475, 1.2952,\n",
       "        1.1475, 1.0943, 1.0631, 1.1475, 1.1046, 1.2952, 1.1046, 1.1046, 1.1475,\n",
       "        1.1046, 1.0631, 1.2952, 1.1929, 1.1046, 1.1475, 1.2952, 1.0631, 1.1475,\n",
       "        1.1046, 1.0631, 1.0943, 1.1475, 1.0943, 1.0943, 1.0943, 1.2952, 1.0943,\n",
       "        1.0943, 1.0631, 1.0943, 1.1046, 1.0943, 1.1475, 1.1475, 1.0943, 1.0943,\n",
       "        1.0943, 1.0631, 1.0943, 1.0631, 1.2952, 1.0631, 1.1929, 1.1929, 1.1929,\n",
       "        1.1046, 1.1046, 1.0631, 1.2952, 1.1475, 1.0943, 1.0631, 1.1929, 1.1046,\n",
       "        1.0943, 1.2952, 1.1046, 1.1929, 1.1046, 1.0943, 1.1929, 1.0631, 1.0631,\n",
       "        1.1475, 1.1929, 1.1475, 1.2952, 1.0631, 1.2952, 1.0631, 1.1475, 1.1475,\n",
       "        1.2952, 1.2952, 1.1475, 1.2952, 1.1929, 1.2952, 1.1929, 1.1046, 1.2952,\n",
       "        1.1929, 1.1475, 1.2952, 1.1929, 1.0631, 1.0631, 1.2952, 1.1046, 1.1046,\n",
       "        1.1046, 1.1475, 1.0943, 1.1046, 1.0943, 1.1046, 1.1929, 1.2952, 1.0631,\n",
       "        1.1475, 1.1475, 1.0631, 1.0631, 1.0943, 1.1046, 1.1929, 1.1046, 1.1475,\n",
       "        1.0943, 1.2952, 1.0631, 1.2952, 1.0943, 1.2952, 1.2952, 1.0943, 1.1046,\n",
       "        1.0943, 1.1046, 1.1475, 1.0943, 1.1929, 1.0943, 1.1475, 1.0943, 1.2952,\n",
       "        1.2952, 1.0631, 1.0631, 1.1475, 1.0943, 1.0631, 1.1046, 1.0943, 1.1475,\n",
       "        1.2952, 1.2952, 1.1929, 1.1929, 1.1929, 1.1929, 1.0943, 1.1475, 1.1475,\n",
       "        1.1929, 1.0943, 1.2952, 1.1046, 1.0631, 1.2952, 1.1046, 1.2952, 1.2952,\n",
       "        1.1929, 1.0631, 1.0943, 1.1475, 1.1475, 1.2952, 1.1046, 1.1929, 1.1475,\n",
       "        1.0631, 1.0943, 1.1475, 1.0631, 1.2952, 1.0631, 1.1046, 1.0943, 1.1929,\n",
       "        1.1046, 1.0631, 1.1475, 1.1475])"
      ]
     },
     "execution_count": 32,
     "metadata": {},
     "output_type": "execute_result"
    }
   ],
   "source": [
    "sensitivity_factor[*scanner_LUT[detector_ids][:,:2].T]"
   ]
  },
  {
   "cell_type": "markdown",
   "id": "c5ccca9f",
   "metadata": {
    "papermill": {
     "duration": 0.011696,
     "end_time": "2024-06-24T22:48:17.380538",
     "exception": false,
     "start_time": "2024-06-24T22:48:17.368842",
     "status": "completed"
    },
    "tags": []
   },
   "source": [
    "With this in mind, we can define our new listmode projection metadata class:"
   ]
  },
  {
   "cell_type": "code",
   "execution_count": 33,
   "id": "412ad17d",
   "metadata": {
    "execution": {
     "iopub.execute_input": "2024-06-24T22:48:17.404374Z",
     "iopub.status.busy": "2024-06-24T22:48:17.403815Z",
     "iopub.status.idle": "2024-06-24T22:48:17.408468Z",
     "shell.execute_reply": "2024-06-24T22:48:17.407923Z"
    },
    "papermill": {
     "duration": 0.017805,
     "end_time": "2024-06-24T22:48:17.409703",
     "exception": false,
     "start_time": "2024-06-24T22:48:17.391898",
     "status": "completed"
    },
    "tags": []
   },
   "outputs": [],
   "source": [
    "class EXSListmodeProjMeta(ProjMeta):\n",
    "    def __init__(self, shape, scanner_LUT, detector_ids, sensitivity_factor):\n",
    "        self.scanner_LUT = scanner_LUT\n",
    "        self.detector_ids = detector_ids\n",
    "        self.sensitivity_at_ids = sensitivity_factor[*scanner_LUT[:,1:].T]\n",
    "        self.shape = shape\n",
    "        if (sensitivity_factor.shape[0]!=M)*(sensitivity_factor.shape[1]!=M):\n",
    "            raise ValueError(\"sensitivity_factor should have side dimensions M\")\n",
    "proj_meta_listmode = EXSListmodeProjMeta((2,M,M), scanner_LUT, detector_ids, sensitivity_factor)"
   ]
  },
  {
   "cell_type": "markdown",
   "id": "6ecf19f2",
   "metadata": {
    "papermill": {
     "duration": 0.011125,
     "end_time": "2024-06-24T22:48:17.432085",
     "exception": false,
     "start_time": "2024-06-24T22:48:17.420960",
     "status": "completed"
    },
    "tags": []
   },
   "source": [
    "Lets now implement the forward/backward methods of the system matrix. We'll start with forward projection, which forward projects an object to each `id` form the listmode data."
   ]
  },
  {
   "cell_type": "code",
   "execution_count": 34,
   "id": "49fe35e1",
   "metadata": {
    "execution": {
     "iopub.execute_input": "2024-06-24T22:48:17.455820Z",
     "iopub.status.busy": "2024-06-24T22:48:17.455329Z",
     "iopub.status.idle": "2024-06-24T22:48:17.459915Z",
     "shell.execute_reply": "2024-06-24T22:48:17.459374Z"
    },
    "papermill": {
     "duration": 0.017736,
     "end_time": "2024-06-24T22:48:17.461113",
     "exception": false,
     "start_time": "2024-06-24T22:48:17.443377",
     "status": "completed"
    },
    "tags": []
   },
   "outputs": [],
   "source": [
    "class EXSListmodeSystemMatrix(SystemMatrix):\n",
    "    def forward(self, object, subset_idx = None):\n",
    "        # There is probably a faster implementation, but I am trying to keep it simple for illustration purposes\n",
    "        projections = []\n",
    "        for i, detector_id in enumerate(self.proj_meta.detector_ids):\n",
    "            coord = self.proj_meta.scanner_LUT[detector_id]\n",
    "            sensitivity_factor_i = self.proj_meta.sensitivity_at_ids[detector_id]\n",
    "            if coord[0]==0: # If angle 0:\n",
    "                projections.append(object[:,coord[1],coord[2]].sum() *  sensitivity_factor_i) # sum along x\n",
    "            elif coord[0]==1: # If angle 90:\n",
    "                projections.append(object[coord[1],:,coord[2]].sum() * sensitivity_factor_i)  # sum along y\n",
    "        return torch.tensor(projections)"
   ]
  },
  {
   "cell_type": "code",
   "execution_count": 35,
   "id": "15285752",
   "metadata": {
    "execution": {
     "iopub.execute_input": "2024-06-24T22:48:17.485846Z",
     "iopub.status.busy": "2024-06-24T22:48:17.485440Z",
     "iopub.status.idle": "2024-06-24T22:48:17.510794Z",
     "shell.execute_reply": "2024-06-24T22:48:17.510225Z"
    },
    "papermill": {
     "duration": 0.039883,
     "end_time": "2024-06-24T22:48:17.512297",
     "exception": false,
     "start_time": "2024-06-24T22:48:17.472414",
     "status": "completed"
    },
    "tags": []
   },
   "outputs": [
    {
     "data": {
      "text/plain": [
       "tensor([1.7257, 1.4399, 1.0053, 1.5612, 2.0564, 2.9079, 1.4399, 2.5281, 2.5832,\n",
       "        1.7771, 0.0816, 0.6963, 1.8735, 2.6222, 0.6963, 2.0564, 2.0564, 1.8796,\n",
       "        1.5612, 1.7257, 1.4399, 0.6963, 2.0564, 1.8796, 1.7257, 1.4399, 0.8121,\n",
       "        2.6222, 2.0564, 2.9079, 2.9079, 0.6963, 2.0564, 2.1445, 2.0564, 2.0564,\n",
       "        2.9079, 2.0564, 2.5281, 1.8735, 1.4399, 1.5612, 2.0564, 2.6222, 0.0816,\n",
       "        1.7771, 0.0816, 0.6963, 1.8728, 1.5612, 0.0816, 2.6222, 2.1445, 1.8735,\n",
       "        1.8728, 2.5281, 2.5281, 1.8728, 2.1445, 1.8735, 0.6963, 2.0564, 1.7771,\n",
       "        1.5612, 1.8735, 2.9079, 2.5832, 2.5832, 0.0816, 1.7257, 2.5832, 2.9079,\n",
       "        0.0816, 2.1445, 2.0564, 2.5832, 1.0053, 2.5281, 0.8121, 1.8728, 1.0053,\n",
       "        1.4399, 2.9079, 0.0816, 2.9079, 1.8796, 1.0053, 1.7257, 2.5832, 1.0053,\n",
       "        2.0564, 1.7771, 2.0564, 1.7771, 0.0816, 2.6222, 0.6963, 2.9079, 1.0053,\n",
       "        1.8728, 2.9079, 1.6709, 1.4399, 1.4399, 2.5281, 2.9079, 2.5281, 1.8735,\n",
       "        0.8121, 1.8735, 2.5281, 0.0816, 1.4399, 1.8735, 2.6222, 2.0564, 1.8728,\n",
       "        2.5281, 2.6222, 2.6222, 2.0564, 0.0816, 1.8728, 1.8735, 1.7771, 2.0564,\n",
       "        2.9079, 2.5281, 2.9079, 1.5612, 1.7771, 2.5281, 2.5281, 2.0564, 1.5612,\n",
       "        2.1445, 2.0564, 2.6222, 1.8796, 0.0816, 1.7257, 1.5612, 1.4399, 1.7257,\n",
       "        2.6222, 2.0564, 2.0564, 2.5832, 1.7771, 0.0816, 1.8735, 2.5832, 1.7257,\n",
       "        0.0816, 1.8735, 1.5612, 1.8735, 1.8796, 1.8728, 2.6222, 1.4399, 0.0816,\n",
       "        2.0564, 2.9079, 0.6963, 1.0053, 0.0816, 1.4399, 1.8735, 1.8728, 0.6963,\n",
       "        2.0564, 1.4399, 1.7771, 1.8735, 0.0816, 2.5281, 2.6222, 2.9079, 2.5281,\n",
       "        1.7771, 1.8796, 1.8735, 0.8121, 2.1445, 2.5281, 2.5281, 0.6963, 2.5832,\n",
       "        2.0564, 2.1445, 1.8735, 1.8728, 1.6709, 1.5612, 1.8735, 1.5612, 2.9079,\n",
       "        0.8121, 0.6963, 2.9079, 2.5281, 1.0053, 2.0564, 2.5281, 1.7257, 1.6709,\n",
       "        1.6709, 2.5832, 0.8121, 1.0053, 1.8796, 1.4399, 1.7771, 2.0564, 2.1445,\n",
       "        2.5281, 1.4399, 0.8121, 2.9079, 1.6709, 2.9079, 1.0053, 1.8735, 2.0564,\n",
       "        1.8735, 0.6963, 1.8728, 1.8735, 0.8121, 2.9079, 1.7257, 0.8121, 2.6222,\n",
       "        1.7257, 1.8728, 2.0564, 2.5832, 1.7257, 2.6222, 2.9079, 1.8728, 2.1445,\n",
       "        0.8121, 2.5281, 1.7771, 2.1445, 0.6963, 0.6963, 1.7771, 2.0564, 1.4399,\n",
       "        1.7771, 1.6709, 1.4399, 1.7257, 1.4399, 2.1445, 2.6222, 1.4399, 1.7771,\n",
       "        1.4399, 2.5281, 1.4399, 1.6709, 2.0564, 1.6709, 1.5612, 1.0053, 1.0053,\n",
       "        0.8121, 1.8796, 1.6709, 2.9079, 2.1445, 1.7771, 1.6709, 1.5612, 1.7257,\n",
       "        0.6963, 2.9079, 0.8121, 2.5832, 0.8121, 1.4399, 2.5832, 2.5281, 1.8728,\n",
       "        2.1445, 2.5832, 2.6222, 2.9079, 2.5281, 2.9079, 1.6709, 2.1445, 2.1445,\n",
       "        2.9079, 2.9079, 2.6222, 2.0564, 2.5832, 2.0564, 1.5612, 1.8796, 0.0816,\n",
       "        2.5832, 2.1445, 0.0816, 1.0053, 1.6709, 1.6709, 2.9079, 0.8121, 0.8121,\n",
       "        0.8121, 1.8735, 1.7771, 1.7257, 1.4399, 1.7257, 2.5832, 2.9079, 1.8728,\n",
       "        2.1445, 2.6222, 1.6709, 1.8728, 1.4399, 0.8121, 1.0053, 0.8121, 1.8735,\n",
       "        1.4399, 2.9079, 1.8728, 0.0816, 1.4399, 2.9079, 2.0564, 1.4399, 1.7257,\n",
       "        1.7771, 0.8121, 1.8735, 1.4399, 1.5612, 0.6963, 1.8735, 1.7771, 2.0564,\n",
       "        0.0816, 2.5281, 1.6709, 2.6222, 0.6963, 1.8728, 1.7257, 1.4399, 1.8735,\n",
       "        0.0816, 2.9079, 1.0053, 1.0053, 1.5612, 2.5832, 1.4399, 2.6222, 2.6222,\n",
       "        1.0053, 1.4399, 2.9079, 1.7257, 1.8728, 0.0816, 1.8796, 2.9079, 0.0816,\n",
       "        1.0053, 1.8728, 1.7771, 2.1445, 2.6222, 2.9079, 0.8121, 1.5612, 1.8735,\n",
       "        1.6709, 1.7771, 2.1445, 1.8728, 2.0564, 1.6709, 0.8121, 0.6963, 2.5832,\n",
       "        1.7257, 1.8728, 1.8735, 2.1445])"
      ]
     },
     "execution_count": 35,
     "metadata": {},
     "output_type": "execute_result"
    }
   ],
   "source": [
    "system_matrix = EXSListmodeSystemMatrix(object_meta=object_meta, proj_meta=proj_meta_listmode)\n",
    "sample_object = torch.rand(object_meta.shape) # object has batch dimension\n",
    "sample_projections = system_matrix.forward(sample_object)\n",
    "sample_projections"
   ]
  },
  {
   "cell_type": "markdown",
   "id": "1aa08b40",
   "metadata": {
    "papermill": {
     "duration": 0.011561,
     "end_time": "2024-06-24T22:48:17.535846",
     "exception": false,
     "start_time": "2024-06-24T22:48:17.524285",
     "status": "completed"
    },
    "tags": []
   },
   "source": [
    "Note that our \"projections\" are now in listmode format: namely, these correspond to forward projected values at all the \"detector_ids\" which formed our listmode dataset. The backward method is analogous:"
   ]
  },
  {
   "cell_type": "code",
   "execution_count": 36,
   "id": "43e643fa",
   "metadata": {
    "execution": {
     "iopub.execute_input": "2024-06-24T22:48:17.560347Z",
     "iopub.status.busy": "2024-06-24T22:48:17.559968Z",
     "iopub.status.idle": "2024-06-24T22:48:17.566019Z",
     "shell.execute_reply": "2024-06-24T22:48:17.565453Z"
    },
    "papermill": {
     "duration": 0.020074,
     "end_time": "2024-06-24T22:48:17.567274",
     "exception": false,
     "start_time": "2024-06-24T22:48:17.547200",
     "status": "completed"
    },
    "tags": []
   },
   "outputs": [],
   "source": [
    "class EXSListmodeSystemMatrix(SystemMatrix):\n",
    "    # ----\n",
    "    # SAME AS ABOVE\n",
    "    # ----\n",
    "    def forward(self, object, subset_idx = None):\n",
    "        # There is probably a faster implementation, but I am trying to keep it simple for illustration purposes\n",
    "        projections = []\n",
    "        for i, detector_id in enumerate(self.proj_meta.detector_ids):\n",
    "            coord = self.proj_meta.scanner_LUT[detector_id]\n",
    "            sensitivity_factor_i = self.proj_meta.sensitivity_at_ids[detector_id]\n",
    "            if coord[0]==0: # If angle 0:\n",
    "                projections.append(object[:,coord[1],coord[2]].sum() *  sensitivity_factor_i) # sum along x\n",
    "            elif coord[0]==1: # If angle 90:\n",
    "                projections.append(object[coord[1],:,coord[2]].sum() * sensitivity_factor_i)  # sum along y\n",
    "        return torch.tensor(projections)\n",
    "    # ---\n",
    "    # NEW CODE\n",
    "    # ---\n",
    "    def backward(self, projections, subset_idx = None):\n",
    "        # There is probably a faster implementation, but I am trying to keep it simple for illustration purposes\n",
    "        object = torch.zeros(object_meta.shape)\n",
    "        projections *= self.proj_meta.sensitivity_at_ids[self.proj_meta.detector_ids]\n",
    "        for i, detector_id in enumerate(detector_ids):\n",
    "            coord = self.proj_meta.scanner_LUT[detector_id]\n",
    "            if coord[0]==0: # If angle 0:\n",
    "                object[:,coord[1],coord[2]] += projections[i]\n",
    "            elif coord[0]==1: # If angle 90:\n",
    "                object[coord[1],:,coord[2]] += projections[i]\n",
    "        return object"
   ]
  },
  {
   "cell_type": "code",
   "execution_count": 37,
   "id": "0cf8e99a",
   "metadata": {
    "execution": {
     "iopub.execute_input": "2024-06-24T22:48:17.594364Z",
     "iopub.status.busy": "2024-06-24T22:48:17.593905Z",
     "iopub.status.idle": "2024-06-24T22:48:17.636299Z",
     "shell.execute_reply": "2024-06-24T22:48:17.635713Z"
    },
    "papermill": {
     "duration": 0.057526,
     "end_time": "2024-06-24T22:48:17.637654",
     "exception": false,
     "start_time": "2024-06-24T22:48:17.580128",
     "status": "completed"
    },
    "tags": []
   },
   "outputs": [],
   "source": [
    "system_matrix = EXSListmodeSystemMatrix(object_meta=object_meta, proj_meta=proj_meta_listmode)\n",
    "sample_object = torch.rand(object_meta.shape) # object has batch dimension\n",
    "FP = system_matrix.forward(sample_object)\n",
    "BP = system_matrix.backward(FP)"
   ]
  },
  {
   "cell_type": "markdown",
   "id": "1e69772e",
   "metadata": {
    "papermill": {
     "duration": 0.011914,
     "end_time": "2024-06-24T22:48:17.666330",
     "exception": false,
     "start_time": "2024-06-24T22:48:17.654416",
     "status": "completed"
    },
    "tags": []
   },
   "source": [
    "The computation of the normalization factor for listmode reconstruction is slightly more nuanced since it requires defining a \"projection of all 1s\". In this case, the projection of all 1s corresponds to a value of 1 in each location of the scanner LUT.\n",
    "\n",
    "* This is distinct from the regular forward/back projection which projects to all the measured detector IDs. For example, if we measure 1000 events, then forward projection produces an array of size 1000, and back projection takes in projections of size 1000 to produce an object. Computation of the normalization factor, however, takes in detector IDs corresponding to each detector, in the case $M=3$, it would take in 18 detector IDs"
   ]
  },
  {
   "cell_type": "code",
   "execution_count": 38,
   "id": "b9aeacd0",
   "metadata": {
    "execution": {
     "iopub.execute_input": "2024-06-24T22:48:17.693233Z",
     "iopub.status.busy": "2024-06-24T22:48:17.692835Z",
     "iopub.status.idle": "2024-06-24T22:48:17.700280Z",
     "shell.execute_reply": "2024-06-24T22:48:17.699721Z"
    },
    "papermill": {
     "duration": 0.023212,
     "end_time": "2024-06-24T22:48:17.701626",
     "exception": false,
     "start_time": "2024-06-24T22:48:17.678414",
     "status": "completed"
    },
    "tags": []
   },
   "outputs": [],
   "source": [
    "class EXSListmodeSystemMatrix(SystemMatrix):\n",
    "    # ----\n",
    "    # SAME AS ABOVE\n",
    "    # ----\n",
    "    def forward(self, object, subset_idx = None):\n",
    "        # There is probably a faster implementation, but I am trying to keep it simple for illustration purposes\n",
    "        projections = []\n",
    "        for i, detector_id in enumerate(self.proj_meta.detector_ids):\n",
    "            coord = self.proj_meta.scanner_LUT[detector_id]\n",
    "            sensitivity_factor_i = self.proj_meta.sensitivity_at_ids[detector_id]\n",
    "            if coord[0]==0: # If angle 0:\n",
    "                projections.append(object[:,coord[1],coord[2]].sum() *  sensitivity_factor_i) # sum along x\n",
    "            elif coord[0]==1: # If angle 90:\n",
    "                projections.append(object[coord[1],:,coord[2]].sum() * sensitivity_factor_i)  # sum along y\n",
    "        return torch.tensor(projections)\n",
    "    def backward(self, projections, subset_idx = None):\n",
    "        # There is probably a faster implementation, but I am trying to keep it simple for illustration purposes\n",
    "        object = torch.zeros(object_meta.shape)\n",
    "        projections *= self.proj_meta.sensitivity_at_ids[self.proj_meta.detector_ids]\n",
    "        for i, detector_id in enumerate(detector_ids):\n",
    "            coord = self.proj_meta.scanner_LUT[detector_id]\n",
    "            if coord[0]==0: # If angle 0:\n",
    "                object[:,coord[1],coord[2]] += projections[i]\n",
    "            elif coord[0]==1: # If angle 90:\n",
    "                object[coord[1],:,coord[2]] += projections[i]\n",
    "        return object\n",
    "    # ----\n",
    "    # NEW CODE\n",
    "    # ----\n",
    "    def compute_normalization_factor(self):\n",
    "        norm_BP = torch.zeros(object_meta.shape)\n",
    "        # Now we loop through unique detector ids instead\n",
    "        unique_detector_ids = torch.arange(scanner_LUT.shape[0])\n",
    "        for i, detector_id in enumerate(unique_detector_ids):\n",
    "            coord = self.proj_meta.scanner_LUT[detector_id]\n",
    "            sensitivity_factor_i = self.proj_meta.sensitivity_at_ids[detector_id]\n",
    "            if coord[0]==0: # If angle 0:\n",
    "                norm_BP[:,coord[1],coord[2]] += sensitivity_factor_i\n",
    "            elif coord[0]==1: # If angle 90:\n",
    "                norm_BP[coord[1],:,coord[2]] += sensitivity_factor_i\n",
    "        return norm_BP"
   ]
  },
  {
   "cell_type": "code",
   "execution_count": 39,
   "id": "92cb175c",
   "metadata": {
    "execution": {
     "iopub.execute_input": "2024-06-24T22:48:17.726874Z",
     "iopub.status.busy": "2024-06-24T22:48:17.726211Z",
     "iopub.status.idle": "2024-06-24T22:48:17.731284Z",
     "shell.execute_reply": "2024-06-24T22:48:17.730749Z"
    },
    "papermill": {
     "duration": 0.01888,
     "end_time": "2024-06-24T22:48:17.732537",
     "exception": false,
     "start_time": "2024-06-24T22:48:17.713657",
     "status": "completed"
    },
    "tags": []
   },
   "outputs": [
    {
     "data": {
      "text/plain": [
       "tensor([[1.0943, 1.2952, 1.1475],\n",
       "        [1.0631, 1.1929, 1.1046],\n",
       "        [1.1098, 1.2417, 1.1347]])"
      ]
     },
     "execution_count": 39,
     "metadata": {},
     "output_type": "execute_result"
    }
   ],
   "source": [
    "sensitivity_factor"
   ]
  },
  {
   "cell_type": "code",
   "execution_count": 40,
   "id": "8fa09e9a",
   "metadata": {
    "execution": {
     "iopub.execute_input": "2024-06-24T22:48:17.757353Z",
     "iopub.status.busy": "2024-06-24T22:48:17.756858Z",
     "iopub.status.idle": "2024-06-24T22:48:17.761033Z",
     "shell.execute_reply": "2024-06-24T22:48:17.760495Z"
    },
    "papermill": {
     "duration": 0.017787,
     "end_time": "2024-06-24T22:48:17.762338",
     "exception": false,
     "start_time": "2024-06-24T22:48:17.744551",
     "status": "completed"
    },
    "tags": []
   },
   "outputs": [],
   "source": [
    "system_matrix = EXSListmodeSystemMatrix(object_meta=object_meta, proj_meta=proj_meta_listmode)\n",
    "norm_BP = system_matrix.compute_normalization_factor()"
   ]
  },
  {
   "cell_type": "code",
   "execution_count": 41,
   "id": "ed422116",
   "metadata": {
    "execution": {
     "iopub.execute_input": "2024-06-24T22:48:17.786643Z",
     "iopub.status.busy": "2024-06-24T22:48:17.786279Z",
     "iopub.status.idle": "2024-06-24T22:48:17.937532Z",
     "shell.execute_reply": "2024-06-24T22:48:17.936958Z"
    },
    "papermill": {
     "duration": 0.164926,
     "end_time": "2024-06-24T22:48:17.938875",
     "exception": false,
     "start_time": "2024-06-24T22:48:17.773949",
     "status": "completed"
    },
    "tags": []
   },
   "outputs": [
    {
     "data": {
      "text/plain": [
       "<matplotlib.colorbar.Colorbar at 0x7fc4dbf3b2d0>"
      ]
     },
     "execution_count": 41,
     "metadata": {},
     "output_type": "execute_result"
    },
    {
     "data": {
      "image/png": "[encoded data removed]",
      "text/plain": [
       "<Figure size 200x200 with 2 Axes>"
      ]
     },
     "metadata": {},
     "output_type": "display_data"
    }
   ],
   "source": [
    "plt.figure(figsize=(2,2))\n",
    "plt.pcolormesh(norm_BP[:,:,1])\n",
    "plt.colorbar()"
   ]
  },
  {
   "cell_type": "markdown",
   "id": "ce5513ff",
   "metadata": {
    "papermill": {
     "duration": 0.011836,
     "end_time": "2024-06-24T22:48:17.963669",
     "exception": false,
     "start_time": "2024-06-24T22:48:17.951833",
     "status": "completed"
    },
    "tags": []
   },
   "source": [
    "Now we can use the listmode system matrix with the rest of the library.\n",
    "\n",
    "**For list mode system matrices, we no longer need to provide `projections` to the likelihood function**"
   ]
  },
  {
   "cell_type": "code",
   "execution_count": 42,
   "id": "90bce2c6",
   "metadata": {
    "execution": {
     "iopub.execute_input": "2024-06-24T22:48:17.988438Z",
     "iopub.status.busy": "2024-06-24T22:48:17.988053Z",
     "iopub.status.idle": "2024-06-24T22:48:17.991946Z",
     "shell.execute_reply": "2024-06-24T22:48:17.991347Z"
    },
    "papermill": {
     "duration": 0.017815,
     "end_time": "2024-06-24T22:48:17.993255",
     "exception": false,
     "start_time": "2024-06-24T22:48:17.975440",
     "status": "completed"
    },
    "tags": []
   },
   "outputs": [],
   "source": [
    "system_matrix = EXSListmodeSystemMatrix(object_meta=object_meta, proj_meta=proj_meta_listmode)\n",
    "likelihood = NegativeMSELikelihood(system_matrix, scaling_constant=0.01)\n",
    "reconstruction_algorithm = OSEM(likelihood)"
   ]
  },
  {
   "cell_type": "code",
   "execution_count": 43,
   "id": "9893b652",
   "metadata": {
    "execution": {
     "iopub.execute_input": "2024-06-24T22:48:18.018317Z",
     "iopub.status.busy": "2024-06-24T22:48:18.018072Z",
     "iopub.status.idle": "2024-06-24T22:48:19.433232Z",
     "shell.execute_reply": "2024-06-24T22:48:19.432549Z"
    },
    "papermill": {
     "duration": 1.429901,
     "end_time": "2024-06-24T22:48:19.434933",
     "exception": false,
     "start_time": "2024-06-24T22:48:18.005032",
     "status": "completed"
    },
    "tags": []
   },
   "outputs": [],
   "source": [
    "recon = reconstruction_algorithm(n_iters=40)"
   ]
  },
  {
   "cell_type": "code",
   "execution_count": 44,
   "id": "83b34a34",
   "metadata": {
    "execution": {
     "iopub.execute_input": "2024-06-24T22:48:19.461253Z",
     "iopub.status.busy": "2024-06-24T22:48:19.460873Z",
     "iopub.status.idle": "2024-06-24T22:48:19.545361Z",
     "shell.execute_reply": "2024-06-24T22:48:19.544723Z"
    },
    "papermill": {
     "duration": 0.098802,
     "end_time": "2024-06-24T22:48:19.546820",
     "exception": false,
     "start_time": "2024-06-24T22:48:19.448018",
     "status": "completed"
    },
    "tags": []
   },
   "outputs": [
    {
     "data": {
      "text/plain": [
       "<matplotlib.colorbar.Colorbar at 0x7fc4dbd40b50>"
      ]
     },
     "execution_count": 44,
     "metadata": {},
     "output_type": "execute_result"
    },
    {
     "data": {
      "image/png": "[encoded data removed]",
      "text/plain": [
       "<Figure size 200x200 with 2 Axes>"
      ]
     },
     "metadata": {},
     "output_type": "display_data"
    }
   ],
   "source": [
    "plt.figure(figsize=(2,2))\n",
    "plt.pcolormesh(recon[:,:,1], vmin=0, cmap='nipy_spectral')\n",
    "plt.axis('off')\n",
    "plt.colorbar()"
   ]
  },
  {
   "cell_type": "markdown",
   "id": "dc2a8e5b",
   "metadata": {
    "papermill": {
     "duration": 0.012129,
     "end_time": "2024-06-24T22:48:19.571639",
     "exception": false,
     "start_time": "2024-06-24T22:48:19.559510",
     "status": "completed"
    },
    "tags": []
   },
   "source": [
    "## Part 2: Incorporating Subsets"
   ]
  },
  {
   "cell_type": "markdown",
   "id": "0ac55a2f",
   "metadata": {
    "papermill": {
     "duration": 0.01202,
     "end_time": "2024-06-24T22:48:19.596178",
     "exception": false,
     "start_time": "2024-06-24T22:48:19.584158",
     "status": "completed"
    },
    "tags": []
   },
   "source": [
    "Incorporating subsets is slightly more intuitive with listmode data. In this case, we split up all the detected events into $N$ approximately equal subsets using the `torch.tensor_split` function"
   ]
  },
  {
   "cell_type": "code",
   "execution_count": 45,
   "id": "7ddc7653",
   "metadata": {
    "execution": {
     "iopub.execute_input": "2024-06-24T22:48:19.623069Z",
     "iopub.status.busy": "2024-06-24T22:48:19.622595Z",
     "iopub.status.idle": "2024-06-24T22:48:19.633621Z",
     "shell.execute_reply": "2024-06-24T22:48:19.633039Z"
    },
    "papermill": {
     "duration": 0.026298,
     "end_time": "2024-06-24T22:48:19.634814",
     "exception": false,
     "start_time": "2024-06-24T22:48:19.608516",
     "status": "completed"
    },
    "tags": []
   },
   "outputs": [],
   "source": [
    "class EXSListmodeSystemMatrix(SystemMatrix):\n",
    "    # ----\n",
    "    # NEW CODE\n",
    "    # ----\n",
    "    def set_n_subsets(self, n_subsets):\n",
    "        self.n_subsets = n_subsets\n",
    "        idx = torch.arange(proj_meta_listmode.detector_ids.shape[0])\n",
    "        self.subset_indices_array = torch.tensor_split(idx, self.n_subsets)\n",
    "    def get_projection_subset(self, projections, subset_idx):\n",
    "        # Needs to consider cases where projection is simply a 1 element tensor in the numerator, but also cases of scatter where it is a longer tensor\n",
    "        if (projections.shape[0]>1)*(subset_idx is not None):\n",
    "            subset_indices = self.subset_indices_array[subset_idx]\n",
    "            proj_subset = projections[subset_indices]\n",
    "        else:\n",
    "            proj_subset = projections\n",
    "        return proj_subset\n",
    "    def get_weighting_subset(self, subset_idx):\n",
    "        if subset_idx is None:\n",
    "            return 1\n",
    "        else:\n",
    "            # Fraction of events in the subset\n",
    "            return self.subset_indices_array[subset_idx].shape[0] / proj_meta_listmode.detector_ids.shape[0]\n",
    "    def forward(self, object, subset_idx = None):\n",
    "        # There is probably a faster implementation, but I am trying to keep it simple for illustration purposes\n",
    "        projections = []\n",
    "        if subset_idx is None:\n",
    "            detector_ids_subset = self.proj_meta.detector_ids\n",
    "        else:\n",
    "            detector_ids_subset = self.proj_meta.detector_ids[self.subset_indices_array[subset_idx]]\n",
    "        for i, detector_id in enumerate(detector_ids_subset):\n",
    "            coord = self.proj_meta.scanner_LUT[detector_id]\n",
    "            sensitivity_factor_i = self.proj_meta.sensitivity_at_ids[detector_id]\n",
    "            if coord[0]==0: # If angle 0:\n",
    "                projections.append(object[:,coord[1],coord[2]].sum() *  sensitivity_factor_i) # sum along x\n",
    "            elif coord[0]==1: # If angle 90:\n",
    "                projections.append(object[coord[1],:,coord[2]].sum() * sensitivity_factor_i)  # sum along y\n",
    "        return torch.tensor(projections)\n",
    "    def backward(self, projections, subset_idx = None):\n",
    "        # There is probably a faster implementation, but I am trying to keep it simple for illustration purposes\n",
    "        object = torch.zeros(object_meta.shape)\n",
    "        if subset_idx is None:\n",
    "            detector_ids_subset = self.proj_meta.detector_ids\n",
    "        else:\n",
    "            detector_ids_subset = self.proj_meta.detector_ids[self.subset_indices_array[subset_idx]]\n",
    "        projections *= self.proj_meta.sensitivity_at_ids[detector_ids_subset]\n",
    "        for i, detector_id in enumerate(detector_ids_subset):\n",
    "            coord = self.proj_meta.scanner_LUT[detector_id]\n",
    "            if coord[0]==0: # If angle 0:\n",
    "                object[:,coord[1],coord[2]] += projections[i]\n",
    "            elif coord[0]==1: # If angle 90:\n",
    "                object[coord[1],:,coord[2]] += projections[i]\n",
    "        return object\n",
    "    def compute_normalization_factor(self, subset_idx=None):\n",
    "        fraction_considered = self.get_weighting_subset(subset_idx)\n",
    "        norm_BP = torch.zeros(object_meta.shape)\n",
    "        # Now we loop through unique detector ids instead\n",
    "        unique_detector_ids = torch.arange(scanner_LUT.shape[0])\n",
    "        for i, detector_id in enumerate(unique_detector_ids):\n",
    "            coord = self.proj_meta.scanner_LUT[detector_id]\n",
    "            sensitivity_factor_i = self.proj_meta.sensitivity_at_ids[detector_id]\n",
    "            if coord[0]==0: # If angle 0:\n",
    "                norm_BP[:,coord[1],coord[2]] += sensitivity_factor_i\n",
    "            elif coord[0]==1: # If angle 90:\n",
    "                norm_BP[coord[1],:,coord[2]] += sensitivity_factor_i\n",
    "        return norm_BP * fraction_considered"
   ]
  },
  {
   "cell_type": "code",
   "execution_count": 46,
   "id": "a2debf5a",
   "metadata": {
    "execution": {
     "iopub.execute_input": "2024-06-24T22:48:19.660283Z",
     "iopub.status.busy": "2024-06-24T22:48:19.659869Z",
     "iopub.status.idle": "2024-06-24T22:48:19.663475Z",
     "shell.execute_reply": "2024-06-24T22:48:19.662927Z"
    },
    "papermill": {
     "duration": 0.017625,
     "end_time": "2024-06-24T22:48:19.664654",
     "exception": false,
     "start_time": "2024-06-24T22:48:19.647029",
     "status": "completed"
    },
    "tags": []
   },
   "outputs": [],
   "source": [
    "system_matrix = EXSListmodeSystemMatrix(object_meta=object_meta, proj_meta=proj_meta_listmode)\n",
    "likelihood = NegativeMSELikelihood(system_matrix, scaling_constant=0.01)\n",
    "reconstruction_algorithm = OSEM(likelihood)"
   ]
  },
  {
   "cell_type": "code",
   "execution_count": 47,
   "id": "66a7cea9",
   "metadata": {
    "execution": {
     "iopub.execute_input": "2024-06-24T22:48:19.689875Z",
     "iopub.status.busy": "2024-06-24T22:48:19.689532Z",
     "iopub.status.idle": "2024-06-24T22:48:21.863660Z",
     "shell.execute_reply": "2024-06-24T22:48:21.862950Z"
    },
    "papermill": {
     "duration": 2.188563,
     "end_time": "2024-06-24T22:48:21.865332",
     "exception": false,
     "start_time": "2024-06-24T22:48:19.676769",
     "status": "completed"
    },
    "tags": []
   },
   "outputs": [],
   "source": [
    "recon_2subsets = reconstruction_algorithm(n_iters=20, n_subsets=2)\n",
    "reconstruction_algorithm = OSEM(likelihood)\n",
    "recon_1subset = reconstruction_algorithm(n_iters=40)"
   ]
  },
  {
   "cell_type": "markdown",
   "id": "1371e63c",
   "metadata": {
    "papermill": {
     "duration": 0.012364,
     "end_time": "2024-06-24T22:48:21.891103",
     "exception": false,
     "start_time": "2024-06-24T22:48:21.878739",
     "status": "completed"
    },
    "tags": []
   },
   "source": [
    "Now lets plot the reconstructions:"
   ]
  },
  {
   "cell_type": "code",
   "execution_count": 48,
   "id": "8e190a1d",
   "metadata": {
    "execution": {
     "iopub.execute_input": "2024-06-24T22:48:21.917045Z",
     "iopub.status.busy": "2024-06-24T22:48:21.916515Z",
     "iopub.status.idle": "2024-06-24T22:48:22.067192Z",
     "shell.execute_reply": "2024-06-24T22:48:22.066566Z"
    },
    "papermill": {
     "duration": 0.165177,
     "end_time": "2024-06-24T22:48:22.068599",
     "exception": false,
     "start_time": "2024-06-24T22:48:21.903422",
     "status": "completed"
    },
    "tags": []
   },
   "outputs": [
    {
     "data": {
      "text/plain": [
       "<matplotlib.colorbar.Colorbar at 0x7fc4dbc493d0>"
      ]
     },
     "execution_count": 48,
     "metadata": {},
     "output_type": "execute_result"
    },
    {
     "data": {
      "image/png": "[encoded data removed]",
      "text/plain": [
       "<Figure size 400x200 with 4 Axes>"
      ]
     },
     "metadata": {},
     "output_type": "display_data"
    }
   ],
   "source": [
    "max_value = max([recon_1subset[:,:,1].max().item(), recon_1subset[:,:,1].max().item()])\n",
    "plt.figure(figsize=(4,2))\n",
    "plt.subplot(121)\n",
    "plt.pcolormesh(recon_1subset[:,:,1], vmin=0, vmax=max_value, cmap='nipy_spectral')\n",
    "plt.axis('off')\n",
    "plt.colorbar()\n",
    "plt.subplot(122)\n",
    "plt.pcolormesh(recon_2subsets[:,:,1], vmin=0, vmax=max_value, cmap='nipy_spectral')\n",
    "plt.axis('off')\n",
    "plt.colorbar()"
   ]
  },
  {
   "cell_type": "markdown",
   "id": "73b08003",
   "metadata": {
    "papermill": {
     "duration": 0.012382,
     "end_time": "2024-06-24T22:48:22.094394",
     "exception": false,
     "start_time": "2024-06-24T22:48:22.082012",
     "status": "completed"
    },
    "tags": []
   },
   "source": [
    "For a better imaging system (we're not collecting nearly enough angles here), these two images should look very similar."
   ]
  }
 ],
 "metadata": {
  "kernelspec": {
   "display_name": "pytomo_install_test",
   "language": "python",
   "name": "python3"
  },
  "language_info": {
   "codemirror_mode": {
    "name": "ipython",
    "version": 3
   },
   "file_extension": ".py",
   "mimetype": "text/x-python",
   "name": "python",
   "nbconvert_exporter": "python",
   "pygments_lexer": "ipython3",
   "version": "3.11.6"
  },
  "papermill": {
   "default_parameters": {},
   "duration": 11.494109,
   "end_time": "2024-06-24T22:48:23.026031",
   "environment_variables": {},
   "exception": null,
   "input_path": "t_examplesystemmatrix.ipynb",
   "output_path": "t_examplesystemmatrix.ipynb",
   "parameters": {},
   "start_time": "2024-06-24T22:48:11.531922",
   "version": "2.6.0"
  }
 },
 "nbformat": 4,
 "nbformat_minor": 5
}