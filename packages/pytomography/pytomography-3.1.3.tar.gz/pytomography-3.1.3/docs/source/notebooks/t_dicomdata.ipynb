{
 "cells": [
  {
   "attachments": {},
   "cell_type": "markdown",
   "id": "d42c0672",
   "metadata": {
    "papermill": {
     "duration": 0.006682,
     "end_time": "2024-06-24T18:58:35.974743",
     "exception": false,
     "start_time": "2024-06-24T18:58:35.968061",
     "status": "completed"
    },
    "tags": []
   },
   "source": [
    "# DICOM Introduction"
   ]
  },
  {
   "cell_type": "code",
   "execution_count": 1,
   "id": "18553297",
   "metadata": {
    "execution": {
     "iopub.execute_input": "2024-06-24T18:58:35.989736Z",
     "iopub.status.busy": "2024-06-24T18:58:35.989088Z",
     "iopub.status.idle": "2024-06-24T18:58:38.705213Z",
     "shell.execute_reply": "2024-06-24T18:58:38.704568Z"
    },
    "papermill": {
     "duration": 2.725638,
     "end_time": "2024-06-24T18:58:38.706723",
     "exception": false,
     "start_time": "2024-06-24T18:58:35.981085",
     "status": "completed"
    },
    "tags": []
   },
   "outputs": [
    {
     "name": "stdout",
     "output_type": "stream",
     "text": [
      "\n",
      "          -  -  -  -  -  -  -  -   -  -  -  -\n",
      "          P  A  R  A  L  L  E  L | P  R  O  J\n",
      "          -  -  -  -  -  -  -  -   -  -  -  -\n",
      "\n",
      "    =================================================\n",
      "\n",
      "         Please consider citing our publication\n",
      "      ---------------------------------------------\n",
      "      Georg Schramm and Kris Thielemans:\n",
      "      \"PARALLELPROJ—an open-source framework for\n",
      "       fast calculation of projections in\n",
      "       tomography\"\n",
      "      Front. Nucl. Med., 08 January 2024\n",
      "      Sec. PET and SPECT, Vol 3\n",
      "      https://doi.org/10.3389/fnume.2023.1324562\n",
      "\n",
      "    =================================================\n",
      " \n",
      "    parallelproj C    lib: /data/anaconda/envs/pytomo_install_test/lib/libparallelproj_c.so.1.8.0\n",
      "    parallelproj CUDA lib: /data/anaconda/envs/pytomo_install_test/lib/libparallelproj_cuda.so.1.8.0\n",
      "    \n"
     ]
    }
   ],
   "source": [
    "import os\n",
    "import numpy as np\n",
    "from pytomography.io.SPECT import dicom\n",
    "from pytomography.transforms.SPECT import SPECTAttenuationTransform, SPECTPSFTransform\n",
    "from pytomography.algorithms import OSEM\n",
    "from pytomography.projectors.SPECT import SPECTSystemMatrix\n",
    "from pytomography.likelihoods import PoissonLogLikelihood\n",
    "from pytomography.utils import print_collimator_parameters\n",
    "import matplotlib.pyplot as plt\n",
    "import pydicom\n",
    "import shutil"
   ]
  },
  {
   "cell_type": "markdown",
   "id": "fcaad5aa",
   "metadata": {
    "papermill": {
     "duration": 0.006304,
     "end_time": "2024-06-24T18:58:38.719693",
     "exception": false,
     "start_time": "2024-06-24T18:58:38.713389",
     "status": "completed"
    },
    "tags": []
   },
   "source": [
    "## Part 1: Opening Data"
   ]
  },
  {
   "attachments": {},
   "cell_type": "markdown",
   "id": "272f9ffa",
   "metadata": {
    "papermill": {
     "duration": 0.006091,
     "end_time": "2024-06-24T18:58:38.731904",
     "exception": false,
     "start_time": "2024-06-24T18:58:38.725813",
     "status": "completed"
    },
    "tags": []
   },
   "source": [
    "First we specify the required filepaths to open the SPECT scan (`file_NM`) and the CT data files (`files_CT`)."
   ]
  },
  {
   "cell_type": "code",
   "execution_count": 2,
   "id": "eab43513",
   "metadata": {
    "execution": {
     "iopub.execute_input": "2024-06-24T18:58:38.746683Z",
     "iopub.status.busy": "2024-06-24T18:58:38.745603Z",
     "iopub.status.idle": "2024-06-24T18:58:38.750055Z",
     "shell.execute_reply": "2024-06-24T18:58:38.749480Z"
    },
    "papermill": {
     "duration": 0.013167,
     "end_time": "2024-06-24T18:58:38.751332",
     "exception": false,
     "start_time": "2024-06-24T18:58:38.738165",
     "status": "completed"
    },
    "tags": []
   },
   "outputs": [],
   "source": [
    "# initialize the `path`` variable below to specify the location of the required data\n",
    "path = '/disk1/pytomography_tutorial_data/dicom_intro_tutorial/' \n",
    "path_CT = os.path.join(path, 'CT')\n",
    "files_CT = [os.path.join(path_CT, file) for file in os.listdir(path_CT)]\n",
    "file_NM = os.path.join(path, 'projection_data.dcm')"
   ]
  },
  {
   "cell_type": "markdown",
   "id": "ef816082",
   "metadata": {
    "papermill": {
     "duration": 0.006132,
     "end_time": "2024-06-24T18:58:38.763560",
     "exception": false,
     "start_time": "2024-06-24T18:58:38.757428",
     "status": "completed"
    },
    "tags": []
   },
   "source": [
    "The metadata for object space and projection space can be obtained from the projection data file using `dicom.get_metadata`\n",
    "\n",
    "* This contains informaiton such as the voxel size, number of angles, scanner radius, etc."
   ]
  },
  {
   "cell_type": "code",
   "execution_count": 3,
   "id": "1a38b044",
   "metadata": {
    "execution": {
     "iopub.execute_input": "2024-06-24T18:58:38.776976Z",
     "iopub.status.busy": "2024-06-24T18:58:38.776509Z",
     "iopub.status.idle": "2024-06-24T18:58:39.041476Z",
     "shell.execute_reply": "2024-06-24T18:58:39.040815Z"
    },
    "papermill": {
     "duration": 0.273408,
     "end_time": "2024-06-24T18:58:39.043150",
     "exception": false,
     "start_time": "2024-06-24T18:58:38.769742",
     "status": "completed"
    },
    "tags": []
   },
   "outputs": [],
   "source": [
    "object_meta, proj_meta = dicom.get_metadata(file_NM, index_peak=0)"
   ]
  },
  {
   "cell_type": "markdown",
   "id": "004b3e30",
   "metadata": {
    "papermill": {
     "duration": 0.007193,
     "end_time": "2024-06-24T18:58:39.057698",
     "exception": false,
     "start_time": "2024-06-24T18:58:39.050505",
     "status": "completed"
    },
    "tags": []
   },
   "source": [
    "We can get the photopeak projection data from the DICOM file provided we know the indices of each of the energy windows. We can obtain that as follows:"
   ]
  },
  {
   "cell_type": "code",
   "execution_count": 4,
   "id": "25c71173",
   "metadata": {
    "execution": {
     "iopub.execute_input": "2024-06-24T18:58:39.071467Z",
     "iopub.status.busy": "2024-06-24T18:58:39.070982Z",
     "iopub.status.idle": "2024-06-24T18:58:39.084425Z",
     "shell.execute_reply": "2024-06-24T18:58:39.083803Z"
    },
    "papermill": {
     "duration": 0.021825,
     "end_time": "2024-06-24T18:58:39.085720",
     "exception": false,
     "start_time": "2024-06-24T18:58:39.063895",
     "status": "completed"
    },
    "tags": []
   },
   "outputs": [
    {
     "name": "stdout",
     "output_type": "stream",
     "text": [
      "[(0054, 0013)  Energy Window Range Sequence  1 item(s) ---- \n",
      "   (0054, 0014) Energy Window Lower Limit           DS: '187.19999694824'\n",
      "   (0054, 0015) Energy Window Upper Limit           DS: '228.80000305176'\n",
      "   ---------\n",
      "(0054, 0018) Energy Window Name                  SH: 'Window Group A'(0054, 0013)  Energy Window Range Sequence  1 item(s) ---- \n",
      "   (0054, 0014) Energy Window Lower Limit           DS: '166.39999389648'\n",
      "   (0054, 0015) Energy Window Upper Limit           DS: '187.19999694824'\n",
      "   ---------\n",
      "(0054, 0018) Energy Window Name                  SH: 'Window Group B'(0054, 0013)  Energy Window Range Sequence  1 item(s) ---- \n",
      "   (0054, 0014) Energy Window Lower Limit           DS: '228.80000305176'\n",
      "   (0054, 0015) Energy Window Upper Limit           DS: '249.60000610352'\n",
      "   ---------\n",
      "(0054, 0018) Energy Window Name                  SH: 'Window Group C'(0054, 0013)  Energy Window Range Sequence  1 item(s) ---- \n",
      "   (0054, 0014) Energy Window Lower Limit           DS: '101.69999694824'\n",
      "   (0054, 0015) Energy Window Upper Limit           DS: '124.30000305176'\n",
      "   ---------\n",
      "(0054, 0018) Energy Window Name                  SH: 'Window Group D'(0054, 0013)  Energy Window Range Sequence  1 item(s) ---- \n",
      "   (0054, 0014) Energy Window Lower Limit           DS: '85.879997253418'\n",
      "   (0054, 0015) Energy Window Upper Limit           DS: '101.69999694824'\n",
      "   ---------\n",
      "(0054, 0018) Energy Window Name                  SH: 'Window Group E'(0054, 0013)  Energy Window Range Sequence  1 item(s) ---- \n",
      "   (0054, 0014) Energy Window Lower Limit           DS: '124.30000305176'\n",
      "   (0054, 0015) Energy Window Upper Limit           DS: '146.89999389648'\n",
      "   ---------\n",
      "(0054, 0018) Energy Window Name                  SH: 'Window Group F']\n"
     ]
    }
   ],
   "source": [
    "print(pydicom.read_file(file_NM).EnergyWindowInformationSequence)"
   ]
  },
  {
   "attachments": {},
   "cell_type": "markdown",
   "id": "b0b23350",
   "metadata": {
    "papermill": {
     "duration": 0.006155,
     "end_time": "2024-06-24T18:58:39.098438",
     "exception": false,
     "start_time": "2024-06-24T18:58:39.092283",
     "status": "completed"
    },
    "tags": []
   },
   "source": [
    "In this case, we specify `index_peak=0`, so it only returns the projections corresponding to the 187-228 energy window above."
   ]
  },
  {
   "cell_type": "code",
   "execution_count": 5,
   "id": "0bab5813",
   "metadata": {
    "execution": {
     "iopub.execute_input": "2024-06-24T18:58:39.112023Z",
     "iopub.status.busy": "2024-06-24T18:58:39.111638Z",
     "iopub.status.idle": "2024-06-24T18:58:39.202819Z",
     "shell.execute_reply": "2024-06-24T18:58:39.202224Z"
    },
    "papermill": {
     "duration": 0.099426,
     "end_time": "2024-06-24T18:58:39.204091",
     "exception": false,
     "start_time": "2024-06-24T18:58:39.104665",
     "status": "completed"
    },
    "tags": []
   },
   "outputs": [
    {
     "data": {
      "text/plain": [
       "torch.Size([96, 128, 128])"
      ]
     },
     "execution_count": 5,
     "metadata": {},
     "output_type": "execute_result"
    }
   ],
   "source": [
    "photopeak = dicom.get_projections(file_NM, index_peak=0)\n",
    "photopeak.shape"
   ]
  },
  {
   "cell_type": "markdown",
   "id": "23f8b4ce",
   "metadata": {
    "papermill": {
     "duration": 0.006312,
     "end_time": "2024-06-24T18:58:39.217896",
     "exception": false,
     "start_time": "2024-06-24T18:58:39.211584",
     "status": "completed"
    },
    "tags": []
   },
   "source": [
    "The shape of the photopeak is $(N_{angles}, \\text{Width}, \\text{Height})$."
   ]
  },
  {
   "cell_type": "code",
   "execution_count": 6,
   "id": "b811f6b8",
   "metadata": {
    "execution": {
     "iopub.execute_input": "2024-06-24T18:58:39.231895Z",
     "iopub.status.busy": "2024-06-24T18:58:39.231349Z",
     "iopub.status.idle": "2024-06-24T18:58:39.491883Z",
     "shell.execute_reply": "2024-06-24T18:58:39.491281Z"
    },
    "papermill": {
     "duration": 0.274248,
     "end_time": "2024-06-24T18:58:39.498469",
     "exception": false,
     "start_time": "2024-06-24T18:58:39.224221",
     "status": "completed"
    },
    "tags": []
   },
   "outputs": [
    {
     "data": {
      "text/plain": [
       "<matplotlib.colorbar.Colorbar at 0x7f39856be650>"
      ]
     },
     "execution_count": 6,
     "metadata": {},
     "output_type": "execute_result"
    },
    {
     "data": {
      "image/png": "[encoded data removed]",
      "text/plain": [
       "<Figure size 700x600 with 2 Axes>"
      ]
     },
     "metadata": {},
     "output_type": "display_data"
    }
   ],
   "source": [
    "plt.figure(figsize=(7,6))\n",
    "plt.pcolormesh(photopeak[0].cpu().T, cmap='nipy_spectral')\n",
    "plt.axis('off')\n",
    "plt.colorbar(label='Counts')"
   ]
  },
  {
   "attachments": {},
   "cell_type": "markdown",
   "id": "233f5cb3",
   "metadata": {
    "papermill": {
     "duration": 0.007101,
     "end_time": "2024-06-24T18:58:39.518699",
     "exception": false,
     "start_time": "2024-06-24T18:58:39.511598",
     "status": "completed"
    },
    "tags": []
   },
   "source": [
    "Scatter projections can be estimated using the triple energy window function `dicom_get_scatterTEW`. One needs to specify the index of the peak, and lower/upper energy windows"
   ]
  },
  {
   "cell_type": "code",
   "execution_count": 7,
   "id": "5c653ab8",
   "metadata": {
    "execution": {
     "iopub.execute_input": "2024-06-24T18:58:39.534056Z",
     "iopub.status.busy": "2024-06-24T18:58:39.533543Z",
     "iopub.status.idle": "2024-06-24T18:58:39.662317Z",
     "shell.execute_reply": "2024-06-24T18:58:39.661628Z"
    },
    "papermill": {
     "duration": 0.138495,
     "end_time": "2024-06-24T18:58:39.664076",
     "exception": false,
     "start_time": "2024-06-24T18:58:39.525581",
     "status": "completed"
    },
    "tags": []
   },
   "outputs": [],
   "source": [
    "scatter = dicom.get_energy_window_scatter_estimate(file_NM, index_peak=0, index_lower=1, index_upper=2)"
   ]
  },
  {
   "cell_type": "markdown",
   "id": "4f057acd",
   "metadata": {
    "papermill": {
     "duration": 0.006955,
     "end_time": "2024-06-24T18:58:39.678541",
     "exception": false,
     "start_time": "2024-06-24T18:58:39.671586",
     "status": "completed"
    },
    "tags": []
   },
   "source": [
    "## Part 2: Modeling"
   ]
  },
  {
   "cell_type": "markdown",
   "id": "8153f02b",
   "metadata": {
    "papermill": {
     "duration": 0.007294,
     "end_time": "2024-06-24T18:58:39.692853",
     "exception": false,
     "start_time": "2024-06-24T18:58:39.685559",
     "status": "completed"
    },
    "tags": []
   },
   "source": [
    "### Attenuation Transform"
   ]
  },
  {
   "cell_type": "markdown",
   "id": "fd7f5ffc",
   "metadata": {
    "papermill": {
     "duration": 0.007094,
     "end_time": "2024-06-24T18:58:39.706862",
     "exception": false,
     "start_time": "2024-06-24T18:58:39.699768",
     "status": "completed"
    },
    "tags": []
   },
   "source": [
    "The attenuation transform is used to \"correct\" for the fact that some photons get atteunated in the patient before they reach the detector. PyTomography has functionality to do attenuation correction provided either (i) an argument `attenuation_map=...` OR (ii) an argument `filepath=...` is provided to the `SPECTAttenuationTransform`.\n",
    "\n",
    "* `attenuation_map` must be aligned with the SPECT projection data and have units of cm $^{-1}$ .\n",
    "* `filepath` specifies the directory of some CT scan which will be used for attenuation correction. PyTomography has functionality to align this with the SPECT projections and convert to units of cm $^{-1}$.\n",
    "\n",
    "In this case, since we're reconstructing DICOM data, it's easier to use `filepath` than to manually align/rescale the CT data"
   ]
  },
  {
   "cell_type": "code",
   "execution_count": 8,
   "id": "66f048d2",
   "metadata": {
    "execution": {
     "iopub.execute_input": "2024-06-24T18:58:39.722163Z",
     "iopub.status.busy": "2024-06-24T18:58:39.721674Z",
     "iopub.status.idle": "2024-06-24T18:58:40.113078Z",
     "shell.execute_reply": "2024-06-24T18:58:40.112317Z"
    },
    "papermill": {
     "duration": 0.401037,
     "end_time": "2024-06-24T18:58:40.114742",
     "exception": false,
     "start_time": "2024-06-24T18:58:39.713705",
     "status": "completed"
    },
    "tags": []
   },
   "outputs": [],
   "source": [
    "att_transform = SPECTAttenuationTransform(filepath=files_CT)"
   ]
  },
  {
   "cell_type": "markdown",
   "id": "675f9e64",
   "metadata": {
    "papermill": {
     "duration": 0.00792,
     "end_time": "2024-06-24T18:58:40.130156",
     "exception": false,
     "start_time": "2024-06-24T18:58:40.122236",
     "status": "completed"
    },
    "tags": []
   },
   "source": [
    "If we want to view the attenuation map, we need to *configure* the `att_transform` so that (i) the CT data can be aligned with SPECT projection data and (ii) the CT data can be converted to attenuation coefficients.\n",
    "\n",
    "* *Note*: This is not required if you don't want to view the attenuation map. Later, when the system matrix is built, it automatically configures all the transforms"
   ]
  },
  {
   "cell_type": "code",
   "execution_count": 9,
   "id": "9632593e",
   "metadata": {
    "execution": {
     "iopub.execute_input": "2024-06-24T18:58:40.145043Z",
     "iopub.status.busy": "2024-06-24T18:58:40.144540Z",
     "iopub.status.idle": "2024-06-24T18:58:42.979123Z",
     "shell.execute_reply": "2024-06-24T18:58:42.978453Z"
    },
    "papermill": {
     "duration": 2.843931,
     "end_time": "2024-06-24T18:58:42.980806",
     "exception": false,
     "start_time": "2024-06-24T18:58:40.136875",
     "status": "completed"
    },
    "tags": []
   },
   "outputs": [
    {
     "name": "stdout",
     "output_type": "stream",
     "text": [
      "Given photopeak energy 208.0 keV and CT energy 130 keV from the CT DICOM header, the HU->mu conversion from the following configuration is used: 208.0 keV SPECT energy, 130 keV CT energy, and scanner model symbiat2\n"
     ]
    }
   ],
   "source": [
    "att_transform.configure(object_meta, proj_meta)\n",
    "attenuation_map = att_transform.attenuation_map"
   ]
  },
  {
   "attachments": {},
   "cell_type": "markdown",
   "id": "c41ac6a9",
   "metadata": {
    "papermill": {
     "duration": 0.006821,
     "end_time": "2024-06-24T18:58:42.995271",
     "exception": false,
     "start_time": "2024-06-24T18:58:42.988450",
     "status": "completed"
    },
    "tags": []
   },
   "source": [
    "Viewing the attenuation map allows for a consistency check to ensure that it's properly aligned with the projection data"
   ]
  },
  {
   "cell_type": "code",
   "execution_count": 10,
   "id": "3e8e4c05",
   "metadata": {
    "execution": {
     "iopub.execute_input": "2024-06-24T18:58:43.011028Z",
     "iopub.status.busy": "2024-06-24T18:58:43.010459Z",
     "iopub.status.idle": "2024-06-24T18:58:43.014950Z",
     "shell.execute_reply": "2024-06-24T18:58:43.014352Z"
    },
    "papermill": {
     "duration": 0.014244,
     "end_time": "2024-06-24T18:58:43.016423",
     "exception": false,
     "start_time": "2024-06-24T18:58:43.002179",
     "status": "completed"
    },
    "tags": []
   },
   "outputs": [],
   "source": [
    "sample_slice = attenuation_map.cpu()[:,70].T"
   ]
  },
  {
   "cell_type": "code",
   "execution_count": 11,
   "id": "699e1dc0",
   "metadata": {
    "execution": {
     "iopub.execute_input": "2024-06-24T18:58:43.032855Z",
     "iopub.status.busy": "2024-06-24T18:58:43.032386Z",
     "iopub.status.idle": "2024-06-24T18:58:43.333177Z",
     "shell.execute_reply": "2024-06-24T18:58:43.332592Z"
    },
    "papermill": {
     "duration": 0.310734,
     "end_time": "2024-06-24T18:58:43.334597",
     "exception": false,
     "start_time": "2024-06-24T18:58:43.023863",
     "status": "completed"
    },
    "tags": []
   },
   "outputs": [
    {
     "data": {
      "text/plain": [
       "<matplotlib.colorbar.Colorbar at 0x7f39879e1f90>"
      ]
     },
     "execution_count": 11,
     "metadata": {},
     "output_type": "execute_result"
    },
    {
     "data": {
      "image/png": "[encoded data removed]",
      "text/plain": [
       "<Figure size 700x300 with 4 Axes>"
      ]
     },
     "metadata": {},
     "output_type": "display_data"
    }
   ],
   "source": [
    "plt.subplots(1,2,figsize=(7,3))\n",
    "plt.subplot(121)\n",
    "plt.title('Projection Data')\n",
    "plt.pcolormesh(photopeak[0].cpu().T, cmap='nipy_spectral')\n",
    "plt.axis('off')\n",
    "plt.colorbar(label='Counts')\n",
    "plt.subplot(122)\n",
    "plt.title('From CT Slices')\n",
    "plt.pcolormesh(sample_slice, cmap='Greys_r')\n",
    "plt.axis('off')\n",
    "plt.colorbar()"
   ]
  },
  {
   "cell_type": "markdown",
   "id": "5a06b768",
   "metadata": {
    "papermill": {
     "duration": 0.008011,
     "end_time": "2024-06-24T18:58:43.350579",
     "exception": false,
     "start_time": "2024-06-24T18:58:43.342568",
     "status": "completed"
    },
    "tags": []
   },
   "source": [
    "### PSF Modeling"
   ]
  },
  {
   "attachments": {},
   "cell_type": "markdown",
   "id": "b21aeb9b",
   "metadata": {
    "papermill": {
     "duration": 0.007324,
     "end_time": "2024-06-24T18:58:43.365245",
     "exception": false,
     "start_time": "2024-06-24T18:58:43.357921",
     "status": "completed"
    },
    "tags": []
   },
   "source": [
    "PSF modeling requires knowing the parameters of the collimators used for the scan. A list of all supported collimator types can be determined by uncommenting the following line and running it"
   ]
  },
  {
   "cell_type": "code",
   "execution_count": 12,
   "id": "5f310bef",
   "metadata": {
    "execution": {
     "iopub.execute_input": "2024-06-24T18:58:43.382093Z",
     "iopub.status.busy": "2024-06-24T18:58:43.381847Z",
     "iopub.status.idle": "2024-06-24T18:58:43.384994Z",
     "shell.execute_reply": "2024-06-24T18:58:43.384441Z"
    },
    "papermill": {
     "duration": 0.012858,
     "end_time": "2024-06-24T18:58:43.386284",
     "exception": false,
     "start_time": "2024-06-24T18:58:43.373426",
     "status": "completed"
    },
    "tags": []
   },
   "outputs": [],
   "source": [
    "#print_collimator_parameters()"
   ]
  },
  {
   "cell_type": "markdown",
   "id": "358a99e4",
   "metadata": {
    "papermill": {
     "duration": 0.00726,
     "end_time": "2024-06-24T18:58:43.402893",
     "exception": false,
     "start_time": "2024-06-24T18:58:43.395633",
     "status": "completed"
    },
    "tags": []
   },
   "source": [
    "In our case, we know that this scan was performed on a Siemens Symbia scanner with medium energy collimators and 3/8'' crystals\n",
    "* There is an option to use intrinsic resolution of the crystals of the scanner (if you know it); this has a minor impact on the reconstruction"
   ]
  },
  {
   "cell_type": "code",
   "execution_count": 13,
   "id": "7c403021",
   "metadata": {
    "execution": {
     "iopub.execute_input": "2024-06-24T18:58:43.418507Z",
     "iopub.status.busy": "2024-06-24T18:58:43.418120Z",
     "iopub.status.idle": "2024-06-24T18:58:43.426086Z",
     "shell.execute_reply": "2024-06-24T18:58:43.425489Z"
    },
    "papermill": {
     "duration": 0.017135,
     "end_time": "2024-06-24T18:58:43.427318",
     "exception": false,
     "start_time": "2024-06-24T18:58:43.410183",
     "status": "completed"
    },
    "tags": []
   },
   "outputs": [
    {
     "name": "stdout",
     "output_type": "stream",
     "text": [
      "kernel_dimensions = 2D\n",
      "min_sigmas = 3\n",
      "sigma_fit_params = [0.03161992134409504, 0.1248503046423388, 0.16137114205472364]\n",
      "\n"
     ]
    }
   ],
   "source": [
    "collimator_name = 'SY-ME'\n",
    "energy_kev = 208 #keV\n",
    "intrinsic_resolution=0.38 #mm\n",
    "psf_meta = dicom.get_psfmeta_from_scanner_params(\n",
    "    collimator_name,\n",
    "    energy_kev,\n",
    "    intrinsic_resolution=intrinsic_resolution\n",
    ")\n",
    "print(psf_meta)"
   ]
  },
  {
   "cell_type": "markdown",
   "id": "da253908",
   "metadata": {
    "papermill": {
     "duration": 0.007397,
     "end_time": "2024-06-24T18:58:43.442249",
     "exception": false,
     "start_time": "2024-06-24T18:58:43.434852",
     "status": "completed"
    },
    "tags": []
   },
   "source": [
    "Now we can build our PSF transform required to create the system matrix"
   ]
  },
  {
   "cell_type": "code",
   "execution_count": 14,
   "id": "f59ac1ac",
   "metadata": {
    "execution": {
     "iopub.execute_input": "2024-06-24T18:58:43.459652Z",
     "iopub.status.busy": "2024-06-24T18:58:43.459205Z",
     "iopub.status.idle": "2024-06-24T18:58:43.462423Z",
     "shell.execute_reply": "2024-06-24T18:58:43.461818Z"
    },
    "papermill": {
     "duration": 0.013905,
     "end_time": "2024-06-24T18:58:43.463664",
     "exception": false,
     "start_time": "2024-06-24T18:58:43.449759",
     "status": "completed"
    },
    "tags": []
   },
   "outputs": [],
   "source": [
    "psf_transform = SPECTPSFTransform(psf_meta)"
   ]
  },
  {
   "cell_type": "markdown",
   "id": "8522b4af",
   "metadata": {
    "papermill": {
     "duration": 0.007539,
     "end_time": "2024-06-24T18:58:43.478666",
     "exception": false,
     "start_time": "2024-06-24T18:58:43.471127",
     "status": "completed"
    },
    "tags": []
   },
   "source": [
    "## System Matrix"
   ]
  },
  {
   "cell_type": "markdown",
   "id": "eadc002a",
   "metadata": {
    "papermill": {
     "duration": 0.007401,
     "end_time": "2024-06-24T18:58:43.493387",
     "exception": false,
     "start_time": "2024-06-24T18:58:43.485986",
     "status": "completed"
    },
    "tags": []
   },
   "source": [
    "Now that we have the required transforms, we can begin to build the system matrix. It requires:\n",
    "1. `obj2obj_transforms`. These map from object space to object space. In the case of SPECT imaging, both the attenuation transform and PSF transform correspond to these types of transforms.\n",
    "2. `proj2proj_transforms`: These map from projection to projection space. Though we have none here, they would be used to model PSF in PET imaging.\n",
    "3. `object_meta` and `proj_meta`. These are used to initialize the transforms. For example, data from `object_meta` is used to align the attenuation map, and radial position from `proj_meta` is used to get proper blurring parameters for the PSF transform"
   ]
  },
  {
   "cell_type": "code",
   "execution_count": 15,
   "id": "4f2371df",
   "metadata": {
    "execution": {
     "iopub.execute_input": "2024-06-24T18:58:43.509700Z",
     "iopub.status.busy": "2024-06-24T18:58:43.509276Z",
     "iopub.status.idle": "2024-06-24T18:58:46.501881Z",
     "shell.execute_reply": "2024-06-24T18:58:46.501203Z"
    },
    "papermill": {
     "duration": 3.002955,
     "end_time": "2024-06-24T18:58:46.503644",
     "exception": false,
     "start_time": "2024-06-24T18:58:43.500689",
     "status": "completed"
    },
    "tags": []
   },
   "outputs": [
    {
     "name": "stdout",
     "output_type": "stream",
     "text": [
      "Given photopeak energy 208.0 keV and CT energy 130 keV from the CT DICOM header, the HU->mu conversion from the following configuration is used: 208.0 keV SPECT energy, 130 keV CT energy, and scanner model symbiat2\n"
     ]
    }
   ],
   "source": [
    "system_matrix = SPECTSystemMatrix(\n",
    "        obj2obj_transforms = [att_transform,psf_transform],\n",
    "        proj2proj_transforms = [],\n",
    "        object_meta = object_meta,\n",
    "        proj_meta = proj_meta)"
   ]
  },
  {
   "cell_type": "markdown",
   "id": "730619bf",
   "metadata": {
    "papermill": {
     "duration": 0.00766,
     "end_time": "2024-06-24T18:58:46.519586",
     "exception": false,
     "start_time": "2024-06-24T18:58:46.511926",
     "status": "completed"
    },
    "tags": []
   },
   "source": [
    "The system matrix $H$ represents the imaging system and maps an object $f$ to a corresponding image $g$ under the imaging system"
   ]
  },
  {
   "cell_type": "markdown",
   "id": "b22a7707",
   "metadata": {
    "papermill": {
     "duration": 0.007433,
     "end_time": "2024-06-24T18:58:46.534551",
     "exception": false,
     "start_time": "2024-06-24T18:58:46.527118",
     "status": "completed"
    },
    "tags": []
   },
   "source": [
    "## Likelihood"
   ]
  },
  {
   "cell_type": "code",
   "execution_count": 16,
   "id": "c48b18b2",
   "metadata": {
    "execution": {
     "iopub.execute_input": "2024-06-24T18:58:46.550591Z",
     "iopub.status.busy": "2024-06-24T18:58:46.550314Z",
     "iopub.status.idle": "2024-06-24T18:58:46.553587Z",
     "shell.execute_reply": "2024-06-24T18:58:46.553017Z"
    },
    "papermill": {
     "duration": 0.012789,
     "end_time": "2024-06-24T18:58:46.554830",
     "exception": false,
     "start_time": "2024-06-24T18:58:46.542041",
     "status": "completed"
    },
    "tags": []
   },
   "outputs": [],
   "source": [
    "likelihood = PoissonLogLikelihood(system_matrix, photopeak, scatter)"
   ]
  },
  {
   "attachments": {},
   "cell_type": "markdown",
   "id": "c8014eff",
   "metadata": {
    "papermill": {
     "duration": 0.008337,
     "end_time": "2024-06-24T18:58:46.570676",
     "exception": false,
     "start_time": "2024-06-24T18:58:46.562339",
     "status": "completed"
    },
    "tags": []
   },
   "source": [
    "# Reconstruct the object"
   ]
  },
  {
   "cell_type": "markdown",
   "id": "3c31e20a",
   "metadata": {
    "papermill": {
     "duration": 0.007959,
     "end_time": "2024-06-24T18:58:46.586154",
     "exception": false,
     "start_time": "2024-06-24T18:58:46.578195",
     "status": "completed"
    },
    "tags": []
   },
   "source": [
    "We'll reconstruct the object using OSEM. For this, we need to specify the measured projection data (`photopeak`/`scatter`) and the `system_matrix`"
   ]
  },
  {
   "cell_type": "code",
   "execution_count": 17,
   "id": "5e07e874",
   "metadata": {
    "execution": {
     "iopub.execute_input": "2024-06-24T18:58:46.602609Z",
     "iopub.status.busy": "2024-06-24T18:58:46.602165Z",
     "iopub.status.idle": "2024-06-24T18:58:46.607705Z",
     "shell.execute_reply": "2024-06-24T18:58:46.607117Z"
    },
    "papermill": {
     "duration": 0.015575,
     "end_time": "2024-06-24T18:58:46.609133",
     "exception": false,
     "start_time": "2024-06-24T18:58:46.593558",
     "status": "completed"
    },
    "tags": []
   },
   "outputs": [],
   "source": [
    "reconstruction_algorithm = OSEM(likelihood)"
   ]
  },
  {
   "cell_type": "markdown",
   "id": "376c0192",
   "metadata": {
    "papermill": {
     "duration": 0.007417,
     "end_time": "2024-06-24T18:58:46.624472",
     "exception": false,
     "start_time": "2024-06-24T18:58:46.617055",
     "status": "completed"
    },
    "tags": []
   },
   "source": [
    "We can reconstruct the object by calling the reconstruction algorithm for a given number of iterations/subsets."
   ]
  },
  {
   "cell_type": "code",
   "execution_count": 18,
   "id": "e24adf5a",
   "metadata": {
    "execution": {
     "iopub.execute_input": "2024-06-24T18:58:46.640771Z",
     "iopub.status.busy": "2024-06-24T18:58:46.640395Z",
     "iopub.status.idle": "2024-06-24T18:58:52.890351Z",
     "shell.execute_reply": "2024-06-24T18:58:52.889673Z"
    },
    "papermill": {
     "duration": 6.259927,
     "end_time": "2024-06-24T18:58:52.892045",
     "exception": false,
     "start_time": "2024-06-24T18:58:46.632118",
     "status": "completed"
    },
    "tags": []
   },
   "outputs": [],
   "source": [
    "reconstructed_object = reconstruction_algorithm(n_iters=4, n_subsets=8)"
   ]
  },
  {
   "attachments": {},
   "cell_type": "markdown",
   "id": "8a366340",
   "metadata": {
    "papermill": {
     "duration": 0.007518,
     "end_time": "2024-06-24T18:58:52.907667",
     "exception": false,
     "start_time": "2024-06-24T18:58:52.900149",
     "status": "completed"
    },
    "tags": []
   },
   "source": [
    "We can compare this reconstruction to one done by the vendor:\n",
    "\n",
    "* Note: we divide the vendor reconstruction by 96 because this particualr vendor multiplies by the number of acquisition angles when saving the data. (*some vendors alternatively divide by 48, the number of projection angles, so be careful*)"
   ]
  },
  {
   "cell_type": "code",
   "execution_count": 19,
   "id": "c27122df",
   "metadata": {
    "execution": {
     "iopub.execute_input": "2024-06-24T18:58:52.925893Z",
     "iopub.status.busy": "2024-06-24T18:58:52.925418Z",
     "iopub.status.idle": "2024-06-24T18:58:52.942860Z",
     "shell.execute_reply": "2024-06-24T18:58:52.942049Z"
    },
    "papermill": {
     "duration": 0.027946,
     "end_time": "2024-06-24T18:58:52.944440",
     "exception": false,
     "start_time": "2024-06-24T18:58:52.916494",
     "status": "completed"
    },
    "tags": []
   },
   "outputs": [],
   "source": [
    "ds_recon = pydicom.read_file(os.path.join(path, 'scanner_recon.dcm'))\n",
    "recon_vendor = ds_recon.pixel_array / proj_meta.num_projections\n",
    "recon_vendor = np.transpose(recon_vendor, (2,1,0))"
   ]
  },
  {
   "attachments": {},
   "cell_type": "markdown",
   "id": "519423ed",
   "metadata": {
    "papermill": {
     "duration": 0.007624,
     "end_time": "2024-06-24T18:58:52.960050",
     "exception": false,
     "start_time": "2024-06-24T18:58:52.952426",
     "status": "completed"
    },
    "tags": []
   },
   "source": [
    "We can looks at axial slices from all three reconstructions."
   ]
  },
  {
   "cell_type": "code",
   "execution_count": 20,
   "id": "20e3c8d3",
   "metadata": {
    "execution": {
     "iopub.execute_input": "2024-06-24T18:58:52.978120Z",
     "iopub.status.busy": "2024-06-24T18:58:52.977513Z",
     "iopub.status.idle": "2024-06-24T18:58:52.984999Z",
     "shell.execute_reply": "2024-06-24T18:58:52.984428Z"
    },
    "papermill": {
     "duration": 0.018768,
     "end_time": "2024-06-24T18:58:52.986346",
     "exception": false,
     "start_time": "2024-06-24T18:58:52.967578",
     "status": "completed"
    },
    "tags": []
   },
   "outputs": [],
   "source": [
    "idx_z = 61\n",
    "slice_pytomography = reconstructed_object.cpu()[:,:,idx_z].T\n",
    "slice_vendor = recon_vendor[:,:,idx_z].T"
   ]
  },
  {
   "cell_type": "code",
   "execution_count": 21,
   "id": "6d6a9571",
   "metadata": {
    "execution": {
     "iopub.execute_input": "2024-06-24T18:58:53.005876Z",
     "iopub.status.busy": "2024-06-24T18:58:53.005167Z",
     "iopub.status.idle": "2024-06-24T18:58:53.236947Z",
     "shell.execute_reply": "2024-06-24T18:58:53.236364Z"
    },
    "papermill": {
     "duration": 0.242415,
     "end_time": "2024-06-24T18:58:53.238274",
     "exception": false,
     "start_time": "2024-06-24T18:58:52.995859",
     "status": "completed"
    },
    "tags": []
   },
   "outputs": [
    {
     "data": {
      "image/png": "[encoded data removed]",
      "text/plain": [
       "<Figure size 700x300 with 4 Axes>"
      ]
     },
     "metadata": {},
     "output_type": "display_data"
    }
   ],
   "source": [
    "plt.subplots(1,2,figsize=(7,3))\n",
    "plt.subplot(121)\n",
    "plt.title('PyTomography')\n",
    "plt.pcolormesh(slice_pytomography , cmap='magma', vmax=27)\n",
    "plt.axis('off')\n",
    "plt.colorbar()\n",
    "plt.subplot(122)\n",
    "plt.title('Vendor')\n",
    "plt.pcolormesh(slice_vendor, cmap='magma', vmax=27)\n",
    "plt.axis('off')\n",
    "plt.colorbar()\n",
    "plt.show()"
   ]
  },
  {
   "cell_type": "markdown",
   "id": "a5fefb40",
   "metadata": {
    "papermill": {
     "duration": 0.007929,
     "end_time": "2024-06-24T18:58:53.254836",
     "exception": false,
     "start_time": "2024-06-24T18:58:53.246907",
     "status": "completed"
    },
    "tags": []
   },
   "source": [
    "## Saving Data"
   ]
  },
  {
   "cell_type": "markdown",
   "id": "f8c49be3",
   "metadata": {
    "papermill": {
     "duration": 0.007661,
     "end_time": "2024-06-24T18:58:53.270315",
     "exception": false,
     "start_time": "2024-06-24T18:58:53.262654",
     "status": "completed"
    },
    "tags": []
   },
   "source": [
    "PyTomography has functionality for saving DICOM data. There are a few things required:\n",
    "\n",
    "1. The folder where you want to save the data. The folder can't exist already (has to be a new folder); this prevents overwriting potential data.\n",
    "2. The reconstructed object itself: in this case, `recon_CTslices`\n",
    "3. The filepath of the projection data `file_NM`. Much of the study/patient information is copied over from this file to the reconstructed file.\n",
    "4. An optional string that represents the type of reconstruction performed. If left blank, will be an empty string `''`"
   ]
  },
  {
   "cell_type": "markdown",
   "id": "49b269c4",
   "metadata": {
    "papermill": {
     "duration": 0.007711,
     "end_time": "2024-06-24T18:58:53.285847",
     "exception": false,
     "start_time": "2024-06-24T18:58:53.278136",
     "status": "completed"
    },
    "tags": []
   },
   "source": [
    "**Note: Some vendor reconstructions (i) multiply by the total number of projections and/or (ii) normalize to counts/second when they save their SPECT reconstructions. Make sure to multiply `reconstructed_object` by these values before you save if you want to do such comparisons.**"
   ]
  },
  {
   "cell_type": "code",
   "execution_count": 22,
   "id": "bf87b778",
   "metadata": {
    "execution": {
     "iopub.execute_input": "2024-06-24T18:58:53.302821Z",
     "iopub.status.busy": "2024-06-24T18:58:53.302436Z",
     "iopub.status.idle": "2024-06-24T18:58:53.697018Z",
     "shell.execute_reply": "2024-06-24T18:58:53.696292Z"
    },
    "papermill": {
     "duration": 0.40501,
     "end_time": "2024-06-24T18:58:53.698693",
     "exception": false,
     "start_time": "2024-06-24T18:58:53.293683",
     "status": "completed"
    },
    "tags": []
   },
   "outputs": [],
   "source": [
    "# Modify the path below to a location on your computer where you want to save the data\n",
    "save_path = '/disk1/pytomography_tutorial_data/dicom_intro_tutorial/output'\n",
    "# Code only works if folder doesnt exist, so delete it if present\n",
    "if os.path.exists(save_path) and os.path.isdir(save_path):\n",
    "    shutil.rmtree(save_path)\n",
    "# Save\n",
    "dicom.save_dcm(\n",
    "    save_path = save_path,\n",
    "    object = reconstructed_object,\n",
    "    file_NM = file_NM,\n",
    "    recon_name = 'OSEM_4it_8ss')"
   ]
  },
  {
   "cell_type": "markdown",
   "id": "fa1e5272",
   "metadata": {
    "papermill": {
     "duration": 0.007808,
     "end_time": "2024-06-24T18:58:53.715043",
     "exception": false,
     "start_time": "2024-06-24T18:58:53.707235",
     "status": "completed"
    },
    "tags": []
   },
   "source": [
    "The data can now be exported to any DICOM viewer of your choice!"
   ]
  }
 ],
 "metadata": {
  "kernelspec": {
   "display_name": "torch",
   "language": "python",
   "name": "python3"
  },
  "language_info": {
   "codemirror_mode": {
    "name": "ipython",
    "version": 3
   },
   "file_extension": ".py",
   "mimetype": "text/x-python",
   "name": "python",
   "nbconvert_exporter": "python",
   "pygments_lexer": "ipython3",
   "version": "3.11.6"
  },
  "papermill": {
   "default_parameters": {},
   "duration": 19.622001,
   "end_time": "2024-06-24T18:58:54.841578",
   "environment_variables": {},
   "exception": null,
   "input_path": "t_dicomdata.ipynb",
   "output_path": "t_dicomdata.ipynb",
   "parameters": {},
   "start_time": "2024-06-24T18:58:35.219577",
   "version": "2.6.0"
  }
 },
 "nbformat": 4,
 "nbformat_minor": 5
}
