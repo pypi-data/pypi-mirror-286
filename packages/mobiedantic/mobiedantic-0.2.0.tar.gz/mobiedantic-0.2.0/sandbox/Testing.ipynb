{
 "cells": [
  {
   "cell_type": "code",
   "execution_count": 1,
   "id": "9bda2fde-0d93-492e-9947-cfa89a87d318",
   "metadata": {},
   "outputs": [],
   "source": [
    "from mobiedantic.generated import MoBIEDatasetSchema,Schema"
   ]
  },
  {
   "cell_type": "code",
   "execution_count": 2,
   "id": "2234eb49-c227-4591-a0b0-a64d82e2cbf5",
   "metadata": {},
   "outputs": [],
   "source": [
    "dataset = MoBIEDatasetSchema(\n",
    "    is2D=True,\n",
    "    sources={\"A01_C3\": {\"image\": {\"imageData\": {\"ome.zarr\": {\"relativePath\": \".\"}}}}},\n",
    "    views={\"default\": {\"uiSelectionGroup\": \"any\", \"isExclusive\":  True}},\n",
    ")"
   ]
  },
  {
   "cell_type": "code",
   "execution_count": 3,
   "id": "11bcc704-a847-4d71-a25c-0338de1873fd",
   "metadata": {},
   "outputs": [
    {
     "data": {
      "text/plain": [
       "MoBIEDatasetSchema(is2D=True, description=None, sources={'A01_C3': Schema(root=MoBIESourceSchema(image=ImageSource(imageData=ImageData(bdv_hdf5=None, bdv_n5=None, bdv_n5_s3=None, bdv_ome_zarr=None, bdv_ome_zarr_s3=None, ome_zarr=OmeZarr(relativePath='.', absolutePath=None, channel=None), ome_zarr_s3=None, openOrganelle_s3=None))))}, views=Views(default=MoBIEViewSchema(uiSelectionGroup=Name(root='any'), isExclusive=True, description=None, sourceDisplays=None, sourceTransforms=None, viewerTransform=None)), defaultLocation=None)"
      ]
     },
     "execution_count": 3,
     "metadata": {},
     "output_type": "execute_result"
    }
   ],
   "source": [
    "dataset"
   ]
  },
  {
   "cell_type": "code",
   "execution_count": 4,
   "id": "743c97e2-9d9c-415e-8f64-64837cd3ccb1",
   "metadata": {},
   "outputs": [
    {
     "data": {
      "text/plain": [
       "'{\"is2D\":true,\"sources\":{\"A01_C3\":{\"image\":{\"imageData\":{\"ome.zarr\":{\"relativePath\":\".\"}}}}},\"views\":{\"default\":{\"uiSelectionGroup\":\"any\",\"isExclusive\":true}}}'"
      ]
     },
     "execution_count": 4,
     "metadata": {},
     "output_type": "execute_result"
    }
   ],
   "source": [
    "dataset.model_dump_json(exclude_none=True, by_alias=True)"
   ]
  },
  {
   "cell_type": "code",
   "execution_count": 5,
   "id": "a6b19e64-e4a2-4088-9bb8-44fecdc95b5a",
   "metadata": {},
   "outputs": [
    {
     "data": {
      "text/plain": [
       "{'is2D': True,\n",
       " 'sources': {'A01_C3': {'image': {'imageData': {'ome.zarr': {'relativePath': '.'}}}}},\n",
       " 'views': {'default': {'uiSelectionGroup': 'any', 'isExclusive': True}}}"
      ]
     },
     "execution_count": 5,
     "metadata": {},
     "output_type": "execute_result"
    }
   ],
   "source": [
    "dataset.model_dump(exclude_none=True, by_alias=True)"
   ]
  },
  {
   "cell_type": "code",
   "execution_count": 6,
   "id": "2a7157c3-8fe2-4518-b80c-66a2d9ab3a89",
   "metadata": {},
   "outputs": [],
   "source": [
    "dataset.sources[\"A01_C1\"] = Schema({\"image\": {\"imageData\": {\"ome.zarr\": {\"relativePath\": \".\"}}}})"
   ]
  },
  {
   "cell_type": "code",
   "execution_count": 7,
   "id": "b23c5e7f-6738-4513-8763-8d929622157a",
   "metadata": {},
   "outputs": [
    {
     "data": {
      "text/plain": [
       "{'is2D': True,\n",
       " 'sources': {'A01_C3': {'image': {'imageData': {'ome.zarr': {'relativePath': '.'}}}},\n",
       "  'A01_C1': {'image': {'imageData': {'ome.zarr': {'relativePath': '.'}}}}},\n",
       " 'views': {'default': {'uiSelectionGroup': 'any', 'isExclusive': True}}}"
      ]
     },
     "execution_count": 7,
     "metadata": {},
     "output_type": "execute_result"
    }
   ],
   "source": [
    "dataset.model_dump(exclude_none=True, by_alias=True)"
   ]
  },
  {
   "cell_type": "code",
   "execution_count": 8,
   "id": "187fce85-16e4-45d4-bf25-7a974375b9cd",
   "metadata": {},
   "outputs": [
    {
     "data": {
      "text/plain": [
       "MoBIEDatasetSchema(is2D=True, description=None, sources={'A01_C3': Schema(root=MoBIESourceSchema(image=ImageSource(imageData=ImageData(bdv_hdf5=None, bdv_n5=None, bdv_n5_s3=None, bdv_ome_zarr=None, bdv_ome_zarr_s3=None, ome_zarr=OmeZarr(relativePath='.', absolutePath=None, channel=None), ome_zarr_s3=None, openOrganelle_s3=None)))), 'A01_C1': Schema(root=MoBIESourceSchema(image=ImageSource(imageData=ImageData(bdv_hdf5=None, bdv_n5=None, bdv_n5_s3=None, bdv_ome_zarr=None, bdv_ome_zarr_s3=None, ome_zarr=OmeZarr(relativePath='.', absolutePath=None, channel=None), ome_zarr_s3=None, openOrganelle_s3=None))))}, views=Views(default=MoBIEViewSchema(uiSelectionGroup=Name(root='any'), isExclusive=True, description=None, sourceDisplays=None, sourceTransforms=None, viewerTransform=None)), defaultLocation=None)"
      ]
     },
     "execution_count": 8,
     "metadata": {},
     "output_type": "execute_result"
    }
   ],
   "source": [
    "dataset"
   ]
  },
  {
   "cell_type": "code",
   "execution_count": 9,
   "id": "43a12a2d-d522-4027-b318-fea3ff7b83d6",
   "metadata": {},
   "outputs": [
    {
     "data": {
      "text/plain": [
       "{'A01_C3': Schema(root=MoBIESourceSchema(image=ImageSource(imageData=ImageData(bdv_hdf5=None, bdv_n5=None, bdv_n5_s3=None, bdv_ome_zarr=None, bdv_ome_zarr_s3=None, ome_zarr=OmeZarr(relativePath='.', absolutePath=None, channel=None), ome_zarr_s3=None, openOrganelle_s3=None)))),\n",
       " 'A01_C1': Schema(root=MoBIESourceSchema(image=ImageSource(imageData=ImageData(bdv_hdf5=None, bdv_n5=None, bdv_n5_s3=None, bdv_ome_zarr=None, bdv_ome_zarr_s3=None, ome_zarr=OmeZarr(relativePath='.', absolutePath=None, channel=None), ome_zarr_s3=None, openOrganelle_s3=None))))}"
      ]
     },
     "execution_count": 9,
     "metadata": {},
     "output_type": "execute_result"
    }
   ],
   "source": [
    "dataset.sources"
   ]
  },
  {
   "cell_type": "code",
   "execution_count": 10,
   "id": "4379924f-c162-4b80-86c5-21dba15b65cd",
   "metadata": {},
   "outputs": [],
   "source": [
    "import json"
   ]
  },
  {
   "cell_type": "code",
   "execution_count": 11,
   "id": "507694b6-55a0-4342-9bad-b31050028061",
   "metadata": {},
   "outputs": [
    {
     "name": "stdout",
     "output_type": "stream",
     "text": [
      "{\n",
      "  \"is2D\": true,\n",
      "  \"sources\": {\n",
      "    \"A01_C3\": {\n",
      "      \"image\": {\n",
      "        \"imageData\": {\n",
      "          \"ome.zarr\": {\n",
      "            \"relativePath\": \".\"\n",
      "          }\n",
      "        }\n",
      "      }\n",
      "    },\n",
      "    \"A01_C1\": {\n",
      "      \"image\": {\n",
      "        \"imageData\": {\n",
      "          \"ome.zarr\": {\n",
      "            \"relativePath\": \".\"\n",
      "          }\n",
      "        }\n",
      "      }\n",
      "    }\n",
      "  },\n",
      "  \"views\": {\n",
      "    \"default\": {\n",
      "      \"uiSelectionGroup\": \"any\",\n",
      "      \"isExclusive\": true\n",
      "    }\n",
      "  }\n",
      "}\n"
     ]
    }
   ],
   "source": [
    "print(json.dumps(dataset.model_dump(exclude_none=True, by_alias=True),indent=2))"
   ]
  },
  {
   "cell_type": "code",
   "execution_count": null,
   "id": "67075b98-4d0a-4f5a-bb53-a18ef7a0ce9b",
   "metadata": {},
   "outputs": [],
   "source": []
  }
 ],
 "metadata": {
  "kernelspec": {
   "display_name": "Python 3 (ipykernel)",
   "language": "python",
   "name": "python3"
  },
  "language_info": {
   "codemirror_mode": {
    "name": "ipython",
    "version": 3
   },
   "file_extension": ".py",
   "mimetype": "text/x-python",
   "name": "python",
   "nbconvert_exporter": "python",
   "pygments_lexer": "ipython3",
   "version": "3.12.4"
  }
 },
 "nbformat": 4,
 "nbformat_minor": 5
}
