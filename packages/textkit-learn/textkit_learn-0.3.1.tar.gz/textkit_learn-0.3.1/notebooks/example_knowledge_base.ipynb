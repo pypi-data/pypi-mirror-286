{
 "cells": [
  {
   "cell_type": "code",
   "execution_count": null,
   "id": "622fc561-f1a6-469f-88d3-923b53741c48",
   "metadata": {},
   "outputs": [],
   "source": [
    "cd .."
   ]
  },
  {
   "cell_type": "code",
   "execution_count": null,
   "id": "8014ad3d-e5cc-4d68-a631-dbd6a2a92310",
   "metadata": {},
   "outputs": [],
   "source": [
    "from tklearn.kb.conceptnet.io import ConceptNetIO"
   ]
  },
  {
   "cell_type": "code",
   "execution_count": null,
   "id": "4c10f42c-b058-47fc-bfff-d515cfd3c525",
   "metadata": {},
   "outputs": [],
   "source": [
    "cnetio = ConceptNetIO()"
   ]
  },
  {
   "cell_type": "code",
   "execution_count": null,
   "id": "ccc3e4ee-da79-4fc3-aab8-e0693c5b9a53",
   "metadata": {},
   "outputs": [],
   "source": [
    "# cnetio.read_csv(verbose=True)\n",
    "# cnetio.to_jsonl(verbose=True)"
   ]
  },
  {
   "cell_type": "code",
   "execution_count": null,
   "id": "b2addb61-908d-4fbc-b9fe-a22d5b78447b",
   "metadata": {},
   "outputs": [],
   "source": [
    "def get_nodes():\n",
    "    existing = set()\n",
    "    for edge in cnetio.read_jsonl_iter(verbose=True):\n",
    "        for term_field in [\"start\", \"end\"]:\n",
    "            node_id = edge[term_field][\"@id\"]\n",
    "            if node_id not in existing:\n",
    "                existing.add(node_id)\n",
    "                yield edge[term_field]"
   ]
  },
  {
   "cell_type": "code",
   "execution_count": null,
   "id": "91b2581d-7e4c-4784-96da-d7e670c0cd8c",
   "metadata": {},
   "outputs": [],
   "source": [
    "from datasets import Dataset"
   ]
  },
  {
   "cell_type": "code",
   "execution_count": null,
   "id": "48f1da4e-ea80-4374-aab3-4ce0d7adf95a",
   "metadata": {},
   "outputs": [],
   "source": [
    "ds = Dataset.from_list(list(get_nodes()))"
   ]
  },
  {
   "cell_type": "code",
   "execution_count": null,
   "id": "c2dec797-69f5-4c90-8f3e-379f8f6b84a7",
   "metadata": {},
   "outputs": [],
   "source": [
    "from sentence_transformers import SentenceTransformer, util\n",
    "\n",
    "model_name = \"distiluse-base-multilingual-cased-v2\"\n",
    "\n",
    "ctx_encoder = SentenceTransformer(model_name)"
   ]
  },
  {
   "cell_type": "code",
   "execution_count": null,
   "id": "adc922b4-69f4-43c2-86b0-9ff483876a0b",
   "metadata": {},
   "outputs": [],
   "source": [
    "def extract_embeddings(example):\n",
    "    return {'embeddings': ctx_encoder.encode(example[\"label\"])}\n",
    "\n",
    "\n",
    "ds_with_embeddings = ds.map(extract_embeddings)"
   ]
  },
  {
   "cell_type": "code",
   "execution_count": null,
   "id": "41f587e1-3203-4788-b3e9-42843e75d8da",
   "metadata": {},
   "outputs": [],
   "source": []
  }
 ],
 "metadata": {
  "kernelspec": {
   "display_name": "Python 3 (ipykernel)",
   "language": "python",
   "name": "python3"
  },
  "language_info": {
   "codemirror_mode": {
    "name": "ipython",
    "version": 3
   },
   "file_extension": ".py",
   "mimetype": "text/x-python",
   "name": "python",
   "nbconvert_exporter": "python",
   "pygments_lexer": "ipython3",
   "version": "3.11.5"
  }
 },
 "nbformat": 4,
 "nbformat_minor": 5
}
