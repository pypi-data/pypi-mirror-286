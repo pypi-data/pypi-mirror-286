{
 "cells": [
  {
   "cell_type": "markdown",
   "metadata": {},
   "source": [
    "# Advanced Analog Design\n",
    "## Demo sizing script: Simple OTA\n",
    "\n",
    "Attention: this script is only for demonstration purposes and the sizing strategy may be absurd!\n",
    "\n",
    "This jupyter notebook is based on a Matlab script from Prof. Dr. Ir. Pieter Rombouts. I, Senne Vanden Berghe, former follower from this course, decided that the Matlab 'tyranny' must stop. So I made the gavanon Python library so that the new generation of students could use their much more valuable Python skillset.\n",
    "\n",
    "Suggestions or feedback is always welcome on [Github](https://github.com/S3nn3k3/gavanon/issues).\n",
    "\n",
    "Let's start by importing the gavanon Python library."
   ]
  },
  {
   "cell_type": "code",
   "execution_count": 22,
   "metadata": {},
   "outputs": [],
   "source": [
    "from gavanon import (Transistor, DoubleTransistor, NMOS, PMOS,\n",
    "                     VoltageSource, CurrentSource,\n",
    "                     CadenceCell, CadenceLib)\n",
    "# equivalent to:\n",
    "# from gavanon import *\n",
    "from math import pi"
   ]
  },
  {
   "cell_type": "markdown",
   "metadata": {},
   "source": [
    "Circuit specifications are defined below."
   ]
  },
  {
   "cell_type": "code",
   "execution_count": 23,
   "metadata": {},
   "outputs": [],
   "source": [
    "C_load = 1e-12  # load capacitance is 12 pF\n",
    "settle_time = 20e-9  # settle time is 20 nano seconds"
   ]
  },
  {
   "cell_type": "markdown",
   "metadata": {},
   "source": [
    "About the Classes NMOS and PMOS:\n",
    "These classes contain al the needed parameters to make the sizing."
   ]
  },
  {
   "cell_type": "code",
   "execution_count": 24,
   "metadata": {},
   "outputs": [
    {
     "name": "stdout",
     "output_type": "stream",
     "text": [
      "NMOS class: Contains all needed values of the PMOS transistor in the 0.35µm technology\n",
      "    Values:\n",
      "        * KP_n = 50e-6 A/V²\n",
      "        * n = 1.3\n",
      "        * VT = 0.7 V\n",
      "        * VEarly = 8e6 V/m\n",
      "        * vsat = 8e4 m/s\n",
      "        * Cox = 6e-3 F/m²\n",
      "        * Kf = 4e-28 C²/m²\n",
      "        * CDB0 = 0.5e-9 F/m\n",
      "        * CSB0 = 0.5e-9 F/m\n",
      "        * CGD0 = 0.09e-9 F/m\n",
      "        * CGS0 = 0.1e-9 F/m\n",
      "    \n",
      "PMOS class: Contains all needed values of the PMOS transistor in the 0.35µm technology\n",
      "    Values:\n",
      "        * KP_n = 50e-6 A/V²\n",
      "        * n = 1.3\n",
      "        * VT = 0.7 V\n",
      "        * VEarly = 8e6 V/m\n",
      "        * vsat = 8e4 m/s\n",
      "        * Cox = 6e-3 F/m²\n",
      "        * Kf = 4e-28 C²/m²\n",
      "        * CDB0 = 0.5e-9 F/m\n",
      "        * CSB0 = 0.5e-9 F/m\n",
      "        * CGD0 = 0.09e-9 F/m\n",
      "        * CGS0 = 0.1e-9 F/m\n",
      "    \n"
     ]
    }
   ],
   "source": [
    "print(f\"NMOS class: {PMOS.__doc__}\")\n",
    "print(f\"PMOS class: {PMOS.__doc__}\")"
   ]
  },
  {
   "cell_type": "markdown",
   "metadata": {},
   "source": [
    "## Start of the actual sizing"
   ]
  },
  {
   "cell_type": "markdown",
   "metadata": {},
   "source": [
    "First do a rough sizing (by hand).\n",
    "This can be the initialisation of a more complex iterative loop.\n"
   ]
  },
  {
   "cell_type": "markdown",
   "metadata": {},
   "source": [
    "##### Size differential pair Mdiff"
   ]
  },
  {
   "cell_type": "markdown",
   "metadata": {},
   "source": [
    "Note: The chosen current in the example below is of course ridiculous. If you do this in your actual project, you will definitely not pass!"
   ]
  },
  {
   "cell_type": "code",
   "execution_count": 25,
   "metadata": {},
   "outputs": [
    {
     "name": "stdout",
     "output_type": "stream",
     "text": [
      "Mdiff_a,Mdiff_b wtot=514.706u l=0.350u ng=10 ID=5000.000u gmoverid=10.00\n"
     ]
    }
   ],
   "source": [
    "Mdiff = DoubleTransistor(\"nmos\")\n",
    "\n",
    "Mdiff.ID = 5e-3  # Choose current\n",
    "Mdiff.gmoverid = 10 # Choose gm over ID\n",
    "\n",
    "# this assignment is redundant since the Transistor class sets the gatelength default to .35µm.\n",
    "# but in some cases the gatelength can vary of course!\n",
    "Mdiff.L = 0.35e-6  # Choose L\n",
    "\n",
    "Mdiff.gm = Mdiff.gmoverid*Mdiff.ID\n",
    "\n",
    "W_over_L = Mdiff.gm**2/2/Mdiff.ID/NMOS.KP_n  # Piecewise linear model\n",
    "Mdiff.W = W_over_L*Mdiff.L\n",
    "# Wow, this looks cumbersome huh?\n",
    "# Hint: \n",
    "# def foo(transistor: Transistor, some_extra_needed_arguments):\n",
    "#     if transistor.catergory == \"nmos\":\n",
    "#         transistor.W = ...\n",
    "#     else:\n",
    "#         ...\n",
    "# It is completely up to you how to handle this!\n",
    "\n",
    "Mdiff.ng = 10  # Set number of gates\n",
    "\n",
    "# Visually verify your transistor via:\n",
    "print(Mdiff)"
   ]
  },
  {
   "cell_type": "markdown",
   "metadata": {},
   "source": [
    "##### Size load transistor Mload"
   ]
  },
  {
   "cell_type": "code",
   "execution_count": 26,
   "metadata": {},
   "outputs": [
    {
     "name": "stdout",
     "output_type": "stream",
     "text": [
      "Mload_a,Mload_b wtot=1750.000u l=0.350u ng=10 ID=5000.000u gmoverid=10.00\n"
     ]
    }
   ],
   "source": [
    "Mload = DoubleTransistor(\"pmos\")\n",
    "\n",
    "Mload.ID = Mdiff.ID  # Same as differntial pair\n",
    "Mload.gmoverid = 10  # Choose gm over ID\n",
    "Mload.gm = Mload.gmoverid*Mload.ID\n",
    "\n",
    "W_over_L = Mload.gm**2/2/Mload.ID/PMOS.KP_n  # Piecewise linear model\n",
    "Mload.W = W_over_L*Mload.L\n",
    "\n",
    "Mload.ng = 10  # Set number of gates\n",
    "\n",
    "# Visually verify your transistor via:\n",
    "print(Mload)"
   ]
  },
  {
   "cell_type": "markdown",
   "metadata": {},
   "source": [
    "##### Size tail transistor Mtail"
   ]
  },
  {
   "cell_type": "code",
   "execution_count": 27,
   "metadata": {},
   "outputs": [
    {
     "name": "stdout",
     "output_type": "stream",
     "text": [
      "Mtail wtot=3500.000u l=0.350u ng=10 ID=10000.000u gmoverid=10.00\n"
     ]
    }
   ],
   "source": [
    "Mtail = Transistor(\"nmos\")\n",
    "\n",
    "Mtail.ID = 2*Mdiff.ID  # Double of the differential pair\n",
    "Mtail.gmoverid = 10  # Choose gm over ID\n",
    "Mtail.gm = Mtail.gmoverid*Mtail.ID\n",
    "\n",
    "W_over_L = Mtail.gm**2/2/Mtail.ID/PMOS.KP_n  # Piecewise linear model\n",
    "Mtail.W = W_over_L*Mtail.L\n",
    "\n",
    "Mtail.ng = 10  # Set number of gates\n",
    "\n",
    "# Visually verify your transistor via:\n",
    "print(Mtail)"
   ]
  },
  {
   "cell_type": "markdown",
   "metadata": {},
   "source": [
    "##### Size bias transistor Mbias"
   ]
  },
  {
   "cell_type": "code",
   "execution_count": 28,
   "metadata": {},
   "outputs": [
    {
     "name": "stdout",
     "output_type": "stream",
     "text": [
      "Mbias wtot=350.000u l=0.350u ng=1 ID=1000.000u gmoverid=10.00\n"
     ]
    }
   ],
   "source": [
    "m = 10  # scale factor \n",
    "Mbias = Mtail/m  # Returns a new impedance scaled transistor object!\n",
    "\n",
    "# Visually verify your transistor via:\n",
    "print(Mbias)"
   ]
  },
  {
   "cell_type": "markdown",
   "metadata": {},
   "source": [
    "##### Bias current source"
   ]
  },
  {
   "cell_type": "code",
   "execution_count": 29,
   "metadata": {},
   "outputs": [
    {
     "name": "stdout",
     "output_type": "stream",
     "text": [
      "Current from source is 0 A\n"
     ]
    }
   ],
   "source": [
    "Ibias = CurrentSource(Mbias.ID)\n",
    "print(f\"Current from source is {Ibias.I} A\")"
   ]
  },
  {
   "cell_type": "markdown",
   "metadata": {},
   "source": [
    "### Improved sizing"
   ]
  },
  {
   "cell_type": "markdown",
   "metadata": {},
   "source": [
    "Now it is time to set up an iterative loop to improve your sizing. For this example it might not be needed, but it would be needed when working on the project.\n",
    "\n",
    "Some hints:\n",
    "* Use matplotlib to visualize data. It can give you extra insights in what is going on. It even might help to show plots when asking questions to the supervisors (but make sure the axes are labeled!). Matplotlib can be installed via `pip install matplotlib` or via the magic command (`%pip install matplotlib`) in the cell below. More info [here](https://matplotlib.org/).\n",
    "* Use the Python control library. Control can be installed via `pip install control` or via the magic command (`%pip install control`) in the cell below. Some interesting functions are `control.tf`, `control.dcgain`, `control.bode_plot` and `control.pzmap`. But feel free to also explore the time domain and other nice features of the library. More info [here](https://python-control.readthedocs.io/)."
   ]
  },
  {
   "cell_type": "code",
   "execution_count": 30,
   "metadata": {},
   "outputs": [],
   "source": [
    "# uncomment the package you would like to install\n",
    "# %pip install matplotlib\n",
    "# %pip install control "
   ]
  },
  {
   "cell_type": "markdown",
   "metadata": {},
   "source": [
    "The parameters that need to be tested trough simulation are given below."
   ]
  },
  {
   "cell_type": "code",
   "execution_count": 31,
   "metadata": {},
   "outputs": [],
   "source": [
    "simulation_settling_time = 1e-9  # Add appropriate calculation\n",
    "slew_rate = 1e-9  # Add appropriate calculation\n",
    "\n",
    "parasitic_pole = 4e9  # Add appropriate calculation\n",
    "phase_margin = pi*7/8  # Add appropriate calculation\n",
    "\n",
    "# Add all relevant specs!"
   ]
  },
  {
   "cell_type": "markdown",
   "metadata": {},
   "source": [
    "## Make skill file for Cadence"
   ]
  },
  {
   "cell_type": "markdown",
   "metadata": {},
   "source": [
    "Since now all transistors and current sources are defined, we need to export a text file that can be inported in Cadence. How this is done, is shown below."
   ]
  },
  {
   "cell_type": "markdown",
   "metadata": {},
   "source": [
    "##### Generate the Cadence cell class objects"
   ]
  },
  {
   "cell_type": "markdown",
   "metadata": {},
   "source": [
    "Let's start by first creating al the Cadence cells. You should be familiar with it after the first Cadence introduction.\n",
    "In this example we have three cells:\n",
    "* Simple_OTA: Contains the OTA circuit\n",
    "* Simple_OTA_bias: Contains the biasing circuit for the OTA\n",
    "* Simple_OTA_TB1: Contains the test bench for the OTA"
   ]
  },
  {
   "cell_type": "markdown",
   "metadata": {},
   "source": [
    "The transistors that are drawn in Cadence in the simple OTA cell are Mdiff, Mload and Mtail. Let's add them."
   ]
  },
  {
   "cell_type": "code",
   "execution_count": 32,
   "metadata": {},
   "outputs": [
    {
     "data": {
      "text/plain": [
       "<gavanon.skill.CadenceCell at 0x2757b4fd480>"
      ]
     },
     "execution_count": 32,
     "metadata": {},
     "output_type": "execute_result"
    }
   ],
   "source": [
    "ota_cell = CadenceCell(\"Simple_OTA\")\n",
    "\n",
    "# add transistors to cell\n",
    "ota_cell.add(Mdiff, Mload, Mtail)"
   ]
  },
  {
   "cell_type": "markdown",
   "metadata": {},
   "source": [
    "Only Mbias is available is the bias cell."
   ]
  },
  {
   "cell_type": "code",
   "execution_count": 33,
   "metadata": {},
   "outputs": [],
   "source": [
    "bias_cell = CadenceCell(\"Simple_OTA_bias\")\n",
    "bias_cell += Mbias"
   ]
  },
  {
   "cell_type": "markdown",
   "metadata": {},
   "source": [
    "In the test bench cell only the bias current source should be added (in this example)."
   ]
  },
  {
   "cell_type": "code",
   "execution_count": 34,
   "metadata": {},
   "outputs": [],
   "source": [
    "tb_cell = CadenceCell(\"Simple_OTA_TB1\")\n",
    "tb_cell += Ibias"
   ]
  },
  {
   "cell_type": "markdown",
   "metadata": {},
   "source": [
    "Extra: if you want to change values of resistors, capacitors or other elements you can add custom 'skill commands' to a cell. This is shown in the cell below. Normally you should not need it."
   ]
  },
  {
   "cell_type": "code",
   "execution_count": 37,
   "metadata": {},
   "outputs": [],
   "source": [
    "foo = CadenceCell(\"Foo_Cadence_cell\")\n",
    "foo.add_free_entry(\"Bar : r=420\")"
   ]
  },
  {
   "cell_type": "markdown",
   "metadata": {},
   "source": [
    "#### Generate the Cadence library class object"
   ]
  },
  {
   "cell_type": "markdown",
   "metadata": {},
   "source": [
    "Now the library is initiated and the cells are added to the library. "
   ]
  },
  {
   "cell_type": "code",
   "execution_count": 35,
   "metadata": {},
   "outputs": [],
   "source": [
    "lib = CadenceLib(\"OefeningenGAvanont\")\n",
    "\n",
    "# add cells to library\n",
    "lib += ota_cell\n",
    "lib += bias_cell\n",
    "lib += tb_cell\n",
    "\n",
    "## which is equivalent to:\n",
    "# lib.add(ota_cell, bias_cell, tb_cell)"
   ]
  },
  {
   "cell_type": "markdown",
   "metadata": {},
   "source": [
    "The last thing that needs to be done is generating the actual skill file. This is done in the cell below.\n",
    "\n",
    "Note: When you are working on your own laptop it might be handy to mount your personal Ghent University directory to your laptops file system. More info about this can be found on the [DICT website](https://helpdesk.ugent.be/netdisk/en/bestand_mount.php). As seen in the code cell below the skill file will try to save on the home directory of your personal UGhent drive. Cadence is able to acces that specific location."
   ]
  },
  {
   "cell_type": "code",
   "execution_count": 36,
   "metadata": {},
   "outputs": [
    {
     "name": "stdout",
     "output_type": "stream",
     "text": [
      "Saved file to local directory!\n"
     ]
    }
   ],
   "source": [
    "try:\n",
    "    lib.export_sizing(\"u:/home/python_sizing.il\") # export to UGhent mount home directory\n",
    "    print(\"Saved file to UGhent drive!\")\n",
    "except:\n",
    "    lib.export_sizing(\"simple_ota_sizing.il\") # export to local directiory\n",
    "    print(\"Saved file to local directory!\")"
   ]
  }
 ],
 "metadata": {
  "kernelspec": {
   "display_name": ".venv",
   "language": "python",
   "name": "python3"
  },
  "language_info": {
   "codemirror_mode": {
    "name": "ipython",
    "version": 3
   },
   "file_extension": ".py",
   "mimetype": "text/x-python",
   "name": "python",
   "nbconvert_exporter": "python",
   "pygments_lexer": "ipython3",
   "version": "3.10.8"
  }
 },
 "nbformat": 4,
 "nbformat_minor": 2
}
