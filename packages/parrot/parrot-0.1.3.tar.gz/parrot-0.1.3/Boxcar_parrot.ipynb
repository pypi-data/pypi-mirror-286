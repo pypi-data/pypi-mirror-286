{
 "cells": [
  {
   "cell_type": "code",
   "execution_count": 1,
   "id": "a6eac7bb",
   "metadata": {},
   "outputs": [],
   "source": [
    "import os\n",
    "import h5py\n",
    "import numpy as np\n",
    "import matplotlib.pyplot as plt\n",
    "from matplotlib.ticker import EngFormatter\n",
    "\n",
    "home = os.getcwd()\n",
    "os.chdir(r\"C:\\Users\\Tim\\PycharmProjects\\parrot\")\n",
    "import parrot\n",
    "os.chdir(home)"
   ]
  },
  {
   "cell_type": "code",
   "execution_count": 2,
   "id": "decc4afe",
   "metadata": {},
   "outputs": [],
   "source": [
    "os.chdir(\"2024-06-26/\")"
   ]
  },
  {
   "cell_type": "code",
   "execution_count": 3,
   "id": "956daf09",
   "metadata": {},
   "outputs": [],
   "source": [
    "def read_boxcar(file_name, \n",
    "                boxcar_path = \"boxcars/0/sample\",\n",
    "                position_path = \"demods/0/sample.auxin0\"):\n",
    "    with h5py.File(file_name, 'r') as f:\n",
    "        trace_ids = list(f.keys())\n",
    "        # Read-in first trace\n",
    "        trace_id = trace_ids[0]\n",
    "        # Read out device name, e.g. dev2179\n",
    "        dev = list(f[f\"{trace_id}\"].keys())\n",
    "        # Take first element from list (there should only be one device)\n",
    "        dev = dev[0]\n",
    "        # Connect to path\n",
    "        path = f\"{trace_id}/{dev}/\"\n",
    "        # Read-in timebase\n",
    "        timebase = f[path + boxcar_path].attrs[\"timebase\"]\n",
    "        # Read-in time array\n",
    "        time = f[path + boxcar_path + \"/timestamp\"][:]\n",
    "        # Read-in position and THz signal\n",
    "        position = f[path + position_path + \"/value\"][:]\n",
    "        signal = f[path + boxcar_path + \"/value\"][:]\n",
    "        # Keep only values, which are not NaN\n",
    "        time = time[~np.isnan(signal)]\n",
    "        position = position[~np.isnan(signal)]\n",
    "        signal = signal[~np.isnan(signal)]\n",
    "        \n",
    "        time = time[~np.isnan(position)]\n",
    "        signal = signal[~np.isnan(position)]\n",
    "        position = position[~np.isnan(position)]\n",
    "        # Concert timesamples to time in [s]\n",
    "        time = time * timebase\n",
    "        # Start measurement at 0 s\n",
    "        time -= np.min(time)\n",
    "        data = {\"time\" : time,\n",
    "                \"position\" : position,\n",
    "                \"signal\" : signal}\n",
    "    return data"
   ]
  },
  {
   "cell_type": "code",
   "execution_count": 4,
   "id": "3354cb1b",
   "metadata": {},
   "outputs": [
    {
     "data": {
      "text/plain": [
       "{'time': array([0.00000000e+00, 8.00088892e-05, 1.60017778e-04, ...,\n",
       "        4.09806329e+01, 4.09807129e+01, 4.09807929e+01]),\n",
       " 'position': array([-0.15930176, -0.15941894, -0.15958659, ..., -0.07233243,\n",
       "        -0.07259592, -0.07226061]),\n",
       " 'signal': array([0.16449105, 0.16454124, 0.16488772, ..., 0.15802646, 0.15744706,\n",
       "        0.15810785])}"
      ]
     },
     "execution_count": 4,
     "metadata": {},
     "output_type": "execute_result"
    }
   ],
   "source": [
    "data = read_boxcar('100kHz-0,5GaP_newmount_THz_00000.h5')\n",
    "data"
   ]
  },
  {
   "cell_type": "code",
   "execution_count": 5,
   "id": "9b09ccab",
   "metadata": {},
   "outputs": [
    {
     "data": {
      "text/plain": [
       "0.2303977683186531"
      ]
     },
     "execution_count": 5,
     "metadata": {},
     "output_type": "execute_result"
    }
   ],
   "source": [
    "peakpeak_position = np.max(data[\"position\"]) - np.min(data[\"position\"])\n",
    "peakpeak_position # [V]"
   ]
  },
  {
   "cell_type": "markdown",
   "id": "8d3dc0e7",
   "metadata": {},
   "source": [
    "If 1 V == 20 mm position change of the stage, resulting in a light path change of 40 mm. 40 mm corresponds to (40 mm) / c $\\approx$ 2*66 ps. That means, the scaling factor for the data is:\n",
    "\n",
    "2*6.6e-11 s / 1 V"
   ]
  },
  {
   "cell_type": "code",
   "execution_count": 42,
   "id": "25a72010",
   "metadata": {},
   "outputs": [
    {
     "data": {
      "text/plain": [
       "1.32e-10"
      ]
     },
     "execution_count": 42,
     "metadata": {},
     "output_type": "execute_result"
    }
   ],
   "source": [
    "my_scale = 2 * 6.6e-11 / 1\n",
    "my_scale"
   ]
  },
  {
   "cell_type": "code",
   "execution_count": 43,
   "id": "56bf2245",
   "metadata": {},
   "outputs": [
    {
     "data": {
      "text/plain": [
       "'30.4125 ps'"
      ]
     },
     "execution_count": 43,
     "metadata": {},
     "output_type": "execute_result"
    }
   ],
   "source": [
    "EngFormatter(\"s\")(peakpeak_position * my_scale)"
   ]
  },
  {
   "cell_type": "code",
   "execution_count": 34,
   "id": "0af62d88",
   "metadata": {},
   "outputs": [
    {
     "ename": "KeyError",
     "evalue": "'time'",
     "output_type": "error",
     "traceback": [
      "\u001b[1;31m---------------------------------------------------------------------------\u001b[0m",
      "\u001b[1;31mKeyError\u001b[0m                                  Traceback (most recent call last)",
      "Cell \u001b[1;32mIn[34], line 2\u001b[0m\n\u001b[0;32m      1\u001b[0m fig, ax \u001b[38;5;241m=\u001b[39m plt\u001b[38;5;241m.\u001b[39msubplots()\n\u001b[1;32m----> 2\u001b[0m ax\u001b[38;5;241m.\u001b[39mplot(data[\u001b[38;5;124m\"\u001b[39m\u001b[38;5;124mtime\u001b[39m\u001b[38;5;124m\"\u001b[39m], data[\u001b[38;5;124m\"\u001b[39m\u001b[38;5;124mposition\u001b[39m\u001b[38;5;124m\"\u001b[39m], color\u001b[38;5;241m=\u001b[39m\u001b[38;5;124m\"\u001b[39m\u001b[38;5;124mtab:blue\u001b[39m\u001b[38;5;124m\"\u001b[39m, alpha\u001b[38;5;241m=\u001b[39m\u001b[38;5;241m0.8\u001b[39m)\n\u001b[0;32m      3\u001b[0m ax2 \u001b[38;5;241m=\u001b[39m ax\u001b[38;5;241m.\u001b[39mtwinx()\n\u001b[0;32m      4\u001b[0m ax2\u001b[38;5;241m.\u001b[39mplot(data[\u001b[38;5;124m\"\u001b[39m\u001b[38;5;124mtime\u001b[39m\u001b[38;5;124m\"\u001b[39m], data[\u001b[38;5;124m\"\u001b[39m\u001b[38;5;124msignal\u001b[39m\u001b[38;5;124m\"\u001b[39m], color\u001b[38;5;241m=\u001b[39m\u001b[38;5;124m\"\u001b[39m\u001b[38;5;124mtab:orange\u001b[39m\u001b[38;5;124m\"\u001b[39m, alpha\u001b[38;5;241m=\u001b[39m\u001b[38;5;241m0.8\u001b[39m)\n",
      "\u001b[1;31mKeyError\u001b[0m: 'time'"
     ]
    }
   ],
   "source": [
    "fig, ax = plt.subplots()\n",
    "ax.plot(data[\"time\"], data[\"position\"], color=\"tab:blue\", alpha=0.8)\n",
    "ax2 = ax.twinx()\n",
    "ax2.plot(data[\"time\"], data[\"signal\"], color=\"tab:orange\", alpha=0.8)\n",
    "ax.grid(True)\n",
    "ax.xaxis.set_major_formatter(EngFormatter(\"s\"))\n",
    "ax.yaxis.set_major_formatter(EngFormatter(\"V\"))\n",
    "ax2.yaxis.set_major_formatter(EngFormatter(\"V\"))\n",
    "plt.show(block=False)"
   ]
  },
  {
   "cell_type": "markdown",
   "id": "5c5c5e51",
   "metadata": {},
   "source": [
    "No sample was lost during recording, otherewise there would have been a bigger time step"
   ]
  },
  {
   "cell_type": "code",
   "execution_count": 9,
   "id": "61deef73",
   "metadata": {},
   "outputs": [
    {
     "data": {
      "text/plain": [
       "True"
      ]
     },
     "execution_count": 9,
     "metadata": {},
     "output_type": "execute_result"
    }
   ],
   "source": [
    "np.all(np.isclose(np.diff(data[\"time\"]), np.diff(data[\"time\"])[0]))"
   ]
  },
  {
   "cell_type": "code",
   "execution_count": 44,
   "id": "e589b689",
   "metadata": {},
   "outputs": [],
   "source": [
    "light = read_boxcar('100kHz-0,5GaP_newmount_THz_00000.h5')\n",
    "dark1 = read_boxcar('100kHz-0,5GaP_newmount_dark1_00000.h5')\n",
    "dark2 = read_boxcar('100kHz-0,5GaP_newmount_dark2_00000.h5')"
   ]
  },
  {
   "cell_type": "code",
   "execution_count": 45,
   "id": "3e2aa9ad",
   "metadata": {},
   "outputs": [
    {
     "name": "stderr",
     "output_type": "stream",
     "text": [
      "[INFO] parrot.process.cut_data: Creating matrix with (4096, 102). Starting interpolation for all traces...\n",
      "[INFO] parrot.process.cut_data: Creating matrix with (4096, 124). Starting interpolation for all traces...\n",
      "[INFO] parrot.process.cut_data: Creating matrix with (4096, 96). Starting interpolation for all traces...\n"
     ]
    },
    {
     "name": "stdout",
     "output_type": "stream",
     "text": [
      "Optimization terminated successfully.\n",
      "         Current function value: 40.170602\n",
      "         Iterations: 11\n",
      "         Function evaluations: 22\n"
     ]
    }
   ],
   "source": [
    "data = parrot.process.thz_and_two_darks(light, \n",
    "                                        dark1, \n",
    "                                        dark2, \n",
    "                                        scale=scale, \n",
    "                                        debug=True)"
   ]
  },
  {
   "cell_type": "code",
   "execution_count": 46,
   "id": "e032496b",
   "metadata": {},
   "outputs": [
    {
     "data": {
      "text/plain": [
       "dict_keys(['light', 'dark1', 'dark2'])"
      ]
     },
     "execution_count": 46,
     "metadata": {},
     "output_type": "execute_result"
    }
   ],
   "source": [
    "data.keys()"
   ]
  },
  {
   "cell_type": "code",
   "execution_count": 47,
   "id": "6443128e",
   "metadata": {},
   "outputs": [
    {
     "name": "stderr",
     "output_type": "stream",
     "text": [
      "[INFO] parrot.process.post_process_data: Found segment above 0.5 (rel. amplitude), from \n",
      "794.554 GHz to 860.767 GHz = 33.1064 GHz\n",
      "[INFO] parrot.process.post_process_data: Found segment above 0.5 (rel. amplitude), from \n",
      "893.873 GHz to 960.086 GHz = 33.1064 GHz\n",
      "[INFO] parrot.process.post_process_data: Found segment above 0.5 (rel. amplitude), from \n",
      "993.193 GHz to 1.15872 THz = 132.426 GHz\n",
      "[INFO] parrot.process.post_process_data: Found segment above 0.5 (rel. amplitude), from \n",
      "1.19183 THz to 1.75464 THz = 529.703 GHz\n",
      "[INFO] parrot.process.post_process_data: Found segment above 0.5 (rel. amplitude), from \n",
      "1.78775 THz to 2.0526 THz = 231.745 GHz\n",
      "[INFO] parrot.process.post_process_data: Found segment above 0.5 (rel. amplitude), from \n",
      "2.0857 THz to 2.15192 THz = 33.1064 GHz\n",
      "[INFO] parrot.process.post_process_data: Found segment above 0.5 (rel. amplitude), from \n",
      "2.18502 THz to 2.25124 THz = 33.1064 GHz\n"
     ]
    }
   ],
   "source": [
    "data = parrot.post_process_data.correct_systematic_errors(data)\n",
    "#data = post_obj.cut_data(time_start=-5.2e-12)\n",
    "data = parrot.post_process_data.window(data)\n",
    "data = parrot.post_process_data.pad_zeros(data)"
   ]
  },
  {
   "cell_type": "code",
   "execution_count": 49,
   "id": "b8f3f9f5",
   "metadata": {},
   "outputs": [],
   "source": [
    "parrot.plot.simple_multi_cycle(data)\n",
    "plt.show(block=False)"
   ]
  },
  {
   "cell_type": "code",
   "execution_count": 59,
   "id": "f2ade37b",
   "metadata": {},
   "outputs": [
    {
     "data": {
      "text/plain": [
       "{'light': {'scale': 6.6e-11,\n",
       "  'delay_value': 1.6259765625,\n",
       "  'position': array([-0.163528  , -0.16351457, -0.16349414, ..., -0.1635747 ,\n",
       "         -0.16358772, -0.16359644]),\n",
       "  'signal': array([ 0.00257722,  0.00180253,  0.00359   , ...,  0.00246689,\n",
       "          0.00247364, -0.0001059 ]),\n",
       "  'number_of_traces': 102,\n",
       "  'interpolation_resolution': 2048,\n",
       "  'trace_cut_index': array([   996,   1999,   2997,   3997,   4994,   5995,   6995,   7993,\n",
       "           8995,   9994,  10995,  11994,  12994,  13995,  14992,  15991,\n",
       "          16993,  17994,  18994,  19994,  20993,  21996,  22994,  23990,\n",
       "          24993,  25992,  26991,  27991,  28990,  29993,  30991,  31993,\n",
       "          32992,  33990,  34993,  35990,  36993,  37991,  38991,  39990,\n",
       "          40989,  41993,  42989,  43987,  44988,  45991,  46988,  47991,\n",
       "          48988,  49987,  50991,  51988,  52989,  53990,  54987,  55987,\n",
       "          56988,  57991,  58989,  59991,  60985,  61987,  62984,  63983,\n",
       "          64986,  65985,  66987,  67986,  68985,  69988,  70984,  71986,\n",
       "          72983,  73985,  74986,  75984,  76985,  77983,  78984,  79984,\n",
       "          80983,  81982,  82982,  83983,  84984,  85985,  86983,  87989,\n",
       "          88986,  89985,  90984,  91980,  92980,  93979,  94986,  95980,\n",
       "          96978,  97984,  98982,  99979, 100981], dtype=int64),\n",
       "  'thz_recording_length': 1.5099122574670217e-11,\n",
       "  'thz_start_offset': -1.0811521255315124e-11,\n",
       "  'interpolated_position': array([0.00000000e+00, 4.88519785e-04, 9.77039570e-04, ...,\n",
       "         9.99022960e-01, 9.99511480e-01, 1.00000000e+00]),\n",
       "  'light_time': array([-1.08115213e-11, -1.08041450e-11, -1.07967688e-11, ...,\n",
       "          4.27284888e-12,  4.28022510e-12,  4.28760132e-12]),\n",
       "  'single_traces': array([[ 0.00257722,  0.00132699,  0.00278572, ...,  0.00388024,\n",
       "           0.00314341, -0.0001059 ],\n",
       "         [ 0.00257722,  0.00132699,  0.00278572, ...,  0.00388024,\n",
       "           0.00314341, -0.0001059 ],\n",
       "         [ 0.00257722,  0.00102897,  0.00167793, ...,  0.00388024,\n",
       "           0.00314341,  0.00247305],\n",
       "         ...,\n",
       "         [-0.00012339, -0.0002513 ,  0.00123136, ...,  0.00109897,\n",
       "          -0.00250255, -0.00010702],\n",
       "         [-0.00012339, -0.0002513 , -0.00091683, ...,  0.00109897,\n",
       "          -0.00087885, -0.00190743],\n",
       "         [-0.00012339, -0.0002513 ,  0.00067292, ...,  0.00109897,\n",
       "          -0.00087885, -0.00190743]]),\n",
       "  'average': {'time_domain': array([ 0.0026281 ,  0.00285016,  0.00264059, ..., -0.00024894,\n",
       "          -0.00019059, -0.00023244])}},\n",
       " 'dark1': {'scale': 6.6e-11,\n",
       "  'delay_value': 1.6259765625,\n",
       "  'position': array([-0.16367763, -0.16367054, -0.1636542 , ..., -0.16370181,\n",
       "         -0.1637272 , -0.16374367]),\n",
       "  'signal': array([ 0.00078379, -0.00097187, -0.00048465, ...,  0.00182393,\n",
       "          0.00227968,  0.00325126]),\n",
       "  'number_of_traces': 124,\n",
       "  'interpolation_resolution': 2048,\n",
       "  'trace_cut_index': array([  1000,   2005,   3000,   3999,   4997,   6001,   7001,   8000,\n",
       "           8999,   9999,  11002,  11998,  12999,  14002,  14999,  15997,\n",
       "          16997,  17999,  18999,  19997,  20997,  21997,  22998,  23995,\n",
       "          24996,  26000,  26995,  27999,  28994,  29997,  30993,  31994,\n",
       "          32995,  33996,  34994,  35994,  36997,  37993,  38993,  39989,\n",
       "          40996,  41994,  42992,  43991,  44990,  45992,  46996,  47992,\n",
       "          48989,  49995,  50993,  51990,  52993,  53996,  54993,  55993,\n",
       "          56991,  57991,  58994,  59989,  60990,  61992,  62990,  63990,\n",
       "          64987,  65994,  66991,  67993,  68991,  69994,  70987,  71988,\n",
       "          72985,  73988,  74987,  75989,  76989,  77988,  78990,  79986,\n",
       "          80989,  81987,  82988,  83984,  84987,  85988,  86988,  87986,\n",
       "          88984,  89987,  90985,  91988,  92987,  93989,  94981,  95988,\n",
       "          96983,  97987,  98985,  99981, 100982, 101986, 102985, 103985,\n",
       "         104985, 105982, 106987, 107981, 108985, 109983, 110981, 111982,\n",
       "         112978, 113982, 114982, 115982, 116982, 117981, 118980, 119983,\n",
       "         120980, 121982, 122978], dtype=int64),\n",
       "  'thz_recording_length': 1.5100423719008165e-11,\n",
       "  'thz_start_offset': -1.0810649962762912e-11,\n",
       "  'interpolated_position': array([0.00000000e+00, 4.88519785e-04, 9.77039570e-04, ...,\n",
       "         9.99022960e-01, 9.99511480e-01, 1.00000000e+00]),\n",
       "  'light_time': array([-1.08106500e-11, -1.08032731e-11, -1.07958963e-11, ...,\n",
       "          4.27502004e-12,  4.28239690e-12,  4.28977376e-12]),\n",
       "  'single_traces': array([[ 7.83787417e-04, -3.12921368e-04,  3.97413957e-04, ...,\n",
       "          -1.01152418e-03, -7.18544389e-04,  3.25126239e-03],\n",
       "         [ 7.83787417e-04, -5.60116199e-04,  1.52607883e-03, ...,\n",
       "           1.23498903e-03, -4.41221504e-04,  1.59328547e-03],\n",
       "         [-1.10334825e-03, -9.17062849e-04, -9.68806800e-05, ...,\n",
       "           1.40881171e-04, -4.10986871e-04, -2.83952652e-03],\n",
       "         ...,\n",
       "         [ 7.33407913e-04,  6.96909926e-04, -2.27028119e-04, ...,\n",
       "          -1.22271659e-03, -5.53189593e-04, -6.96723901e-04],\n",
       "         [-1.37270635e-03, -7.31243015e-04, -4.11790309e-04, ...,\n",
       "          -5.48511623e-04, -5.53189593e-04, -6.96723901e-04],\n",
       "         [-1.37270635e-03, -7.31243015e-04,  1.93285705e-04, ...,\n",
       "          -5.48511623e-04, -5.53189593e-04, -6.96723901e-04]]),\n",
       "  'average': {'time_domain': array([ 7.11416736e-05,  2.16909414e-04,  1.90018725e-04, ...,\n",
       "          -3.44699649e-04, -1.98972758e-04, -2.21468121e-04])}},\n",
       " 'dark2': {'scale': 6.6e-11,\n",
       "  'delay_value': 1.6259765625,\n",
       "  'position': array([-0.16364514, -0.16363998, -0.16362901, ..., -0.16373293,\n",
       "         -0.16375133, -0.16376223]),\n",
       "  'signal': array([ 2.43272915e-03,  1.87368690e-03, -9.22420513e-05, ...,\n",
       "         -9.15684717e-04, -7.00699006e-04, -1.38421863e-03]),\n",
       "  'number_of_traces': 96,\n",
       "  'interpolation_resolution': 2048,\n",
       "  'trace_cut_index': array([  997,  1999,  3000,  3997,  5000,  5997,  7002,  8000,  8997,\n",
       "         10000, 10996, 11997, 12999, 13998, 14995, 16001, 16998, 17999,\n",
       "         18997, 19999, 20995, 21999, 22999, 23996, 24995, 25995, 26995,\n",
       "         27993, 28990, 29992, 30996, 31996, 32996, 33992, 34992, 35992,\n",
       "         36993, 37999, 38995, 39991, 40994, 41991, 42991, 43992, 44991,\n",
       "         45990, 46995, 47990, 48991, 49992, 50991, 51991, 52990, 53988,\n",
       "         54991, 55989, 56990, 57992, 58990, 59988, 60991, 61992, 62990,\n",
       "         63988, 64989, 65988, 66988, 67988, 68990, 69988, 70985, 71985,\n",
       "         72987, 73986, 74987, 75989, 76989, 77988, 78988, 79984, 80987,\n",
       "         81986, 82986, 83986, 84985, 85988, 86989, 87986, 88983, 89984,\n",
       "         90984, 91987, 92984, 93983, 94986], dtype=int64),\n",
       "  'thz_recording_length': 1.5102488330918286e-11,\n",
       "  'thz_start_offset': -1.0808697659733393e-11,\n",
       "  'interpolated_position': array([0.00000000e+00, 4.88519785e-04, 9.77039570e-04, ...,\n",
       "         9.99022960e-01, 9.99511480e-01, 1.00000000e+00]),\n",
       "  'light_time': array([-1.08086977e-11, -1.08013198e-11, -1.07939419e-11, ...,\n",
       "          4.27903494e-12,  4.28641281e-12,  4.29379067e-12]),\n",
       "  'single_traces': array([[ 2.43272915e-03, -5.72656858e-04, -5.66949789e-04, ...,\n",
       "           1.77089370e-03,  2.11135843e-04, -1.38421863e-03],\n",
       "         [ 2.43272915e-03, -9.63366559e-05, -3.04818382e-05, ...,\n",
       "          -4.54867594e-04,  1.59131401e-03, -5.07887214e-05],\n",
       "         [-1.04450653e-04,  3.54650207e-04, -1.15663286e-03, ...,\n",
       "          -1.02732794e-03, -9.73652371e-05, -8.68306569e-04],\n",
       "         ...,\n",
       "         [-1.29088388e-03, -1.46852103e-03,  2.02142122e-04, ...,\n",
       "          -2.17510520e-03,  7.84190858e-04,  6.95905106e-05],\n",
       "         [-1.29088388e-03, -1.46852103e-03,  2.02142122e-04, ...,\n",
       "          -2.17510520e-03,  8.71358299e-04,  1.34813386e-03],\n",
       "         [-1.29088388e-03, -1.46852103e-03,  2.02142122e-04, ...,\n",
       "          -2.17510520e-03, -2.69853599e-03, -2.14622062e-03]]),\n",
       "  'average': {'time_domain': array([ 0.00025952,  0.00039313,  0.00019661, ..., -0.00066845,\n",
       "          -0.00062753, -0.00070032])}}}"
      ]
     },
     "execution_count": 59,
     "metadata": {},
     "output_type": "execute_result"
    }
   ],
   "source": [
    "parrot.plot.extended_multi_cycle(data)"
   ]
  },
  {
   "cell_type": "code",
   "execution_count": null,
   "id": "5a3de496",
   "metadata": {},
   "outputs": [],
   "source": []
  }
 ],
 "metadata": {
  "kernelspec": {
   "display_name": "Python 3 (ipykernel)",
   "language": "python",
   "name": "python3"
  },
  "language_info": {
   "codemirror_mode": {
    "name": "ipython",
    "version": 3
   },
   "file_extension": ".py",
   "mimetype": "text/x-python",
   "name": "python",
   "nbconvert_exporter": "python",
   "pygments_lexer": "ipython3",
   "version": "3.11.7"
  }
 },
 "nbformat": 4,
 "nbformat_minor": 5
}
