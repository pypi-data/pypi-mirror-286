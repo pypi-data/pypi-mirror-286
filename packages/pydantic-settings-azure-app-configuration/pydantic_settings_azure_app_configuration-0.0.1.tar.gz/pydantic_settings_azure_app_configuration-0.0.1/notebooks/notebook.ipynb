{
 "cells": [
  {
   "cell_type": "code",
   "execution_count": 2,
   "metadata": {},
   "outputs": [],
   "source": [
    "import os\n",
    "\n",
    "os.environ[\"AZURE_APP_CONFIGURATION_URL\"] = (\n",
    "    \"https://appcs-asesoria-des-we-01.azconfig.io\"\n",
    ")"
   ]
  },
  {
   "cell_type": "code",
   "execution_count": 3,
   "metadata": {},
   "outputs": [],
   "source": [
    "import os\n",
    "\n",
    "from azure.identity import DefaultAzureCredential\n",
    "from pydantic import BaseModel\n",
    "from pydantic_settings import BaseSettings, PydanticBaseSettingsSource\n",
    "from src.pydantic_settings_azure_app_configuration.source import (\n",
    "    AzureAppConfigurationSettingsSource,\n",
    ")\n",
    "\n",
    "\n",
    "class SqlServer(BaseModel):\n",
    "    password: str\n",
    "    host: str\n",
    "\n",
    "\n",
    "class AzureKeyVaultSettings(BaseSettings):\n",
    "    logging_level: str\n",
    "    sql_server: SqlServer\n",
    "\n",
    "    @classmethod\n",
    "    def settings_customise_sources(\n",
    "        cls,\n",
    "        settings_cls: type[BaseSettings],\n",
    "        init_settings: PydanticBaseSettingsSource,\n",
    "        env_settings: PydanticBaseSettingsSource,\n",
    "        dotenv_settings: PydanticBaseSettingsSource,\n",
    "        file_secret_settings: PydanticBaseSettingsSource,\n",
    "    ) -> tuple[PydanticBaseSettingsSource, ...]:\n",
    "        azure_credential = DefaultAzureCredential()\n",
    "        azure_app_configuration = AzureAppConfigurationSettingsSource(\n",
    "            settings_cls,\n",
    "            lambda app_configuration_options: app_configuration_options.connect_with_url(\n",
    "                os.environ[\"AZURE_APP_CONFIGURATION_URL\"], azure_credential\n",
    "            )\n",
    "            .select_key(\"my_api__*\")\n",
    "            .trim_key_prefix(\"my_api__\")\n",
    "            .configure_key_vault(\n",
    "                lambda key_vault_options: key_vault_options.set_credential(\n",
    "                    azure_credential\n",
    "                )\n",
    "            ),\n",
    "            env_nested_delimiter=\"__\",\n",
    "        )\n",
    "        return (\n",
    "            init_settings,\n",
    "            env_settings,\n",
    "            dotenv_settings,\n",
    "            file_secret_settings,\n",
    "            azure_app_configuration,\n",
    "        )"
   ]
  }
 ],
 "metadata": {
  "kernelspec": {
   "display_name": ".venv",
   "language": "python",
   "name": "python3"
  },
  "language_info": {
   "codemirror_mode": {
    "name": "ipython",
    "version": 3
   },
   "file_extension": ".py",
   "mimetype": "text/x-python",
   "name": "python",
   "nbconvert_exporter": "python",
   "pygments_lexer": "ipython3",
   "version": "3.12.4"
  }
 },
 "nbformat": 4,
 "nbformat_minor": 2
}
