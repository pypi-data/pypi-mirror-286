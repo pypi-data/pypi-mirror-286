{
 "cells": [
  {
   "cell_type": "markdown",
   "id": "f9e6811a",
   "metadata": {},
   "source": [
    "# User-defined metadata"
   ]
  },
  {
   "cell_type": "markdown",
   "id": "8564525b",
   "metadata": {},
   "source": [
    "Next to system metadata, iRODS allows you to create own metadata with data objects and collections.\n",
    "\n",
    "You can use that metadata to describe your data and later search for this data; and it can help you keeping the overview of what was the input for an analysis and what is the outcome.\n",
    "\n",
    "<img src=\"img/DataObject5.png\" width=\"400\">\n",
    "\n",
    "Technically, iRODS offers metadata as key-value-units triple. Let's investigate this:"
   ]
  },
  {
   "cell_type": "markdown",
   "id": "bde731e4",
   "metadata": {},
   "source": [
    "## Add metadata to data objects"
   ]
  },
  {
   "cell_type": "markdown",
   "id": "784fdac1",
   "metadata": {},
   "source": [
    "As always: first we have to create an iRODS session:"
   ]
  },
  {
   "cell_type": "code",
   "execution_count": null,
   "id": "277459df",
   "metadata": {},
   "outputs": [],
   "source": [
    "from ibridges.interactive import interactive_auth\n",
    "session = interactive_auth()"
   ]
  },
  {
   "cell_type": "markdown",
   "id": "81094d42",
   "metadata": {},
   "source": [
    "Now we can retrieve a data object and insect its metadata."
   ]
  },
  {
   "cell_type": "code",
   "execution_count": null,
   "id": "69066865",
   "metadata": {},
   "outputs": [],
   "source": [
    "from ibridges.path import IrodsPath\n",
    "from ibridges.meta import MetaData\n",
    "\n",
    "irods_coll_path = IrodsPath(session, '~').joinpath('demo')\n",
    "obj = irods_coll_path.joinpath('demofile.txt').dataobject\n",
    "\n",
    "obj_metadata = MetaData(obj)\n",
    "print(obj_metadata)"
   ]
  },
  {
   "cell_type": "markdown",
   "id": "7d9a578b",
   "metadata": {},
   "source": [
    "Most probably you will see no metadata in the above cell. **Note, that system metadata and user-defined metadata are two different entities in a data object!**\n",
    "With the command `MetaData(obj)` we only retrieve the user-defined metadata.\n",
    "\n",
    "<img src=\"img/DataObject4.png\" width=\"400\">"
   ]
  },
  {
   "cell_type": "markdown",
   "id": "1fb67574",
   "metadata": {},
   "source": [
    "Now we can add some own metadata. The metadata comes as key-value-units triple:"
   ]
  },
  {
   "cell_type": "code",
   "execution_count": null,
   "id": "79a1bb89",
   "metadata": {},
   "outputs": [],
   "source": [
    "obj_metadata.add('Key', 'Value', 'Units')\n",
    "print(obj_metadata)"
   ]
  },
  {
   "cell_type": "markdown",
   "id": "dafbeaff",
   "metadata": {},
   "source": [
    "Sometimes we do not really have `units`, so we can leave this part empty:"
   ]
  },
  {
   "cell_type": "code",
   "execution_count": null,
   "id": "fb439f38",
   "metadata": {},
   "outputs": [],
   "source": [
    "obj_metadata.add('Author', 'Christine')\n",
    "print(obj_metadata)"
   ]
  },
  {
   "cell_type": "markdown",
   "id": "3bfbfa71",
   "metadata": {},
   "source": [
    "We can also add a second author:"
   ]
  },
  {
   "cell_type": "code",
   "execution_count": null,
   "id": "bb35166a",
   "metadata": {},
   "outputs": [],
   "source": [
    "obj_metadata.add('Author', 'Raoul')\n",
    "print(obj_metadata)"
   ]
  },
  {
   "cell_type": "markdown",
   "id": "116c0f10",
   "metadata": {},
   "source": [
    "You see, that keys in **iRODS metadata keys can have different values**. That is different from python dictionaries where one key can only have one value. **How then to overwrite a value?**"
   ]
  },
  {
   "cell_type": "markdown",
   "id": "cf6d7f93",
   "metadata": {},
   "source": [
    "## Overwrite metadata"
   ]
  },
  {
   "cell_type": "markdown",
   "id": "cb5b7fef",
   "metadata": {},
   "source": [
    "If you wish to *overwrite* a value, you can first add the new metadata key-value-units triple as above and subsequently remove the old one, you need to specify the whole triple if the metadata contains a units part. As you see the following command will fail:"
   ]
  },
  {
   "cell_type": "code",
   "execution_count": null,
   "id": "d0cbd9bf",
   "metadata": {},
   "outputs": [],
   "source": [
    "obj_metadata.delete('Key', 'Value')"
   ]
  },
  {
   "cell_type": "markdown",
   "id": "77993416",
   "metadata": {},
   "source": [
    "While this one will succeed:"
   ]
  },
  {
   "cell_type": "code",
   "execution_count": null,
   "id": "ce98d47c",
   "metadata": {},
   "outputs": [],
   "source": [
    "obj_metadata.delete('Key', 'Value', 'Units')"
   ]
  },
  {
   "cell_type": "markdown",
   "id": "e7f47a59",
   "metadata": {},
   "source": [
    "You can also set all existing values to **one** new value:"
   ]
  },
  {
   "cell_type": "code",
   "execution_count": null,
   "id": "c9f0a95b",
   "metadata": {},
   "outputs": [],
   "source": [
    "print(obj_metadata)\n",
    "obj_metadata.set('Author', 'Maarten')\n",
    "print(obj_metadata)"
   ]
  },
  {
   "cell_type": "markdown",
   "id": "c3f54857",
   "metadata": {},
   "source": [
    "## Add metadata to collections"
   ]
  },
  {
   "cell_type": "markdown",
   "id": "51438d57",
   "metadata": {},
   "source": [
    "The same functionality we saw above, we can use for collections:"
   ]
  },
  {
   "cell_type": "code",
   "execution_count": null,
   "id": "65fb35a5",
   "metadata": {},
   "outputs": [],
   "source": [
    "coll = irods_coll_path.collection\n",
    "coll_metadata = MetaData(coll)\n",
    "print(coll_metadata)"
   ]
  },
  {
   "cell_type": "code",
   "execution_count": null,
   "id": "2af31459",
   "metadata": {},
   "outputs": [],
   "source": [
    "coll_metadata.add('TypeOfCollection', 'Results')\n",
    "print(coll_metadata)"
   ]
  },
  {
   "cell_type": "markdown",
   "id": "d7eacaba",
   "metadata": {},
   "source": [
    "## Which metadata can help you keeping an overview?"
   ]
  },
  {
   "cell_type": "markdown",
   "id": "cb48bb74",
   "metadata": {},
   "source": [
    "iRODS metadata can help you keeping an overview while you are working with data and maybe many files which have relations to each other. There are ontologies which define keywords and links between keywords like the **[prov-o Ontology](https://www.w3.org/TR/prov-o/#prov-o-at-a-glance)**.\n",
    "\n",
    "Let's see how we can annotate our test data, so that we know that it is test data."
   ]
  },
  {
   "cell_type": "code",
   "execution_count": null,
   "id": "bbadefc7",
   "metadata": {},
   "outputs": [],
   "source": [
    "from datetime import datetime\n",
    "coll_metadata.add('prov:wasGeneratedBy', 'Christine')\n",
    "coll_metadata.add('CollectionType', 'testcollection')\n",
    "obj_metadata.add('prov:SoftwareAgent', 'iRODS jupyter Tutorial')\n",
    "obj_metadata.add('prov:wasGeneratedBy', 'Maarten')\n",
    "obj_metadata.add('DataType', 'testdata')"
   ]
  },
  {
   "cell_type": "markdown",
   "id": "5be8180b",
   "metadata": {},
   "source": [
    "Now we have some more descriptive metadata that gives us hints, in which context the data was created:"
   ]
  },
  {
   "cell_type": "code",
   "execution_count": null,
   "id": "a0b8e2d4",
   "metadata": {},
   "outputs": [],
   "source": [
    "print(coll_metadata)\n",
    "print(obj_metadata)"
   ]
  },
  {
   "cell_type": "markdown",
   "id": "7f721760",
   "metadata": {},
   "source": [
    "## Finding data by their metadata"
   ]
  },
  {
   "cell_type": "markdown",
   "id": "59518813",
   "metadata": {},
   "source": [
    "Metadata does not only help you to. keep an overview over your data, but can also be used to select and retrieve data. In iBridges you can use the user-defined metadata and some system metadata fields to search for data.\n",
    "\n",
    "In our first example we list all collections and data objects in our iRODS home."
   ]
  },
  {
   "cell_type": "code",
   "execution_count": null,
   "id": "e6918fe7",
   "metadata": {},
   "outputs": [],
   "source": [
    "from ibridges.search import search_data\n",
    "result = search_data(session, path=session.home)\n",
    "print(result)"
   ]
  },
  {
   "cell_type": "markdown",
   "id": "31c88425",
   "metadata": {},
   "source": [
    "The output is a list of Python dictionaries, where each dictionary contains\n",
    "\n",
    "1) Collections: `'COLL_NAME': '/<ZONE>/home/<YOUR PATH>'}`\n",
    "2) Data Objects: \n",
    "    ```\n",
    "    {'COLL_NAME': '/<ZONE>/home/<YOUR PATH>', \n",
    "     'DATA_NAME': '<OBJECT NAME>', \n",
    "     'D_DATA_CHECKSUM': '<CHECKSUM>'}\n",
    "    ```\n",
    "\n",
    "Now let's try to find data by its metadata. We will have to create a Python dictionary with the metadata keys and the metadata values as search criterion:"
   ]
  },
  {
   "cell_type": "code",
   "execution_count": null,
   "id": "5b054794",
   "metadata": {},
   "outputs": [],
   "source": [
    "key_vals = {'prov:wasGeneratedBy': 'Christine'}\n",
    "result = search_data(session, key_vals=key_vals)\n",
    "print(result)"
   ]
  },
  {
   "cell_type": "markdown",
   "id": "81d73352",
   "metadata": {},
   "source": [
    "If we do not want to specify the particular value of the key, we can use a *wildcard*. In iRODS the wildcard is `%`."
   ]
  },
  {
   "cell_type": "code",
   "execution_count": null,
   "id": "49a9f17e",
   "metadata": {},
   "outputs": [],
   "source": [
    "key_vals = {'prov:wasGeneratedBy': '%'}\n",
    "result = search_data(session, key_vals=key_vals)\n",
    "print(result)"
   ]
  },
  {
   "cell_type": "markdown",
   "id": "69a2e046",
   "metadata": {},
   "source": [
    "Now we also receive the data object that was generated by *Maarten*.\n",
    "\n",
    "And of course we can combine information about the path and the metadata. they will be connected with `and`. The following search will retrieve all data objects and collections wich are labeled with a metadata key *'prov:wasGeneratedBy'* and whose path has the prefix */nluu12p/home/research-test-christine/demo/*."
   ]
  },
  {
   "cell_type": "code",
   "execution_count": null,
   "id": "e0d2fad9",
   "metadata": {},
   "outputs": [],
   "source": [
    "key_vals = {'prov:wasGeneratedBy': '%'}\n",
    "result = search_data(session, path='/nluu12p/home/research-test-christine/%', key_vals=key_vals)\n",
    "print(result)"
   ]
  },
  {
   "cell_type": "markdown",
   "id": "14bc70b0",
   "metadata": {},
   "source": [
    "## Retrieving data"
   ]
  },
  {
   "cell_type": "markdown",
   "id": "946e355c",
   "metadata": {},
   "source": [
    "Now that we have the search results in a list of Python dictionaries, we can use the information to create the full iRODS paths and continue working with them e.g. download them."
   ]
  },
  {
   "cell_type": "code",
   "execution_count": null,
   "id": "ff72b0ca",
   "metadata": {},
   "outputs": [],
   "source": [
    "from ibridges.path import IrodsPath\n",
    "\n",
    "paths = [IrodsPath(session, r.get('COLL_NAME', '')).joinpath(r.get('DATA_NAME', '')) for r in result]\n",
    "print(paths)"
   ]
  },
  {
   "cell_type": "markdown",
   "id": "4072812e",
   "metadata": {},
   "source": [
    "# Metadata archives\n",
    "\n",
    "In most cases the user is encouraged to access and manipulate metadata through the `MetaData` class. However, there are some cases where it can be useful to create an archive of all metadata in a collection and all subcollections and data objects. One example might be a backup of the data and metadata on a system that does not support metadata. Another might be to easily transfer metadata from one iRODS system to another. A final use case might be having access to the metadata during computation on a system that is not connected to the internet."
   ]
  },
  {
   "cell_type": "markdown",
   "id": "3b343610",
   "metadata": {},
   "source": [
    "## Creating a metadata archive"
   ]
  },
  {
   "cell_type": "code",
   "execution_count": 2,
   "id": "6a92e519",
   "metadata": {},
   "outputs": [],
   "source": [
    "from ibridges.data_operations import create_meta_archive\n",
    "\n",
    "collection_path = IrodsPath(session, \"~\", \"Demo\")\n",
    "create_meta_archive(session, collection_path, \"meta_archive.json\")"
   ]
  },
  {
   "cell_type": "markdown",
   "id": "00d0e863",
   "metadata": {},
   "source": [
    "## Applying a metadata archive\n",
    "\n",
    "This restores/overwrites the metadata on the iRODS server with the metadata from the archive. Make sure that the paths of the subcollections and data objects have not changed."
   ]
  },
  {
   "cell_type": "code",
   "execution_count": null,
   "id": "8c49162e",
   "metadata": {},
   "outputs": [],
   "source": [
    "from ibridges.data_operations import apply_meta_archive\n",
    "\n",
    "apply_meta_archive(session, \"meta_archive.json\", collection_path)"
   ]
  }
 ],
 "metadata": {
  "kernelspec": {
   "display_name": "Python 3 (ipykernel)",
   "language": "python",
   "name": "python3"
  },
  "language_info": {
   "codemirror_mode": {
    "name": "ipython",
    "version": 3
   },
   "file_extension": ".py",
   "mimetype": "text/x-python",
   "name": "python",
   "nbconvert_exporter": "python",
   "pygments_lexer": "ipython3",
   "version": "3.11.6"
  }
 },
 "nbformat": 4,
 "nbformat_minor": 5
}
