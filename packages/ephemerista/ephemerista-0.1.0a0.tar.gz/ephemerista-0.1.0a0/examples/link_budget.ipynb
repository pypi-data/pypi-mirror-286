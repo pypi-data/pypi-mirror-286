{
 "cells": [
  {
   "cell_type": "code",
   "execution_count": null,
   "metadata": {},
   "outputs": [],
   "source": [
    "%load_ext autoreload\n",
    "%autoreload 2"
   ]
  },
  {
   "cell_type": "code",
   "execution_count": null,
   "metadata": {},
   "outputs": [],
   "source": [
    "from ephemerista import UT1Provider\n",
    "from ephemerista.analysis.link_budget import LinkBudget\n",
    "from ephemerista.angles import Angle\n",
    "from ephemerista.assets import Asset, GroundStation, Spacecraft\n",
    "from ephemerista.comms.antennas import FieldOfRegard, SimpleAntenna\n",
    "from ephemerista.comms.channels import Channel\n",
    "from ephemerista.comms.receiver import SimpleReceiver\n",
    "from ephemerista.comms.systems import CommunicationSystem\n",
    "from ephemerista.comms.transmitter import Transmitter\n",
    "from ephemerista.propagators.sgp4 import SGP4\n",
    "from ephemerista.scenarios import Scenario\n",
    "from ephemerista.time import TimeDelta"
   ]
  },
  {
   "cell_type": "code",
   "execution_count": null,
   "metadata": {},
   "outputs": [],
   "source": [
    "provider = UT1Provider(\"../tests/resources/finals2000A.all.csv\")"
   ]
  },
  {
   "cell_type": "code",
   "execution_count": null,
   "metadata": {},
   "outputs": [],
   "source": [
    "uplink = Channel(link_type=\"uplink\", modulation=\"BPSK\", data_rate=430502, required_eb_n0=2.3, margin=3)\n",
    "downlink = Channel(link_type=\"downlink\", modulation=\"BPSK\", data_rate=861004, required_eb_n0=4.2, margin=3)"
   ]
  },
  {
   "cell_type": "code",
   "execution_count": null,
   "metadata": {},
   "outputs": [],
   "source": [
    "# S-Band\n",
    "frequency = 2308e6  # Hz"
   ]
  },
  {
   "cell_type": "code",
   "execution_count": null,
   "metadata": {},
   "outputs": [],
   "source": [
    "gs_antenna = SimpleAntenna(\n",
    "    gain_db=30, beamwidth_deg=5, field_of_regard=FieldOfRegard(degrees=90), design_frequency=frequency\n",
    ")\n",
    "gs_transmitter = Transmitter(power=4, frequency=frequency, line_loss=1.0)\n",
    "gs_receiver = SimpleReceiver(system_noise_temperature=889, frequency=frequency)\n",
    "gs_system = CommunicationSystem(\n",
    "    channels=[uplink.channel_id, downlink.channel_id],\n",
    "    transmitter=gs_transmitter,\n",
    "    receiver=gs_receiver,\n",
    "    antenna=gs_antenna,\n",
    ")"
   ]
  },
  {
   "cell_type": "code",
   "execution_count": null,
   "metadata": {},
   "outputs": [],
   "source": [
    "sc_antenna = SimpleAntenna(gain_db=6.5, beamwidth_deg=60, design_frequency=frequency)\n",
    "sc_transmitter = Transmitter(power=1.348, frequency=frequency, line_loss=1.0)\n",
    "sc_receiver = SimpleReceiver(system_noise_temperature=429, frequency=frequency)\n",
    "sc_system = CommunicationSystem(\n",
    "    channels=[uplink.channel_id, downlink.channel_id],\n",
    "    transmitter=sc_transmitter,\n",
    "    receiver=sc_receiver,\n",
    "    antenna=sc_antenna,\n",
    ")"
   ]
  },
  {
   "cell_type": "code",
   "execution_count": null,
   "metadata": {},
   "outputs": [],
   "source": [
    "station_coordinates = [\n",
    "    (38.017, 23.731),\n",
    "    (36.971, 22.141),\n",
    "    (35.501, 24.011),\n",
    "    (39.326, -82.101),\n",
    "    (50.750, 6.211),\n",
    "]\n",
    "\n",
    "stations = [\n",
    "    Asset(\n",
    "        model=GroundStation.from_lla(longitude, latitude, minimum_elevation=Angle.from_degrees(10)),\n",
    "        name=f\"Station {i}\",\n",
    "        comms=[gs_system],\n",
    "    )\n",
    "    for i, (latitude, longitude) in enumerate(station_coordinates)\n",
    "]"
   ]
  },
  {
   "cell_type": "code",
   "execution_count": null,
   "metadata": {},
   "outputs": [],
   "source": [
    "tle = \"\"\"\n",
    "1 99878U 14900A   24103.76319466  .00000000  00000-0 -11394-2 0    01\n",
    "2 99878  97.5138 156.7457 0016734 205.2381 161.2435 15.13998005    06\n",
    "\"\"\"\n",
    "\n",
    "propagator = SGP4(tle=tle)\n",
    "sc = Asset(model=Spacecraft(propagator=propagator), name=\"PHASMA\", comms=[sc_system])"
   ]
  },
  {
   "cell_type": "code",
   "execution_count": null,
   "metadata": {},
   "outputs": [],
   "source": [
    "start_date = propagator.time\n",
    "end_date = start_date + TimeDelta.from_days(1)\n",
    "\n",
    "scenario = Scenario(\n",
    "    assets=[*stations, sc],\n",
    "    channels=[uplink, downlink],\n",
    "    name=\"PHASMA Link Budget\",\n",
    "    start_date=start_date,\n",
    "    end_date=end_date,\n",
    ")"
   ]
  },
  {
   "cell_type": "code",
   "execution_count": null,
   "metadata": {},
   "outputs": [],
   "source": [
    "lb = LinkBudget(scenario=scenario)\n",
    "results = lb.analyze(provider)\n",
    "results.to_dataframe(stations[0], sc)"
   ]
  },
  {
   "cell_type": "code",
   "execution_count": null,
   "metadata": {},
   "outputs": [],
   "source": [
    "results[stations[0], sc][0].plot()"
   ]
  },
  {
   "cell_type": "code",
   "execution_count": null,
   "metadata": {},
   "outputs": [],
   "source": []
  }
 ],
 "metadata": {
  "kernelspec": {
   "display_name": ".hatch",
   "language": "python",
   "name": "python3"
  },
  "language_info": {
   "codemirror_mode": {
    "name": "ipython",
    "version": 3
   },
   "file_extension": ".py",
   "mimetype": "text/x-python",
   "name": "python",
   "nbconvert_exporter": "python",
   "pygments_lexer": "ipython3",
   "version": "3.12.4"
  }
 },
 "nbformat": 4,
 "nbformat_minor": 2
}
