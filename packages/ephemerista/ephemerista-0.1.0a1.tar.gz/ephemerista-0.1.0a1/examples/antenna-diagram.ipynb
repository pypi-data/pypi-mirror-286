{
 "cells": [
  {
   "cell_type": "code",
   "execution_count": null,
   "metadata": {},
   "outputs": [],
   "source": [
    "import plotly.graph_objects as go"
   ]
  },
  {
   "cell_type": "markdown",
   "metadata": {},
   "source": [
    "# Parabolic antenna"
   ]
  },
  {
   "cell_type": "code",
   "execution_count": null,
   "metadata": {},
   "outputs": [],
   "source": [
    "frequency = 8.2e9"
   ]
  },
  {
   "cell_type": "code",
   "execution_count": null,
   "metadata": {},
   "outputs": [],
   "source": [
    "from ephemerista.comms.antennas import ComplexAntenna, ParabolicPattern"
   ]
  },
  {
   "cell_type": "code",
   "execution_count": null,
   "metadata": {},
   "outputs": [],
   "source": [
    "parabolic_antenna = ComplexAntenna(pattern=ParabolicPattern(diameter=3.0, efficiency=0.6))"
   ]
  },
  {
   "cell_type": "code",
   "execution_count": null,
   "metadata": {},
   "outputs": [],
   "source": [
    "fig = go.Figure()\n",
    "\n",
    "fig.add_trace(parabolic_antenna.plot_pattern(frequency=frequency))\n",
    "\n",
    "fig.update_layout(\n",
    "    title = \"Antenna pattern diagram (polar) [dBi]\",\n",
    "    polar = {\n",
    "        \"angularaxis\": {\n",
    "            \"rotation\": 90,\n",
    "            \"direction\": \"clockwise\"\n",
    "        }\n",
    "    }\n",
    ")\n",
    "fig.show()"
   ]
  },
  {
   "cell_type": "code",
   "execution_count": null,
   "metadata": {},
   "outputs": [],
   "source": [
    "fig = go.Figure()\n",
    "fig.add_trace(parabolic_antenna.plot_pattern(frequency=frequency, fig_style=\"linear\"))\n",
    "fig.update_layout(\n",
    "    title = \"Antenna pattern diagram (cartesian) [dBi]\",\n",
    "    xaxis_range=[-45.0, 45.0]\n",
    ")\n",
    "fig.show()"
   ]
  },
  {
   "cell_type": "markdown",
   "metadata": {},
   "source": [
    "# Dipole antennas"
   ]
  },
  {
   "cell_type": "code",
   "execution_count": null,
   "metadata": {},
   "outputs": [],
   "source": [
    "frequency = 433e6"
   ]
  },
  {
   "cell_type": "code",
   "execution_count": null,
   "metadata": {},
   "outputs": [],
   "source": [
    "from ephemerista.comms.antennas import DipolePattern\n",
    "from ephemerista.comms.utils import wavelength"
   ]
  },
  {
   "cell_type": "markdown",
   "metadata": {},
   "source": [
    "## Half wavelength vs short dipole"
   ]
  },
  {
   "cell_type": "code",
   "execution_count": null,
   "metadata": {},
   "outputs": [],
   "source": [
    "dipole_halfwavelength = ComplexAntenna(pattern=DipolePattern(length=wavelength(frequency=frequency)/2))\n",
    "dipole_short = ComplexAntenna(pattern=DipolePattern(length=wavelength(frequency=frequency)/1000))"
   ]
  },
  {
   "cell_type": "code",
   "execution_count": null,
   "metadata": {},
   "outputs": [],
   "source": [
    "fig = go.Figure()\n",
    "fig.add_trace(dipole_halfwavelength.plot_pattern(frequency=frequency,\n",
    "                                                 trace_name=\"Half wavelength\"))\n",
    "fig.add_trace(dipole_short.plot_pattern(frequency=frequency,\n",
    "                                        trace_name=\"Short dipole\"))\n",
    "\n",
    "fig.update_layout(\n",
    "    title = \"Antenna pattern diagram (polar) [dBi]\",\n",
    "    polar = {\n",
    "        \"radialaxis\": {\"range\": [-12.0, 3.0]},\n",
    "        \"angularaxis\": {\n",
    "            \"rotation\": 90,\n",
    "            \"direction\": \"clockwise\"\n",
    "        }\n",
    "    }\n",
    ")\n",
    "fig.show()"
   ]
  },
  {
   "cell_type": "markdown",
   "metadata": {},
   "source": [
    "Now plotting the gains relative to the peak gain (so lower than 0 dB), to compare with https://en.wikipedia.org/wiki/Dipole_antenna#/media/File:L-over2-rad-pat.svg"
   ]
  },
  {
   "cell_type": "code",
   "execution_count": null,
   "metadata": {},
   "outputs": [],
   "source": [
    "fig = go.Figure()\n",
    "fig.add_trace(dipole_halfwavelength.plot_pattern(frequency=frequency,\n",
    "                                                 trace_name=\"Half wavelength\",\n",
    "                                                 relative_to_peak=True))\n",
    "fig.add_trace(dipole_short.plot_pattern(frequency=frequency,\n",
    "                                        trace_name=\"Short dipole\",\n",
    "                                        relative_to_peak=True))\n",
    "\n",
    "fig.update_layout(\n",
    "    title = \"Antenna pattern diagram (polar, gain relative to peak gain) [dBd]\",\n",
    "    polar = {\n",
    "        \"radialaxis\": {\"range\": [-12.0, 2]},\n",
    "        \"angularaxis\": {\n",
    "            \"rotation\": 90,\n",
    "            \"direction\": \"clockwise\"\n",
    "        }\n",
    "    }\n",
    ")\n",
    "fig.show()"
   ]
  },
  {
   "cell_type": "markdown",
   "metadata": {},
   "source": [
    "## 3/2 wavelength"
   ]
  },
  {
   "cell_type": "code",
   "execution_count": null,
   "metadata": {},
   "outputs": [],
   "source": [
    "fig = go.Figure()\n",
    "fig.add_trace(ComplexAntenna(pattern=DipolePattern(length=3*wavelength(frequency=frequency)/2)).plot_pattern(frequency=frequency))\n",
    "\n",
    "fig.update_layout(\n",
    "    title = \"Antenna pattern diagram (polar) [dBi]\",\n",
    "    polar = {\n",
    "        \"radialaxis\": {\"range\": [-20.0, 5.0]},\n",
    "        \"angularaxis\": {\n",
    "            \"rotation\": 90,\n",
    "            \"direction\": \"clockwise\"\n",
    "        }\n",
    "    }\n",
    ")\n",
    "fig.show()"
   ]
  },
  {
   "cell_type": "markdown",
   "metadata": {},
   "source": [
    "## 5/4 wavelength"
   ]
  },
  {
   "cell_type": "code",
   "execution_count": null,
   "metadata": {},
   "outputs": [],
   "source": [
    "fig = go.Figure()\n",
    "fig.add_trace(ComplexAntenna(pattern=DipolePattern(length=5*wavelength(frequency=frequency)/4)).plot_pattern(frequency=frequency))\n",
    "\n",
    "fig.update_layout(\n",
    "    title = \"Antenna pattern diagram (polar) [dBi]\",\n",
    "    polar = {\n",
    "        \"radialaxis\": {\"range\": [-20.0, 6.0]},\n",
    "        \"angularaxis\": {\n",
    "            \"rotation\": 90,\n",
    "            \"direction\": \"clockwise\"\n",
    "        }\n",
    "    }\n",
    ")\n",
    "fig.show()"
   ]
  },
  {
   "cell_type": "code",
   "execution_count": null,
   "metadata": {},
   "outputs": [],
   "source": []
  }
 ],
 "metadata": {
  "kernelspec": {
   "display_name": ".hatch",
   "language": "python",
   "name": "python3"
  },
  "language_info": {
   "codemirror_mode": {
    "name": "ipython",
    "version": 3
   },
   "file_extension": ".py",
   "mimetype": "text/x-python",
   "name": "python",
   "nbconvert_exporter": "python",
   "pygments_lexer": "ipython3",
   "version": "3.11.9"
  }
 },
 "nbformat": 4,
 "nbformat_minor": 2
}
