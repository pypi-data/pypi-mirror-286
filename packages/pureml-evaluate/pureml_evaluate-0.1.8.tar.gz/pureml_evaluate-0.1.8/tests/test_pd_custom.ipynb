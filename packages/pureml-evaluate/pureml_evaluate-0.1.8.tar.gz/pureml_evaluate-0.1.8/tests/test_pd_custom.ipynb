{
 "cells": [
  {
   "cell_type": "code",
   "execution_count": 1,
   "metadata": {},
   "outputs": [],
   "source": [
    "import pureml_evaluate"
   ]
  },
  {
   "cell_type": "code",
   "execution_count": 2,
   "metadata": {},
   "outputs": [
    {
     "data": {
      "text/plain": [
       "'0.1.4.3'"
      ]
     },
     "execution_count": 2,
     "metadata": {},
     "output_type": "execute_result"
    }
   ],
   "source": [
    "pureml_evaluate.__version__"
   ]
  },
  {
   "cell_type": "code",
   "execution_count": 3,
   "metadata": {},
   "outputs": [],
   "source": [
    "from pureml_evaluate.evaluators.evaluator import Evaluator"
   ]
  },
  {
   "cell_type": "code",
   "execution_count": 4,
   "metadata": {},
   "outputs": [],
   "source": [
    "import joblib\n",
    "y_true = joblib.load(\"y_test.pkl\").values\n",
    "y_pred = joblib.load(\"y_pred.pkl\")\n",
    "sensitive_features = joblib.load(\"sensitive_features.pkl\")"
   ]
  },
  {
   "cell_type": "code",
   "execution_count": 5,
   "metadata": {},
   "outputs": [
    {
     "data": {
      "text/plain": [
       "9407       male\n",
       "2311       male\n",
       "22633    female\n",
       "9255     female\n",
       "8901     female\n",
       "          ...  \n",
       "26220    female\n",
       "18170      male\n",
       "25486    female\n",
       "3113     female\n",
       "27486      male\n",
       "Name: SEX, Length: 10500, dtype: category\n",
       "Categories (2, object): ['male', 'female']"
      ]
     },
     "execution_count": 5,
     "metadata": {},
     "output_type": "execute_result"
    }
   ],
   "source": [
    "sensitive_features"
   ]
  },
  {
   "cell_type": "code",
   "execution_count": 6,
   "metadata": {},
   "outputs": [
    {
     "name": "stdout",
     "output_type": "stream",
     "text": [
      "1 (10500,)\n"
     ]
    }
   ],
   "source": [
    "print(sensitive_features.ndim, sensitive_features.shape)"
   ]
  },
  {
   "cell_type": "code",
   "execution_count": 7,
   "metadata": {},
   "outputs": [
    {
     "name": "stdout",
     "output_type": "stream",
     "text": [
      "(10500,)\n"
     ]
    }
   ],
   "source": [
    "import random\n",
    "import numpy as np\n",
    "\n",
    "values = ['Indian', 'African', 'American']\n",
    "\n",
    "list_length = sensitive_features.shape[0]\n",
    "full_list = values * (list_length // len(values))\n",
    "full_list += values[:list_length % len(values)]\n",
    "random.shuffle(full_list)\n",
    "\n",
    "full_list = np.array(full_list)\n",
    "print(full_list.shape)\n",
    "# Print the resulting list\n",
    "# print(full_list)"
   ]
  },
  {
   "cell_type": "code",
   "execution_count": 8,
   "metadata": {},
   "outputs": [],
   "source": [
    "import pandas as pd\n",
    "s_feat = pd.concat([sensitive_features.reset_index(drop=True), pd.DataFrame(full_list, columns=['Race'])], axis=1)"
   ]
  },
  {
   "cell_type": "code",
   "execution_count": null,
   "metadata": {},
   "outputs": [],
   "source": []
  },
  {
   "cell_type": "code",
   "execution_count": null,
   "metadata": {},
   "outputs": [],
   "source": []
  },
  {
   "cell_type": "code",
   "execution_count": 9,
   "metadata": {},
   "outputs": [
    {
     "name": "stdout",
     "output_type": "stream",
     "text": [
      "Subset column:  SEX\n",
      "Unique values in the column:  ['male', 'female']\n",
      "Group:  male\n",
      "Group count:  4170\n",
      "Group:  female\n",
      "Group count:  6330\n",
      "Subset column:  Race\n",
      "Unique values in the column:  ['African', 'American', 'Indian']\n",
      "Group:  African\n",
      "Group count:  3500\n",
      "Group:  American\n",
      "Group count:  3500\n",
      "Group:  Indian\n",
      "Group count:  3500\n",
      "Sensitive Columns:  2 Total subsets:  5\n"
     ]
    }
   ],
   "source": [
    "from pureml_evaluate.evaluators.evaluator import eval\n",
    "\n",
    "metrics = {\n",
    "            'classification':\n",
    "                [\n",
    "                    {'name': 'accuracy', 'threshold': 0.6},\n",
    "                    {'name': 'precision', 'threshold': 0.6},\n",
    "                ],\n",
    "            'fairness':\n",
    "                [\n",
    "                    {'name': 'demographic_parity_difference', 'threshold': 0.1},\n",
    "                    {'name': 'true_positive_parity', 'threshold': 0.1}\n",
    "                    \n",
    "                ]\n",
    "        }\n",
    "\n",
    "# metrics = None\n",
    "\n",
    "values = eval(y_true=y_true, \n",
    "              y_pred=y_pred, \n",
    "              sensitive_features=s_feat, \n",
    "              evaluators=['classification', 'fairness'], metrics=metrics)\n",
    "            #   evaluators=['classification'], metrics=metrics)\n",
    "# values"
   ]
  },
  {
   "cell_type": "code",
   "execution_count": null,
   "metadata": {},
   "outputs": [],
   "source": []
  },
  {
   "cell_type": "code",
   "execution_count": 10,
   "metadata": {},
   "outputs": [],
   "source": [
    "import json\n",
    "\n",
    "\n",
    "with open(\"values_pd_2.json\", \"w\",) as out_file:\n",
    "    json.dump(values, out_file)\n"
   ]
  },
  {
   "cell_type": "code",
   "execution_count": null,
   "metadata": {},
   "outputs": [],
   "source": []
  },
  {
   "cell_type": "code",
   "execution_count": 11,
   "metadata": {},
   "outputs": [
    {
     "name": "stdout",
     "output_type": "stream",
     "text": [
      "<class 'dict'>\n"
     ]
    },
    {
     "data": {
      "text/plain": [
       "{'__all__': {'column': [{'name': '__all__', 'value': '__all__'}],\n",
       "  'metric': [{'name': 'accuracy',\n",
       "    'category': 'performance',\n",
       "    'value': 0.7971428571428572,\n",
       "    'status': None,\n",
       "    'columns_sensitive': None},\n",
       "   {'name': 'precision',\n",
       "    'category': 'performance',\n",
       "    'value': 0.5270081164287713,\n",
       "    'status': None,\n",
       "    'columns_sensitive': None},\n",
       "   {'name': 'demographic_parity_difference',\n",
       "    'category': 'fairness',\n",
       "    'value': 0.058073351745144164,\n",
       "    'status': None,\n",
       "    'columns_sensitive': [{'name': 'SEX', 'value': '__all__'}]},\n",
       "   {'name': 'true_positive_parity',\n",
       "    'category': 'fairness',\n",
       "    'value': 0.11047349698537057,\n",
       "    'status': None,\n",
       "    'columns_sensitive': [{'name': 'SEX', 'value': '__all__'}]},\n",
       "   {'name': 'demographic_parity_difference',\n",
       "    'category': 'fairness',\n",
       "    'value': 0.007142857142857173,\n",
       "    'status': None,\n",
       "    'columns_sensitive': [{'name': 'Race', 'value': '__all__'}]},\n",
       "   {'name': 'true_positive_parity',\n",
       "    'category': 'fairness',\n",
       "    'value': 0.014587466448827247,\n",
       "    'status': None,\n",
       "    'columns_sensitive': [{'name': 'Race', 'value': '__all__'}]}]},\n",
       " '__subsets__': [{'column': [{'name': 'SEX', 'value': 'male'}],\n",
       "   'metric': [{'name': 'accuracy',\n",
       "     'category': 'performance',\n",
       "     'value': 0.8697841726618705,\n",
       "     'status': None,\n",
       "     'columns_sensitive': None},\n",
       "    {'name': 'precision',\n",
       "     'category': 'performance',\n",
       "     'value': 0.6692851531814611,\n",
       "     'status': None,\n",
       "     'columns_sensitive': None},\n",
       "    {'name': 'demographic_parity_difference',\n",
       "     'category': 'fairness',\n",
       "     'value': 0.0,\n",
       "     'status': None,\n",
       "     'columns_sensitive': [{'name': 'SEX', 'value': 'male'}]},\n",
       "    {'name': 'true_positive_parity',\n",
       "     'category': 'fairness',\n",
       "     'value': 0.0,\n",
       "     'status': None,\n",
       "     'columns_sensitive': [{'name': 'SEX', 'value': 'male'}]},\n",
       "    {'name': 'demographic_parity_difference',\n",
       "     'category': 'fairness',\n",
       "     'value': 0.008238010476742608,\n",
       "     'status': None,\n",
       "     'columns_sensitive': [{'name': 'Race', 'value': '__all__'}]},\n",
       "    {'name': 'true_positive_parity',\n",
       "     'category': 'fairness',\n",
       "     'value': 0.01935140882509312,\n",
       "     'status': None,\n",
       "     'columns_sensitive': [{'name': 'Race', 'value': '__all__'}]}]},\n",
       "  {'column': [{'name': 'SEX', 'value': 'female'}],\n",
       "   'metric': [{'name': 'accuracy',\n",
       "     'category': 'performance',\n",
       "     'value': 0.7492890995260664,\n",
       "     'status': None,\n",
       "     'columns_sensitive': None},\n",
       "    {'name': 'precision',\n",
       "     'category': 'performance',\n",
       "     'value': 0.4482608695652174,\n",
       "     'status': None,\n",
       "     'columns_sensitive': None},\n",
       "    {'name': 'demographic_parity_difference',\n",
       "     'category': 'fairness',\n",
       "     'value': 0.0,\n",
       "     'status': None,\n",
       "     'columns_sensitive': [{'name': 'SEX', 'value': 'female'}]},\n",
       "    {'name': 'true_positive_parity',\n",
       "     'category': 'fairness',\n",
       "     'value': 0.0,\n",
       "     'status': None,\n",
       "     'columns_sensitive': [{'name': 'SEX', 'value': 'female'}]},\n",
       "    {'name': 'demographic_parity_difference',\n",
       "     'category': 'fairness',\n",
       "     'value': 0.016133091877206907,\n",
       "     'status': None,\n",
       "     'columns_sensitive': [{'name': 'Race', 'value': '__all__'}]},\n",
       "    {'name': 'true_positive_parity',\n",
       "     'category': 'fairness',\n",
       "     'value': 0.037306340859580955,\n",
       "     'status': None,\n",
       "     'columns_sensitive': [{'name': 'Race', 'value': '__all__'}]}]},\n",
       "  {'column': [{'name': 'Race', 'value': 'African'}],\n",
       "   'metric': [{'name': 'accuracy',\n",
       "     'category': 'performance',\n",
       "     'value': 0.7962857142857143,\n",
       "     'status': None,\n",
       "     'columns_sensitive': None},\n",
       "    {'name': 'precision',\n",
       "     'category': 'performance',\n",
       "     'value': 0.5278246205733558,\n",
       "     'status': None,\n",
       "     'columns_sensitive': None},\n",
       "    {'name': 'demographic_parity_difference',\n",
       "     'category': 'fairness',\n",
       "     'value': 0.05757695563154769,\n",
       "     'status': None,\n",
       "     'columns_sensitive': [{'name': 'SEX', 'value': '__all__'}]},\n",
       "    {'name': 'true_positive_parity',\n",
       "     'category': 'fairness',\n",
       "     'value': 0.14097320645204836,\n",
       "     'status': None,\n",
       "     'columns_sensitive': [{'name': 'SEX', 'value': '__all__'}]},\n",
       "    {'name': 'demographic_parity_difference',\n",
       "     'category': 'fairness',\n",
       "     'value': 0.0,\n",
       "     'status': None,\n",
       "     'columns_sensitive': [{'name': 'Race', 'value': 'African'}]},\n",
       "    {'name': 'true_positive_parity',\n",
       "     'category': 'fairness',\n",
       "     'value': 0.0,\n",
       "     'status': None,\n",
       "     'columns_sensitive': [{'name': 'Race', 'value': 'African'}]}]},\n",
       "  {'column': [{'name': 'Race', 'value': 'American'}],\n",
       "   'metric': [{'name': 'accuracy',\n",
       "     'category': 'performance',\n",
       "     'value': 0.8017142857142857,\n",
       "     'status': None,\n",
       "     'columns_sensitive': None},\n",
       "    {'name': 'precision',\n",
       "     'category': 'performance',\n",
       "     'value': 0.5385266723116003,\n",
       "     'status': None,\n",
       "     'columns_sensitive': None},\n",
       "    {'name': 'demographic_parity_difference',\n",
       "     'category': 'fairness',\n",
       "     'value': 0.04610502468970812,\n",
       "     'status': None,\n",
       "     'columns_sensitive': [{'name': 'SEX', 'value': '__all__'}]},\n",
       "    {'name': 'true_positive_parity',\n",
       "     'category': 'fairness',\n",
       "     'value': 0.09800271936424954,\n",
       "     'status': None,\n",
       "     'columns_sensitive': [{'name': 'SEX', 'value': '__all__'}]},\n",
       "    {'name': 'demographic_parity_difference',\n",
       "     'category': 'fairness',\n",
       "     'value': 0.0,\n",
       "     'status': None,\n",
       "     'columns_sensitive': [{'name': 'Race', 'value': 'American'}]},\n",
       "    {'name': 'true_positive_parity',\n",
       "     'category': 'fairness',\n",
       "     'value': 0.0,\n",
       "     'status': None,\n",
       "     'columns_sensitive': [{'name': 'Race', 'value': 'American'}]}]},\n",
       "  {'column': [{'name': 'Race', 'value': 'Indian'}],\n",
       "   'metric': [{'name': 'accuracy',\n",
       "     'category': 'performance',\n",
       "     'value': 0.7934285714285715,\n",
       "     'status': None,\n",
       "     'columns_sensitive': None},\n",
       "    {'name': 'precision',\n",
       "     'category': 'performance',\n",
       "     'value': 0.5149253731343284,\n",
       "     'status': None,\n",
       "     'columns_sensitive': None},\n",
       "    {'name': 'demographic_parity_difference',\n",
       "     'category': 'fairness',\n",
       "     'value': 0.07047612704365763,\n",
       "     'status': None,\n",
       "     'columns_sensitive': [{'name': 'SEX', 'value': '__all__'}]},\n",
       "    {'name': 'true_positive_parity',\n",
       "     'category': 'fairness',\n",
       "     'value': 0.09299056617444612,\n",
       "     'status': None,\n",
       "     'columns_sensitive': [{'name': 'SEX', 'value': '__all__'}]},\n",
       "    {'name': 'demographic_parity_difference',\n",
       "     'category': 'fairness',\n",
       "     'value': 0.0,\n",
       "     'status': None,\n",
       "     'columns_sensitive': [{'name': 'Race', 'value': 'Indian'}]},\n",
       "    {'name': 'true_positive_parity',\n",
       "     'category': 'fairness',\n",
       "     'value': 0.0,\n",
       "     'status': None,\n",
       "     'columns_sensitive': [{'name': 'Race', 'value': 'Indian'}]}]}]}"
      ]
     },
     "execution_count": 11,
     "metadata": {},
     "output_type": "execute_result"
    }
   ],
   "source": [
    "with open(\"values_pd_2.json\") as temp:\n",
    "    v = json.load(temp)\n",
    "    # v = json.loads(v)\n",
    "\n",
    "print(type(v))\n",
    "v"
   ]
  }
 ],
 "metadata": {
  "kernelspec": {
   "display_name": ".venv",
   "language": "python",
   "name": "python3"
  },
  "language_info": {
   "codemirror_mode": {
    "name": "ipython",
    "version": 3
   },
   "file_extension": ".py",
   "mimetype": "text/x-python",
   "name": "python",
   "nbconvert_exporter": "python",
   "pygments_lexer": "ipython3",
   "version": "3.9.0"
  },
  "orig_nbformat": 4
 },
 "nbformat": 4,
 "nbformat_minor": 2
}
