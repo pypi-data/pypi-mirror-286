{
 "cells": [
  {
   "cell_type": "code",
   "execution_count": 1,
   "metadata": {},
   "outputs": [],
   "source": [
    "%load_ext autoreload\n",
    "%autoreload 2"
   ]
  },
  {
   "cell_type": "code",
   "execution_count": 2,
   "metadata": {},
   "outputs": [],
   "source": [
    "from dogma_data.fasta import parse_fasta"
   ]
  },
  {
   "cell_type": "code",
   "execution_count": 3,
   "metadata": {},
   "outputs": [],
   "source": [
    "# with open('rna_taxon_fastas/ccds_rna_aa_taxon.fa', 'r') as f:\n",
    "#     fasta = f.read()"
   ]
  },
  {
   "cell_type": "code",
   "execution_count": 4,
   "metadata": {},
   "outputs": [],
   "source": [
    "from torchtext.vocab import vocab\n",
    "from collections import OrderedDict\n",
    "\n",
    "AA_VOCAB = vocab(\n",
    "        OrderedDict(\n",
    "            [\n",
    "                (token, 1)\n",
    "                for token in [\n",
    "                    \"a\", \"g\", \"c\", \"t\",\n",
    "                    # Amino acids\n",
    "                    \"A\",\n",
    "                    \"C\",\n",
    "                    \"D\",\n",
    "                    \"E\",\n",
    "                    \"F\",\n",
    "                    \"G\",\n",
    "                    \"H\",\n",
    "                    \"I\",\n",
    "                    \"K\",\n",
    "                    \"L\",\n",
    "                    \"M\",\n",
    "                    \"N\",\n",
    "                    \"P\",\n",
    "                    \"Q\",\n",
    "                    \"R\",\n",
    "                    \"S\",\n",
    "                    \"T\",\n",
    "                    \"V\",\n",
    "                    \"W\",\n",
    "                    \"Y\",\n",
    "                    \"<stop>\",  # Both selenocysteine and pyrrolysine\n",
    "                    \"<aaunk>\",\n",
    "\n",
    "                    \"<rna_mask>\",\n",
    "                    \"<aa_mask>\",\n",
    "                    # Indicators of the type of masking used in the sequence\n",
    "                    \"<seq_triple_masked>\",\n",
    "                    \"<seq_third_masked>\",\n",
    "                    \"<seq_rna_masked>\",\n",
    "                    \"<seq_protein_masked>\",\n",
    "                ]\n",
    "            ]\n",
    "        ),\n",
    "        specials=[\"<pad>\", \"<sos>\", \"<eos>\", \"<unk>\"],\n",
    "    )\n",
    "AA_VOCAB.set_default_index(AA_VOCAB[\"<aaunk>\"])"
   ]
  },
  {
   "cell_type": "code",
   "execution_count": 5,
   "metadata": {},
   "outputs": [
    {
     "name": "stdout",
     "output_type": "stream",
     "text": [
      "Reading file\n",
      "Parsing file rna_taxon_fastas/uniref90_protein_taxon.fa in chunks\n",
      "Merging result\n"
     ]
    }
   ],
   "source": [
    "arr = parse_fasta('rna_taxon_fastas/uniref90_protein_taxon.fa', AA_VOCAB, fasta_type='protein')"
   ]
  },
  {
   "cell_type": "code",
   "execution_count": 8,
   "metadata": {},
   "outputs": [
    {
     "name": "stdout",
     "output_type": "stream",
     "text": [
      "[{tokens: [18, 11, 11, ..., 10, 11, 17], taxon_id: 1572043}, {...}, ..., {...}]\n"
     ]
    }
   ],
   "source": [
    "print(arr[:100])\n",
    "del arr"
   ]
  },
  {
   "cell_type": "code",
   "execution_count": null,
   "metadata": {},
   "outputs": [],
   "source": [
    "from dogma_data import write_awkward\n",
    "write_awkward(arr, 'data_taxon/clustered_rna_taxon.blosc.pkl')"
   ]
  },
  {
   "cell_type": "code",
   "execution_count": null,
   "metadata": {},
   "outputs": [
    {
     "name": "stdout",
     "output_type": "stream",
     "text": [
      "Reading blosc pickle...\n",
      "Reading blosc pickle took 11.753445148468018 seconds\n",
      "Decompressing...\n",
      "Decompressing took 5.759131908416748 seconds\n"
     ]
    }
   ],
   "source": [
    "from dogma_data import read_awkward\n",
    "read_arr = read_awkward('data_taxon/clustered_rna_taxon.blosc.pkl')"
   ]
  },
  {
   "cell_type": "code",
   "execution_count": null,
   "metadata": {},
   "outputs": [
    {
     "data": {
      "text/plain": [
       "<RecordArray is_tuple='false' len='51258230'>\n",
       "    <content index='0' field='tokens'>\n",
       "        <ListOffsetArray len='51258230'>\n",
       "            <offsets><Index dtype='int64' len='51258231'>\n",
       "                [          0        1663        2825 ... 99493002027\n",
       "                 99493003871 99493005628]\n",
       "            </Index></offsets>\n",
       "            <content><NumpyArray dtype='uint8' len='99493005628'>[7 5 4 ... 7 4 3]</NumpyArray></content>\n",
       "        </ListOffsetArray>\n",
       "    </content>\n",
       "    <content index='1' field='taxon_id'>\n",
       "        <NumpyArray dtype='uint64' len='51258230'>\n",
       "            [ 29139  29139  29139 ... 165200 165200 165200]\n",
       "        </NumpyArray>\n",
       "    </content>\n",
       "</RecordArray>"
      ]
     },
     "execution_count": 16,
     "metadata": {},
     "output_type": "execute_result"
    }
   ],
   "source": [
    "read_arr.layout"
   ]
  },
  {
   "cell_type": "code",
   "execution_count": 9,
   "metadata": {},
   "outputs": [
    {
     "name": "stdout",
     "output_type": "stream",
     "text": [
      "Reading from rna_taxon_fastas/ensembl_rna_aa_taxon.fa\n",
      "Reading file\n",
      "Writing to rna_taxon_fastas/ensembl_rna_aa_taxon.blosc.pkl\n",
      "Parsing file rna_taxon_fastas/ensembl_rna_aa_taxon.fa in chunks\n",
      "Merging result\n",
      "Reading from rna_taxon_fastas/clustered_rna_taxon.fa\n",
      "Reading file\n",
      "Parsing file rna_taxon_fastas/clustered_rna_taxon.fa in chunks\n",
      "Merging result\n",
      "Writing to rna_taxon_fastas/clustered_rna_taxon.blosc.pkl\n",
      "Reading from rna_taxon_fastas/ccds_rna_aa_taxon.fa\n",
      "Reading file\n",
      "Parsing file rna_taxon_fastas/ccds_rna_aa_taxon.fa in chunks\n",
      "Merging result\n",
      "Writing to rna_taxon_fastas/ccds_rna_aa_taxon.blosc.pkl\n",
      "Reading from rna_taxon_fastas/uniref90_protein_taxon.fa\n",
      "Reading file\n",
      "Writing to rna_taxon_fastas/uniref90_protein_taxon.blosc.pkl\n",
      "Parsing file rna_taxon_fastas/uniref90_protein_taxon.fa in chunks\n",
      "Merging result\n"
     ]
    }
   ],
   "source": [
    "from dogma_data import read_awkward, write_awkward\n",
    "from pathlib import Path\n",
    "for filename in Path('rna_taxon_fastas/').rglob('*.fa'):\n",
    "    print(f'Reading from {filename}')\n",
    "    arr = parse_fasta(str(filename), AA_VOCAB, 'protein' if 'protein' in filename.name else 'rna')\n",
    "    out_filename = filename.with_suffix('.blosc.pkl')\n",
    "    print(f'Writing to {out_filename}')\n",
    "    write_awkward(arr, out_filename)"
   ]
  },
  {
   "cell_type": "code",
   "execution_count": null,
   "metadata": {},
   "outputs": [],
   "source": []
  }
 ],
 "metadata": {
  "kernelspec": {
   "display_name": "dogma-data",
   "language": "python",
   "name": "python3"
  },
  "language_info": {
   "codemirror_mode": {
    "name": "ipython",
    "version": 3
   },
   "file_extension": ".py",
   "mimetype": "text/x-python",
   "name": "python",
   "nbconvert_exporter": "python",
   "pygments_lexer": "ipython3",
   "version": "3.11.8"
  }
 },
 "nbformat": 4,
 "nbformat_minor": 2
}
