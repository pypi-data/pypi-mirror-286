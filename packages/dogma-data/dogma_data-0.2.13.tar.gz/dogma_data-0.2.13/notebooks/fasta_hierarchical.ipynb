{
 "cells": [
  {
   "cell_type": "code",
   "execution_count": 1,
   "metadata": {},
   "outputs": [
    {
     "name": "stderr",
     "output_type": "stream",
     "text": [
      "/lfs/ampere5/0/roed/env/micromamba/envs/dogma/lib/python3.11/site-packages/torchtext/vocab/__init__.py:4: UserWarning: \n",
      "/!\\ IMPORTANT WARNING ABOUT TORCHTEXT STATUS /!\\ \n",
      "Torchtext is deprecated and the last released version will be 0.18 (this one). You can silence this warning by calling the following at the beginnign of your scripts: `import torchtext; torchtext.disable_torchtext_deprecation_warning()`\n",
      "  warnings.warn(torchtext._TORCHTEXT_DEPRECATION_MSG)\n",
      "/lfs/ampere5/0/roed/env/micromamba/envs/dogma/lib/python3.11/site-packages/torchtext/utils.py:4: UserWarning: \n",
      "/!\\ IMPORTANT WARNING ABOUT TORCHTEXT STATUS /!\\ \n",
      "Torchtext is deprecated and the last released version will be 0.18 (this one). You can silence this warning by calling the following at the beginnign of your scripts: `import torchtext; torchtext.disable_torchtext_deprecation_warning()`\n",
      "  warnings.warn(torchtext._TORCHTEXT_DEPRECATION_MSG)\n",
      "Warning: The following keys were not used in the mapping: [\"<unk>\", \"<seq_protein_masked>\", \"<seq_rna_masked>\", \"<eos>\", \"<sos>\", \"<aa_mask>\", \"<stop>\", \"<seq_triple_masked>\", \"<rna_mask>\", \"<seq_third_masked>\", \"<aaunk>\", \"<pad>\"]\n"
     ]
    }
   ],
   "source": [
    "from dogma.vocab import AA_VOCAB\n",
    "from dogma_data.dogma_rust import parse_cluster_member_fasta, FastaMapping\n",
    "\n",
    "full_vocab = AA_VOCAB.get_stoi()\n",
    "\n",
    "rna_default_value = full_vocab[\"<unk>\"]\n",
    "aa_default_value = full_vocab[\"<aaunk>\"]\n",
    "\n",
    "fm = FastaMapping(full_vocab, default_value=rna_default_value)\n"
   ]
  },
  {
   "cell_type": "code",
   "execution_count": 2,
   "metadata": {},
   "outputs": [
    {
     "name": "stdout",
     "output_type": "stream",
     "text": [
      "Reading file\n",
      "Parsing file /dev/shm/uniref90_PROC100l.fasta in chunks\n",
      "Finished parsing fasta, moving things to Python\n",
      "Returning!\n"
     ]
    }
   ],
   "source": [
    "res = parse_cluster_member_fasta(\"/dev/shm/uniref90_PROC100l.fasta\", fm)"
   ]
  },
  {
   "cell_type": "code",
   "execution_count": 3,
   "metadata": {},
   "outputs": [
    {
     "data": {
      "text/plain": [
       "(array([18, 11, 11, ..., 22, 23, 15], dtype=uint8),\n",
       " array([      0,   45354,   85031,  124407,  163217,  201571,  201880,\n",
       "         202023,  202212,  240375,  278537,  316642,  354709,  354760,\n",
       "         392568,  430342,  468117,  505824,  543465,  581095,  618705,\n",
       "         656279,  693839,  731376,  768910,  806420,  843902,  881327,\n",
       "         918730,  956127,  993508, 1030879, 1068238, 1105552, 1142789,\n",
       "        1180020, 1217218, 1254394, 1291542, 1328685, 1365805, 1402924,\n",
       "        1440016, 1477081, 1514145, 1551136, 1587941, 1624739, 1661427,\n",
       "        1698096, 1734746]),\n",
       " array([1572043, 1930593,  519421,   30640,   35500,   28376,   34767,\n",
       "         375764, 1415580,  240159,  146911,  260995, 1329799,   13735,\n",
       "           6347, 2991368,  933632,  260995,  261503,  261503,  261503,\n",
       "         260995,  260995,  261503,  260995,  260995,  261503,   88082,\n",
       "         261503,   88082,  261503,   88082, 1437010,   88082,    8407,\n",
       "         260995,  260995,  260995,  261503,  260995,  261503,  260995,\n",
       "         261503,  260995,    8782,  340177,  118154,   13397,    8345,\n",
       "         372326], dtype=uint32),\n",
       " array([23658900, 19517779, 36333410, 50958967, 50958967, 50958967,\n",
       "        19457492, 45567349, 50958967, 21655276, 12965466, 50958967,\n",
       "        50958967, 50958967, 36155148, 50958967, 50958967, 50958967,\n",
       "        50958967, 50958967, 50958967, 50958967, 50958967, 50958967,\n",
       "        50958967, 50958967, 50958967, 50958967, 50958967, 50958967,\n",
       "        50958967, 50958967, 50958967, 50958967, 50958967, 50958967,\n",
       "        50958967, 50958967, 50958967, 50958967, 50958967, 50958967,\n",
       "        50958967, 50958967,  9197682, 50675677, 45352896, 50958967,\n",
       "        50958967,  9197682], dtype=uint32))"
      ]
     },
     "execution_count": 3,
     "metadata": {},
     "output_type": "execute_result"
    }
   ],
   "source": [
    "res"
   ]
  },
  {
   "cell_type": "code",
   "execution_count": null,
   "metadata": {},
   "outputs": [],
   "source": []
  }
 ],
 "metadata": {
  "kernelspec": {
   "display_name": "base",
   "language": "python",
   "name": "python3"
  },
  "language_info": {
   "codemirror_mode": {
    "name": "ipython",
    "version": 3
   },
   "file_extension": ".py",
   "mimetype": "text/x-python",
   "name": "python",
   "nbconvert_exporter": "python",
   "pygments_lexer": "ipython3",
   "version": "3.11.9"
  }
 },
 "nbformat": 4,
 "nbformat_minor": 2
}
